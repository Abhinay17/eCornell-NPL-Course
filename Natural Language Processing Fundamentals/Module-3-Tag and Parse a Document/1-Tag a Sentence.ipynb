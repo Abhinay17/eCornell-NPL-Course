{
 "cells": [
  {
   "cell_type": "markdown",
   "metadata": {
    "deletable": false,
    "editable": false,
    "nbgrader": {
     "cell_type": "markdown",
     "checksum": "30ee9c0d40de4497994ebd43d24d0ad9",
     "grade": false,
     "grade_id": "cell-e471899c6c9f6913",
     "locked": true,
     "schema_version": 3,
     "solution": false
    }
   },
   "source": [
    "# **Setup**\n",
    " \n",
    "Clear the Python environment of any previously loaded variables, functions, and libraries. Then, import the libraries needed to complete the code Professor Melnikov presented in the video."
   ]
  },
  {
   "cell_type": "code",
   "execution_count": 1,
   "metadata": {
    "deletable": false,
    "editable": false,
    "nbgrader": {
     "cell_type": "code",
     "checksum": "7948a677bc426f48feeed57179af96c8",
     "grade": false,
     "grade_id": "cell-9cfcc591dfee7521",
     "locked": true,
     "schema_version": 3,
     "solution": false
    }
   },
   "outputs": [],
   "source": [
    "%reset -f\n",
    "from IPython.core.interactiveshell import InteractiveShell as IS\n",
    "IS.ast_node_interactivity = \"all\"    # allows multiple outputs from a cell\n",
    "import nltk, pandas as pd, collections"
   ]
  },
  {
   "cell_type": "markdown",
   "metadata": {
    "deletable": false,
    "editable": false,
    "nbgrader": {
     "cell_type": "markdown",
     "checksum": "1200dd31096c29cb6ccd794a5c84c28a",
     "grade": false,
     "grade_id": "cell-c1e3f66786992684",
     "locked": true,
     "schema_version": 3,
     "solution": false
    }
   },
   "source": [
    "You will use tools from the `nltk` library to perform parts of speech (POS) tagging on a famous Walt Disney phrase. Some of these tools will require additional datasets and copora, which you can download to local storage with `nltk.download()`."
   ]
  },
  {
   "cell_type": "code",
   "execution_count": 2,
   "metadata": {
    "deletable": false,
    "editable": false,
    "nbgrader": {
     "cell_type": "code",
     "checksum": "6c6601892a70db540edced81a552fa54",
     "grade": false,
     "grade_id": "cell-6cccdbe99b6e099e",
     "locked": true,
     "schema_version": 3,
     "solution": false
    }
   },
   "outputs": [
    {
     "data": {
      "text/plain": [
       "True"
      ]
     },
     "execution_count": 2,
     "metadata": {},
     "output_type": "execute_result"
    }
   ],
   "source": [
    "wlo = nltk.stem.WordNetLemmatizer()\n",
    "nltk.download(['universal_tagset','wordnet','punkt','averaged_perceptron_tagger','tagsets'], quiet=True)"
   ]
  },
  {
   "cell_type": "markdown",
   "metadata": {},
   "source": [
    "<hr style=\"border-top: 2px solid #606366; background: transparent;\">\n",
    "\n",
    "# **Review**\n",
    "\n",
    "## POS Tagging\n",
    "\n",
    "You will use the `nltk.pos_tag()` method, which accepts a list of word strings from a parsed sentence and returns a list of tuples of the form: (word, POS tag). To begin, apply a word tokenizer on a phrase to get the list of word tokens from a famous quote by Walt Disney. Note that if you are performing POS tagging on a document, you should tokenize the document into sentences first because tagging quality is best on single sentences, rather than short phrases or longer paragraphs. "
   ]
  },
  {
   "cell_type": "code",
   "execution_count": 3,
   "metadata": {},
   "outputs": [
    {
     "name": "stdout",
     "output_type": "stream",
     "text": [
      "['The', 'way', 'to', 'get', 'started', 'is', 'to', 'quit', 'talking', 'and', 'begin', 'doing', '.']\n"
     ]
    }
   ],
   "source": [
    "sDoc = \"The way to get started is to quit talking and begin doing.\" # Walt Disney's quote\n",
    "LsWords = nltk.word_tokenize(sDoc)\n",
    "print(LsWords)"
   ]
  },
  {
   "cell_type": "markdown",
   "metadata": {},
   "source": [
    "Now that you have a list of word tokens (from a parsed sentence), you can apply the POS tagger `nltk.pos_tag` to generate a list of corresponding tags based on the UPenn tagset, which you'll examine in more detail later in this activity."
   ]
  },
  {
   "cell_type": "code",
   "execution_count": 4,
   "metadata": {},
   "outputs": [
    {
     "name": "stdout",
     "output_type": "stream",
     "text": [
      "[('The', 'DT'), ('way', 'NN'), ('to', 'TO'), ('get', 'VB'), ('started', 'VBN'), ('is', 'VBZ'), ('to', 'TO'), ('quit', 'VB'), ('talking', 'VBG'), ('and', 'CC'), ('begin', 'VB'), ('doing', 'VBG'), ('.', '.')]\n"
     ]
    }
   ],
   "source": [
    "LTsWordTags = nltk.pos_tag(LsWords)\n",
    "print(LTsWordTags)"
   ]
  },
  {
   "cell_type": "markdown",
   "metadata": {},
   "source": [
    "Examine the output, which is a list of tuples in the form (word, POS tag).\n",
    "\n",
    "To evaluate how well your tagging method has worked, you can examine the distribution of tags in a sentence. Similar to the `Counter()` class from Module 1, `nltk.FreqDist()` counts elements within a container (such as a list or a tuple). By applying this to the tags stored in the tuples and using its `most_common()` method, you can get the list of most common tags sorted by their counts. Note that we count the tags stored in tuples, not the tuples (which are likely to be unique). NLTK library has a similar counter accessible through `nltk.FreqDist()`. "
   ]
  },
  {
   "cell_type": "code",
   "execution_count": 5,
   "metadata": {},
   "outputs": [
    {
     "name": "stdout",
     "output_type": "stream",
     "text": [
      "[('VB', 3), ('TO', 2), ('VBG', 2), ('DT', 1), ('NN', 1), ('VBN', 1), ('VBZ', 1), ('CC', 1), ('.', 1)]\n"
     ]
    }
   ],
   "source": [
    "print(nltk.FreqDist(tag for word, tag in LTsWordTags).most_common())"
   ]
  },
  {
   "cell_type": "markdown",
   "metadata": {},
   "source": [
    "There are many tag sets, each one with its advantages and disadvantages. The `nltk.pos_tag()` returns UPenn tag set ([from University of Pennsylvania's Treebank Project](https://www.ling.upenn.edu/courses/Fall_2003/ling001/penn_treebank_pos.html)). You can read information about each tag by using `nltk`'s `help` attribute.\n",
    "\n",
    "You can use `upenn_tagset()` method to learn more about individual tags or view all available tags."
   ]
  },
  {
   "cell_type": "code",
   "execution_count": 6,
   "metadata": {},
   "outputs": [
    {
     "name": "stdout",
     "output_type": "stream",
     "text": [
      "TO: \"to\" as preposition or infinitive marker\n",
      "    to\n"
     ]
    }
   ],
   "source": [
    "nltk.help.upenn_tagset('T')"
   ]
  },
  {
   "cell_type": "markdown",
   "metadata": {},
   "source": [
    "<div id=\"blank_space\" style=\"padding-top:20px\">\n",
    "    <details>\n",
    "        <summary>\n",
    "            <div id=\"button\" style=\"color:white;background-color:#de2424;padding:10px;border:3px solid #B31B1B;border-radius:30px;width:230px;text-align:center;float:left;margin-top:-15px\"> \n",
    "                <b>ABOUT UPENN TAG SET → </b>\n",
    "            </div>\n",
    "        </summary>\n",
    "        <div id=\"button_info\" style=\"padding:20px;background-color:#eee;border:3px solid #aaa;border-radius:30px;margin-left:25px;\">\n",
    "            <p style=\"padding:15px 2px 2px 2px\">\n",
    "           <p>In English, a word in a sentence can assume different functions, which often depends on the sentence's structure itself. For example, \"building\" is a verb in \"building a house\" and a noun in \"a tall building\". In the phrase \"I drive to work\", it's not even clear whether \"work\" is a noun or a verb. This ambiguity might disappear with a larger context in a phrase \"I drive to work, where we share ideas.\" The examples highlight the challenges of automatic tagging.</p>\n",
    "<p>Among many POS tag sets, the most common (and the default in <code>nltk</code>) is <a class=\"inline_disabled\" href=\"https://www.ling.upenn.edu/courses/Fall_2003/ling001/penn_treebank_pos.html\" target=\"_blank\" rel=\"noopener\">Penn tag set</a> from a <a class=\"inline_disabled\" href=\"https://www.cis.lmu.de/~schmid/tools/TreeTagger/data/Penn-Treebank-Tagset.pdf\" target=\"_blank\" rel=\"noopener\">Penn Treebank Project</a> developed by <a class=\"inline_disabled\" href=\"https://www.ling.upenn.edu/people/santorini\" target=\"_blank\" rel=\"noopener\">Beatrice Santorini</a> at University of Pennsylvania. It contains 36 core tags plus a few more auxiliary tags. Tags are somewhat hierarchical with 2-letter tags branching to 3- and 4-letter subtags. You can review the full set of tags with <code>nltk.help.upenn_tagset()</code> command, but here are a few frequent tags we will see in the course:</p>\n",
    "<ul>\n",
    "    <li><strong>NN</strong>: singular noun <em>(cat, fox, syllabus)</em>\n",
    "        <ul>\n",
    "            <li><strong>NNS</strong>: plural (<em>cats</em>, <em>foxes,&nbsp;</em><i>syllabi</i>)</li>\n",
    "            <li><strong>NNP</strong>: proper singular (<em>Marie</em>, <em>Aditya, Victoria</em>)\n",
    "                <ul>\n",
    "                    <li><strong>NNPS</strong>: proper plural <em>(Cornellians, New Yorkers, (The) Kennedys, Russians)</em></li>\n",
    "                </ul>\n",
    "            </li>\n",
    "        </ul>\n",
    "    </li>\n",
    "    <li><strong>VB</strong>: base verb form <em>(learn, give, do)</em>\n",
    "        <ul>\n",
    "            <li><strong>VBD:</strong> past tense (<em>learnt, gave, did</em>)</li>\n",
    "            <li><strong>VBG:</strong> gerund or present participle (<em>learning, giving, doing</em>)</li>\n",
    "            <li><strong>VBN:</strong> past participle (<em>learnt, given, done</em>)</li>\n",
    "            <li><strong>VBP:</strong> present tense, singular, non-3rd person (<em>I learn, I give, I do</em>)</li>\n",
    "            <li><strong>VBZ:</strong> present tense, singular, 3rd person (<em>(he) works, (she) learns</em>)</li>\n",
    "        </ul>\n",
    "    </li>\n",
    "    <li><strong>JJ:</strong> adjective, numeral, ordinal (<em>third, pre-war, multilingual</em>)\n",
    "        <ul>\n",
    "            <li><strong>JJR:</strong> adjective, comparative (<em>cheaper, busier, cleaner</em>)</li>\n",
    "            <li><strong>JJS:</strong> adjective, superlative (<em>cheapest, busiest, cleanest</em>)</li>\n",
    "        </ul>\n",
    "    </li>\n",
    "    <li><strong>.</strong> : sentence terminator</li>\n",
    "</ul>\n",
    "<p>This list is so comprehensive that even punctuation symbols are issued their own Penn POS tags. <p/>\n",
    "        </div>"
   ]
  },
  {
   "cell_type": "markdown",
   "metadata": {},
   "source": [
    "  \n",
    "## Lemmatize Words by Converting Between Tagsets\n",
    "\n",
    "<span style=\"color:black\">To properly lemmatize words, you will use a different tagset, called the WordNet tagset. To get this tagset, you can use the following user-defined function to modify the UPenn tag set to include only the four most basic categories of languages: adjectives (`'a'`), verbs (`'v'`), nouns (`'n'`), and adverbs (`'r'`)."
   ]
  },
  {
   "cell_type": "code",
   "execution_count": 7,
   "metadata": {},
   "outputs": [],
   "source": [
    "def get_wordnet_tag(tag):\n",
    "    if tag.startswith('J'):   return 'a'  # adjective\n",
    "    elif tag.startswith('V'): return 'v'  # verb\n",
    "    elif tag.startswith('N'): return 'n'  # noun\n",
    "    elif tag.startswith('R'): return 'r'  # adverb\n",
    "    else: return 'n'"
   ]
  },
  {
   "cell_type": "markdown",
   "metadata": {},
   "source": [
    "Compare the default lemmatization (which tags all words as nouns) with and without the WordNet POS tagset. "
   ]
  },
  {
   "cell_type": "code",
   "execution_count": 8,
   "metadata": {},
   "outputs": [
    {
     "ename": "LookupError",
     "evalue": "\n**********************************************************************\n  Resource \u001b[93momw-1.4\u001b[0m not found.\n  Please use the NLTK Downloader to obtain the resource:\n\n  \u001b[31m>>> import nltk\n  >>> nltk.download('omw-1.4')\n  \u001b[0m\n  For more information see: https://www.nltk.org/data.html\n\n  Attempted to load \u001b[93mcorpora/omw-1.4\u001b[0m\n\n  Searched in:\n    - '/home/codio/nltk_data'\n    - '/usr/nltk_data'\n    - '/usr/share/nltk_data'\n    - '/usr/lib/nltk_data'\n    - '/usr/share/nltk_data'\n    - '/usr/local/share/nltk_data'\n    - '/usr/lib/nltk_data'\n    - '/usr/local/lib/nltk_data'\n**********************************************************************\n",
     "output_type": "error",
     "traceback": [
      "\u001b[0;31m---------------------------------------------------------------------------\u001b[0m",
      "\u001b[0;31mLookupError\u001b[0m                               Traceback (most recent call last)",
      "\u001b[0;32m~/.local/lib/python3.6/site-packages/nltk/corpus/util.py\u001b[0m in \u001b[0;36m__load\u001b[0;34m(self)\u001b[0m\n\u001b[1;32m     83\u001b[0m                 \u001b[0;32mtry\u001b[0m\u001b[0;34m:\u001b[0m\u001b[0;34m\u001b[0m\u001b[0;34m\u001b[0m\u001b[0m\n\u001b[0;32m---> 84\u001b[0;31m                     \u001b[0mroot\u001b[0m \u001b[0;34m=\u001b[0m \u001b[0mnltk\u001b[0m\u001b[0;34m.\u001b[0m\u001b[0mdata\u001b[0m\u001b[0;34m.\u001b[0m\u001b[0mfind\u001b[0m\u001b[0;34m(\u001b[0m\u001b[0;34mf\"{self.subdir}/{zip_name}\"\u001b[0m\u001b[0;34m)\u001b[0m\u001b[0;34m\u001b[0m\u001b[0;34m\u001b[0m\u001b[0m\n\u001b[0m\u001b[1;32m     85\u001b[0m                 \u001b[0;32mexcept\u001b[0m \u001b[0mLookupError\u001b[0m\u001b[0;34m:\u001b[0m\u001b[0;34m\u001b[0m\u001b[0;34m\u001b[0m\u001b[0m\n",
      "\u001b[0;32m~/.local/lib/python3.6/site-packages/nltk/data.py\u001b[0m in \u001b[0;36mfind\u001b[0;34m(resource_name, paths)\u001b[0m\n\u001b[1;32m    582\u001b[0m     \u001b[0mresource_not_found\u001b[0m \u001b[0;34m=\u001b[0m \u001b[0;34mf\"\\n{sep}\\n{msg}\\n{sep}\\n\"\u001b[0m\u001b[0;34m\u001b[0m\u001b[0;34m\u001b[0m\u001b[0m\n\u001b[0;32m--> 583\u001b[0;31m     \u001b[0;32mraise\u001b[0m \u001b[0mLookupError\u001b[0m\u001b[0;34m(\u001b[0m\u001b[0mresource_not_found\u001b[0m\u001b[0;34m)\u001b[0m\u001b[0;34m\u001b[0m\u001b[0;34m\u001b[0m\u001b[0m\n\u001b[0m\u001b[1;32m    584\u001b[0m \u001b[0;34m\u001b[0m\u001b[0m\n",
      "\u001b[0;31mLookupError\u001b[0m: \n**********************************************************************\n  Resource \u001b[93momw-1.4\u001b[0m not found.\n  Please use the NLTK Downloader to obtain the resource:\n\n  \u001b[31m>>> import nltk\n  >>> nltk.download('omw-1.4')\n  \u001b[0m\n  For more information see: https://www.nltk.org/data.html\n\n  Attempted to load \u001b[93mcorpora/omw-1.4.zip/omw-1.4/\u001b[0m\n\n  Searched in:\n    - '/home/codio/nltk_data'\n    - '/usr/nltk_data'\n    - '/usr/share/nltk_data'\n    - '/usr/lib/nltk_data'\n    - '/usr/share/nltk_data'\n    - '/usr/local/share/nltk_data'\n    - '/usr/lib/nltk_data'\n    - '/usr/local/lib/nltk_data'\n**********************************************************************\n",
      "\nDuring handling of the above exception, another exception occurred:\n",
      "\u001b[0;31mLookupError\u001b[0m                               Traceback (most recent call last)",
      "\u001b[0;32m<ipython-input-8-22163f01f7f0>\u001b[0m in \u001b[0;36m<module>\u001b[0;34m()\u001b[0m\n\u001b[0;32m----> 1\u001b[0;31m \u001b[0mprint\u001b[0m\u001b[0;34m(\u001b[0m\u001b[0;34m[\u001b[0m\u001b[0mwlo\u001b[0m\u001b[0;34m.\u001b[0m\u001b[0mlemmatize\u001b[0m\u001b[0;34m(\u001b[0m\u001b[0mw\u001b[0m\u001b[0;34m)\u001b[0m \u001b[0;32mfor\u001b[0m \u001b[0mw\u001b[0m \u001b[0;32min\u001b[0m \u001b[0mLsWords\u001b[0m\u001b[0;34m]\u001b[0m\u001b[0;34m)\u001b[0m  \u001b[0;31m## lemmatize without POS tagging\u001b[0m\u001b[0;34m\u001b[0m\u001b[0;34m\u001b[0m\u001b[0m\n\u001b[0m\u001b[1;32m      2\u001b[0m \u001b[0mprint\u001b[0m\u001b[0;34m(\u001b[0m\u001b[0;34m[\u001b[0m\u001b[0mwlo\u001b[0m\u001b[0;34m.\u001b[0m\u001b[0mlemmatize\u001b[0m\u001b[0;34m(\u001b[0m\u001b[0mw\u001b[0m\u001b[0;34m,\u001b[0m \u001b[0mget_wordnet_tag\u001b[0m\u001b[0;34m(\u001b[0m\u001b[0mt\u001b[0m\u001b[0;34m)\u001b[0m\u001b[0;34m)\u001b[0m \u001b[0;32mfor\u001b[0m \u001b[0mw\u001b[0m\u001b[0;34m,\u001b[0m\u001b[0mt\u001b[0m \u001b[0;32min\u001b[0m \u001b[0mLTsWordTags\u001b[0m\u001b[0;34m]\u001b[0m\u001b[0;34m)\u001b[0m  \u001b[0;31m## Lemmatize after POS tagging with the Wordnet tagset\u001b[0m\u001b[0;34m\u001b[0m\u001b[0;34m\u001b[0m\u001b[0m\n",
      "\u001b[0;32m<ipython-input-8-22163f01f7f0>\u001b[0m in \u001b[0;36m<listcomp>\u001b[0;34m(.0)\u001b[0m\n\u001b[0;32m----> 1\u001b[0;31m \u001b[0mprint\u001b[0m\u001b[0;34m(\u001b[0m\u001b[0;34m[\u001b[0m\u001b[0mwlo\u001b[0m\u001b[0;34m.\u001b[0m\u001b[0mlemmatize\u001b[0m\u001b[0;34m(\u001b[0m\u001b[0mw\u001b[0m\u001b[0;34m)\u001b[0m \u001b[0;32mfor\u001b[0m \u001b[0mw\u001b[0m \u001b[0;32min\u001b[0m \u001b[0mLsWords\u001b[0m\u001b[0;34m]\u001b[0m\u001b[0;34m)\u001b[0m  \u001b[0;31m## lemmatize without POS tagging\u001b[0m\u001b[0;34m\u001b[0m\u001b[0;34m\u001b[0m\u001b[0m\n\u001b[0m\u001b[1;32m      2\u001b[0m \u001b[0mprint\u001b[0m\u001b[0;34m(\u001b[0m\u001b[0;34m[\u001b[0m\u001b[0mwlo\u001b[0m\u001b[0;34m.\u001b[0m\u001b[0mlemmatize\u001b[0m\u001b[0;34m(\u001b[0m\u001b[0mw\u001b[0m\u001b[0;34m,\u001b[0m \u001b[0mget_wordnet_tag\u001b[0m\u001b[0;34m(\u001b[0m\u001b[0mt\u001b[0m\u001b[0;34m)\u001b[0m\u001b[0;34m)\u001b[0m \u001b[0;32mfor\u001b[0m \u001b[0mw\u001b[0m\u001b[0;34m,\u001b[0m\u001b[0mt\u001b[0m \u001b[0;32min\u001b[0m \u001b[0mLTsWordTags\u001b[0m\u001b[0;34m]\u001b[0m\u001b[0;34m)\u001b[0m  \u001b[0;31m## Lemmatize after POS tagging with the Wordnet tagset\u001b[0m\u001b[0;34m\u001b[0m\u001b[0;34m\u001b[0m\u001b[0m\n",
      "\u001b[0;32m~/.local/lib/python3.6/site-packages/nltk/stem/wordnet.py\u001b[0m in \u001b[0;36mlemmatize\u001b[0;34m(self, word, pos)\u001b[0m\n\u001b[1;32m     43\u001b[0m         \u001b[0;34m:\u001b[0m\u001b[0;32mreturn\u001b[0m\u001b[0;34m:\u001b[0m \u001b[0mThe\u001b[0m \u001b[0mlemma\u001b[0m \u001b[0mof\u001b[0m\u001b[0;31m \u001b[0m\u001b[0;31m`\u001b[0m\u001b[0mword\u001b[0m\u001b[0;31m`\u001b[0m\u001b[0;34m,\u001b[0m \u001b[0;32mfor\u001b[0m \u001b[0mthe\u001b[0m \u001b[0mgiven\u001b[0m\u001b[0;31m \u001b[0m\u001b[0;31m`\u001b[0m\u001b[0mpos\u001b[0m\u001b[0;31m`\u001b[0m\u001b[0;34m.\u001b[0m\u001b[0;34m\u001b[0m\u001b[0;34m\u001b[0m\u001b[0m\n\u001b[1;32m     44\u001b[0m         \"\"\"\n\u001b[0;32m---> 45\u001b[0;31m         \u001b[0mlemmas\u001b[0m \u001b[0;34m=\u001b[0m \u001b[0mwn\u001b[0m\u001b[0;34m.\u001b[0m\u001b[0m_morphy\u001b[0m\u001b[0;34m(\u001b[0m\u001b[0mword\u001b[0m\u001b[0;34m,\u001b[0m \u001b[0mpos\u001b[0m\u001b[0;34m)\u001b[0m\u001b[0;34m\u001b[0m\u001b[0;34m\u001b[0m\u001b[0m\n\u001b[0m\u001b[1;32m     46\u001b[0m         \u001b[0;32mreturn\u001b[0m \u001b[0mmin\u001b[0m\u001b[0;34m(\u001b[0m\u001b[0mlemmas\u001b[0m\u001b[0;34m,\u001b[0m \u001b[0mkey\u001b[0m\u001b[0;34m=\u001b[0m\u001b[0mlen\u001b[0m\u001b[0;34m)\u001b[0m \u001b[0;32mif\u001b[0m \u001b[0mlemmas\u001b[0m \u001b[0;32melse\u001b[0m \u001b[0mword\u001b[0m\u001b[0;34m\u001b[0m\u001b[0;34m\u001b[0m\u001b[0m\n\u001b[1;32m     47\u001b[0m \u001b[0;34m\u001b[0m\u001b[0m\n",
      "\u001b[0;32m~/.local/lib/python3.6/site-packages/nltk/corpus/util.py\u001b[0m in \u001b[0;36m__getattr__\u001b[0;34m(self, attr)\u001b[0m\n\u001b[1;32m    119\u001b[0m             \u001b[0;32mraise\u001b[0m \u001b[0mAttributeError\u001b[0m\u001b[0;34m(\u001b[0m\u001b[0;34m\"LazyCorpusLoader object has no attribute '__bases__'\"\u001b[0m\u001b[0;34m)\u001b[0m\u001b[0;34m\u001b[0m\u001b[0;34m\u001b[0m\u001b[0m\n\u001b[1;32m    120\u001b[0m \u001b[0;34m\u001b[0m\u001b[0m\n\u001b[0;32m--> 121\u001b[0;31m         \u001b[0mself\u001b[0m\u001b[0;34m.\u001b[0m\u001b[0m__load\u001b[0m\u001b[0;34m(\u001b[0m\u001b[0;34m)\u001b[0m\u001b[0;34m\u001b[0m\u001b[0;34m\u001b[0m\u001b[0m\n\u001b[0m\u001b[1;32m    122\u001b[0m         \u001b[0;31m# This looks circular, but its not, since __load() changes our\u001b[0m\u001b[0;34m\u001b[0m\u001b[0;34m\u001b[0m\u001b[0;34m\u001b[0m\u001b[0m\n\u001b[1;32m    123\u001b[0m         \u001b[0;31m# __class__ to something new:\u001b[0m\u001b[0;34m\u001b[0m\u001b[0;34m\u001b[0m\u001b[0;34m\u001b[0m\u001b[0m\n",
      "\u001b[0;32m~/.local/lib/python3.6/site-packages/nltk/corpus/util.py\u001b[0m in \u001b[0;36m__load\u001b[0;34m(self)\u001b[0m\n\u001b[1;32m     87\u001b[0m \u001b[0;34m\u001b[0m\u001b[0m\n\u001b[1;32m     88\u001b[0m         \u001b[0;31m# Load the corpus.\u001b[0m\u001b[0;34m\u001b[0m\u001b[0;34m\u001b[0m\u001b[0;34m\u001b[0m\u001b[0m\n\u001b[0;32m---> 89\u001b[0;31m         \u001b[0mcorpus\u001b[0m \u001b[0;34m=\u001b[0m \u001b[0mself\u001b[0m\u001b[0;34m.\u001b[0m\u001b[0m__reader_cls\u001b[0m\u001b[0;34m(\u001b[0m\u001b[0mroot\u001b[0m\u001b[0;34m,\u001b[0m \u001b[0;34m*\u001b[0m\u001b[0mself\u001b[0m\u001b[0;34m.\u001b[0m\u001b[0m__args\u001b[0m\u001b[0;34m,\u001b[0m \u001b[0;34m**\u001b[0m\u001b[0mself\u001b[0m\u001b[0;34m.\u001b[0m\u001b[0m__kwargs\u001b[0m\u001b[0;34m)\u001b[0m\u001b[0;34m\u001b[0m\u001b[0;34m\u001b[0m\u001b[0m\n\u001b[0m\u001b[1;32m     90\u001b[0m \u001b[0;34m\u001b[0m\u001b[0m\n\u001b[1;32m     91\u001b[0m         \u001b[0;31m# This is where the magic happens!  Transform ourselves into\u001b[0m\u001b[0;34m\u001b[0m\u001b[0;34m\u001b[0m\u001b[0;34m\u001b[0m\u001b[0m\n",
      "\u001b[0;32m~/.local/lib/python3.6/site-packages/nltk/corpus/reader/wordnet.py\u001b[0m in \u001b[0;36m__init__\u001b[0;34m(self, root, omw_reader)\u001b[0m\n\u001b[1;32m   1174\u001b[0m             )\n\u001b[1;32m   1175\u001b[0m         \u001b[0;32melse\u001b[0m\u001b[0;34m:\u001b[0m\u001b[0;34m\u001b[0m\u001b[0;34m\u001b[0m\u001b[0m\n\u001b[0;32m-> 1176\u001b[0;31m             \u001b[0mself\u001b[0m\u001b[0;34m.\u001b[0m\u001b[0mprovenances\u001b[0m \u001b[0;34m=\u001b[0m \u001b[0mself\u001b[0m\u001b[0;34m.\u001b[0m\u001b[0momw_prov\u001b[0m\u001b[0;34m(\u001b[0m\u001b[0;34m)\u001b[0m\u001b[0;34m\u001b[0m\u001b[0;34m\u001b[0m\u001b[0m\n\u001b[0m\u001b[1;32m   1177\u001b[0m \u001b[0;34m\u001b[0m\u001b[0m\n\u001b[1;32m   1178\u001b[0m         \u001b[0;31m# A cache to store the wordnet data of multiple languages\u001b[0m\u001b[0;34m\u001b[0m\u001b[0;34m\u001b[0m\u001b[0;34m\u001b[0m\u001b[0m\n",
      "\u001b[0;32m~/.local/lib/python3.6/site-packages/nltk/corpus/reader/wordnet.py\u001b[0m in \u001b[0;36momw_prov\u001b[0;34m(self)\u001b[0m\n\u001b[1;32m   1283\u001b[0m         \u001b[0mprovdict\u001b[0m \u001b[0;34m=\u001b[0m \u001b[0;34m{\u001b[0m\u001b[0;34m}\u001b[0m\u001b[0;34m\u001b[0m\u001b[0;34m\u001b[0m\u001b[0m\n\u001b[1;32m   1284\u001b[0m         \u001b[0mprovdict\u001b[0m\u001b[0;34m[\u001b[0m\u001b[0;34m\"eng\"\u001b[0m\u001b[0;34m]\u001b[0m \u001b[0;34m=\u001b[0m \u001b[0;34m\"\"\u001b[0m\u001b[0;34m\u001b[0m\u001b[0;34m\u001b[0m\u001b[0m\n\u001b[0;32m-> 1285\u001b[0;31m         \u001b[0mfileids\u001b[0m \u001b[0;34m=\u001b[0m \u001b[0mself\u001b[0m\u001b[0;34m.\u001b[0m\u001b[0m_omw_reader\u001b[0m\u001b[0;34m.\u001b[0m\u001b[0mfileids\u001b[0m\u001b[0;34m(\u001b[0m\u001b[0;34m)\u001b[0m\u001b[0;34m\u001b[0m\u001b[0;34m\u001b[0m\u001b[0m\n\u001b[0m\u001b[1;32m   1286\u001b[0m         \u001b[0;32mfor\u001b[0m \u001b[0mfileid\u001b[0m \u001b[0;32min\u001b[0m \u001b[0mfileids\u001b[0m\u001b[0;34m:\u001b[0m\u001b[0;34m\u001b[0m\u001b[0;34m\u001b[0m\u001b[0m\n\u001b[1;32m   1287\u001b[0m             \u001b[0mprov\u001b[0m\u001b[0;34m,\u001b[0m \u001b[0mlangfile\u001b[0m \u001b[0;34m=\u001b[0m \u001b[0mos\u001b[0m\u001b[0;34m.\u001b[0m\u001b[0mpath\u001b[0m\u001b[0;34m.\u001b[0m\u001b[0msplit\u001b[0m\u001b[0;34m(\u001b[0m\u001b[0mfileid\u001b[0m\u001b[0;34m)\u001b[0m\u001b[0;34m\u001b[0m\u001b[0;34m\u001b[0m\u001b[0m\n",
      "\u001b[0;32m~/.local/lib/python3.6/site-packages/nltk/corpus/util.py\u001b[0m in \u001b[0;36m__getattr__\u001b[0;34m(self, attr)\u001b[0m\n\u001b[1;32m    119\u001b[0m             \u001b[0;32mraise\u001b[0m \u001b[0mAttributeError\u001b[0m\u001b[0;34m(\u001b[0m\u001b[0;34m\"LazyCorpusLoader object has no attribute '__bases__'\"\u001b[0m\u001b[0;34m)\u001b[0m\u001b[0;34m\u001b[0m\u001b[0;34m\u001b[0m\u001b[0m\n\u001b[1;32m    120\u001b[0m \u001b[0;34m\u001b[0m\u001b[0m\n\u001b[0;32m--> 121\u001b[0;31m         \u001b[0mself\u001b[0m\u001b[0;34m.\u001b[0m\u001b[0m__load\u001b[0m\u001b[0;34m(\u001b[0m\u001b[0;34m)\u001b[0m\u001b[0;34m\u001b[0m\u001b[0;34m\u001b[0m\u001b[0m\n\u001b[0m\u001b[1;32m    122\u001b[0m         \u001b[0;31m# This looks circular, but its not, since __load() changes our\u001b[0m\u001b[0;34m\u001b[0m\u001b[0;34m\u001b[0m\u001b[0;34m\u001b[0m\u001b[0m\n\u001b[1;32m    123\u001b[0m         \u001b[0;31m# __class__ to something new:\u001b[0m\u001b[0;34m\u001b[0m\u001b[0;34m\u001b[0m\u001b[0;34m\u001b[0m\u001b[0m\n",
      "\u001b[0;32m~/.local/lib/python3.6/site-packages/nltk/corpus/util.py\u001b[0m in \u001b[0;36m__load\u001b[0;34m(self)\u001b[0m\n\u001b[1;32m     84\u001b[0m                     \u001b[0mroot\u001b[0m \u001b[0;34m=\u001b[0m \u001b[0mnltk\u001b[0m\u001b[0;34m.\u001b[0m\u001b[0mdata\u001b[0m\u001b[0;34m.\u001b[0m\u001b[0mfind\u001b[0m\u001b[0;34m(\u001b[0m\u001b[0;34mf\"{self.subdir}/{zip_name}\"\u001b[0m\u001b[0;34m)\u001b[0m\u001b[0;34m\u001b[0m\u001b[0;34m\u001b[0m\u001b[0m\n\u001b[1;32m     85\u001b[0m                 \u001b[0;32mexcept\u001b[0m \u001b[0mLookupError\u001b[0m\u001b[0;34m:\u001b[0m\u001b[0;34m\u001b[0m\u001b[0;34m\u001b[0m\u001b[0m\n\u001b[0;32m---> 86\u001b[0;31m                     \u001b[0;32mraise\u001b[0m \u001b[0me\u001b[0m\u001b[0;34m\u001b[0m\u001b[0;34m\u001b[0m\u001b[0m\n\u001b[0m\u001b[1;32m     87\u001b[0m \u001b[0;34m\u001b[0m\u001b[0m\n\u001b[1;32m     88\u001b[0m         \u001b[0;31m# Load the corpus.\u001b[0m\u001b[0;34m\u001b[0m\u001b[0;34m\u001b[0m\u001b[0;34m\u001b[0m\u001b[0m\n",
      "\u001b[0;32m~/.local/lib/python3.6/site-packages/nltk/corpus/util.py\u001b[0m in \u001b[0;36m__load\u001b[0;34m(self)\u001b[0m\n\u001b[1;32m     79\u001b[0m         \u001b[0;32melse\u001b[0m\u001b[0;34m:\u001b[0m\u001b[0;34m\u001b[0m\u001b[0;34m\u001b[0m\u001b[0m\n\u001b[1;32m     80\u001b[0m             \u001b[0;32mtry\u001b[0m\u001b[0;34m:\u001b[0m\u001b[0;34m\u001b[0m\u001b[0;34m\u001b[0m\u001b[0m\n\u001b[0;32m---> 81\u001b[0;31m                 \u001b[0mroot\u001b[0m \u001b[0;34m=\u001b[0m \u001b[0mnltk\u001b[0m\u001b[0;34m.\u001b[0m\u001b[0mdata\u001b[0m\u001b[0;34m.\u001b[0m\u001b[0mfind\u001b[0m\u001b[0;34m(\u001b[0m\u001b[0;34mf\"{self.subdir}/{self.__name}\"\u001b[0m\u001b[0;34m)\u001b[0m\u001b[0;34m\u001b[0m\u001b[0;34m\u001b[0m\u001b[0m\n\u001b[0m\u001b[1;32m     82\u001b[0m             \u001b[0;32mexcept\u001b[0m \u001b[0mLookupError\u001b[0m \u001b[0;32mas\u001b[0m \u001b[0me\u001b[0m\u001b[0;34m:\u001b[0m\u001b[0;34m\u001b[0m\u001b[0;34m\u001b[0m\u001b[0m\n\u001b[1;32m     83\u001b[0m                 \u001b[0;32mtry\u001b[0m\u001b[0;34m:\u001b[0m\u001b[0;34m\u001b[0m\u001b[0;34m\u001b[0m\u001b[0m\n",
      "\u001b[0;32m~/.local/lib/python3.6/site-packages/nltk/data.py\u001b[0m in \u001b[0;36mfind\u001b[0;34m(resource_name, paths)\u001b[0m\n\u001b[1;32m    581\u001b[0m     \u001b[0msep\u001b[0m \u001b[0;34m=\u001b[0m \u001b[0;34m\"*\"\u001b[0m \u001b[0;34m*\u001b[0m \u001b[0;36m70\u001b[0m\u001b[0;34m\u001b[0m\u001b[0;34m\u001b[0m\u001b[0m\n\u001b[1;32m    582\u001b[0m     \u001b[0mresource_not_found\u001b[0m \u001b[0;34m=\u001b[0m \u001b[0;34mf\"\\n{sep}\\n{msg}\\n{sep}\\n\"\u001b[0m\u001b[0;34m\u001b[0m\u001b[0;34m\u001b[0m\u001b[0m\n\u001b[0;32m--> 583\u001b[0;31m     \u001b[0;32mraise\u001b[0m \u001b[0mLookupError\u001b[0m\u001b[0;34m(\u001b[0m\u001b[0mresource_not_found\u001b[0m\u001b[0;34m)\u001b[0m\u001b[0;34m\u001b[0m\u001b[0;34m\u001b[0m\u001b[0m\n\u001b[0m\u001b[1;32m    584\u001b[0m \u001b[0;34m\u001b[0m\u001b[0m\n\u001b[1;32m    585\u001b[0m \u001b[0;34m\u001b[0m\u001b[0m\n",
      "\u001b[0;31mLookupError\u001b[0m: \n**********************************************************************\n  Resource \u001b[93momw-1.4\u001b[0m not found.\n  Please use the NLTK Downloader to obtain the resource:\n\n  \u001b[31m>>> import nltk\n  >>> nltk.download('omw-1.4')\n  \u001b[0m\n  For more information see: https://www.nltk.org/data.html\n\n  Attempted to load \u001b[93mcorpora/omw-1.4\u001b[0m\n\n  Searched in:\n    - '/home/codio/nltk_data'\n    - '/usr/nltk_data'\n    - '/usr/share/nltk_data'\n    - '/usr/lib/nltk_data'\n    - '/usr/share/nltk_data'\n    - '/usr/local/share/nltk_data'\n    - '/usr/lib/nltk_data'\n    - '/usr/local/lib/nltk_data'\n**********************************************************************\n"
     ]
    }
   ],
   "source": [
    "print([wlo.lemmatize(w) for w in LsWords])  ## lemmatize without POS tagging\n",
    "print([wlo.lemmatize(w, get_wordnet_tag(t)) for w,t in LTsWordTags])  ## Lemmatize after POS tagging with the Wordnet tagset\n"
   ]
  },
  {
   "cell_type": "markdown",
   "metadata": {},
   "source": [
    "Notice that, with the WordNet tagset, more words are correctly replaced with their proper root forms. For example, `'started'` is converted to `'start`' and `'is'` is converted to `'be'`. \n",
    "    \n",
    "## Comparing Different Tagsets\n",
    "\n",
    "Different tagsets have different strengths. [Universal tagset](https://universaldependencies.org/u/pos/) is another common tagset that is easier to read but more rigid than the UPenn tagset, and more flexible than the WordNet tagset. Penn offers a finer set of POS tags. For example, noun tags can be plural, verb tags can represent some tenses, etc. A more comprehensive list is shown below. "
   ]
  },
  {
   "cell_type": "code",
   "execution_count": null,
   "metadata": {},
   "outputs": [],
   "source": [
    "sTxt = \"In 2020, the quick brown fox jumped over the lazy dog's puppies...\"\n",
    "\n",
    "LsWords = nltk.word_tokenize(sTxt)\n",
    "LTsPT = nltk.pos_tag(LsWords, tagset=None) # UPenn tags\n",
    "LTsWT = [(w, get_wordnet_tag(t)) for w, t in LTsPT] # WordNet tags\n",
    "LTsUT = nltk.pos_tag(LsWords, tagset='universal') # universal tags\n",
    "\n",
    "dfPT = pd.DataFrame(LTsPT, columns=['word','Penn'])\n",
    "dfWT = pd.DataFrame(LTsWT, columns=['word','WordNet'])\n",
    "dfUT = pd.DataFrame(LTsUT, columns=['word','Universal'])\n",
    "\n",
    "dfTags = pd.concat([dfPT, dfWT.WordNet, dfUT.Universal], axis=1).set_index('word')\n",
    "dfTags.T"
   ]
  },
  {
   "cell_type": "markdown",
   "metadata": {},
   "source": [
    "Notice that almost all of the WordNet tags are `'n'` (nouns). The Universal tagset distinguishes these further into `'ADP'` (adposition), determiners, and nouns.\n",
    "\n",
    "## Table of UPenn Tags\n",
    "\n",
    "If you're ever unsure of what a particular tag means, you can find documentation, examples, and definitions right in `nltk`. The following table displays the documentation nicely."
   ]
  },
  {
   "cell_type": "code",
   "execution_count": null,
   "metadata": {},
   "outputs": [],
   "source": [
    "pd.set_option('max_rows', 100, 'display.max_colwidth', 0)\n",
    "DTagSet = nltk.data.load('help/tagsets/upenn_tagset.pickle')  # dictionary of POS tags\n",
    "pd.DataFrame(DTagSet, index=['Definition', 'Examples']).T.sort_index().reset_index().rename(columns={'index':'Tag'})"
   ]
  },
  {
   "cell_type": "markdown",
   "metadata": {},
   "source": [
    "<hr style=\"border-top: 2px solid #606366; background: transparent;\">\n",
    "\n",
    "# **Optional Practice**\n",
    "\n",
    "Load several famous quotes and text from \"[Alice's Adventures in Wonderland](https://en.wikipedia.org/wiki/Knave_of_Hearts_(Alice%27s_Adventures_in_Wonderland))\" by Lewis Carroll. The text is loaded in two different ways: first, as parsed sentences of parsed words and, second, as all parsed words. \n",
    "   "
   ]
  },
  {
   "cell_type": "code",
   "execution_count": null,
   "metadata": {},
   "outputs": [],
   "source": [
    "sQuote1 = \"The only true wisdom is in knowing you know nothing.\" # a quote from Socrates\n",
    "sQuote2 = \"Learn from yesterday, live for today, hope for tomorrow. \\\n",
    "The important thing is not to stop questioning.\" # a quote from Albert Einstein\n",
    "\n",
    "_ = nltk.download(['gutenberg'], quiet=True)   # download Gutenberg corpus\n",
    "LLsWords = nltk.corpus.gutenberg.sents('carroll-alice.txt') # list of lists of words (i.e. sentences of words)\n",
    "LsWords = nltk.corpus.gutenberg.words('carroll-alice.txt')  # list of words (i.e.flattened sentences)\n",
    "print(LLsWords[:2])\n",
    "print(LsWords[:10])"
   ]
  },
  {
   "cell_type": "markdown",
   "metadata": {},
   "source": [
    "As you work through these tasks, check your answers by running your code in the *#check solution here* cell, to see if you’ve gotten the correct result. If you get stuck on a task, click the See <b>solution</b> drop-down to view the answer.\n",
    "\n",
    "## Task 1\n",
    "\n",
    "Tokenize the sentence string, `sQuote1`, into word tokens and identify their POS tags. Save the resulting list of tuples `\\[(word, POS tag)\\]` to the `LTsWordTags1` variable.\n",
    "\n",
    " <b>Hint:</b> Try <code>nltk.pos_tag()</code> and <code>nltk.word_tokenize()</code> functions applied to the quote."
   ]
  },
  {
   "cell_type": "code",
   "execution_count": null,
   "metadata": {},
   "outputs": [],
   "source": [
    "# check solution here"
   ]
  },
  {
   "cell_type": "markdown",
   "metadata": {},
   "source": [
    "\n",
    "<font color=#606366>\n",
    "    <details><summary><font color=#B31B1B>▶ </font>See <b>solution</b>.</summary>\n",
    "     <pre>   \n",
    "LTsWordTags1 = nltk.pos_tag(nltk.word_tokenize(sQuote1))\n",
    "print(LTsWordTags1)\n",
    "        </pre>\n",
    "        </details> \n",
    "</font>\n",
    "<hr>"
   ]
  },
  {
   "cell_type": "markdown",
   "metadata": {},
   "source": [
    "## Task 2\n",
    "\n",
    "Count the frequencies of all POS tags in `LTsWordTags1`.\n",
    "\n",
    "<b>Hint:</b> Frequency counting can be easily done with either <code>nltk.FreqDist()</code> or <code>collections.Counter()</code>. You will need to extract just the tags from the list of tuples."
   ]
  },
  {
   "cell_type": "code",
   "execution_count": null,
   "metadata": {},
   "outputs": [],
   "source": [
    "# check solution here"
   ]
  },
  {
   "cell_type": "markdown",
   "metadata": {},
   "source": [
    "\n",
    "\n",
    "\n",
    "<font color=#606366>\n",
    "    <details><summary><font color=#B31B1B>▶ </font>See <b>solution</b>.</summary>\n",
    "     <pre>   \n",
    "print(nltk.FreqDist(tag for word, tag in LTsWordTags1).most_common())\n",
    "        </pre>\n",
    "        </details> \n",
    "</font>\n",
    "<hr>"
   ]
  },
  {
   "cell_type": "markdown",
   "metadata": {},
   "source": [
    "## Task 3\n",
    "\n",
    "Lemmatize words in `LTsWordTags1` using the appropriate WordNet tags. Then join all lemmatized words into a sentence.\n",
    "\n",
    "<b>Hint:</b> Try <code>str.join()</code> method on the list of words lemmatized with <code>wlo.lemmatize()</code>."
   ]
  },
  {
   "cell_type": "code",
   "execution_count": null,
   "metadata": {},
   "outputs": [],
   "source": [
    "# check solution here"
   ]
  },
  {
   "cell_type": "markdown",
   "metadata": {},
   "source": [
    "\n",
    "<font color=#606366>\n",
    "    <details><summary><font color=#B31B1B>▶ </font>See <b>solution</b>.</summary>\n",
    "    <pre>\n",
    "print(sQuote1)\n",
    "print(' '.join([wlo.lemmatize(w, get_wordnet_tag(t)) for w,t in LTsWordTags1]))\n",
    "        </pre>\n",
    "        </details>\n",
    "</font>\n",
    "<hr>"
   ]
  },
  {
   "cell_type": "markdown",
   "metadata": {},
   "source": [
    "## Task 4\n",
    "\n",
    "Complete the user-defined function (UDF), `Sent2Lemmas()`, which takes a list of word tokens from a single sentence and lemmatizes them using the correct WordNet tags. The output of the function with default arguments should be:\n",
    "\n",
    "        >>> Sent2Lemmas()\n",
    "        ['I', 'be', 'love', 'NLP', '.']\n",
    "\n",
    "Then evaluate `Sent2Lemmas()` at the word-tokenized `sQuote1`.\n",
    "\n",
    "<b>Hint:</b> You will need to use <code>get_wordnet_tag()</code> tag-mapping function we created above."
   ]
  },
  {
   "cell_type": "code",
   "execution_count": null,
   "metadata": {},
   "outputs": [],
   "source": [
    "# check solution here"
   ]
  },
  {
   "cell_type": "markdown",
   "metadata": {},
   "source": [
    "\n",
    "<font color=#606366>\n",
    "    <details><summary><font color=#B31B1B>▶ </font>See <b>solution</b>.</summary>\n",
    "    <pre>\n",
    "def Sent2Lemmas(LsSent=['I', 'am', 'loving', 'NLP', '.']):\n",
    "    '''sSent: list of word tokens from a single sentence\n",
    "    Return: a list of lemmatized words'''\n",
    "    return [wlo.lemmatize(w, get_wordnet_tag(t)) for w,t in nltk.pos_tag(LsSent)]\n",
    "print(Sent2Lemmas())\n",
    "print(Sent2Lemmas(nltk.word_tokenize(sQuote1)))\n",
    "        </pre>\n",
    "        </details>\n",
    "</font>\n",
    "<hr>"
   ]
  },
  {
   "cell_type": "markdown",
   "metadata": {},
   "source": [
    "## Task 5\n",
    "\n",
    "Complete the user-defined function (UDF), `Flatten()`, which takes a list of lists `LL` and returns a flattened list of all elements. The output of the function with default argument, `LL=[[1,2,3],[4, 3]]`, should be:\n",
    "\n",
    "        >>> Flatten(LL=[[1,2,3],[4, 3]])\n",
    "        [1, 2, 3, 4, 3]\n",
    "        \n",
    "<b>Hint:</b> You can either use a double (i.e. nested) for-loop or <a href=\"https://www.python.org/dev/peps/pep-0202/#examples\">nested list comprehension</a>."
   ]
  },
  {
   "cell_type": "code",
   "execution_count": null,
   "metadata": {},
   "outputs": [],
   "source": [
    "# check solution here"
   ]
  },
  {
   "cell_type": "markdown",
   "metadata": {},
   "source": [
    "\n",
    "<font color=#606366>\n",
    "    <details><summary><font color=#B31B1B>▶ </font>See <b>solution</b>.</summary>\n",
    "    <pre>\n",
    "def Flatten(LL=[[1,2,3],[4, 3]]):\n",
    "    'LL: a list of lists'\n",
    "    return [w for L in LL for w in L]\n",
    "Flatten()\n",
    "        </pre>\n",
    "        </details>\n",
    "</font>\n",
    "<hr>"
   ]
  },
  {
   "cell_type": "markdown",
   "metadata": {},
   "source": [
    "## Task 6\n",
    "\n",
    "Create `LLsQuote2`, which should be a list of sentences from `sQuote2` that have each been made into a list of word token strings.\n",
    "\n",
    "<b>Hint:</b> Your resulting list of lists should be in the format of <code>LLsWords</code> variable returned by <code>nltk.corpus.gutenberg.words('carroll-alice.txt')</code> above."
   ]
  },
  {
   "cell_type": "code",
   "execution_count": null,
   "metadata": {},
   "outputs": [],
   "source": [
    "# check solution here"
   ]
  },
  {
   "cell_type": "markdown",
   "metadata": {},
   "source": [
    "\n",
    "<font color=#606366>\n",
    "    <details><summary><font color=#B31B1B>▶ </font>See <b>solution</b>.</summary>\n",
    "    <pre>\n",
    "LLsQuote2 = [nltk.word_tokenize(s) for s in nltk.sent_tokenize(sQuote2)]\n",
    "print(LLsQuote2)\n",
    "        </pre>\n",
    "        </details>\n",
    "</font>\n",
    "<hr>"
   ]
  },
  {
   "cell_type": "markdown",
   "metadata": {},
   "source": [
    "## Task 7\n",
    "\n",
    "Complete a UDF called `Sents2Lemmas()` that takes a list of sentences (where each sentence is a list of word tokens) and lemmatizes the words in each sentence. The output should be returned as a list of lists or a list of all (lemmatized) words in the original sequence, if the `flatten` argument is true. Test your UDF on default arguments and on `LLsQuote2`. For example:\n",
    "\n",
    "\n",
    "        >>> Sents2Lemmas(flatten=True)\n",
    "        ['I', 'be', 'love', 'NLP', '.', 'NLP', 'be', 'fun', '.']\n",
    "        >>> Sents2Lemmas(flatten=False)\n",
    "        [['I', 'be', 'love', 'NLP', '.'], ['NLP', 'be', 'fun', '.']]\n",
    "        \n",
    "<b>Hint:</b> This is an individual application of <code>Sent2Lemmas()</code> to each sentence (list of words) stored in <code>LLsSents</code>. Use <code>Flatten()</code> to flatten the list of lists.   "
   ]
  },
  {
   "cell_type": "code",
   "execution_count": null,
   "metadata": {},
   "outputs": [],
   "source": [
    "# check solution here"
   ]
  },
  {
   "cell_type": "markdown",
   "metadata": {},
   "source": [
    "\n",
    "<font color=#606366>\n",
    "    <details><summary><font color=#B31B1B>▶ </font>See <b>solution</b>.</summary>\n",
    "    <pre>\n",
    "def Sents2Lemmas(LLsSents=[['I', 'am', 'loving', 'NLP', '.'],['NLP','is','fun', '.']], flatten=True):\n",
    "    '''LLsSents: a list of sentences, which are in the form of lists of words\n",
    "    flatten: whether to flatten a list of lists before outputting it\n",
    "    Return: list of lemmatized words, if flatten is true. Otherwise, list of lists of lemmatized words'''\n",
    "    LLsWords = [Sent2Lemmas(sSent) for sSent in LLsSents]\n",
    "    return Flatten(LLsWords) if flatten else LLsWords\n",
    "Sents2Lemmas(flatten=True)\n",
    "Sents2Lemmas(flatten=False)\n",
    "Sents2Lemmas(flatten=False)\n",
    "print(Sents2Lemmas(LLsQuote2, flatten=True))\n",
    "print(Sents2Lemmas(LLsQuote2, flatten=False))\n",
    "        </pre>\n",
    "        </details>\n",
    "</font>\n",
    "<hr>"
   ]
  },
  {
   "cell_type": "markdown",
   "metadata": {},
   "source": [
    "# Task 8\n",
    "\n",
    "1. Create `LsLemmas`, which is a (flattened) list of lemmas from `LLsWords`.\n",
    "1. Create a dictionary `DsOrigDist` of words as keys and their frequencies as values for the `LsWords` list of words. \n",
    "1. Create a dictionary `DsLemmaDist` of words as keys and their frequencies as values for the `LsLemmas` list of words. \n",
    "1. Print counts of the following words from the original and lemmatized texts: `'be'`, `'is'`, `'was'`, `'have'`, and `'had'`. \n",
    "\n",
    "Notice the drastic change in frequencies of word tokens after lemmatizations. For example, `'be'` occured 145 times in original text, but 796 times in lemmatized text. For example:\n",
    "\n",
    "        >>> print('be:', DsOrigDist['be'], ' -> ', DsLemmaDist['be'])\n",
    "        be: 145  ->  796\n",
    "        \n",
    "<b>Hint:</b> Recall that <a href=\"https://docs.python.org/3/library/collections.html#collections.Counter\"><code>collections.Counter()</code></a> returns a dictionary."
   ]
  },
  {
   "cell_type": "code",
   "execution_count": null,
   "metadata": {},
   "outputs": [],
   "source": [
    "# check solution here"
   ]
  },
  {
   "cell_type": "markdown",
   "metadata": {},
   "source": [
    "\n",
    "<font color=#606366>\n",
    "    <details><summary><font color=#B31B1B>▶ </font>See <b>solution</b>.</summary>\n",
    "    <pre>\n",
    "LsLemmas = Sents2Lemmas(LLsWords, flatten=True)\n",
    "DsOrigDist = collections.Counter(LsWords)\n",
    "DsLemmaDist = collections.Counter(LsLemmas)\n",
    "\n",
    "print('be:', DsOrigDist['be'], ' -> ', DsLemmaDist['be'])\n",
    "print('is:', DsOrigDist['is'], ' -> ', DsLemmaDist['is'])\n",
    "print('was:', DsOrigDist['was'], ' -> ', DsLemmaDist['was'])\n",
    "print('have:', DsOrigDist['have'], ' -> ', DsLemmaDist['have'])\n",
    "print('had:', DsOrigDist['had'], ' -> ', DsLemmaDist['had'])\n",
    "        </pre>\n",
    "        </details>\n",
    "</font>\n",
    "<hr>"
   ]
  },
  {
   "cell_type": "markdown",
   "metadata": {},
   "source": [
    "## Task 9\n",
    "\n",
    "Use results of previous task to find a word with the largest **increase** of its count due to lemmatization. This would be useful, for example, if you wanted to find the base word that had the most variants in the text.\n",
    "\n",
    "Next, find the word with the largest **decrease** of its count due to lemmatization. This would be useful if you wanted to find the word that was most frequently replaced with a base word during the process.\n",
    "\n",
    "  <b>Hint:</b> You can create a for-loop approach to search all elements of elements in each dictionary, but it might be easier to convert each dictionary into a Pandas DataFrame, set words as indices, and then <a href=\"https://pandas.pydata.org/docs/reference/api/pandas.DataFrame.join.html\">join</a> on their indices. A dataframe allows you to easily take differences of the two frequency columns, sort by the difference column and take top 1 and bottom 1 rows."
   ]
  },
  {
   "cell_type": "code",
   "execution_count": null,
   "metadata": {},
   "outputs": [],
   "source": [
    "# check solution here"
   ]
  },
  {
   "cell_type": "markdown",
   "metadata": {},
   "source": [
    "\n",
    "<font color=#606366>\n",
    "    <details><summary><font color=#B31B1B>▶ </font>See <b>solution</b>.</summary>\n",
    "    <pre>\n",
    "# Solution 1: \n",
    "dfO = pd.DataFrame(DsOrigDist.items(), columns=['word','freqO']).set_index('word')\n",
    "dfL = pd.DataFrame(DsLemmaDist.items(), columns=['word','freqL']).set_index('word')\n",
    "dfOL = dfO.join(dfL)    # join on matching words\n",
    "dfOL['Diff'] = (dfOL.freqL - dfOL.freqO).fillna(0) # find increase in counts of lemmas\n",
    "dfDiff = dfOL.Diff.sort_values(ascending=False)\n",
    "dfDiff.head(1)  # top increased lemma\n",
    "dfDiff.tail(1)  # top decreased lemma\n",
    " \n",
    "#Solution 2: \n",
    "merged = {k: DsLemmaDist.get(k, 0) - DsOrigDist.get(k, 0) for k in set(DsOrigDist) & set(DsLemmaDist)}\n",
    "max(merged, key=merged.get)\n",
    "min(merged, key=merged.get)\n",
    "        </pre>\n",
    "        </details>\n",
    "</font>\n",
    "<hr>"
   ]
  },
  {
   "cell_type": "markdown",
   "metadata": {},
   "source": [
    "## Task 10\n",
    "\n",
    "Plot a bar chart with the top 50 words that had the greatest count **increase** due to lemmatization.\n",
    "\n",
    "<b>Hint:</b> You can take top 50 rows in a dataframe and use <code>.plot.bar()</code> method of the resulting dataframe."
   ]
  },
  {
   "cell_type": "code",
   "execution_count": null,
   "metadata": {},
   "outputs": [],
   "source": [
    "# check solution here"
   ]
  },
  {
   "cell_type": "markdown",
   "metadata": {},
   "source": [
    "\n",
    "<font color=#606366>\n",
    "    <details><summary><font color=#b31b1b>▶ </font>See <b>solution</b>.</summary>\n",
    "    <pre>\n",
    "dfDiff.head(50).plot.bar(figsize=(20,3), title='Increase in word counts after lemmatization', grid=1)\n",
    "        </pre>\n",
    "        </details>\n",
    "</font>\n",
    "<hr>"
   ]
  },
  {
   "cell_type": "markdown",
   "metadata": {},
   "source": [
    "## Task 11\n",
    "\n",
    "Plot a bar chart with the top 50 words that had greatest count **decrease** due to lemmatization.\n",
    "\n",
    "<b>Hint:</b> you can take bottom 50 rows in a dataframe and use <code>.plot.bar()</code> method of the resulting dataframe."
   ]
  },
  {
   "cell_type": "code",
   "execution_count": null,
   "metadata": {},
   "outputs": [],
   "source": [
    "# check solution here"
   ]
  },
  {
   "cell_type": "markdown",
   "metadata": {},
   "source": [
    "\n",
    "<font color=#606366>\n",
    "    <details><summary><font color=carnelian>▶ </font>See <b>solution</b>.</summary>\n",
    "    <pre>\n",
    "dfDiff.tail(50).plot.bar(figsize=(20,3), title='Decrease in word counts after lemmatization', grid=1)\n",
    "        </pre>\n",
    "        </details>\n",
    "</font>\n",
    "<hr>"
   ]
  },
  {
   "cell_type": "code",
   "execution_count": null,
   "metadata": {},
   "outputs": [],
   "source": []
  }
 ],
 "metadata": {
  "anaconda-cloud": {},
  "kernelspec": {
   "display_name": "Python 3",
   "language": "python",
   "name": "python3"
  },
  "language_info": {
   "codemirror_mode": {
    "name": "ipython",
    "version": 3
   },
   "file_extension": ".py",
   "mimetype": "text/x-python",
   "name": "python",
   "nbconvert_exporter": "python",
   "pygments_lexer": "ipython3",
   "version": "3.6.9"
  },
  "toc": {
   "base_numbering": 1,
   "nav_menu": {},
   "number_sections": false,
   "sideBar": true,
   "skip_h1_title": false,
   "title_cell": "Table of Contents",
   "title_sidebar": "Contents",
   "toc_cell": false,
   "toc_position": {},
   "toc_section_display": true,
   "toc_window_display": false
  },
  "varInspector": {
   "cols": {
    "lenName": 16,
    "lenType": 16,
    "lenVar": 40
   },
   "kernels_config": {
    "python": {
     "delete_cmd_postfix": "",
     "delete_cmd_prefix": "del ",
     "library": "var_list.py",
     "varRefreshCmd": "print(var_dic_list())"
    },
    "r": {
     "delete_cmd_postfix": ") ",
     "delete_cmd_prefix": "rm(",
     "library": "var_list.r",
     "varRefreshCmd": "cat(var_dic_list()) "
    }
   },
   "types_to_exclude": [
    "module",
    "function",
    "builtin_function_or_method",
    "instance",
    "_Feature"
   ],
   "window_display": false
  }
 },
 "nbformat": 4,
 "nbformat_minor": 1
}
