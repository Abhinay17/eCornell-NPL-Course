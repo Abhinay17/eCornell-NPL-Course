{
 "cells": [
  {
   "cell_type": "markdown",
   "metadata": {},
   "source": [
    "# **Setup**\n",
    " \n",
    "Reset the Python environment to clear it of any previously loaded variables, functions, or libraries. Then, import the libraries needed to complete the code Professor Melnikov presented in the video."
   ]
  },
  {
   "cell_type": "code",
   "execution_count": null,
   "metadata": {},
   "outputs": [],
   "source": [
    "%reset -f\n",
    "# !pip -q install svgling >log\n",
    "from IPython.core.interactiveshell import InteractiveShell as IS\n",
    "IS.ast_node_interactivity = \"all\"    # allows multiple outputs from a cell\n",
    "import nltk, svgling"
   ]
  },
  {
   "cell_type": "markdown",
   "metadata": {},
   "source": [
    "<hr style=\"border-top: 2px solid #606366; background: transparent;\">\n",
    "\n",
    "# **Review**\n",
    "\n",
    "Below we use `nltk.CFG()` to build a context-free grammar ([CFG](https://en.wikipedia.org/wiki/Context-free_grammar)) from a string. Grammar is a set of language production rules. Thus, the rule `S -> NP VP` indicates that a sentence is a combination of a noun phrase, `NP`, and a verb phrase, `VP`, each of which is also recursively defined in this grammar. For example, a verb phrase is either a verb, `V`, and a noun phrase, i.e. `V NP`, or verb phrase and prepositional phrase, `PP`, which in turn is defined as `PP -> P NP`. "
   ]
  },
  {
   "cell_type": "code",
   "execution_count": null,
   "metadata": {},
   "outputs": [],
   "source": [
    "groucho_grammar = nltk.CFG.fromstring(\"\"\"\n",
    "    S -> NP VP\n",
    "    PP -> P NP\n",
    "    NP -> Det N | Det N PP | 'I'\n",
    "    VP -> V NP | VP PP\n",
    "    Det -> 'an' | 'my'\n",
    "    N -> 'elephant' | 'pajamas'\n",
    "    V -> 'shot'\n",
    "    P -> 'in' \"\"\")      # more info: ? nltk.CFG\n",
    "\n",
    "type(groucho_grammar)"
   ]
  },
  {
   "cell_type": "markdown",
   "metadata": {},
   "source": [
    "Next we split a sentence into words, initialize the so-called chart parser, and parse our list of these words. This builds a list of possible constituency parsing trees. Each tree is an interpretation of the sentence using the specified grammar."
   ]
  },
  {
   "cell_type": "code",
   "execution_count": null,
   "metadata": {},
   "outputs": [],
   "source": [
    "LsWords = 'I shot an elephant in my pajamas'.split()   # See example at http://www.nltk.org/book/ch08-extras.html\n",
    "\n",
    "LTrees = list(nltk.ChartParser(groucho_grammar).parse(LsWords))  # wrap a generator as a list\n",
    "print(f'Number of trees: {len(LTrees)}')\n",
    "print(LTrees)"
   ]
  },
  {
   "cell_type": "markdown",
   "metadata": {},
   "source": [
    "We can print each tree with a bit more structure. Groucho grammar results in two trees, which rise from the ambiguity in parsing this sentence. In particular, it's not clear whether the meaning is \n",
    "1. `'[I] in my pajamas'` or \n",
    "1. `'an elephant in my pajamas'`"
   ]
  },
  {
   "cell_type": "code",
   "execution_count": null,
   "metadata": {},
   "outputs": [],
   "source": [
    "for tree in LTrees:  # view more info: ? nltk.ChartParser\n",
    "    print(tree)\n",
    "    \n",
    "trees = [tree for tree in LTrees]\n",
    "\n",
    "print(f\"Tree count: {len(LTrees)}\")"
   ]
  },
  {
   "cell_type": "markdown",
   "metadata": {},
   "source": [
    "Next we can visualize each top-bottom tree using the `svgling` library.\n",
    "\n",
    "In the first tree, the sentence `S` relates `I` to each 3rd level branch. So, we deduce `I shot an elephant` and `I in my pajamas`."
   ]
  },
  {
   "cell_type": "code",
   "execution_count": null,
   "metadata": {},
   "outputs": [],
   "source": [
    "svgling.draw_tree(trees[0])"
   ]
  },
  {
   "cell_type": "markdown",
   "metadata": {},
   "source": [
    "In the second tree, a 3rd level `NP` relates an `elephant` to `in my pajamas`. So, we deduce `an elephant in my pajamas`."
   ]
  },
  {
   "cell_type": "code",
   "execution_count": null,
   "metadata": {},
   "outputs": [],
   "source": [
    "svgling.draw_tree(trees[1])"
   ]
  },
  {
   "cell_type": "markdown",
   "metadata": {},
   "source": [
    "NLTK also provides large grammars with \"production\" rules that are tied even to individual words. Here is an example of this type of large grammar."
   ]
  },
  {
   "cell_type": "code",
   "execution_count": null,
   "metadata": {},
   "outputs": [],
   "source": [
    "_ = nltk.download(['large_grammars'], quiet=True)\n",
    "grammar  = nltk.data.load('grammars/large_grammars/atis.cfg')\n",
    "print(str(grammar)[:510])"
   ]
  },
  {
   "cell_type": "markdown",
   "metadata": {},
   "source": [
    "<hr style=\"border-top: 2px solid #606366; background: transparent;\">\n",
    "\n",
    "# **Optional Practice**\n",
    "\n",
    "In these practice tasks, you will practice using constituency parsing on simple sentences, and visualizing your results as trees. \n",
    "\n",
    "As you work through these tasks, check your answers by running your code in the *#check solution here* cell, to see if you’ve gotten the correct result. If you get stuck on a task, click the See **solution** drop-down to view the answer."
   ]
  },
  {
   "cell_type": "code",
   "execution_count": null,
   "metadata": {},
   "outputs": [],
   "source": [
    "LsWords3 = 'I saw an elephant in my pajamas'.split()   # See example at http://www.nltk.org/book/ch08-extras.html\n",
    "LsWords4 = 'We saw a cat in my boots'.split()"
   ]
  },
  {
   "cell_type": "markdown",
   "metadata": {},
   "source": [
    "## Task 1\n",
    "\n",
    "Modify `groucho_grammar` to correctly parse `LsWords3` above, where `'shot'` is replaced with `'saw'`. Save the new grammar as `groucho_grammar3`. Print all constituency trees on screen."
   ]
  },
  {
   "cell_type": "code",
   "execution_count": null,
   "metadata": {},
   "outputs": [],
   "source": [
    "# check solution here"
   ]
  },
  {
   "cell_type": "markdown",
   "metadata": {},
   "source": [
    "<font color=#606366>\n",
    "    <details><summary><font color=#B31B1B>▶ </font>See <b>solution</b>.</summary>\n",
    "    <pre>\n",
    "groucho_grammar3 = nltk.CFG.fromstring(\"\"\"\n",
    "    S -> NP VP\n",
    "    PP -> P NP\n",
    "    NP -> Det N | Det N PP | 'I'\n",
    "    VP -> V NP | VP PP\n",
    "    Det -> 'an' | 'my'\n",
    "    N -> 'elephant' | 'pajamas'\n",
    "    V -> 'saw'\n",
    "    P -> 'in' \"\"\")      # more info: ? nltk.CFG\n",
    "\n",
    "LTrees3 = list(nltk.ChartParser(groucho_grammar3).parse(LsWords3))  # wrap a generator as a list\n",
    "_ = [print(t) for t in LTrees3]\n",
    "    </pre>\n",
    "    </details> \n",
    "</font>\n",
    "<hr>"
   ]
  },
  {
   "cell_type": "markdown",
   "metadata": {},
   "source": [
    "## Task 2\n",
    "\n",
    "Modify `groucho_grammar` to correctly parse `LsWords4` above. Save the new grammar as `groucho_grammar4`. Print all constituency trees on screen."
   ]
  },
  {
   "cell_type": "code",
   "execution_count": null,
   "metadata": {},
   "outputs": [],
   "source": [
    "# check solution here"
   ]
  },
  {
   "cell_type": "markdown",
   "metadata": {},
   "source": [
    "<font color=#606366>\n",
    "    <details><summary><font color=#B31B1B>▶ </font>See <b>solution</b>.</summary>\n",
    "    <pre>\n",
    "groucho_grammar4 = nltk.CFG.fromstring('''\n",
    "    S -> NP VP\n",
    "    PP -> P NP\n",
    "    NP -> Det N | Det N PP | 'We'\n",
    "    VP -> V NP | VP PP\n",
    "    Det -> 'a' | 'my'\n",
    "    N -> 'cat' | 'boots'\n",
    "    V -> 'saw'\n",
    "    P -> 'in' ''')      # more info: ? nltk.CFG\n",
    "\n",
    "LTrees4 = list(nltk.ChartParser(groucho_grammar4).parse(LsWords4))  # wrap a generator as a list\n",
    "_ = [print(t) for t in LTrees4]\n",
    "    </pre>\n",
    "    </details> \n",
    "</font>\n",
    "<hr>"
   ]
  }
 ],
 "metadata": {
  "anaconda-cloud": {},
  "kernelspec": {
   "display_name": "Python 3",
   "language": "python",
   "name": "python3"
  },
  "language_info": {
   "codemirror_mode": {
    "name": "ipython",
    "version": 3
   },
   "file_extension": ".py",
   "mimetype": "text/x-python",
   "name": "python",
   "nbconvert_exporter": "python",
   "pygments_lexer": "ipython3",
   "version": "3.6.9"
  },
  "toc": {
   "base_numbering": 1,
   "nav_menu": {},
   "number_sections": false,
   "sideBar": true,
   "skip_h1_title": false,
   "title_cell": "Table of Contents",
   "title_sidebar": "Contents",
   "toc_cell": false,
   "toc_position": {},
   "toc_section_display": true,
   "toc_window_display": false
  },
  "varInspector": {
   "cols": {
    "lenName": 16,
    "lenType": 16,
    "lenVar": 40
   },
   "kernels_config": {
    "python": {
     "delete_cmd_postfix": "",
     "delete_cmd_prefix": "del ",
     "library": "var_list.py",
     "varRefreshCmd": "print(var_dic_list())"
    },
    "r": {
     "delete_cmd_postfix": ") ",
     "delete_cmd_prefix": "rm(",
     "library": "var_list.r",
     "varRefreshCmd": "cat(var_dic_list()) "
    }
   },
   "types_to_exclude": [
    "module",
    "function",
    "builtin_function_or_method",
    "instance",
    "_Feature"
   ],
   "window_display": false
  }
 },
 "nbformat": 4,
 "nbformat_minor": 1
}
