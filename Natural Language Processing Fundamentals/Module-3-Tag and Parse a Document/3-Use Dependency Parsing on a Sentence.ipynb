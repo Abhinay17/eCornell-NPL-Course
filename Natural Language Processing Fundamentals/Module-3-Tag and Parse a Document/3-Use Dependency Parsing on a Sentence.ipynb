{
 "cells": [
  {
   "cell_type": "markdown",
   "metadata": {},
   "source": [
    "# **Setup**\n",
    " \n",
    "Clear the Python environment of any previously loaded variables, functions, and libraries. Then, import the libraries needed to complete the code Professor Melnikov presented in the video."
   ]
  },
  {
   "cell_type": "code",
   "execution_count": 1,
   "metadata": {},
   "outputs": [
    {
     "name": "stdout",
     "output_type": "stream",
     "text": [
      "SpaCy version: 3.4.1\n"
     ]
    }
   ],
   "source": [
    "%reset -f\n",
    "from IPython.core.interactiveshell import InteractiveShell as IS\n",
    "IS.ast_node_interactivity = \"all\"    # allows multiple outputs from a cell\n",
    "import spacy, pandas as pd, nltk\n",
    "from spacy import displacy\n",
    "\n",
    "print('SpaCy version:', spacy.__version__) # SpaCy>=3 uses en_core_web_sm pretrained NLP model"
   ]
  },
  {
   "cell_type": "markdown",
   "metadata": {},
   "source": [
    "<hr style=\"border-top: 2px solid #606366; background: transparent;\">\n",
    "\n",
    "# **Review**\n",
    "\n",
    "## Dependency Parsing\n",
    "\n",
    "In this notebook, you will practice how to build a multi-level tree that displays the token dependencies in a sentence. Begin by wrapping the sentence with SpaCy's `nlp` and store this object in `doc`."
   ]
  },
  {
   "cell_type": "code",
   "execution_count": 2,
   "metadata": {},
   "outputs": [
    {
     "data": {
      "text/plain": [
       "An independent newspaper, The Cornell Daily Sun, was founded by William Ballard Hoyt in 1880."
      ]
     },
     "execution_count": 2,
     "metadata": {},
     "output_type": "execute_result"
    }
   ],
   "source": [
    "sNews = 'An independent newspaper, The Cornell Daily Sun, was founded by William Ballard Hoyt in 1880.'\n",
    "nlp = spacy.load('en_core_web_sm')   # text-processing pipeline object for English\n",
    "doc = nlp(sNews)                     # A sequence of Token objects\n",
    "doc"
   ]
  },
  {
   "cell_type": "markdown",
   "metadata": {},
   "source": [
    "The resulting object contains useful attributes, some of which can be used to identify relationships between parent and child words. Loop through the word tokens within the  object and print out some of their attributes."
   ]
  },
  {
   "cell_type": "code",
   "execution_count": 3,
   "metadata": {},
   "outputs": [
    {
     "data": {
      "text/plain": [
       "[('An', 'DT', 'det', 'newspaper', 'NN'),\n",
       " ('independent', 'JJ', 'amod', 'newspaper', 'NN'),\n",
       " ('newspaper', 'NN', 'nsubjpass', 'founded', 'VBN'),\n",
       " (',', ',', 'punct', 'newspaper', 'NN'),\n",
       " ('The', 'DT', 'det', 'Sun', 'NNP'),\n",
       " ('Cornell', 'NNP', 'compound', 'Sun', 'NNP'),\n",
       " ('Daily', 'NNP', 'compound', 'Sun', 'NNP'),\n",
       " ('Sun', 'NNP', 'appos', 'newspaper', 'NN'),\n",
       " (',', ',', 'punct', 'newspaper', 'NN'),\n",
       " ('was', 'VBD', 'auxpass', 'founded', 'VBN'),\n",
       " ('founded', 'VBN', 'ROOT', 'founded', 'VBN'),\n",
       " ('by', 'IN', 'agent', 'founded', 'VBN'),\n",
       " ('William', 'NNP', 'compound', 'Hoyt', 'NNP'),\n",
       " ('Ballard', 'NNP', 'compound', 'Hoyt', 'NNP'),\n",
       " ('Hoyt', 'NNP', 'pobj', 'by', 'IN'),\n",
       " ('in', 'IN', 'prep', 'founded', 'VBN'),\n",
       " ('1880', 'CD', 'pobj', 'in', 'IN'),\n",
       " ('.', '.', 'punct', 'founded', 'VBN')]"
      ]
     },
     "execution_count": 3,
     "metadata": {},
     "output_type": "execute_result"
    }
   ],
   "source": [
    "LTsTags = [(token.text, token.tag_, token.dep_, token.head.text, token.head.tag_) for token in doc]\n",
    "LTsTags"
   ]
  },
  {
   "cell_type": "markdown",
   "metadata": {},
   "source": [
    "Hierarchical relationships can be easier to interpret when visualized in tabular format using a Pandas DataFrame. The `Dep` row indicates the `'founded'` token as the `ROOT` of this tree. "
   ]
  },
  {
   "cell_type": "code",
   "execution_count": 4,
   "metadata": {},
   "outputs": [
    {
     "data": {
      "text/html": [
       "<div>\n",
       "<style scoped>\n",
       "    .dataframe tbody tr th:only-of-type {\n",
       "        vertical-align: middle;\n",
       "    }\n",
       "\n",
       "    .dataframe tbody tr th {\n",
       "        vertical-align: top;\n",
       "    }\n",
       "\n",
       "    .dataframe thead th {\n",
       "        text-align: right;\n",
       "    }\n",
       "</style>\n",
       "<table border=\"1\" class=\"dataframe\">\n",
       "  <thead>\n",
       "    <tr style=\"text-align: right;\">\n",
       "      <th></th>\n",
       "      <th>0</th>\n",
       "      <th>1</th>\n",
       "      <th>2</th>\n",
       "      <th>3</th>\n",
       "      <th>4</th>\n",
       "      <th>5</th>\n",
       "      <th>6</th>\n",
       "      <th>7</th>\n",
       "      <th>8</th>\n",
       "      <th>9</th>\n",
       "      <th>10</th>\n",
       "      <th>11</th>\n",
       "      <th>12</th>\n",
       "      <th>13</th>\n",
       "      <th>14</th>\n",
       "      <th>15</th>\n",
       "      <th>16</th>\n",
       "      <th>17</th>\n",
       "    </tr>\n",
       "  </thead>\n",
       "  <tbody>\n",
       "    <tr>\n",
       "      <th>Token</th>\n",
       "      <td>An</td>\n",
       "      <td>independent</td>\n",
       "      <td>newspaper</td>\n",
       "      <td>,</td>\n",
       "      <td>The</td>\n",
       "      <td>Cornell</td>\n",
       "      <td>Daily</td>\n",
       "      <td>Sun</td>\n",
       "      <td>,</td>\n",
       "      <td>was</td>\n",
       "      <td>founded</td>\n",
       "      <td>by</td>\n",
       "      <td>William</td>\n",
       "      <td>Ballard</td>\n",
       "      <td>Hoyt</td>\n",
       "      <td>in</td>\n",
       "      <td>1880</td>\n",
       "      <td>.</td>\n",
       "    </tr>\n",
       "    <tr>\n",
       "      <th>Tag</th>\n",
       "      <td>DT</td>\n",
       "      <td>JJ</td>\n",
       "      <td>NN</td>\n",
       "      <td>,</td>\n",
       "      <td>DT</td>\n",
       "      <td>NNP</td>\n",
       "      <td>NNP</td>\n",
       "      <td>NNP</td>\n",
       "      <td>,</td>\n",
       "      <td>VBD</td>\n",
       "      <td>VBN</td>\n",
       "      <td>IN</td>\n",
       "      <td>NNP</td>\n",
       "      <td>NNP</td>\n",
       "      <td>NNP</td>\n",
       "      <td>IN</td>\n",
       "      <td>CD</td>\n",
       "      <td>.</td>\n",
       "    </tr>\n",
       "    <tr>\n",
       "      <th>Dep</th>\n",
       "      <td>det</td>\n",
       "      <td>amod</td>\n",
       "      <td>nsubjpass</td>\n",
       "      <td>punct</td>\n",
       "      <td>det</td>\n",
       "      <td>compound</td>\n",
       "      <td>compound</td>\n",
       "      <td>appos</td>\n",
       "      <td>punct</td>\n",
       "      <td>auxpass</td>\n",
       "      <td>ROOT</td>\n",
       "      <td>agent</td>\n",
       "      <td>compound</td>\n",
       "      <td>compound</td>\n",
       "      <td>pobj</td>\n",
       "      <td>prep</td>\n",
       "      <td>pobj</td>\n",
       "      <td>punct</td>\n",
       "    </tr>\n",
       "    <tr>\n",
       "      <th>Head</th>\n",
       "      <td>newspaper</td>\n",
       "      <td>newspaper</td>\n",
       "      <td>founded</td>\n",
       "      <td>newspaper</td>\n",
       "      <td>Sun</td>\n",
       "      <td>Sun</td>\n",
       "      <td>Sun</td>\n",
       "      <td>newspaper</td>\n",
       "      <td>newspaper</td>\n",
       "      <td>founded</td>\n",
       "      <td>founded</td>\n",
       "      <td>founded</td>\n",
       "      <td>Hoyt</td>\n",
       "      <td>Hoyt</td>\n",
       "      <td>by</td>\n",
       "      <td>founded</td>\n",
       "      <td>in</td>\n",
       "      <td>founded</td>\n",
       "    </tr>\n",
       "    <tr>\n",
       "      <th>Head_Tag</th>\n",
       "      <td>NN</td>\n",
       "      <td>NN</td>\n",
       "      <td>VBN</td>\n",
       "      <td>NN</td>\n",
       "      <td>NNP</td>\n",
       "      <td>NNP</td>\n",
       "      <td>NNP</td>\n",
       "      <td>NN</td>\n",
       "      <td>NN</td>\n",
       "      <td>VBN</td>\n",
       "      <td>VBN</td>\n",
       "      <td>VBN</td>\n",
       "      <td>NNP</td>\n",
       "      <td>NNP</td>\n",
       "      <td>IN</td>\n",
       "      <td>VBN</td>\n",
       "      <td>IN</td>\n",
       "      <td>VBN</td>\n",
       "    </tr>\n",
       "  </tbody>\n",
       "</table>\n",
       "</div>"
      ],
      "text/plain": [
       "                 0            1          2          3    4         5   \\\n",
       "Token            An  independent  newspaper          ,  The   Cornell   \n",
       "Tag              DT           JJ         NN          ,   DT       NNP   \n",
       "Dep             det         amod  nsubjpass      punct  det  compound   \n",
       "Head      newspaper    newspaper    founded  newspaper  Sun       Sun   \n",
       "Head_Tag         NN           NN        VBN         NN  NNP       NNP   \n",
       "\n",
       "                6          7          8        9        10       11        12  \\\n",
       "Token        Daily        Sun          ,      was  founded       by   William   \n",
       "Tag            NNP        NNP          ,      VBD      VBN       IN       NNP   \n",
       "Dep       compound      appos      punct  auxpass     ROOT    agent  compound   \n",
       "Head           Sun  newspaper  newspaper  founded  founded  founded      Hoyt   \n",
       "Head_Tag       NNP         NN         NN      VBN      VBN      VBN       NNP   \n",
       "\n",
       "                13    14       15    16       17  \n",
       "Token      Ballard  Hoyt       in  1880        .  \n",
       "Tag            NNP   NNP       IN    CD        .  \n",
       "Dep       compound  pobj     prep  pobj    punct  \n",
       "Head          Hoyt    by  founded    in  founded  \n",
       "Head_Tag       NNP    IN      VBN    IN      VBN  "
      ]
     },
     "execution_count": 4,
     "metadata": {},
     "output_type": "execute_result"
    }
   ],
   "source": [
    "LsCols = ['Token','Tag','Dep','Head','Head_Tag']\n",
    "pd.DataFrame(LTsTags, columns=LsCols).T"
   ]
  },
  {
   "cell_type": "markdown",
   "metadata": {},
   "source": [
    "Note that the dependency relation in the `Dep` row uses the `'founded'` token as the `ROOT` of the dependency tree. The dependency parsing algorithm is not perfect, and some sentences can have multiple or no roots.\n",
    "\n",
    "You can also view the object as a tree with the `SpaCy` library's `displacy` visualizer. "
   ]
  },
  {
   "cell_type": "code",
   "execution_count": 5,
   "metadata": {},
   "outputs": [
    {
     "data": {
      "text/html": [
       "<span class=\"tex2jax_ignore\"><svg xmlns=\"http://www.w3.org/2000/svg\" xmlns:xlink=\"http://www.w3.org/1999/xlink\" xml:lang=\"en\" id=\"056d760d04e04541907b8b2a487cc01c-0\" class=\"displacy\" width=\"1400\" height=\"362.0\" direction=\"ltr\" style=\"max-width: none; height: 362.0px; color: #000000; background: lightgray; font-family: Arial; direction: ltr\">\n",
       "<text class=\"displacy-token\" fill=\"currentColor\" text-anchor=\"middle\" y=\"272.0\">\n",
       "    <tspan class=\"displacy-word\" fill=\"currentColor\" x=\"50\">An</tspan>\n",
       "    <tspan class=\"displacy-tag\" dy=\"2em\" fill=\"currentColor\" x=\"50\">DET</tspan>\n",
       "</text>\n",
       "\n",
       "<text class=\"displacy-token\" fill=\"currentColor\" text-anchor=\"middle\" y=\"272.0\">\n",
       "    <tspan class=\"displacy-word\" fill=\"currentColor\" x=\"140\">independent</tspan>\n",
       "    <tspan class=\"displacy-tag\" dy=\"2em\" fill=\"currentColor\" x=\"140\">ADJ</tspan>\n",
       "</text>\n",
       "\n",
       "<text class=\"displacy-token\" fill=\"currentColor\" text-anchor=\"middle\" y=\"272.0\">\n",
       "    <tspan class=\"displacy-word\" fill=\"currentColor\" x=\"230\">newspaper,</tspan>\n",
       "    <tspan class=\"displacy-tag\" dy=\"2em\" fill=\"currentColor\" x=\"230\">NOUN</tspan>\n",
       "</text>\n",
       "\n",
       "<text class=\"displacy-token\" fill=\"currentColor\" text-anchor=\"middle\" y=\"272.0\">\n",
       "    <tspan class=\"displacy-word\" fill=\"currentColor\" x=\"320\">The</tspan>\n",
       "    <tspan class=\"displacy-tag\" dy=\"2em\" fill=\"currentColor\" x=\"320\">DET</tspan>\n",
       "</text>\n",
       "\n",
       "<text class=\"displacy-token\" fill=\"currentColor\" text-anchor=\"middle\" y=\"272.0\">\n",
       "    <tspan class=\"displacy-word\" fill=\"currentColor\" x=\"410\">Cornell</tspan>\n",
       "    <tspan class=\"displacy-tag\" dy=\"2em\" fill=\"currentColor\" x=\"410\">PROPN</tspan>\n",
       "</text>\n",
       "\n",
       "<text class=\"displacy-token\" fill=\"currentColor\" text-anchor=\"middle\" y=\"272.0\">\n",
       "    <tspan class=\"displacy-word\" fill=\"currentColor\" x=\"500\">Daily</tspan>\n",
       "    <tspan class=\"displacy-tag\" dy=\"2em\" fill=\"currentColor\" x=\"500\">PROPN</tspan>\n",
       "</text>\n",
       "\n",
       "<text class=\"displacy-token\" fill=\"currentColor\" text-anchor=\"middle\" y=\"272.0\">\n",
       "    <tspan class=\"displacy-word\" fill=\"currentColor\" x=\"590\">Sun,</tspan>\n",
       "    <tspan class=\"displacy-tag\" dy=\"2em\" fill=\"currentColor\" x=\"590\">PROPN</tspan>\n",
       "</text>\n",
       "\n",
       "<text class=\"displacy-token\" fill=\"currentColor\" text-anchor=\"middle\" y=\"272.0\">\n",
       "    <tspan class=\"displacy-word\" fill=\"currentColor\" x=\"680\">was</tspan>\n",
       "    <tspan class=\"displacy-tag\" dy=\"2em\" fill=\"currentColor\" x=\"680\">AUX</tspan>\n",
       "</text>\n",
       "\n",
       "<text class=\"displacy-token\" fill=\"currentColor\" text-anchor=\"middle\" y=\"272.0\">\n",
       "    <tspan class=\"displacy-word\" fill=\"currentColor\" x=\"770\">founded</tspan>\n",
       "    <tspan class=\"displacy-tag\" dy=\"2em\" fill=\"currentColor\" x=\"770\">VERB</tspan>\n",
       "</text>\n",
       "\n",
       "<text class=\"displacy-token\" fill=\"currentColor\" text-anchor=\"middle\" y=\"272.0\">\n",
       "    <tspan class=\"displacy-word\" fill=\"currentColor\" x=\"860\">by</tspan>\n",
       "    <tspan class=\"displacy-tag\" dy=\"2em\" fill=\"currentColor\" x=\"860\">ADP</tspan>\n",
       "</text>\n",
       "\n",
       "<text class=\"displacy-token\" fill=\"currentColor\" text-anchor=\"middle\" y=\"272.0\">\n",
       "    <tspan class=\"displacy-word\" fill=\"currentColor\" x=\"950\">William</tspan>\n",
       "    <tspan class=\"displacy-tag\" dy=\"2em\" fill=\"currentColor\" x=\"950\">PROPN</tspan>\n",
       "</text>\n",
       "\n",
       "<text class=\"displacy-token\" fill=\"currentColor\" text-anchor=\"middle\" y=\"272.0\">\n",
       "    <tspan class=\"displacy-word\" fill=\"currentColor\" x=\"1040\">Ballard</tspan>\n",
       "    <tspan class=\"displacy-tag\" dy=\"2em\" fill=\"currentColor\" x=\"1040\">PROPN</tspan>\n",
       "</text>\n",
       "\n",
       "<text class=\"displacy-token\" fill=\"currentColor\" text-anchor=\"middle\" y=\"272.0\">\n",
       "    <tspan class=\"displacy-word\" fill=\"currentColor\" x=\"1130\">Hoyt</tspan>\n",
       "    <tspan class=\"displacy-tag\" dy=\"2em\" fill=\"currentColor\" x=\"1130\">PROPN</tspan>\n",
       "</text>\n",
       "\n",
       "<text class=\"displacy-token\" fill=\"currentColor\" text-anchor=\"middle\" y=\"272.0\">\n",
       "    <tspan class=\"displacy-word\" fill=\"currentColor\" x=\"1220\">in</tspan>\n",
       "    <tspan class=\"displacy-tag\" dy=\"2em\" fill=\"currentColor\" x=\"1220\">ADP</tspan>\n",
       "</text>\n",
       "\n",
       "<text class=\"displacy-token\" fill=\"currentColor\" text-anchor=\"middle\" y=\"272.0\">\n",
       "    <tspan class=\"displacy-word\" fill=\"currentColor\" x=\"1310\">1880.</tspan>\n",
       "    <tspan class=\"displacy-tag\" dy=\"2em\" fill=\"currentColor\" x=\"1310\">NUM</tspan>\n",
       "</text>\n",
       "\n",
       "<g class=\"displacy-arrow\">\n",
       "    <path class=\"displacy-arc\" id=\"arrow-056d760d04e04541907b8b2a487cc01c-0-0\" stroke-width=\"2px\" d=\"M62,227.0 62,197.0 221.0,197.0 221.0,227.0\" fill=\"none\" stroke=\"currentColor\"/>\n",
       "    <text dy=\"1.25em\" style=\"font-size: 0.8em; letter-spacing: 1px\">\n",
       "        <textPath xlink:href=\"#arrow-056d760d04e04541907b8b2a487cc01c-0-0\" class=\"displacy-label\" startOffset=\"50%\" side=\"left\" fill=\"currentColor\" text-anchor=\"middle\">det</textPath>\n",
       "    </text>\n",
       "    <path class=\"displacy-arrowhead\" d=\"M62,229.0 L58,221.0 66,221.0\" fill=\"currentColor\"/>\n",
       "</g>\n",
       "\n",
       "<g class=\"displacy-arrow\">\n",
       "    <path class=\"displacy-arc\" id=\"arrow-056d760d04e04541907b8b2a487cc01c-0-1\" stroke-width=\"2px\" d=\"M152,227.0 152,212.0 218.0,212.0 218.0,227.0\" fill=\"none\" stroke=\"currentColor\"/>\n",
       "    <text dy=\"1.25em\" style=\"font-size: 0.8em; letter-spacing: 1px\">\n",
       "        <textPath xlink:href=\"#arrow-056d760d04e04541907b8b2a487cc01c-0-1\" class=\"displacy-label\" startOffset=\"50%\" side=\"left\" fill=\"currentColor\" text-anchor=\"middle\">amod</textPath>\n",
       "    </text>\n",
       "    <path class=\"displacy-arrowhead\" d=\"M152,229.0 L148,221.0 156,221.0\" fill=\"currentColor\"/>\n",
       "</g>\n",
       "\n",
       "<g class=\"displacy-arrow\">\n",
       "    <path class=\"displacy-arc\" id=\"arrow-056d760d04e04541907b8b2a487cc01c-0-2\" stroke-width=\"2px\" d=\"M242,227.0 242,152.0 770.0,152.0 770.0,227.0\" fill=\"none\" stroke=\"currentColor\"/>\n",
       "    <text dy=\"1.25em\" style=\"font-size: 0.8em; letter-spacing: 1px\">\n",
       "        <textPath xlink:href=\"#arrow-056d760d04e04541907b8b2a487cc01c-0-2\" class=\"displacy-label\" startOffset=\"50%\" side=\"left\" fill=\"currentColor\" text-anchor=\"middle\">nsubjpass</textPath>\n",
       "    </text>\n",
       "    <path class=\"displacy-arrowhead\" d=\"M242,229.0 L238,221.0 246,221.0\" fill=\"currentColor\"/>\n",
       "</g>\n",
       "\n",
       "<g class=\"displacy-arrow\">\n",
       "    <path class=\"displacy-arc\" id=\"arrow-056d760d04e04541907b8b2a487cc01c-0-3\" stroke-width=\"2px\" d=\"M332,227.0 332,182.0 584.0,182.0 584.0,227.0\" fill=\"none\" stroke=\"currentColor\"/>\n",
       "    <text dy=\"1.25em\" style=\"font-size: 0.8em; letter-spacing: 1px\">\n",
       "        <textPath xlink:href=\"#arrow-056d760d04e04541907b8b2a487cc01c-0-3\" class=\"displacy-label\" startOffset=\"50%\" side=\"left\" fill=\"currentColor\" text-anchor=\"middle\">det</textPath>\n",
       "    </text>\n",
       "    <path class=\"displacy-arrowhead\" d=\"M332,229.0 L328,221.0 336,221.0\" fill=\"currentColor\"/>\n",
       "</g>\n",
       "\n",
       "<g class=\"displacy-arrow\">\n",
       "    <path class=\"displacy-arc\" id=\"arrow-056d760d04e04541907b8b2a487cc01c-0-4\" stroke-width=\"2px\" d=\"M422,227.0 422,197.0 581.0,197.0 581.0,227.0\" fill=\"none\" stroke=\"currentColor\"/>\n",
       "    <text dy=\"1.25em\" style=\"font-size: 0.8em; letter-spacing: 1px\">\n",
       "        <textPath xlink:href=\"#arrow-056d760d04e04541907b8b2a487cc01c-0-4\" class=\"displacy-label\" startOffset=\"50%\" side=\"left\" fill=\"currentColor\" text-anchor=\"middle\">compound</textPath>\n",
       "    </text>\n",
       "    <path class=\"displacy-arrowhead\" d=\"M422,229.0 L418,221.0 426,221.0\" fill=\"currentColor\"/>\n",
       "</g>\n",
       "\n",
       "<g class=\"displacy-arrow\">\n",
       "    <path class=\"displacy-arc\" id=\"arrow-056d760d04e04541907b8b2a487cc01c-0-5\" stroke-width=\"2px\" d=\"M512,227.0 512,212.0 578.0,212.0 578.0,227.0\" fill=\"none\" stroke=\"currentColor\"/>\n",
       "    <text dy=\"1.25em\" style=\"font-size: 0.8em; letter-spacing: 1px\">\n",
       "        <textPath xlink:href=\"#arrow-056d760d04e04541907b8b2a487cc01c-0-5\" class=\"displacy-label\" startOffset=\"50%\" side=\"left\" fill=\"currentColor\" text-anchor=\"middle\">compound</textPath>\n",
       "    </text>\n",
       "    <path class=\"displacy-arrowhead\" d=\"M512,229.0 L508,221.0 516,221.0\" fill=\"currentColor\"/>\n",
       "</g>\n",
       "\n",
       "<g class=\"displacy-arrow\">\n",
       "    <path class=\"displacy-arc\" id=\"arrow-056d760d04e04541907b8b2a487cc01c-0-6\" stroke-width=\"2px\" d=\"M242,227.0 242,167.0 587.0,167.0 587.0,227.0\" fill=\"none\" stroke=\"currentColor\"/>\n",
       "    <text dy=\"1.25em\" style=\"font-size: 0.8em; letter-spacing: 1px\">\n",
       "        <textPath xlink:href=\"#arrow-056d760d04e04541907b8b2a487cc01c-0-6\" class=\"displacy-label\" startOffset=\"50%\" side=\"left\" fill=\"currentColor\" text-anchor=\"middle\">appos</textPath>\n",
       "    </text>\n",
       "    <path class=\"displacy-arrowhead\" d=\"M587.0,229.0 L591.0,221.0 583.0,221.0\" fill=\"currentColor\"/>\n",
       "</g>\n",
       "\n",
       "<g class=\"displacy-arrow\">\n",
       "    <path class=\"displacy-arc\" id=\"arrow-056d760d04e04541907b8b2a487cc01c-0-7\" stroke-width=\"2px\" d=\"M692,227.0 692,212.0 758.0,212.0 758.0,227.0\" fill=\"none\" stroke=\"currentColor\"/>\n",
       "    <text dy=\"1.25em\" style=\"font-size: 0.8em; letter-spacing: 1px\">\n",
       "        <textPath xlink:href=\"#arrow-056d760d04e04541907b8b2a487cc01c-0-7\" class=\"displacy-label\" startOffset=\"50%\" side=\"left\" fill=\"currentColor\" text-anchor=\"middle\">auxpass</textPath>\n",
       "    </text>\n",
       "    <path class=\"displacy-arrowhead\" d=\"M692,229.0 L688,221.0 696,221.0\" fill=\"currentColor\"/>\n",
       "</g>\n",
       "\n",
       "<g class=\"displacy-arrow\">\n",
       "    <path class=\"displacy-arc\" id=\"arrow-056d760d04e04541907b8b2a487cc01c-0-8\" stroke-width=\"2px\" d=\"M782,227.0 782,212.0 848.0,212.0 848.0,227.0\" fill=\"none\" stroke=\"currentColor\"/>\n",
       "    <text dy=\"1.25em\" style=\"font-size: 0.8em; letter-spacing: 1px\">\n",
       "        <textPath xlink:href=\"#arrow-056d760d04e04541907b8b2a487cc01c-0-8\" class=\"displacy-label\" startOffset=\"50%\" side=\"left\" fill=\"currentColor\" text-anchor=\"middle\">agent</textPath>\n",
       "    </text>\n",
       "    <path class=\"displacy-arrowhead\" d=\"M848.0,229.0 L852.0,221.0 844.0,221.0\" fill=\"currentColor\"/>\n",
       "</g>\n",
       "\n",
       "<g class=\"displacy-arrow\">\n",
       "    <path class=\"displacy-arc\" id=\"arrow-056d760d04e04541907b8b2a487cc01c-0-9\" stroke-width=\"2px\" d=\"M962,227.0 962,197.0 1121.0,197.0 1121.0,227.0\" fill=\"none\" stroke=\"currentColor\"/>\n",
       "    <text dy=\"1.25em\" style=\"font-size: 0.8em; letter-spacing: 1px\">\n",
       "        <textPath xlink:href=\"#arrow-056d760d04e04541907b8b2a487cc01c-0-9\" class=\"displacy-label\" startOffset=\"50%\" side=\"left\" fill=\"currentColor\" text-anchor=\"middle\">compound</textPath>\n",
       "    </text>\n",
       "    <path class=\"displacy-arrowhead\" d=\"M962,229.0 L958,221.0 966,221.0\" fill=\"currentColor\"/>\n",
       "</g>\n",
       "\n",
       "<g class=\"displacy-arrow\">\n",
       "    <path class=\"displacy-arc\" id=\"arrow-056d760d04e04541907b8b2a487cc01c-0-10\" stroke-width=\"2px\" d=\"M1052,227.0 1052,212.0 1118.0,212.0 1118.0,227.0\" fill=\"none\" stroke=\"currentColor\"/>\n",
       "    <text dy=\"1.25em\" style=\"font-size: 0.8em; letter-spacing: 1px\">\n",
       "        <textPath xlink:href=\"#arrow-056d760d04e04541907b8b2a487cc01c-0-10\" class=\"displacy-label\" startOffset=\"50%\" side=\"left\" fill=\"currentColor\" text-anchor=\"middle\">compound</textPath>\n",
       "    </text>\n",
       "    <path class=\"displacy-arrowhead\" d=\"M1052,229.0 L1048,221.0 1056,221.0\" fill=\"currentColor\"/>\n",
       "</g>\n",
       "\n",
       "<g class=\"displacy-arrow\">\n",
       "    <path class=\"displacy-arc\" id=\"arrow-056d760d04e04541907b8b2a487cc01c-0-11\" stroke-width=\"2px\" d=\"M872,227.0 872,182.0 1124.0,182.0 1124.0,227.0\" fill=\"none\" stroke=\"currentColor\"/>\n",
       "    <text dy=\"1.25em\" style=\"font-size: 0.8em; letter-spacing: 1px\">\n",
       "        <textPath xlink:href=\"#arrow-056d760d04e04541907b8b2a487cc01c-0-11\" class=\"displacy-label\" startOffset=\"50%\" side=\"left\" fill=\"currentColor\" text-anchor=\"middle\">pobj</textPath>\n",
       "    </text>\n",
       "    <path class=\"displacy-arrowhead\" d=\"M1124.0,229.0 L1128.0,221.0 1120.0,221.0\" fill=\"currentColor\"/>\n",
       "</g>\n",
       "\n",
       "<g class=\"displacy-arrow\">\n",
       "    <path class=\"displacy-arc\" id=\"arrow-056d760d04e04541907b8b2a487cc01c-0-12\" stroke-width=\"2px\" d=\"M782,227.0 782,167.0 1217.0,167.0 1217.0,227.0\" fill=\"none\" stroke=\"currentColor\"/>\n",
       "    <text dy=\"1.25em\" style=\"font-size: 0.8em; letter-spacing: 1px\">\n",
       "        <textPath xlink:href=\"#arrow-056d760d04e04541907b8b2a487cc01c-0-12\" class=\"displacy-label\" startOffset=\"50%\" side=\"left\" fill=\"currentColor\" text-anchor=\"middle\">prep</textPath>\n",
       "    </text>\n",
       "    <path class=\"displacy-arrowhead\" d=\"M1217.0,229.0 L1221.0,221.0 1213.0,221.0\" fill=\"currentColor\"/>\n",
       "</g>\n",
       "\n",
       "<g class=\"displacy-arrow\">\n",
       "    <path class=\"displacy-arc\" id=\"arrow-056d760d04e04541907b8b2a487cc01c-0-13\" stroke-width=\"2px\" d=\"M1232,227.0 1232,212.0 1298.0,212.0 1298.0,227.0\" fill=\"none\" stroke=\"currentColor\"/>\n",
       "    <text dy=\"1.25em\" style=\"font-size: 0.8em; letter-spacing: 1px\">\n",
       "        <textPath xlink:href=\"#arrow-056d760d04e04541907b8b2a487cc01c-0-13\" class=\"displacy-label\" startOffset=\"50%\" side=\"left\" fill=\"currentColor\" text-anchor=\"middle\">pobj</textPath>\n",
       "    </text>\n",
       "    <path class=\"displacy-arrowhead\" d=\"M1298.0,229.0 L1302.0,221.0 1294.0,221.0\" fill=\"currentColor\"/>\n",
       "</g>\n",
       "</svg></span>"
      ],
      "text/plain": [
       "<IPython.core.display.HTML object>"
      ]
     },
     "metadata": {},
     "output_type": "display_data"
    }
   ],
   "source": [
    "displacy.render(doc, style='dep', jupyter=True, options={'distance': 90, 'compact':True, 'bg':'lightgray'})"
   ]
  },
  {
   "cell_type": "markdown",
   "metadata": {},
   "source": [
    "<span style=\"color:black\"> The arrows point from a parent to its child. Modifiers may be located further in a sentence than the word they modify. Notice that there is an arrow (a.k.a. `\"edge\"`) from `\"founded\"` (parent) to `\"newspaper\"` (child), which are separated by at least five tokens."
   ]
  },
  {
   "cell_type": "markdown",
   "metadata": {},
   "source": [
    "<hr style=\"border-top: 2px solid #606366; background: transparent;\">\n",
    "\n",
    "# **Optional Practice**\n",
    "\n",
    "Now practice implementing the above concepts."
   ]
  },
  {
   "cell_type": "code",
   "execution_count": null,
   "metadata": {},
   "outputs": [],
   "source": [
    "sQuote = \"If you can't explain it simply, you don't understand it well enough.\" # quote from Albert Einstein\n",
    "sQuote"
   ]
  },
  {
   "cell_type": "markdown",
   "metadata": {},
   "source": [
    "As you work through these tasks, check your answers by running your code in the *#check solution here* cell, to see if you’ve gotten the correct result. If you get stuck on a task, click the See **solution** drop-down to view the answer.\n",
    "\n",
    "## Task 1\n",
    "\n",
    "<span style=\"color:black\"> Transform `sQuote` into a SpaCy `nlp` object, `docQ`. Wrap its dependency tree attributes (same as those in the Review section) into a dataframe, `dfQ`. Print the transposed dataframe and examine the table to determine the root word(s).\n",
    "    \n",
    "<b>Hint:</b> Follow the dataframe example above."
   ]
  },
  {
   "cell_type": "code",
   "execution_count": null,
   "metadata": {},
   "outputs": [],
   "source": [
    "# check solution here"
   ]
  },
  {
   "cell_type": "markdown",
   "metadata": {},
   "source": [
    "\n",
    "<font color=#606366>\n",
    "    <details><summary><font color=#B31B1B>▶ </font>See <b>solution</b>.</summary>\n",
    "    <pre>\n",
    "docQ = nlp(sQuote)\n",
    "dfQ = pd.DataFrame([(t.text, t.tag_, t.dep_, t.head.text, t.head.tag_) for t in docQ], columns=LsCols)\n",
    "dfQ.T   # the root is \"understand\"\n",
    "    </pre>\n",
    "    </details> \n",
    "</font>\n",
    "<hr>"
   ]
  },
  {
   "cell_type": "markdown",
   "metadata": {},
   "source": [
    "## Task 2\n",
    "\n",
    "Build a tree diagram using SpaCy's `displacy` visualizer and find the tree root(s).\n",
    "\n",
    "<b>Hint:</b> Follow the displacy example above."
   ]
  },
  {
   "cell_type": "code",
   "execution_count": null,
   "metadata": {},
   "outputs": [],
   "source": [
    "# check solution here"
   ]
  },
  {
   "cell_type": "markdown",
   "metadata": {},
   "source": [
    "\n",
    "<font color=#606366>\n",
    "    <details><summary><font color=#B31B1B>▶ </font>See <b>solution</b>.</summary>\n",
    "    <pre>\n",
    "displacy.render(docQ, style='dep', jupyter=True, options={'distance': 90, 'compact':True, 'bg':'lightgray'})\n",
    "    </pre>\n",
    "    </details> \n",
    "</font>\n",
    "<hr>"
   ]
  },
  {
   "cell_type": "markdown",
   "metadata": {},
   "source": [
    "## Task 3\n",
    "\n",
    "Use list comprehension to iterate over tokens of `docQ` object to find the first root. Save this string in `sRoot` variable.  Try it on `docQ`. Save the root as `sRoot` string variable.\n",
    "\n",
    "<b>Hint:</b> In the loop comprehension above (executed on <code>docQ</code> variable), you need to add a condition for the <code>token.dep_</code> field."
   ]
  },
  {
   "cell_type": "code",
   "execution_count": null,
   "metadata": {},
   "outputs": [],
   "source": [
    "# check solution here"
   ]
  },
  {
   "cell_type": "markdown",
   "metadata": {},
   "source": [
    "\n",
    "<font color=#606366>\n",
    "    <details><summary><font color=#B31B1B>▶ </font>See <b>solution</b>.</summary>\n",
    "    <pre>\n",
    "sRoot = [t.text for t in docQ if t.dep_=='ROOT'][0]  # root of the tree\n",
    "sRoot\n",
    "    </pre>\n",
    "    </details> \n",
    "</font>\n",
    "<hr>"
   ]
  },
  {
   "cell_type": "markdown",
   "metadata": {},
   "source": [
    "## Task 4\n",
    "\n",
    "Use list comprehension to identify the children of `sRoot` and save this list as `LsRootChildren`.\n",
    "\n",
    "<b>Hint:</b> This is similar to previous task, but the condition is on <code>token.head.text==sRoot</code>."
   ]
  },
  {
   "cell_type": "code",
   "execution_count": null,
   "metadata": {},
   "outputs": [],
   "source": [
    "# check solution here"
   ]
  },
  {
   "cell_type": "markdown",
   "metadata": {},
   "source": [
    "<font color=#606366>\n",
    "    <details><summary><font color=#B31B1B>▶ </font>See <b>solution</b>.</summary>\n",
    "    <pre>\n",
    "LsRootChildren = [t.text for t in docQ if t.head.text==sRoot]  # all children of ROOT\n",
    "print(LsRootChildren)\n",
    "    </pre>\n",
    "    </details> \n",
    "</font>\n",
    "<hr>"
   ]
  },
  {
   "cell_type": "markdown",
   "metadata": {},
   "source": [
    "## Task 5\n",
    "\n",
    "Use `nltk.corpus.inaugural.raw()` to download Roosevelt's 1945 (`'1945-Roosevelt.txt'`) inaugural speech as a raw string. Perform string preprocessing by replacing any newline character with a space, any double-dash with a space, and any double-space with a single space. Save the resulting string as `sPres` and print.\n",
    "\n",
    "<b>Hint:</b> Try <code>nltk.corpus.inaugural.raw()</code> method."
   ]
  },
  {
   "cell_type": "code",
   "execution_count": null,
   "metadata": {},
   "outputs": [],
   "source": [
    "# check solution here"
   ]
  },
  {
   "cell_type": "markdown",
   "metadata": {},
   "source": [
    "\n",
    "<font color=#606366>\n",
    "    <details><summary><font color=#B31B1B>▶ </font>See <b>solution</b>.</summary>\n",
    "    <pre>\n",
    "import nltk\n",
    "_ = nltk.download(['inaugural'], quiet=True)\n",
    "sPres = nltk.corpus.inaugural.raw('1945-Roosevelt.txt').replace('\\n',' ').replace('--',' ').replace('  ',' ')\n",
    "print(sPres)\n",
    "    </pre>\n",
    "    </details> \n",
    "</font>\n",
    "<hr>"
   ]
  },
  {
   "cell_type": "markdown",
   "metadata": {},
   "source": [
    "## Task 6\n",
    "\n",
    "Wrap dependency tree attributes (same as those in the Review section) for `sPres` into the dataframe, `dfPres`. It should have 5 columns and 623 rows.\n",
    "\n",
    "<b>Hint:</b> Follow the dataframe example above."
   ]
  },
  {
   "cell_type": "code",
   "execution_count": null,
   "metadata": {},
   "outputs": [],
   "source": [
    "# check solution here"
   ]
  },
  {
   "cell_type": "markdown",
   "metadata": {},
   "source": [
    "\n",
    "<font color=#606366>\n",
    "    <details><summary><font color=#B31B1B>▶ </font>See <b>solution</b>.</summary>\n",
    "    <pre>\n",
    "docPres = nlp(sPres)\n",
    "dfPres = pd.DataFrame([(t.text, t.tag_, t.dep_, t.head.text, t.head.tag_) for t in docPres], columns=LsCols)\n",
    "dfPres.T\n",
    "    </pre>\n",
    "    </details> \n",
    "</font>\n",
    "<hr>"
   ]
  },
  {
   "cell_type": "markdown",
   "metadata": {},
   "source": [
    "## Task 7\n",
    "\n",
    "The `dfPres` dataframe shows multiple roots (approximately one from each sentence). Identify the most frequent root.\n",
    "\n",
    "<b>Hint:</b> Try filtering your dataframe on <code>Dep</code> column being equal to <code>'ROOT'</code>. Then use group by to count tokens. You could also use <code>collections.Counter()</code>"
   ]
  },
  {
   "cell_type": "code",
   "execution_count": null,
   "metadata": {},
   "outputs": [],
   "source": [
    "# check solution here"
   ]
  },
  {
   "cell_type": "markdown",
   "metadata": {},
   "source": [
    "\n",
    "<font color=#606366>\n",
    "    <details><summary><font color=#B31B1B>▶ </font>See <b>solution</b>.</summary>\n",
    "    <pre>\n",
    "dfPres[dfPres.Dep=='ROOT'].groupby('Token').count().sort_values('Tag', ascending=False).head()\n",
    "    </pre>\n",
    "    </details> \n",
    "</font>\n",
    "<hr>"
   ]
  }
 ],
 "metadata": {
  "anaconda-cloud": {},
  "kernelspec": {
   "display_name": "Python 3",
   "language": "python",
   "name": "python3"
  },
  "language_info": {
   "codemirror_mode": {
    "name": "ipython",
    "version": 3
   },
   "file_extension": ".py",
   "mimetype": "text/x-python",
   "name": "python",
   "nbconvert_exporter": "python",
   "pygments_lexer": "ipython3",
   "version": "3.6.9"
  },
  "toc": {
   "base_numbering": 1,
   "nav_menu": {},
   "number_sections": false,
   "sideBar": true,
   "skip_h1_title": false,
   "title_cell": "Table of Contents",
   "title_sidebar": "Contents",
   "toc_cell": false,
   "toc_position": {},
   "toc_section_display": true,
   "toc_window_display": false
  },
  "varInspector": {
   "cols": {
    "lenName": 16,
    "lenType": 16,
    "lenVar": 40
   },
   "kernels_config": {
    "python": {
     "delete_cmd_postfix": "",
     "delete_cmd_prefix": "del ",
     "library": "var_list.py",
     "varRefreshCmd": "print(var_dic_list())"
    },
    "r": {
     "delete_cmd_postfix": ") ",
     "delete_cmd_prefix": "rm(",
     "library": "var_list.r",
     "varRefreshCmd": "cat(var_dic_list()) "
    }
   },
   "types_to_exclude": [
    "module",
    "function",
    "builtin_function_or_method",
    "instance",
    "_Feature"
   ],
   "window_display": false
  }
 },
 "nbformat": 4,
 "nbformat_minor": 1
}
