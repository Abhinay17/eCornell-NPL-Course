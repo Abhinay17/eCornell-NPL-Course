{
 "cells": [
  {
   "cell_type": "markdown",
   "metadata": {},
   "source": [
    "# **Setup**\n",
    " \n",
    "Reset the Python environment to clear it of any previously loaded variables, functions, or libraries. Then, import the libraries needed to complete the code Professor Melnikov presented in the video.\n",
    "\n",
    "<span style=\"color:black\">You will use `nltk`'s [`PorterStemmer()`](https://www.nltk.org/howto/stem.html) and [`WordNetLemmatizer()`](https://www.nltk.org/api/nltk.stem.html#nltk.stem.wordnet.WordNetLemmatizer) methods to stem and lemmatize the Brown corpus, respectively."
   ]
  },
  {
   "cell_type": "code",
   "execution_count": 1,
   "metadata": {},
   "outputs": [],
   "source": [
    "%reset -f\n",
    "import nltk, pandas as pd\n",
    "from nltk.corpus.reader.wordnet import NOUN, VERB, ADJ\n",
    "tmp = nltk.download(['brown','wordnet'], quiet=True)\n",
    "pso = nltk.stem.PorterStemmer()       # Porter stemmer object\n",
    "wlo = nltk.stem.WordNetLemmatizer()   # WordNet lemmatizer object"
   ]
  },
  {
   "cell_type": "markdown",
   "metadata": {},
   "source": [
    "<hr style=\"border-top: 2px solid #606366; background: transparent;\">\n",
    "\n",
    "# Review\n",
    "\n",
    "\n",
    "`nltk` offers several stemming and lemmatization libraries, but the two methods you'll practice below are most popular and are reasonably effective. \n",
    "\n",
    "## Stem and Lemmatize Words\n",
    "\n",
    "The `PorterStemmer()` method operates on the given word alone. \n",
    "\n",
    "The `WordNetLemmatizer()` method also expects a part of speech (POS) tag for the given word. This means that you must indicate whether the word is a verb (tag `'v'`) or a noun (`'n'`) or an adjective (`'a'`) or an adverb (`'r'`). The default is `'n'`, which means all words are treated as nouns. Unfortunately, this means that verbs that don't have a noun form in the WordNet database are left unmodified. To raise the quality of the lemmatizer, you should provide a word with its POS tag. In the next module you will discover how to automate this task. For now, you will create three lemmatizing wrappers with hardcoded POS tags: `LemN`, `LemA`, and `LemV`.\n"
   ]
  },
  {
   "cell_type": "code",
   "execution_count": 2,
   "metadata": {},
   "outputs": [],
   "source": [
    "Stem = lambda s: pso.stem(s)          # lambda function is a simplified function\n",
    "LemN = lambda s: wlo.lemmatize(s, NOUN)\n",
    "LemA = lambda s: wlo.lemmatize(s, ADJ)\n",
    "LemV = lambda s: wlo.lemmatize(s, VERB)"
   ]
  },
  {
   "cell_type": "markdown",
   "metadata": {},
   "source": [
    "Apply the stemmer and three lemmatizers to each word in a `LsWords` to evaluate the standardization effect."
   ]
  },
  {
   "cell_type": "code",
   "execution_count": 3,
   "metadata": {},
   "outputs": [
    {
     "data": {
      "text/plain": [
       "[('running', 'run', 'running', 'running', 'run'),\n",
       " ('corpora', 'corpora', 'corpus', 'corpora', 'corpora'),\n",
       " ('drove', 'drove', 'drove', 'drove', 'drive'),\n",
       " ('tries', 'tri', 'try', 'tries', 'try'),\n",
       " ('asked', 'ask', 'asked', 'asked', 'ask'),\n",
       " ('agreed', 'agre', 'agreed', 'agreed', 'agree'),\n",
       " ('oldest', 'oldest', 'oldest', 'old', 'oldest'),\n",
       " ('incubation', 'incub', 'incubation', 'incubation', 'incubation'),\n",
       " ('debug', 'debug', 'debug', 'debug', 'debug')]"
      ]
     },
     "execution_count": 3,
     "metadata": {},
     "output_type": "execute_result"
    }
   ],
   "source": [
    "LsWords = ['running','corpora','drove','tries','asked','agreed','oldest','incubation', 'debug']\n",
    "LTsStd = [(s, Stem(s), LemN(s), LemA(s), LemV(s)) for s in LsWords]\n",
    "LTsStd"
   ]
  },
  {
   "cell_type": "markdown",
   "metadata": {},
   "source": [
    "Wrap these results into a neat table using Pandas `DataFrame` object, which has a myriad of convenient attributes and methods for sorting, filtering, and otherwise manipulating the table."
   ]
  },
  {
   "cell_type": "code",
   "execution_count": 4,
   "metadata": {},
   "outputs": [
    {
     "data": {
      "text/html": [
       "<div>\n",
       "<style scoped>\n",
       "    .dataframe tbody tr th:only-of-type {\n",
       "        vertical-align: middle;\n",
       "    }\n",
       "\n",
       "    .dataframe tbody tr th {\n",
       "        vertical-align: top;\n",
       "    }\n",
       "\n",
       "    .dataframe thead th {\n",
       "        text-align: right;\n",
       "    }\n",
       "</style>\n",
       "<table border=\"1\" class=\"dataframe\">\n",
       "  <thead>\n",
       "    <tr style=\"text-align: right;\">\n",
       "      <th></th>\n",
       "      <th>Orig</th>\n",
       "      <th>Stem</th>\n",
       "      <th>Lemma|Noun</th>\n",
       "      <th>Lemma|Adj</th>\n",
       "      <th>Lemma|Verb</th>\n",
       "    </tr>\n",
       "  </thead>\n",
       "  <tbody>\n",
       "    <tr>\n",
       "      <th>0</th>\n",
       "      <td>running</td>\n",
       "      <td>run</td>\n",
       "      <td>running</td>\n",
       "      <td>running</td>\n",
       "      <td>run</td>\n",
       "    </tr>\n",
       "    <tr>\n",
       "      <th>1</th>\n",
       "      <td>corpora</td>\n",
       "      <td>corpora</td>\n",
       "      <td>corpus</td>\n",
       "      <td>corpora</td>\n",
       "      <td>corpora</td>\n",
       "    </tr>\n",
       "    <tr>\n",
       "      <th>2</th>\n",
       "      <td>drove</td>\n",
       "      <td>drove</td>\n",
       "      <td>drove</td>\n",
       "      <td>drove</td>\n",
       "      <td>drive</td>\n",
       "    </tr>\n",
       "    <tr>\n",
       "      <th>3</th>\n",
       "      <td>tries</td>\n",
       "      <td>tri</td>\n",
       "      <td>try</td>\n",
       "      <td>tries</td>\n",
       "      <td>try</td>\n",
       "    </tr>\n",
       "    <tr>\n",
       "      <th>4</th>\n",
       "      <td>asked</td>\n",
       "      <td>ask</td>\n",
       "      <td>asked</td>\n",
       "      <td>asked</td>\n",
       "      <td>ask</td>\n",
       "    </tr>\n",
       "    <tr>\n",
       "      <th>5</th>\n",
       "      <td>agreed</td>\n",
       "      <td>agre</td>\n",
       "      <td>agreed</td>\n",
       "      <td>agreed</td>\n",
       "      <td>agree</td>\n",
       "    </tr>\n",
       "    <tr>\n",
       "      <th>6</th>\n",
       "      <td>oldest</td>\n",
       "      <td>oldest</td>\n",
       "      <td>oldest</td>\n",
       "      <td>old</td>\n",
       "      <td>oldest</td>\n",
       "    </tr>\n",
       "    <tr>\n",
       "      <th>7</th>\n",
       "      <td>incubation</td>\n",
       "      <td>incub</td>\n",
       "      <td>incubation</td>\n",
       "      <td>incubation</td>\n",
       "      <td>incubation</td>\n",
       "    </tr>\n",
       "    <tr>\n",
       "      <th>8</th>\n",
       "      <td>debug</td>\n",
       "      <td>debug</td>\n",
       "      <td>debug</td>\n",
       "      <td>debug</td>\n",
       "      <td>debug</td>\n",
       "    </tr>\n",
       "  </tbody>\n",
       "</table>\n",
       "</div>"
      ],
      "text/plain": [
       "         Orig     Stem  Lemma|Noun   Lemma|Adj  Lemma|Verb\n",
       "0     running      run     running     running         run\n",
       "1     corpora  corpora      corpus     corpora     corpora\n",
       "2       drove    drove       drove       drove       drive\n",
       "3       tries      tri         try       tries         try\n",
       "4       asked      ask       asked       asked         ask\n",
       "5      agreed     agre      agreed      agreed       agree\n",
       "6      oldest   oldest      oldest         old      oldest\n",
       "7  incubation    incub  incubation  incubation  incubation\n",
       "8       debug    debug       debug       debug       debug"
      ]
     },
     "execution_count": 4,
     "metadata": {},
     "output_type": "execute_result"
    }
   ],
   "source": [
    "df = pd.DataFrame(LTsStd, columns=['Orig','Stem','Lemma|Noun','Lemma|Adj','Lemma|Verb'])\n",
    "df"
   ]
  },
  {
   "cell_type": "markdown",
   "metadata": {},
   "source": [
    "## Find Incorrect Words\n",
    "\n",
    "Our goal is to find stemmed and lemmatized words that are incorrect. One way of doing so is to check the augmented words against some large lexicon, which contains most common words. The [Brown Corpus](https://en.wikipedia.org/wiki/Brown_Corpus) is often used for this purpose. It contains over a million words, 56,000 of which are unique. So, we remove all duplicates by applying the `set()` function on the list of returned words.\n"
   ]
  },
  {
   "cell_type": "code",
   "execution_count": 5,
   "metadata": {},
   "outputs": [
    {
     "name": "stdout",
     "output_type": "stream",
     "text": [
      "Tokens:1,161,192; Unique words:56,057; ['The', 'Fulton', 'County', 'Grand', 'Jury', 'said', 'Friday', 'an', 'investigation', 'of', \"Atlanta's\", 'recent', 'primary', 'election', 'produced', '``', 'no', 'evidence', \"''\", 'that']\n"
     ]
    }
   ],
   "source": [
    "LsBrownWords = nltk.corpus.brown.words()  # list of all word tokens\n",
    "SsBrownWords = set(LsBrownWords)          # set of unique words\n",
    "print(f'Tokens:{len(LsBrownWords):,}; Unique words:{len(SsBrownWords):,};', LsBrownWords[:20])"
   ]
  },
  {
   "cell_type": "markdown",
   "metadata": {},
   "source": [
    "Now, reformat the stemmed and lemmatized words. The `values` attribute of a dataframe creates a NumPy array of elements."
   ]
  },
  {
   "cell_type": "code",
   "execution_count": 6,
   "metadata": {},
   "outputs": [
    {
     "data": {
      "text/plain": [
       "array([['running', 'run', 'running', 'running', 'run'],\n",
       "       ['corpora', 'corpora', 'corpus', 'corpora', 'corpora'],\n",
       "       ['drove', 'drove', 'drove', 'drove', 'drive'],\n",
       "       ['tries', 'tri', 'try', 'tries', 'try'],\n",
       "       ['asked', 'ask', 'asked', 'asked', 'ask'],\n",
       "       ['agreed', 'agre', 'agreed', 'agreed', 'agree'],\n",
       "       ['oldest', 'oldest', 'oldest', 'old', 'oldest'],\n",
       "       ['incubation', 'incub', 'incubation', 'incubation', 'incubation'],\n",
       "       ['debug', 'debug', 'debug', 'debug', 'debug']], dtype=object)"
      ]
     },
     "execution_count": 6,
     "metadata": {},
     "output_type": "execute_result"
    }
   ],
   "source": [
    "df.values"
   ]
  },
  {
   "cell_type": "markdown",
   "metadata": {},
   "source": [
    "Flatten this list of lists using NumPy's [`flatten()`](https://numpy.org/doc/stable/reference/generated/numpy.ndarray.flatten.html) or [`ravel()`](https://numpy.org/doc/stable/reference/generated/numpy.ravel.html) method. The second is actually preferred, since it tries to avoid copying data in memory, if possible."
   ]
  },
  {
   "cell_type": "code",
   "execution_count": 7,
   "metadata": {},
   "outputs": [
    {
     "name": "stdout",
     "output_type": "stream",
     "text": [
      "{'corpora', 'tries', 'old', 'drive', 'tri', 'ask', 'agree', 'asked', 'try', 'agre', 'debug', 'running', 'corpus', 'agreed', 'drove', 'run', 'incub', 'incubation', 'oldest'}\n"
     ]
    }
   ],
   "source": [
    "SsStd = set(df.values.flatten())\n",
    "print(SsStd)"
   ]
  },
  {
   "cell_type": "markdown",
   "metadata": {},
   "source": [
    "Finally, you can test whether these stemmed or lemmatized words are in the set of Brown words."
   ]
  },
  {
   "cell_type": "code",
   "execution_count": 8,
   "metadata": {},
   "outputs": [
    {
     "data": {
      "text/plain": [
       "['corpora', 'tri', 'agre', 'debug', 'incub']"
      ]
     },
     "execution_count": 8,
     "metadata": {},
     "output_type": "execute_result"
    }
   ],
   "source": [
    "[s for s in SsStd if s not in SsBrownWords] # find incorrectly standardized words"
   ]
  },
  {
   "cell_type": "markdown",
   "metadata": {},
   "source": [
    "<span style=\"color:black\">While it is reasonable to consider the words that are not present in this set as incorrectly spelled words, there are a few problems. `'debug'` and `'corpora'` are real words, but they are not in the Brown Corpus. If you want to improve the English language lexicon that is used for this comparison, you can add words from other corpora and add lowercased Brown words."
   ]
  },
  {
   "cell_type": "markdown",
   "metadata": {},
   "source": [
    "<hr style=\"border-top: 2px solid #606366; background: transparent;\">\n",
    "\n",
    "# **Optional Practice**\n",
    "\n",
    "You will now practice stemming and lemmatizing.\n",
    "    \n",
    "As you work through these tasks, check your answers by running your code in the *#check solution here* cell, to see if you've gotten the correct result. If you get stuck on a task, click the See **solution** drop-down to view the answer."
   ]
  },
  {
   "cell_type": "markdown",
   "metadata": {},
   "source": [
    "## Task 1\n",
    "\n",
    "Use `nltk.download()` to load the `'brown'` Corpus to local storage. Then, use `nltk.corpus.brown.words()` to load `'cj06'`, a list of words, to some variable in memory. Keep only words of length 3 or more and that contain only letters. Remove duplicates by converting this list to a set named `Ss6`. You should end up with 562 unique words with three or more letters.\n",
    "\n",
    "<b>Hint:</b> See some examples of loading full Brown <a href=\"https://www.nltk.org/book/ch02.html\">here</a>.\n"
   ]
  },
  {
   "cell_type": "code",
   "execution_count": null,
   "metadata": {},
   "outputs": [],
   "source": [
    "# check solution here"
   ]
  },
  {
   "cell_type": "markdown",
   "metadata": {},
   "source": [
    "\n",
    "<font color=#606366>\n",
    "    <details><summary><font color=#b31b1b>▶ </font>See <b>solution</b>.</summary>\n",
    "            <pre>\n",
    "_ = nltk.download(['brown'], quiet=True)\n",
    "Ss6 = {s for s in nltk.corpus.brown.words('cj06') if s.isalpha() and len(s)>2}\n",
    "print(len(Ss6))\n",
    "            </pre>\n",
    "    </details> \n",
    "</font>\n",
    "<hr>"
   ]
  },
  {
   "cell_type": "markdown",
   "metadata": {},
   "source": [
    "## Task 2\n",
    "\n",
    "Since all these words came from the document `cj06` that you already loaded to `SsBrownWords`, the set `Ss6` should have no words outside of the Brown Corpus. Verify this.\n",
    "\n",
    "<b>Hint:</b> You can try set difference (which is faster) or list/set comprehension. Either should return a blank container indicating that no words of <code>Ss6</code> are found in <code>SsBrownWords</code> lexicon."
   ]
  },
  {
   "cell_type": "code",
   "execution_count": null,
   "metadata": {},
   "outputs": [],
   "source": [
    "# check solution here"
   ]
  },
  {
   "cell_type": "markdown",
   "metadata": {},
   "source": [
    "\n",
    "<font color=#606366>\n",
    "    <details><summary><font color=#b31b1b>▶ </font>See <b>solution</b>.</summary>\n",
    "            <pre>\n",
    "# Solution 1: set difference: elements of Ss6, which are not in SsBrownWords\n",
    "Ss6 - SsBrownWords   \n",
    "# Solution 2: list comprehension \n",
    "[s for s in Ss6 if s not in SsBrownWords]\n",
    "# Solution 3: returns True if all Ss6 words in SsBrownWords\n",
    "Ss6.issubset(SsBrownWords) \n",
    "            </pre>\n",
    "    </details> \n",
    "</font>\n",
    "<hr>"
   ]
  },
  {
   "cell_type": "markdown",
   "metadata": {},
   "source": [
    "## Task 3\n",
    "\n",
    "Now, apply the `Stem()` function to the words in `Ss6` and count the number of **new** words that are not in `Ss6`.\n",
    "\n",
    "<b>Hint:</b> You can use set comprehension to iterate and stem each word in <code>Ss6</code>. Then use set difference to subtract elements of <code>Ss6</code>."
   ]
  },
  {
   "cell_type": "code",
   "execution_count": null,
   "metadata": {},
   "outputs": [],
   "source": [
    "# check solution here"
   ]
  },
  {
   "cell_type": "markdown",
   "metadata": {},
   "source": [
    "\n",
    "<font color=#606366>\n",
    "    <details><summary><font color=#b31b1b>▶ </font>See <b>solution</b>.</summary>\n",
    "            <pre>\n",
    "SsStem6 = {Stem(s) for s in Ss6} - Ss6  # stems which are not in Ss6\n",
    "print(len(SsStem6), sorted(SsStem6)[:20])\n",
    "            </pre>\n",
    "    </details> \n",
    "</font>\n",
    "<hr>"
   ]
  },
  {
   "cell_type": "markdown",
   "metadata": {},
   "source": [
    "## Task 4\n",
    "\n",
    "Among these new words that result from stemming, find those that are not in your Brown Corpus `SsBrownWords`. There should be 204 such words, which is almost half of the number of words that were originally in `Ss6`. \n",
    "\n",
    "Note that, while trying to standardize the document vocabulary, you created many words that are not in the English vocabulary.\n",
    "\n",
    "<b>Hint:</b> Try set difference between <code>SsStem6</code> and <code>SsBrownWords</code>."
   ]
  },
  {
   "cell_type": "code",
   "execution_count": null,
   "metadata": {},
   "outputs": [],
   "source": [
    "# check solution here"
   ]
  },
  {
   "cell_type": "markdown",
   "metadata": {},
   "source": [
    "\n",
    "<font color=#606366>\n",
    "    <details><summary><font color=#b31b1b>▶ </font>See <b>solution</b>.</summary>\n",
    "            <pre>\n",
    "SsStem6_bad = SsStem6 - SsBrownWords # stems which are not words\n",
    "print(len(SsStem6_bad), sorted(SsStem6_bad)[:20])\n",
    "            </pre>\n",
    "    </details> \n",
    "</font>\n",
    "<hr>"
   ]
  },
  {
   "cell_type": "markdown",
   "metadata": {},
   "source": [
    "## Task 5\n",
    "\n",
    "Now, let's evaluate how many out-of-vocabulary words you derive from lemmatization using the default part-of-speech (POS), i.e., noun tag. Similar to above, create a set variable `SsLem6`, which contains all string words after applying `LemN()` and removing original words from `Ss6` set. Save the result to `SsLem6`.\n",
    "\n",
    "There should be 32 such words, which is only a fraction compared to those generated from stemming above. Moreover, note that many of these words are sensible English words. Can you determine and/or investigate why these words were not in `Ss6` originally?\n",
    "\n",
    "<b>Hint:</b> Try set difference as you did above. One hypothesis is that these words were in `Ss6` in their plural form, but not in singular form. Try searching for others."
   ]
  },
  {
   "cell_type": "code",
   "execution_count": null,
   "metadata": {},
   "outputs": [],
   "source": [
    "# check solution here"
   ]
  },
  {
   "cell_type": "markdown",
   "metadata": {},
   "source": [
    "\n",
    "<font color=#606366>\n",
    "    <details><summary><font color=#b31b1b>▶ </font>See <b>solution</b>.</summary>\n",
    "            <pre>\n",
    "Lem = LemN\n",
    "SsLem6 = {Lem(s) for s in Ss6} - Ss6  # lemmas which are not in Ss6\n",
    "print(len(SsLem6), sorted(SsLem6)[:20])\n",
    "'chips' in Ss6, 'chip' in Ss6\n",
    "            </pre>\n",
    "    </details> \n",
    "</font>\n",
    "<hr>"
   ]
  },
  {
   "cell_type": "markdown",
   "metadata": {},
   "source": [
    "## Task 6\n",
    "\n",
    "\n",
    "Finally, find all words in the set  `SsLem6` that are not in the Brown Corpus. There should be five such words, some of which are highly technical terms, and which are therefore rare in general text.\n",
    "\n",
    "<b>Hint:</b> Try set difference as you did above."
   ]
  },
  {
   "cell_type": "code",
   "execution_count": null,
   "metadata": {},
   "outputs": [],
   "source": [
    "# check solution here"
   ]
  },
  {
   "cell_type": "markdown",
   "metadata": {},
   "source": [
    "\n",
    "<font color=#606366>\n",
    "    <details><summary><font color=#b31b1b>▶ </font>See <b>solution</b>.</summary>\n",
    "            <pre>\n",
    "SsLem6_bad = SsLem6 - SsBrownWords # lemmas which are not words\n",
    "print(len(SsLem6_bad), sorted(SsLem6_bad)[:20])\n",
    "            </pre>\n",
    "    </details> \n",
    "</font>\n",
    "<hr>"
   ]
  }
 ],
 "metadata": {
  "anaconda-cloud": {},
  "kernelspec": {
   "display_name": "Python 3",
   "language": "python",
   "name": "python3"
  },
  "language_info": {
   "codemirror_mode": {
    "name": "ipython",
    "version": 3
   },
   "file_extension": ".py",
   "mimetype": "text/x-python",
   "name": "python",
   "nbconvert_exporter": "python",
   "pygments_lexer": "ipython3",
   "version": "3.6.9"
  },
  "toc": {
   "base_numbering": 1,
   "nav_menu": {},
   "number_sections": false,
   "sideBar": true,
   "skip_h1_title": false,
   "title_cell": "Table of Contents",
   "title_sidebar": "Contents",
   "toc_cell": false,
   "toc_position": {},
   "toc_section_display": true,
   "toc_window_display": false
  },
  "varInspector": {
   "cols": {
    "lenName": 16,
    "lenType": 16,
    "lenVar": 40
   },
   "kernels_config": {
    "python": {
     "delete_cmd_postfix": "",
     "delete_cmd_prefix": "del ",
     "library": "var_list.py",
     "varRefreshCmd": "print(var_dic_list())"
    },
    "r": {
     "delete_cmd_postfix": ") ",
     "delete_cmd_prefix": "rm(",
     "library": "var_list.r",
     "varRefreshCmd": "cat(var_dic_list()) "
    }
   },
   "types_to_exclude": [
    "module",
    "function",
    "builtin_function_or_method",
    "instance",
    "_Feature"
   ],
   "window_display": false
  }
 },
 "nbformat": 4,
 "nbformat_minor": 1
}
