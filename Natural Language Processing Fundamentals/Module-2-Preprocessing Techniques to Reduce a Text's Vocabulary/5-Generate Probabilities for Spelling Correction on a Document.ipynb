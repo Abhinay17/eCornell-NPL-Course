{
 "cells": [
  {
   "cell_type": "markdown",
   "metadata": {},
   "source": [
    "# **Setup**\n",
    " \n",
    "Reset the Python environment to clear it of any previously loaded variables, functions, or libraries. Then, import the libraries needed to complete the code Professor Melnikov presented in the video."
   ]
  },
  {
   "cell_type": "code",
   "execution_count": 1,
   "metadata": {},
   "outputs": [],
   "source": [
    "%reset -f\n",
    "from IPython.core.interactiveshell import InteractiveShell as IS\n",
    "IS.ast_node_interactivity = \"all\"    # allows multiple outputs from a cell"
   ]
  },
  {
   "cell_type": "markdown",
   "metadata": {},
   "source": [
    "<span style=\"color:black\">You will be using [TextBlob](https://textblob.readthedocs.io/en/dev/), a popular NLP library, to correct misspellings. Many of its functions overlap with `nltk`, `Spacy`, `Gensim`, and other NLP libraries. For better integration, you will want to do as much as possible with the tools from the same library."
   ]
  },
  {
   "cell_type": "code",
   "execution_count": 2,
   "metadata": {},
   "outputs": [],
   "source": [
    "from textblob import Word"
   ]
  },
  {
   "cell_type": "markdown",
   "metadata": {},
   "source": [
    "<hr style=\"border-top: 2px solid #606366; background: transparent;\">\n",
    "\n",
    "# Review\n",
    "\n",
    "TextBlob's `Word` object behaves very much like a string when printed, concatenated with other strings, sliced, etc. However, it has additional complex methods that Python strings do not have. One method corrects misspellings using a popular [algorithm](https://norvig.com/spell-correct.html) created by [Peter Norvig](https://en.wikipedia.org/wiki/Peter_Norvig). \n",
    "\n",
    "Explore these functionalities by wrapping the misspelled word `'fianlly'` into a `Word` object."
   ]
  },
  {
   "cell_type": "code",
   "execution_count": 3,
   "metadata": {},
   "outputs": [
    {
     "name": "stdout",
     "output_type": "stream",
     "text": [
      "fianlly\n",
      "fianlly!\n",
      "fia\n",
      "finally\n"
     ]
    }
   ],
   "source": [
    "print(Word('fianlly'))\n",
    "print(Word('fianlly')+'!')\n",
    "print(Word('fianlly'[:3]))\n",
    "print(Word('fianlly').correct())   # Peter Norvig's algorithm"
   ]
  },
  {
   "cell_type": "markdown",
   "metadata": {},
   "source": [
    "<span style=\"color:black\">Peter Norvig's algorithm also calculates a standardized score, between 0 and 1, for the identified candidate(s). A higher score indicates a more likely candidate for the misspelled word. You can get these scores using the `spellcheck()` method."
   ]
  },
  {
   "cell_type": "code",
   "execution_count": 4,
   "metadata": {},
   "outputs": [
    {
     "name": "stdout",
     "output_type": "stream",
     "text": [
      "[('finally', 1.0)]\n"
     ]
    }
   ],
   "source": [
    "print(Word('fianlly').spellcheck())  # candidate & confidence score"
   ]
  },
  {
   "cell_type": "markdown",
   "metadata": {},
   "source": [
    "<span style=\"color:black\"> Shorter words tend to have more candidates. Here is an example with multiple candidates."
   ]
  },
  {
   "cell_type": "code",
   "execution_count": 5,
   "metadata": {},
   "outputs": [
    {
     "name": "stdout",
     "output_type": "stream",
     "text": [
      "[('the', 0.9941491410044596), ('ten', 0.0027204630998372693), ('tea', 0.0013291760350803096), ('eh', 0.0011055763282443697), ('th', 0.0006335325027018298), ('ted', 2.4844411870659992e-05), ('heh', 2.4844411870659992e-05), ('te', 1.2422205935329996e-05)]\n"
     ]
    }
   ],
   "source": [
    "print(Word('teh').spellcheck())"
   ]
  },
  {
   "cell_type": "markdown",
   "metadata": {},
   "source": [
    "<span style=\"color:black\"> To correct a sentence, you can tokenize the sentence, loop through the word tokens to correct any misspellings, then join the corrected words back together into a single string."
   ]
  },
  {
   "cell_type": "code",
   "execution_count": 6,
   "metadata": {},
   "outputs": [
    {
     "name": "stdout",
     "output_type": "stream",
     "text": [
      "The ordering of letters in a word is not important\n"
     ]
    }
   ],
   "source": [
    "sScrambled = '''Thea ordirng oof leeetters in a wrod ies noot imporant.'''\n",
    "LsCorrected = [Word(s).correct() for s in sScrambled.split()]\n",
    "print(' '.join(LsCorrected))"
   ]
  },
  {
   "cell_type": "markdown",
   "metadata": {},
   "source": [
    "<hr style=\"border-top: 2px solid #606366; background: transparent;\">\n",
    "\n",
    "# **Optional Practice**\n",
    "\n",
    "You will now practice using `Word` objects.\n",
    "    \n",
    "As you work through these tasks, check your answers by running your code in the *#check solution here* cell, to see if you've gotten the correct result. If you get stuck on a task, click the See **solution** drop-down menu to view the answer. You will need the following small helper function to find candidates or bets for the misspelled word. "
   ]
  },
  {
   "cell_type": "code",
   "execution_count": 7,
   "metadata": {},
   "outputs": [
    {
     "name": "stdout",
     "output_type": "stream",
     "text": [
      "1, ['the,1.000']\n",
      "6, ['eh,0.489', 'th,0.280', 'etc,0.115', 'et,0.104', 'ety,0.005', 'beth,0.005']\n",
      "25, ['he,0.602', 'her,0.256', 'met,0.026', 'let,0.025', 'yet,0.024', 'get,0.023', 'set,0.016', 'hot,0.006', 'hat,0.005', 'heat,0.004', 'wet,0.003', 'hut,0.003', 'aet,0.002', 'net,0.001', 'hit,0.001', 'et,0.001', 'pet,0.001', 'bet,0.001', 'hey,0.000', 'hen,0.000', 'jet,0.000', 'hem,0.000', 'heh,0.000', 'hew,0.000', 'cet,0.000']\n"
     ]
    }
   ],
   "source": [
    "def SpellBets(sScrambled='het'):\n",
    "  'Prints a count and a list of candidates'\n",
    "  LsCandidates = Word(sScrambled).spellcheck()  # find bets\n",
    "  print(f'{len(LsCandidates)},', [w+f',{n:.3f}' for w,n in LsCandidates])\n",
    "SpellBets('the')  # returns 1 candidate\n",
    "SpellBets('eth')  # returns 6 candidates\n",
    "SpellBets('het')  # returns 25 candidates"
   ]
  },
  {
   "cell_type": "markdown",
   "metadata": {},
   "source": [
    "## Task 1\n",
    "\n",
    "By exploring different permutations of letter positions only, scramble the spelling of `'junk'` (without dropping or introducing letters) to have more than twenty candidates. You can use the `SpellBets()` method for convenience.\n",
    "\n",
    "<b>Hint:</b> Try permuting letters in some consistent manner to avoid confusion."
   ]
  },
  {
   "cell_type": "code",
   "execution_count": 8,
   "metadata": {},
   "outputs": [
    {
     "name": "stdout",
     "output_type": "stream",
     "text": [
      "20, ['neck,0.613', 'luck,0.085', 'sunk,0.082', 'null,0.033', 'nut,0.030', 'dusk,0.030', 'bulk,0.027', 'nuts,0.018', 'duck,0.012', 'turk,0.009', 'suck,0.009', 'nun,0.009', 'numb,0.009', 'tuck,0.006', 'nuns,0.006', 'nook,0.006', 'buck,0.006', 'nur,0.003', 'nick,0.003', 'fuck,0.003']\n"
     ]
    }
   ],
   "source": [
    "SpellBets('nujk')"
   ]
  },
  {
   "cell_type": "markdown",
   "metadata": {},
   "source": [
    "\n",
    "<font color=#606366>\n",
    "    <details><summary><font color=#b31b1b>▶ </font>See <b>solution</b>.</summary>\n",
    "            <pre>\n",
    "SpellBets('nujk')\n",
    "            </pre>\n",
    "    </details> \n",
    "</font>\n",
    "<hr>"
   ]
  },
  {
   "cell_type": "markdown",
   "metadata": {},
   "source": [
    "## Task 2\n",
    "\n",
    "By mixing the letter positions (except letter `'t'`), scramble the spelling of `'trash'` to have more than thirty candidates. You can use the `SpellBets()` for convenience.\n",
    "\n",
    "<b>Hint:</b> To avoid confusion, try writing down your scrambled words and generate them by permuting letters in some consistent manner."
   ]
  },
  {
   "cell_type": "code",
   "execution_count": null,
   "metadata": {},
   "outputs": [],
   "source": [
    "# check solution here"
   ]
  },
  {
   "cell_type": "markdown",
   "metadata": {},
   "source": [
    "\n",
    "<font color=#606366>\n",
    "    <details><summary><font color=#b31b1b>▶ </font>See <b>solution</b>.</summary>\n",
    "            <pre>\n",
    "SpellBets('thasr')\n",
    "            </pre>\n",
    "    </details> \n",
    "</font>\n",
    "<hr>"
   ]
  },
  {
   "cell_type": "markdown",
   "metadata": {},
   "source": [
    "## Task 3\n",
    "\n",
    "By mixing the letter positions (except first and last letters), scramble the spelling of `'garbage'` to have more than two candidates. You can use the `SpellBets()` for convenience. \n",
    "\n",
    "<b>Hint:</b> You might even find a scrambled version of the word with three candidates of corrected words: <code>['gargle,0.333', 'garage,0.333', 'barge,0.333']</code>. Now, can you guess the scrambled word?"
   ]
  },
  {
   "cell_type": "code",
   "execution_count": null,
   "metadata": {},
   "outputs": [],
   "source": [
    "# check solution here"
   ]
  },
  {
   "cell_type": "markdown",
   "metadata": {},
   "source": [
    "\n",
    "<font color=#606366>\n",
    "    <details><summary><font color=#b31b1b>▶ </font>See <b>solution</b>.</summary>\n",
    "            <pre>\n",
    "SpellBets('gbargae')\n",
    "            </pre>\n",
    "    </details> \n",
    "</font>\n",
    "<hr>"
   ]
  }
 ],
 "metadata": {
  "anaconda-cloud": {},
  "kernelspec": {
   "display_name": "Python 3",
   "language": "python",
   "name": "python3"
  },
  "language_info": {
   "codemirror_mode": {
    "name": "ipython",
    "version": 3
   },
   "file_extension": ".py",
   "mimetype": "text/x-python",
   "name": "python",
   "nbconvert_exporter": "python",
   "pygments_lexer": "ipython3",
   "version": "3.6.9"
  },
  "toc": {
   "base_numbering": 1,
   "nav_menu": {},
   "number_sections": false,
   "sideBar": true,
   "skip_h1_title": false,
   "title_cell": "Table of Contents",
   "title_sidebar": "Contents",
   "toc_cell": false,
   "toc_position": {},
   "toc_section_display": true,
   "toc_window_display": false
  },
  "varInspector": {
   "cols": {
    "lenName": 16,
    "lenType": 16,
    "lenVar": 40
   },
   "kernels_config": {
    "python": {
     "delete_cmd_postfix": "",
     "delete_cmd_prefix": "del ",
     "library": "var_list.py",
     "varRefreshCmd": "print(var_dic_list())"
    },
    "r": {
     "delete_cmd_postfix": ") ",
     "delete_cmd_prefix": "rm(",
     "library": "var_list.r",
     "varRefreshCmd": "cat(var_dic_list()) "
    }
   },
   "types_to_exclude": [
    "module",
    "function",
    "builtin_function_or_method",
    "instance",
    "_Feature"
   ],
   "window_display": false
  }
 },
 "nbformat": 4,
 "nbformat_minor": 1
}
