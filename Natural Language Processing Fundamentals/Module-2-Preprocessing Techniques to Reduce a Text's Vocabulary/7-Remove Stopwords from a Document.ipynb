{
 "cells": [
  {
   "cell_type": "markdown",
   "metadata": {},
   "source": [
    "# **Setup**\n",
    " \n",
    "Reset the Python environment to clear it of any previously loaded variables, functions, or libraries. Then, import the libraries needed to complete the code Professor Melnikov presented in the video.\n",
    "\n",
    "<span style=\"color:black\">You will practice removing the stopwords in \"Persuasion,\" a novel by Jane Austen. Use `nltk` to load this text from the Gutenberg (free) library."
   ]
  },
  {
   "cell_type": "code",
   "execution_count": 2,
   "metadata": {},
   "outputs": [
    {
     "name": "stdout",
     "output_type": "stream",
     "text": [
      "[Persuasion by Jane Austen 1818]\n",
      "\n",
      "\n",
      "Chapter 1\n",
      "\n",
      "\n",
      "Sir Walter Elliot, of Kellynch Hall, in Somersetshire, was a man who,\n",
      "for his own amusement, never took up any book but the Baronetage;\n",
      "there he found oc\n"
     ]
    }
   ],
   "source": [
    "%reset -f\n",
    "from IPython.core.interactiveshell import InteractiveShell as IS\n",
    "IS.ast_node_interactivity = \"all\"    # allows multiple outputs from a cell\n",
    "import nltk, pandas as pd\n",
    "from collections import Counter\n",
    "tmp = nltk.download(['gutenberg','stopwords'], quiet=True)\n",
    "\n",
    "sTitle = 'austen-persuasion.txt'\n",
    "print(nltk.corpus.gutenberg.raw(sTitle)[:200]) # print the top few characters"
   ]
  },
  {
   "cell_type": "markdown",
   "metadata": {},
   "source": [
    "<hr style=\"border-top: 2px solid #606366; background: transparent;\">\n",
    "\n",
    "# **Review**\n",
    "\n",
    "## Examining English Stopwords\n",
    "\n",
    "<span style=\"color:black\"> `nltk` provides lists of generic stopwords for different languages. Load the stopwords for the English language as a set. Take time to examine the length of this set and the sorted list of words."
   ]
  },
  {
   "cell_type": "code",
   "execution_count": 3,
   "metadata": {},
   "outputs": [
    {
     "name": "stdout",
     "output_type": "stream",
     "text": [
      "stopwords:179\n",
      "['a', 'about', 'above', 'after', 'again', 'against', 'ain', 'all', 'am', 'an', 'and', 'any', 'are', 'aren', \"aren't\", 'as', 'at', 'be', 'because', 'been', 'before', 'being', 'below', 'between', 'both', 'but', 'by', 'can', 'couldn', \"couldn't\", 'd', 'did', 'didn', \"didn't\", 'do', 'does', 'doesn', \"doesn't\", 'doing', 'don', \"don't\", 'down', 'during', 'each', 'few', 'for', 'from', 'further', 'had', 'hadn', \"hadn't\", 'has', 'hasn', \"hasn't\", 'have', 'haven', \"haven't\", 'having', 'he', 'her', 'here', 'hers', 'herself', 'him', 'himself', 'his', 'how', 'i', 'if', 'in', 'into', 'is', 'isn', \"isn't\", 'it', \"it's\", 'its', 'itself', 'just', 'll', 'm', 'ma', 'me', 'mightn', \"mightn't\", 'more', 'most', 'mustn', \"mustn't\", 'my', 'myself', 'needn', \"needn't\", 'no', 'nor', 'not', 'now', 'o', 'of', 'off', 'on', 'once', 'only', 'or', 'other', 'our', 'ours', 'ourselves', 'out', 'over', 'own', 're', 's', 'same', 'shan', \"shan't\", 'she', \"she's\", 'should', \"should've\", 'shouldn', \"shouldn't\", 'so', 'some', 'such', 't', 'than', 'that', \"that'll\", 'the', 'their', 'theirs', 'them', 'themselves', 'then', 'there', 'these', 'they', 'this', 'those', 'through', 'to', 'too', 'under', 'until', 'up', 've', 'very', 'was', 'wasn', \"wasn't\", 'we', 'were', 'weren', \"weren't\", 'what', 'when', 'where', 'which', 'while', 'who', 'whom', 'why', 'will', 'with', 'won', \"won't\", 'wouldn', \"wouldn't\", 'y', 'you', \"you'd\", \"you'll\", \"you're\", \"you've\", 'your', 'yours', 'yourself', 'yourselves']\n"
     ]
    }
   ],
   "source": [
    "SsStopwords = set(nltk.corpus.stopwords.words('english')) # load generic stopwords\n",
    "print(f'stopwords:{len(SsStopwords)}')\n",
    "print(sorted(SsStopwords))"
   ]
  },
  {
   "cell_type": "markdown",
   "metadata": {},
   "source": [
    "<span style=\"color:black\"> Notice that the stopwords are lowercase. This is important; when you remove stopwords from a text, you will need to make sure that you are comparing the lowercase version of the words in the text to the stopwords in this list.\n",
    "    \n",
    "<span style=\"color:black\">The excellent people who built `nltk` identified 179 generic English stopwords. You may disagree with some of their choices, and rightly so. A different list may be better suited for a corpus in a specific domain. You can manually add more words to this list or implement an automated method to find the stopwords in your document with [TF-IDF](https://en.wikipedia.org/wiki/Tf%E2%80%93idf) concepts that will be discussed in a later course."
   ]
  },
  {
   "cell_type": "markdown",
   "metadata": {},
   "source": [
    "## Calculating Average Word Frequency\n",
    "\n",
    "For some NLP tasks, you may want to reduce the number of unique words in a document while minimizing its effect on the semantics of the document. _Average frequency_, i.e., the average number of times a word is repeated in the document, can be a useful metric for determining which words to remove.\n",
    "    \n",
    "Load the novel as a list of words and calculate the number of word tokens, number of unique words, and average frequency."
   ]
  },
  {
   "cell_type": "code",
   "execution_count": 5,
   "metadata": {},
   "outputs": [
    {
     "name": "stdout",
     "output_type": "stream",
     "text": [
      "Tokens: 98171; Lexicon: 6132; Avg Freq: 16.010\n"
     ]
    }
   ],
   "source": [
    "def DocStats(Ls=[]): \n",
    "  nL, nS = len(Ls), len(set(Ls))\n",
    "  print(f'Tokens: {nL}; Lexicon: {nS}; Avg Freq: {nL/nS:.3f}')\n",
    "\n",
    "LsBook = nltk.corpus.gutenberg.words(sTitle)\n",
    "DocStats(LsBook)"
   ]
  },
  {
   "cell_type": "markdown",
   "metadata": {},
   "source": [
    "The distribution of word frequency in a document is typically not uniform. For example, it is common for stopwords to appear at a significantly higher frequency. Remove the `nltk` stopwords from the novel then recompute the statistics."
   ]
  },
  {
   "cell_type": "code",
   "execution_count": 6,
   "metadata": {},
   "outputs": [
    {
     "name": "stdout",
     "output_type": "stream",
     "text": [
      "Tokens: 52387; Lexicon: 5912; Avg Freq: 8.861\n"
     ]
    }
   ],
   "source": [
    "LsBook2 = [w for w in LsBook if w.lower() not in SsStopwords]\n",
    "DocStats(LsBook2)"
   ]
  },
  {
   "cell_type": "markdown",
   "metadata": {},
   "source": [
    "By comparing `LsBook` and `LsBook2`, you can see that removing the stopwords significantly compressed the corpus, reducing the number of words by approximately half. As expected, the average frequency of the remaining words is lower because stopwords often appear at higher frequencies.\n",
    "\n",
    "## Examining the Impact of Stopword Removal\n",
    "\n",
    "To determine the impact of the removed words, you can compare the top n-most frequent words in the previous two examples. Use the `most_common()` method from the `Counter` object to count the parsed words from the novel and get the top 100 most frequent words. Package the results as a Pandas dataframe and order the words by decreasing frequency."
   ]
  },
  {
   "cell_type": "code",
   "execution_count": 7,
   "metadata": {},
   "outputs": [
    {
     "data": {
      "text/html": [
       "<div>\n",
       "<style scoped>\n",
       "    .dataframe tbody tr th:only-of-type {\n",
       "        vertical-align: middle;\n",
       "    }\n",
       "\n",
       "    .dataframe tbody tr th {\n",
       "        vertical-align: top;\n",
       "    }\n",
       "\n",
       "    .dataframe thead th {\n",
       "        text-align: right;\n",
       "    }\n",
       "</style>\n",
       "<table border=\"1\" class=\"dataframe\">\n",
       "  <thead>\n",
       "    <tr style=\"text-align: right;\">\n",
       "      <th>word</th>\n",
       "      <th>,</th>\n",
       "      <th>the</th>\n",
       "      <th>to</th>\n",
       "      <th>.</th>\n",
       "      <th>and</th>\n",
       "      <th>of</th>\n",
       "      <th>a</th>\n",
       "      <th>in</th>\n",
       "      <th>was</th>\n",
       "      <th>;</th>\n",
       "      <th>...</th>\n",
       "      <th>herself</th>\n",
       "      <th>did</th>\n",
       "      <th>never</th>\n",
       "      <th>time</th>\n",
       "      <th>think</th>\n",
       "      <th>Russell</th>\n",
       "      <th>Sir</th>\n",
       "      <th>now</th>\n",
       "      <th>other</th>\n",
       "      <th>Walter</th>\n",
       "    </tr>\n",
       "  </thead>\n",
       "  <tbody>\n",
       "    <tr>\n",
       "      <th>freq</th>\n",
       "      <td>6750</td>\n",
       "      <td>3120</td>\n",
       "      <td>2775</td>\n",
       "      <td>2741</td>\n",
       "      <td>2739</td>\n",
       "      <td>2564</td>\n",
       "      <td>1529</td>\n",
       "      <td>1346</td>\n",
       "      <td>1330</td>\n",
       "      <td>1290</td>\n",
       "      <td>...</td>\n",
       "      <td>158</td>\n",
       "      <td>157</td>\n",
       "      <td>153</td>\n",
       "      <td>151</td>\n",
       "      <td>149</td>\n",
       "      <td>148</td>\n",
       "      <td>144</td>\n",
       "      <td>144</td>\n",
       "      <td>142</td>\n",
       "      <td>141</td>\n",
       "    </tr>\n",
       "  </tbody>\n",
       "</table>\n",
       "<p>1 rows × 100 columns</p>\n",
       "</div>"
      ],
      "text/plain": [
       "word     ,   the    to     .   and    of     a    in   was     ;  ...  \\\n",
       "freq  6750  3120  2775  2741  2739  2564  1529  1346  1330  1290  ...   \n",
       "\n",
       "word  herself  did  never  time  think  Russell  Sir  now  other  Walter  \n",
       "freq      158  157    153   151    149      148  144  144    142     141  \n",
       "\n",
       "[1 rows x 100 columns]"
      ]
     },
     "execution_count": 7,
     "metadata": {},
     "output_type": "execute_result"
    }
   ],
   "source": [
    "LTsnFreq = Counter(LsBook).most_common(100) \n",
    "pd.DataFrame(LTsnFreq, columns=['word','freq']).set_index('word').T"
   ]
  },
  {
   "cell_type": "markdown",
   "metadata": {},
   "source": [
    "<span style=\"color:black\">Notice the large count of several stopwords. 'a' appears 1529 times in the novel, yet, if you removed this word, you can still read and understand the novel. On the other hand, if you removed the word 'Russell', which appears only 148 times, you would find it difficult to recover the context and potentially incorrectly associate descriptions in the novel to another character.\n",
    "\n",
    "<span style=\"color:black\">Now, examine the 100 most frequent words without the generic stopwords from `nltk`."
   ]
  },
  {
   "cell_type": "code",
   "execution_count": 8,
   "metadata": {},
   "outputs": [
    {
     "data": {
      "text/html": [
       "<div>\n",
       "<style scoped>\n",
       "    .dataframe tbody tr th:only-of-type {\n",
       "        vertical-align: middle;\n",
       "    }\n",
       "\n",
       "    .dataframe tbody tr th {\n",
       "        vertical-align: top;\n",
       "    }\n",
       "\n",
       "    .dataframe thead th {\n",
       "        text-align: right;\n",
       "    }\n",
       "</style>\n",
       "<table border=\"1\" class=\"dataframe\">\n",
       "  <thead>\n",
       "    <tr style=\"text-align: right;\">\n",
       "      <th>word</th>\n",
       "      <th>,</th>\n",
       "      <th>.</th>\n",
       "      <th>;</th>\n",
       "      <th>\"</th>\n",
       "      <th>'</th>\n",
       "      <th>Anne</th>\n",
       "      <th>could</th>\n",
       "      <th>.\"</th>\n",
       "      <th>would</th>\n",
       "      <th>-</th>\n",
       "      <th>...</th>\n",
       "      <th>Kellynch</th>\n",
       "      <th>still</th>\n",
       "      <th>come</th>\n",
       "      <th>enough</th>\n",
       "      <th>moment</th>\n",
       "      <th>Benwick</th>\n",
       "      <th>(</th>\n",
       "      <th>back</th>\n",
       "      <th>Smith</th>\n",
       "      <th>woman</th>\n",
       "    </tr>\n",
       "  </thead>\n",
       "  <tbody>\n",
       "    <tr>\n",
       "      <th>freq</th>\n",
       "      <td>6750</td>\n",
       "      <td>2741</td>\n",
       "      <td>1290</td>\n",
       "      <td>793</td>\n",
       "      <td>525</td>\n",
       "      <td>497</td>\n",
       "      <td>444</td>\n",
       "      <td>369</td>\n",
       "      <td>351</td>\n",
       "      <td>308</td>\n",
       "      <td>...</td>\n",
       "      <td>72</td>\n",
       "      <td>72</td>\n",
       "      <td>72</td>\n",
       "      <td>71</td>\n",
       "      <td>71</td>\n",
       "      <td>70</td>\n",
       "      <td>69</td>\n",
       "      <td>69</td>\n",
       "      <td>68</td>\n",
       "      <td>67</td>\n",
       "    </tr>\n",
       "  </tbody>\n",
       "</table>\n",
       "<p>1 rows × 100 columns</p>\n",
       "</div>"
      ],
      "text/plain": [
       "word     ,     .     ;    \"    '  Anne  could   .\"  would    -  ...  Kellynch  \\\n",
       "freq  6750  2741  1290  793  525   497    444  369    351  308  ...        72   \n",
       "\n",
       "word  still  come  enough  moment  Benwick   (  back  Smith  woman  \n",
       "freq     72    72      71      71       70  69    69     68     67  \n",
       "\n",
       "[1 rows x 100 columns]"
      ]
     },
     "execution_count": 8,
     "metadata": {},
     "output_type": "execute_result"
    }
   ],
   "source": [
    "pd.DataFrame(Counter(LsBook2).most_common(100), columns=['word','freq']).set_index('word').T"
   ]
  },
  {
   "cell_type": "markdown",
   "metadata": {},
   "source": [
    "<span style=\"color:black\">In this example, most generic words were removed by just using the `nltk` list. If punctuation is not important in your NLP task, you can also include these in the stopword list.\n",
    "\n",
    "<span style=\"color:black\"> If you want to further reduce the document by another thousand tokens, you can remove several of the high-frequency words, including 'could' and 'would', without significantly affecting semantics. In fact, high-frequency words can be considered stopwords. However, as words are removed, distinguishing which to remove becomes harder since frequency starts to drop and words become more important to the document. You will learn about a better method, TF-IDF, in the future."
   ]
  },
  {
   "cell_type": "markdown",
   "metadata": {},
   "source": [
    "<hr style=\"border-top: 2px solid #606366; background: transparent;\">\n",
    "\n",
    "# **Optional Practice**\n",
    "\n",
    "\n",
    "You will now practice removing stopwords.\n",
    "\n",
    "As you work through these tasks, check your answers by running your code in the *#check solution here* cell, to see if you've gotten the correct result. If you get stuck on a task, click the See **solution** drop-down menu to view the answer."
   ]
  },
  {
   "cell_type": "markdown",
   "metadata": {},
   "source": [
    "# Task 1\n",
    "\n",
    "You can further clean the novel in `LsBook2` by keeping *letter* words with at least 3 characters. Save results to `LsBook3` and run `DocStats()` on it to evaluate the decrease in counts and average frequency.\n",
    " \n",
    "Average frequency should drop by about 2 points to 6.531. This is still a significant drop, but it will be harder and harder to identify and keep \"high quality\" words, which an average reader would associate with this novel.\n",
    "\n",
    "<b>Hint:</b> You can do this with list comprehension (or any loop) and condition <code>len(w)>2 and w.isalpha()</code>, where <code>w</code> is a word from <code>LsBook2</code>."
   ]
  },
  {
   "cell_type": "code",
   "execution_count": null,
   "metadata": {},
   "outputs": [],
   "source": [
    "# check solution here"
   ]
  },
  {
   "cell_type": "markdown",
   "metadata": {},
   "source": [
    "\n",
    "<font color=#606366>\n",
    "    <details><summary><font color=#b31b1b>▶ </font>See <b>solution</b>.</summary>\n",
    "            <pre>\n",
    "LsBook3 = [w for w in LsBook2 if len(w)>2 and w.isalpha()]\n",
    "DocStats(LsBook3)\n",
    "            </pre>\n",
    "    </details> \n",
    "</font>\n",
    "<hr>"
   ]
  },
  {
   "cell_type": "markdown",
   "metadata": {},
   "source": [
    "## Task 2\n",
    "\n",
    "Use `Counter()` to compute the top 100 most common word counts in `LsBook3` and save these to `LTsnTop3`. Wrap them into a dataframe for a nice horizontal display. \n",
    "\n",
    "<b>Hint:</b> Check out examples of counting with the <code>Counter</code> object from <a href=\"https://docs.python.org/3/library/collections.html#collections.Counter\">the Python documentation</a>. This is similar to what you did above and in the video."
   ]
  },
  {
   "cell_type": "code",
   "execution_count": null,
   "metadata": {},
   "outputs": [],
   "source": [
    "# check solution here"
   ]
  },
  {
   "cell_type": "markdown",
   "metadata": {},
   "source": [
    "<font color=#606366>\n",
    "    <details><summary><font color=#b31b1b>▶ </font>See <b>solution</b>.</summary>\n",
    "            <pre>\n",
    "LTsnTop3 = Counter(LsBook3).most_common(100)\n",
    "df = pd.DataFrame(LTsnTop3, columns=['word','freq']).set_index('word')\n",
    "df.T\n",
    "            </pre>\n",
    "    </details> \n",
    "</font>\n",
    "<hr>"
   ]
  },
  {
   "cell_type": "markdown",
   "metadata": {},
   "source": [
    "## Task 3\n",
    "\n",
    "Retrieve only the words from `LTsnTop3` and save the set of these to `SsTop3`.\n",
    "\n",
    "<b>Hint:</b> You can use <code>zip</code> function to rearrange elements of list of tuples returned from <code>Counter().most_common()</code> or use <code>df.index</code> to access index labels, which are the same words."
   ]
  },
  {
   "cell_type": "code",
   "execution_count": null,
   "metadata": {},
   "outputs": [],
   "source": [
    "# check solution here"
   ]
  },
  {
   "cell_type": "markdown",
   "metadata": {},
   "source": [
    "<font color=#606366>\n",
    "    <details><summary><font color=#b31b1b>▶ </font>See <b>solution</b>.</summary>\n",
    "            <pre>\n",
    "SsTop3 = set(list(zip(*LTsnTop3))[0])\n",
    "# SsTop3 = list(df.index)   # alternative extraction of words from df's index\n",
    "print(len(SsTop3), sorted(SsTop3))\n",
    "            </pre>\n",
    "    </details> \n",
    "</font>\n",
    "<hr>"
   ]
  },
  {
   "cell_type": "markdown",
   "metadata": {},
   "source": [
    "## Task 4\n",
    "\n",
    "Retrieve all words from `SsTop3` that are title cased and save the set of these to `SsTopTitleCase`.\n",
    "\n",
    "Note: Many of these words are peoples' names, but not all. There are also military ranks and common salutations.\n",
    "\n",
    "<b>Hint:</b> You can use set comprehension with a condition on to check whether a word string is title cased. Consider the <a href=\"https://docs.python.org/3/library/stdtypes.html#str.istitle\"><code>str.istitle()</code></a> method."
   ]
  },
  {
   "cell_type": "code",
   "execution_count": null,
   "metadata": {},
   "outputs": [],
   "source": [
    "# check solution here"
   ]
  },
  {
   "cell_type": "markdown",
   "metadata": {},
   "source": [
    "<font color=#606366>\n",
    "    <details><summary><font color=#b31b1b>▶ </font>See <b>solution</b>.</summary>\n",
    "            <pre>\n",
    "SsTopTitleCase = {w for w in SsTop3 if w.istitle()}\n",
    "print(len(SsTopTitleCase), sorted(SsTopTitleCase))\n",
    "            </pre>\n",
    "    </details> \n",
    "</font>\n",
    "<hr>\n"
   ]
  },
  {
   "cell_type": "markdown",
   "metadata": {},
   "source": [
    "## Task 5\n",
    "\n",
    "Observe the words in `SsTopTitleCase` and manually identify those that you consider to be generic. Remove these words from `SsTopTitleCase` and save the results to `SsTopNames`.\n",
    "\n",
    "<b>Hint:</b> try <a href=\"https://docs.python.org/3/tutorial/datastructures.html#sets\">set differencing</a>."
   ]
  },
  {
   "cell_type": "code",
   "execution_count": null,
   "metadata": {},
   "outputs": [],
   "source": [
    "# check solution here"
   ]
  },
  {
   "cell_type": "markdown",
   "metadata": {},
   "source": [
    "\n",
    "<font color=#606366>\n",
    "    <details><summary><font color=#b31b1b>▶ </font>See <b>solution</b>.</summary>\n",
    "            <pre>\n",
    "SsOtherGeneric = {'Sir', 'Bath', 'Miss', 'Mrs', 'Lady', 'Uppercross'}\n",
    "SsTopNames = SsTopTitleCase - SsOtherGeneric # set difference\n",
    "# SsTopNames = {w for w in SsTopTitleCase if w not in SsStopwords} # alternative approach\n",
    "print(list(SsTopNames))\n",
    "            </pre>\n",
    "    </details> \n",
    "</font>\n",
    "\n",
    "<hr>"
   ]
  },
  {
   "cell_type": "markdown",
   "metadata": {},
   "source": [
    "## Task 6\n",
    "\n",
    "Remove people's names stored in `SsTopNames` from the top 100 most frequent words stored in `SsTop3`. Save results to `SsTopNoNames`, which should contain about 80 high frequency words (depending on which ones you picked above).\n",
    "\n",
    "<b>Hint:</b> Try <a href=\"https://docs.python.org/3/tutorial/datastructures.html#sets\">set differencing</a>."
   ]
  },
  {
   "cell_type": "code",
   "execution_count": null,
   "metadata": {},
   "outputs": [],
   "source": [
    "# check solution here"
   ]
  },
  {
   "cell_type": "markdown",
   "metadata": {},
   "source": [
    "\n",
    "<font color=#606366>\n",
    "    <details><summary><font color=#b31b1b>▶ </font>See <b>solution</b>.</summary>\n",
    "            <pre>\n",
    "SsTopNoNames = SsTop3 - SsTopNames\n",
    "print(len(SsTopNoNames), SsTopNoNames)\n",
    "            </pre>\n",
    "    </details> \n",
    "</font>\n",
    "<hr>"
   ]
  },
  {
   "cell_type": "markdown",
   "metadata": {},
   "source": [
    "## Task 7\n",
    "\n",
    "Before you merge `SsTopNoNames` with the `SsStopwords`, look at it once more. Remove any words that you don't consider to be stopwords (in your opinion). Notably, this step requires reasonable domain expertise, i.e., understanding the value of these words in Jane Austen's novel. A greater expertise is required if you are to continue identifying low-value words.\n",
    " \n",
    "Finally, combine the two sets and save results to `SsStopwordsXtra`, which should now contain about 260 stopwords.\n",
    "\n",
    "<b>Hint:</b> try <a href=\"https://docs.python.org/3/tutorial/datastructures.html#sets\">set union</a>."
   ]
  },
  {
   "cell_type": "code",
   "execution_count": null,
   "metadata": {},
   "outputs": [],
   "source": [
    "# check solution here"
   ]
  },
  {
   "cell_type": "markdown",
   "metadata": {},
   "source": [
    "\n",
    "<font color=#606366>\n",
    "    <details><summary><font color=#b31b1b>▶ </font>See <b>solution</b>.</summary>\n",
    "            <pre>\n",
    "SsStopwordsXtra = SsStopwords.union(SsTopNoNames)\n",
    "len(SsStopwordsXtra)\n",
    "            </pre>\n",
    "    </details> \n",
    "</font>\n",
    "<hr>"
   ]
  },
  {
   "cell_type": "markdown",
   "metadata": {},
   "source": [
    "## Task 8\n",
    "\n",
    "Create `LsBook4`, which contains all the words in `LsBook3` excluding those in `SsStopwordsXtra` (case insensitive). Apply `DocStats()` to `LsBook4`. The average frequency should drop to abot 5.2. Congratulations!\n",
    "\n",
    "<b>Hint:</b> This is similar to the code above where we created <code>LsBook2</code>."
   ]
  },
  {
   "cell_type": "code",
   "execution_count": null,
   "metadata": {},
   "outputs": [],
   "source": [
    "# check solution here"
   ]
  },
  {
   "cell_type": "markdown",
   "metadata": {},
   "source": [
    "\n",
    "<font color=#606366>\n",
    "    <details><summary><font color=#b31b1b>▶ </font>See <b>solution</b>.</summary>\n",
    "            <pre>\n",
    "LsBook4 = [w for w in LsBook3 if w.lower() not in SsStopwordsXtra]\n",
    "DocStats(LsBook4)\n",
    "print(LsBook4[:20])\n",
    "            </pre>\n",
    "    </details> \n",
    "</font>\n",
    "<hr>"
   ]
  }
 ],
 "metadata": {
  "anaconda-cloud": {},
  "kernelspec": {
   "display_name": "Python 3",
   "language": "python",
   "name": "python3"
  },
  "language_info": {
   "codemirror_mode": {
    "name": "ipython",
    "version": 3
   },
   "file_extension": ".py",
   "mimetype": "text/x-python",
   "name": "python",
   "nbconvert_exporter": "python",
   "pygments_lexer": "ipython3",
   "version": "3.6.9"
  },
  "toc": {
   "base_numbering": 1,
   "nav_menu": {},
   "number_sections": false,
   "sideBar": true,
   "skip_h1_title": false,
   "title_cell": "Table of Contents",
   "title_sidebar": "Contents",
   "toc_cell": false,
   "toc_position": {},
   "toc_section_display": true,
   "toc_window_display": false
  },
  "varInspector": {
   "cols": {
    "lenName": 16,
    "lenType": 16,
    "lenVar": 40
   },
   "kernels_config": {
    "python": {
     "delete_cmd_postfix": "",
     "delete_cmd_prefix": "del ",
     "library": "var_list.py",
     "varRefreshCmd": "print(var_dic_list())"
    },
    "r": {
     "delete_cmd_postfix": ") ",
     "delete_cmd_prefix": "rm(",
     "library": "var_list.r",
     "varRefreshCmd": "cat(var_dic_list()) "
    }
   },
   "types_to_exclude": [
    "module",
    "function",
    "builtin_function_or_method",
    "instance",
    "_Feature"
   ],
   "window_display": false
  }
 },
 "nbformat": 4,
 "nbformat_minor": 1
}
