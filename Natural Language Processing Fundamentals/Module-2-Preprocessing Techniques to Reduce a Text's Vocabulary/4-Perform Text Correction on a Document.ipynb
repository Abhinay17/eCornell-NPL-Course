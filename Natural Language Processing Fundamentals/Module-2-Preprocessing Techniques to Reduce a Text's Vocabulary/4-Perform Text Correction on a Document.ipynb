{
 "cells": [
  {
   "cell_type": "markdown",
   "metadata": {},
   "source": [
    "# Setup\n",
    "\n",
    "Reset the Python environment to clear it of any previously loaded variables, functions, or libraries. Then, import the libraries needed to complete the code Professor Melnikov presented in the video."
   ]
  },
  {
   "cell_type": "code",
   "execution_count": 1,
   "metadata": {},
   "outputs": [],
   "source": [
    "%reset -f\n",
    "from IPython.core.interactiveshell import InteractiveShell as IS\n",
    "IS.ast_node_interactivity = \"all\"    # allows multiple outputs from a cell\n",
    "import nltk, re"
   ]
  },
  {
   "cell_type": "markdown",
   "metadata": {},
   "source": [
    "To properly parse sentences with NLTK, you need to [download](https://www.nltk.org/data.html#installing-nltk-data) the punctuation corpus and [WordNet](https://en.wikipedia.org/wiki/WordNet) lexicon database."
   ]
  },
  {
   "cell_type": "code",
   "execution_count": 2,
   "metadata": {},
   "outputs": [],
   "source": [
    "tmp = nltk.download(['punkt', 'wordnet', 'omw-1.4'], quiet=True) # download punctuations and WordNet database\n",
    "from nltk.corpus import wordnet"
   ]
  },
  {
   "cell_type": "markdown",
   "metadata": {},
   "source": [
    "<hr style=\"border-top: 2px solid #606366; background: transparent;\">\n",
    "\n",
    "# **Review**\n",
    "\n",
    "## Using Regex to Remove Duplicate Characters\n",
    "\n",
    "The following `DedupTokens` function [recursively](https://en.wikipedia.org/wiki/Recursion_(computer_science)) removes duplicate characters (dups), until it reaches a word found in the WordNet database."
   ]
  },
  {
   "cell_type": "code",
   "execution_count": 3,
   "metadata": {},
   "outputs": [
    {
     "data": {
      "text/plain": [
       "['No', 'No', 'NoOoOoOo', 'An', 'Shal']"
      ]
     },
     "execution_count": 3,
     "metadata": {},
     "output_type": "execute_result"
    }
   ],
   "source": [
    "def DedupTokens(LsTokens=['NNNo', 'Noooo', 'NoOoOoOo', 'Ann', 'Shall']):\n",
    "    # pattern is precompiled for speed\n",
    "    repeat_pattern = re.compile(r'(\\w*)(\\w)\\2(\\w*)')  # find duplicated second group\n",
    "    def replace(old_word):\n",
    "        # recursively remove duplicated characters until the word is found in WordNet lexicon\n",
    "        if wordnet.synsets(old_word): return old_word\n",
    "        # return groups 1,2,3 only (without a duplicate of the group \\2):\n",
    "        new_word = repeat_pattern.sub(r'\\1\\2\\3', old_word) \n",
    "        return replace(new_word) if new_word != old_word else new_word  # stopping criterion\n",
    "    return [replace(word) for word in LsTokens]  # fix each word in the list\n",
    "\n",
    "DedupTokens()"
   ]
  },
  {
   "cell_type": "markdown",
   "metadata": {},
   "source": [
    "Here's how the `DedupTokens` function works in more detail:\n",
    "\n",
    "1. The regex pattern `(\\w*)(\\w)\\2(\\w*)` looks for three capturing groups of word characters (`\\w`:={letters, digits, _}) \n",
    "    1. [`re.compile`](https://docs.python.org/3/library/re.html#re.compile) checks the regex argument and prepares it for reuse. This speeds up the multiple applications of the given regex.\n",
    "1. The regex pattern `\\2` matches a duplicated character of the second group, `(\\w)`\n",
    "1. `r'` indicates a raw string so that `\\` characters are taken literally and not escaped by Python. These slashes are passed to regex, which uses them as escapes.\n",
    "1. `replace()` is a helper function which recursively calls itself\n",
    "1. `wordnet.synsets(old_word)` checks WordNet database for the existence of `old_word` in any letter casing\n",
    "    1. Thus, `wordnet.synsets('car')` and `wordnet.synsets('Car')` return the same result (which we will examine later)\n",
    "1. The main function evaluates `replace()` on each token in `LsTokens`\n",
    "    1. `replace()` checks if the argument `old_word` is found in WordNet, which marks the end of deduping\n",
    "        1. Or, it removes the `(\\w)` character from the word by leaving only the `\\1\\2\\3` pattern in the new word\n",
    "    1. If no character was removed (i.e., no dup found), then we are done with deduping of the current word\n",
    "        1. Or, we call replace again to check on other dup characters\n",
    "\n",
    "You can try [this regex in regex101](https://regex101.com/r/NwlUlO/1), an interactive online regex tool, which visually explains regex processing on a test string.\n",
    "\n",
    "## Limitations of the `DedupTokens()` Function\n",
    "\n",
    "The `DedupTokens()` function is not ideal. In fact, rule-based algorithms will rarely  handle all scenarios perfectly (whatever \"perfect\" means here). Some limitations of this function are, for example: \n",
    "\n",
    "1. It looks for a dup character in the exact same letter casing. We can improve the function by adding a regex parameter [`re.IGNORECASE`](https://docs.python.org/3/library/re.html#re.IGNORECASE) used to switch between case sensitive and case insensitive matches. \n",
    "1. It greatly depends on WordNet. New words, foreign words, identifying words (model numbers, phone numbers, etc.) may contain duplicate characters, but still be correct. For example, stock ticker `'AAA'`, `'BBB'`; better business bureau (`'BBB'`) organization, phone number `'800-555-7788'`, etc. Even the name `'Ann'` and the verb `'shall'` are not found in WordNet.\n",
    "    1. We can alleviate this issue by expanding the lexicon via addition of other relevant corpora.\n",
    "\n",
    "To see an example of this, let's use `DedupTokens` on a few words. Here the correct word `'subbookkeeper'` is fixed incorrectly because it is not found in WordNet."
   ]
  },
  {
   "cell_type": "code",
   "execution_count": null,
   "metadata": {},
   "outputs": [],
   "source": [
    "DedupTokens(['bittter', 'bassoonn', 'bookkeeper', 'subbookkeeper'])"
   ]
  },
  {
   "cell_type": "markdown",
   "metadata": {},
   "source": [
    "`DedupTokens()` works on most of the strings, but a correct word `'subbookkeeper'` is fixed incorrectly because it is not found in WordNet.\n",
    "\n",
    "Next, parse a sentence into words and then apply `DedupTokens()` to the list of parsed tokens."
   ]
  },
  {
   "cell_type": "code",
   "execution_count": null,
   "metadata": {},
   "outputs": [],
   "source": [
    "sPhrase = 'Learning at eCornell and Cornell is realllllyyy amaaazingggg'\n",
    "sFixedPhrase = DedupTokens(nltk.word_tokenize(sPhrase))\n",
    "' '.join(sFixedPhrase)"
   ]
  },
  {
   "cell_type": "markdown",
   "metadata": {},
   "source": [
    "In this instance, the incorrect words are fixed and the correct words remain correct. "
   ]
  },
  {
   "cell_type": "markdown",
   "metadata": {},
   "source": [
    "<hr style=\"border-top: 2px solid #606366; background: transparent;\">\n",
    "\n",
    "# Optional Practice\n",
    "\n",
    "In these practice tasks, you will modify the `DedupTokens()` function. \n",
    "\n",
    "As you work through these tasks, check your answers by running your code in the *#check solution here* cell, to see if you've gotten the correct result. If you get stuck on a task, click the See **solution** drop-down to view the answer."
   ]
  },
  {
   "cell_type": "markdown",
   "metadata": {},
   "source": [
    "## Task 1\n",
    "\n",
    "Modify `DedupTokens()` so that it accepts a new boolean argument `IgnoreCase`. Use this argument to determine if you will need to use the [`re.IGNORECASE`](https://docs.python.org/3/library/re.html#re.IGNORECASE) flag in [`re.compile()`](https://docs.python.org/3/library/re.html#re.compile) to ignore letter casing in pattern matching. Name the new user defined function (UDF) as `DedupTokens2()` and test your function with the default parameter `LsTokens`.\n",
    "\n",
    "<b>Hint:</b> Use the <code>flags</code> parameter of the <a href=\"https://docs.python.org/3/library/re.html#re.compile\"><code>re.compile()</code></a>"
   ]
  },
  {
   "cell_type": "code",
   "execution_count": null,
   "metadata": {},
   "outputs": [],
   "source": [
    "# check solution here"
   ]
  },
  {
   "cell_type": "markdown",
   "metadata": {},
   "source": [
    "\n",
    "<font color=#606366>\n",
    "    <details><summary><font color=#B31B1B>▶ </font>See <b>solution</b>.</summary>\n",
    "            <pre>\n",
    "def DedupTokens2(LsTokens=['NNNo', 'Noooo', 'NoOoOoOo', 'Ann', 'Shall'], IgnoreCase=False):\n",
    "  # pattern is precompiled for speed\n",
    "  flags = re.IGNORECASE if IgnoreCase else 0  # integer\n",
    "  repeat_pattern = re.compile(r'(\\w*)(\\w)\\2(\\w*)', flags=flags)  # find duplicated second group\n",
    "  def replace(old_word):\n",
    "    # recursively remove duplicated characters until the word is found in WordNet lexicon\n",
    "    if wordnet.synsets(old_word): return old_word\n",
    "    # return groups 1,2,3 only (without a duplicate of the group \\2):\n",
    "    new_word = repeat_pattern.sub(r'\\1\\2\\3', old_word) \n",
    "    return replace(new_word) if new_word != old_word else new_word  # stopping criterion\n",
    "  return [replace(word) for word in LsTokens]  # fix each word in the list\n",
    "print(DedupTokens2(IgnoreCase=False))\n",
    "print(DedupTokens2(IgnoreCase=True))\n",
    "            </pre>\n",
    "    </details> \n",
    "</font>\n",
    "<hr>"
   ]
  },
  {
   "cell_type": "markdown",
   "metadata": {},
   "source": [
    "## Task 2\n",
    " \n",
    "<span style=\"color:black\"> Use `nltk.download()` to load the `'gutenberg'` corpus and load the set of all unique words from `'carroll-alice.txt'` into the `SsAlice` variable. Apply `DedupTokens2()` to this set and wrap results as a set called  `SsAliceFixed`.\n",
    "    \n",
    "<b>Hint:</b> Use the <code>nltk.corpus.gutenberg.words()</code> method to load textbook from Gutenberg library. See examples <a href=\"https://www.nltk.org/book/ch02.html\">here</a>."
   ]
  },
  {
   "cell_type": "code",
   "execution_count": null,
   "metadata": {},
   "outputs": [],
   "source": [
    "# check solution here"
   ]
  },
  {
   "cell_type": "markdown",
   "metadata": {},
   "source": [
    "\n",
    "<font color=#606366>\n",
    "    <details><summary><font color=#B31B1B>▶ </font>See <b>solution</b>.</summary>\n",
    "            <pre>\n",
    "_ = nltk.download(['gutenberg'], quiet=True)\n",
    "LsAlice = nltk.corpus.gutenberg.words('carroll-alice.txt')\n",
    "SsAlice = set(LsAlice)\n",
    "SsAliceFixed = set(DedupTokens2(SsAlice))\n",
    "print(list(SsAliceFixed)[:20])\n",
    "            </pre>\n",
    "    </details> \n",
    "</font>\n",
    "<hr>"
   ]
  },
  {
   "cell_type": "markdown",
   "metadata": {},
   "source": [
    "## Task 3\n",
    "\n",
    "Print the words in `SsAlice` that were not fixed. \n",
    "\n",
    "<b>Hint:</b> You can do this with a <a href=\"https://docs.python.org/3/tutorial/datastructures.html#sets\">set difference</a>."
   ]
  },
  {
   "cell_type": "code",
   "execution_count": null,
   "metadata": {},
   "outputs": [],
   "source": [
    "# check solution here"
   ]
  },
  {
   "cell_type": "markdown",
   "metadata": {},
   "source": [
    "\n",
    "<font color=#606366>\n",
    "    <details><summary><font color=#B31B1B>▶ </font>See <b>solution</b>.</summary>\n",
    "            <pre>\n",
    "print(SsAlice - SsAliceFixed)\n",
    "            </pre>\n",
    "    </details> \n",
    "</font>\n",
    "<hr>"
   ]
  },
  {
   "cell_type": "markdown",
   "metadata": {},
   "source": [
    "## Task 4\n",
    " \n",
    "You can improve this UDF check by using it on documents with additional lexicon. The Brown corpus uses a large vocabulary of English words.\n",
    " \n",
    "1. use `nltk.download()` to load the `'brown'` corpus. \n",
    "1. load a list of words from the corpus, then convert them to a set `SsBrO`\n",
    "1. use set comprehension to lower-case these words and save to `SsBrLow` set of strings\n",
    "1. union these two sets and save to `SsBrown` variable (as a set of strings)\n",
    " \n",
    " `SsBrown`$\\leftarrow$ `SsBrO`$\\cup$ lower-cased(`SsBrO`)\n",
    " \n",
    "With this corpus, you now have a large vocabulary of lower- and original-cased words, which you can use to validate words in `replace()` helper function. Print the first twenty words from `SsBrown`.\n",
    "\n",
    "<b>Hint:</b> You can convert all Brown words with <a href=\"https://docs.python.org/3/tutorial/datastructures.html#sets\">set comprehension</a>."
   ]
  },
  {
   "cell_type": "code",
   "execution_count": null,
   "metadata": {
    "code_folding": []
   },
   "outputs": [],
   "source": [
    "# check solution here"
   ]
  },
  {
   "cell_type": "markdown",
   "metadata": {},
   "source": [
    "\n",
    "<font color=#606366>\n",
    "    <details><summary><font color=#b31b1b>▶ </font>See <b>solution</b>.</summary>\n",
    "            <pre>\n",
    "_ = nltk.download(['brown'], quiet=True)\n",
    "SsBrO = set(nltk.corpus.brown.words())  # original set of Brown words\n",
    "SsBrLow = {s.lower() for s in SsBrO}    # lower cased set of Brown words\n",
    "SsBrown = SsBrO.union(SsBrLow)    # both original and lower-cased\n",
    "print(list(SsBrown)[:20])\n",
    "            </pre>\n",
    "    </details> \n",
    "</font>\n",
    "<hr>"
   ]
  },
  {
   "cell_type": "markdown",
   "metadata": {},
   "source": [
    "## Task 5\n",
    "\n",
    "Validate that the original lexicon (SsBrO) contains 56,057 unique word tokens, the lower case lexicon (SsBrLow) contains 49,815 word tokens, and the final lexicon (SsBrown) contains 67,045 word tokens. Determine the number of words that are in mixed casing (and not in lower casing) in the Brown corpus.\n",
    "\n",
    "<b>Hint:</b> Try a set difference."
   ]
  },
  {
   "cell_type": "code",
   "execution_count": null,
   "metadata": {},
   "outputs": [],
   "source": [
    "# check solution here    "
   ]
  },
  {
   "cell_type": "markdown",
   "metadata": {},
   "source": [
    "\n",
    "<font color=#606366>\n",
    "    <details><summary><font color=#b31b1b>▶ </font>See <b>solution</b>.</summary>\n",
    "            <pre>\n",
    "print('Original:', len(SsBrO), ', Lower:', len(SsBrLow), ', Final:', len(SsBrown), ', Added words:', len(SsBrO) - len(SsBrLow))\n",
    "            </pre>\n",
    "    </details> \n",
    "</font>\n",
    "<hr>"
   ]
  },
  {
   "cell_type": "markdown",
   "metadata": {},
   "source": [
    "## Task 6\n",
    " \n",
    "Find the first twenty (alphabetically sorted) words, which you created by lower-casing the original Brown words.\n",
    "\n",
    "<b>Hint:</b> Try set difference and <a href=\"https://docs.python.org/3/howto/sorting.html#sorting-basics\"><code>sorted</code></a> operation."
   ]
  },
  {
   "cell_type": "code",
   "execution_count": null,
   "metadata": {},
   "outputs": [],
   "source": [
    "# check solution here"
   ]
  },
  {
   "cell_type": "markdown",
   "metadata": {},
   "source": [
    "\n",
    "<font color=#606366>\n",
    "    <details><summary><font color=#b31b1b>▶ </font>See <b>solution</b>.</summary>\n",
    "            <pre>\n",
    "print(sorted(SsBrO - SsBrLow)[:20])\n",
    "            </pre>\n",
    "    </details> \n",
    "</font>\n",
    "<hr>"
   ]
  }
 ],
 "metadata": {
  "anaconda-cloud": {},
  "kernelspec": {
   "display_name": "Python 3",
   "language": "python",
   "name": "python3"
  },
  "language_info": {
   "codemirror_mode": {
    "name": "ipython",
    "version": 3
   },
   "file_extension": ".py",
   "mimetype": "text/x-python",
   "name": "python",
   "nbconvert_exporter": "python",
   "pygments_lexer": "ipython3",
   "version": "3.6.9"
  },
  "toc": {
   "base_numbering": 1,
   "nav_menu": {},
   "number_sections": false,
   "sideBar": true,
   "skip_h1_title": false,
   "title_cell": "Table of Contents",
   "title_sidebar": "Contents",
   "toc_cell": false,
   "toc_position": {},
   "toc_section_display": true,
   "toc_window_display": false
  },
  "varInspector": {
   "cols": {
    "lenName": 16,
    "lenType": 16,
    "lenVar": 40
   },
   "kernels_config": {
    "python": {
     "delete_cmd_postfix": "",
     "delete_cmd_prefix": "del ",
     "library": "var_list.py",
     "varRefreshCmd": "print(var_dic_list())"
    },
    "r": {
     "delete_cmd_postfix": ") ",
     "delete_cmd_prefix": "rm(",
     "library": "var_list.r",
     "varRefreshCmd": "cat(var_dic_list()) "
    }
   },
   "types_to_exclude": [
    "module",
    "function",
    "builtin_function_or_method",
    "instance",
    "_Feature"
   ],
   "window_display": false
  }
 },
 "nbformat": 4,
 "nbformat_minor": 1
}
