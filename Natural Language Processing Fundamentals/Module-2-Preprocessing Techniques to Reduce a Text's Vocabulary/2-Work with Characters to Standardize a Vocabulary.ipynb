{
 "cells": [
  {
   "cell_type": "markdown",
   "metadata": {},
   "source": [
    "# **Setup**\n",
    " \n",
    "\n",
    "Reset the Python environment to clear it of any previously loaded variables, functions, or libraries. Then, import the libraries needed to complete the code Professor Melnikov presented in the video."
   ]
  },
  {
   "cell_type": "code",
   "execution_count": 1,
   "metadata": {},
   "outputs": [],
   "source": [
    "%reset -f\n",
    "from IPython.core.interactiveshell import InteractiveShell as IS\n",
    "IS.ast_node_interactivity = \"all\"    # allows multiple outputs from a cell\n",
    "import re, pandas as pd, unicodedata"
   ]
  },
  {
   "cell_type": "markdown",
   "metadata": {},
   "source": [
    "<hr style=\"border-top: 2px solid #606366; background: transparent;\">\n",
    "\n",
    "# **Review**\n",
    "\n",
    "Python supports different types of strings, including raw, f-string, binary, and unicode strings. In particular, a [unicode string](https://www.python.org/dev/peps/pep-0414/#proposal) is defined by a unicode (`u`) character that precedes a string, e.g., `u'NLP'`. In Python 3.x, all strings are unicode by default, so the `u` decorator is not necessary. Unicode strings can store non-[ASCII](https://en.wikipedia.org/wiki/ASCII) characters, such as accented letters, symbols, and even emojis.\n",
    "\n",
    "## Reducing Text Vocabulary by Normalizing Strings\n",
    "\n",
    "Stripping accent marks from characters is an important preprocessing technique because it allows you to reduce the vocabulary of your document. Unfortunately, simply converting your text from unicode to ASCII with the `str.encode()` method does not de-accent letters, and instead removes the accented letters."
   ]
  },
  {
   "cell_type": "code",
   "execution_count": 2,
   "metadata": {},
   "outputs": [
    {
     "data": {
      "text/plain": [
       "b'A sugar-free crme brle is still a creme brulee and costs $1,234.777!!!  '"
      ]
     },
     "execution_count": 2,
     "metadata": {},
     "output_type": "execute_result"
    }
   ],
   "source": [
    "s = u'A sugar-free crème brûlée is '\\\n",
    "  'still a creme brulee and costs $1,234.777!!! 🆆🅾🆆 😋🍮'\n",
    "s.encode('ascii', 'ignore')"
   ]
  },
  {
   "cell_type": "markdown",
   "metadata": {},
   "source": [
    "A safer approach is to first normalize the string with the [`unicodedata.normalize()`](https://docs.python.org/3/library/unicodedata.html#unicodedata.normalize) method and specifying the desired normalization form. Below, we use the `'NFKD'` form of normalization. \n"
   ]
  },
  {
   "cell_type": "code",
   "execution_count": 3,
   "metadata": {},
   "outputs": [
    {
     "data": {
      "text/plain": [
       "'A sugar-free crème brûlée is still a creme brulee and costs $1,234.777!!! 🆆🅾🆆 😋🍮'"
      ]
     },
     "execution_count": 3,
     "metadata": {},
     "output_type": "execute_result"
    }
   ],
   "source": [
    "normalized = unicodedata.normalize('NFKD', s)\n",
    "normalized"
   ]
  },
  {
   "cell_type": "markdown",
   "metadata": {},
   "source": [
    "Once normalized, the unicode string can be converted to ASCII, and the accented characters are replaced with their closest ASCII equivalent. Thus, `'û'` is replaced with `'u'` and so on. Characters without an equivalent are deleted from the output string. "
   ]
  },
  {
   "cell_type": "code",
   "execution_count": 4,
   "metadata": {},
   "outputs": [
    {
     "data": {
      "text/plain": [
       "b'A sugar-free creme brulee is still a creme brulee and costs $1,234.777!!!  '"
      ]
     },
     "execution_count": 4,
     "metadata": {},
     "output_type": "execute_result"
    }
   ],
   "source": [
    "encoded = normalized.encode('ascii', 'ignore')\n",
    "encoded"
   ]
  },
  {
   "cell_type": "markdown",
   "metadata": {},
   "source": [
    "Finally, decode the encoded string."
   ]
  },
  {
   "cell_type": "code",
   "execution_count": 5,
   "metadata": {},
   "outputs": [
    {
     "data": {
      "text/plain": [
       "'A sugar-free creme brulee is still a creme brulee and costs $1,234.777!!!  '"
      ]
     },
     "execution_count": 5,
     "metadata": {},
     "output_type": "execute_result"
    }
   ],
   "source": [
    "encoded.decode('utf-8', 'ignore')"
   ]
  },
  {
   "cell_type": "markdown",
   "metadata": {},
   "source": [
    "## Removing All Special Characters \n",
    "\n",
    "Sometimes you will need to remove all special characters. You should be careful to avoid corrupting phrases and structured expressions. Accommodating all edge cases can require a complex regex expression. Note that the `'\\w'` word character treats unicode letters like any other letter, but `'A-Z'` are strictly ASCII letters."
   ]
  },
  {
   "cell_type": "code",
   "execution_count": 6,
   "metadata": {},
   "outputs": [
    {
     "name": "stdout",
     "output_type": "stream",
     "text": [
      "A sugarfree crme brle is still a creme brulee and costs   \n",
      "A sugarfree crème brûlée is still a creme brulee and costs 1234777  \n"
     ]
    }
   ],
   "source": [
    "print(re.sub(pattern='[^A-Za-z_ ]+', repl='', string=s))\n",
    "print(re.sub(pattern='[^\\w ]+', repl='', string=s))"
   ]
  },
  {
   "cell_type": "markdown",
   "metadata": {},
   "source": [
    "<hr style=\"border-top: 2px solid #606366; background: transparent;\">\n",
    "\n",
    "# Optional Practice\n",
    "\n",
    "You will standardize some sentences using the regex and normalization techniques discussed above. Run the following code to load and print the strings you will work with. "
   ]
  },
  {
   "cell_type": "code",
   "execution_count": 7,
   "metadata": {},
   "outputs": [],
   "source": [
    "sSAT = 'Sómě Áccěntěd těxt'\n",
    "sStd = 'élève, Elève, élEvé, élévé, éleve, eLevé, eléVe'  # \"Student\" in French\n",
    "sPhone = \"1 (123) 345-6789 Jack\"  # Goal: \"1 (123) 345-6789 Jack\" ➞\"11233456789\"\n",
    "sPost = \"In 2018, I made my first crème brûlée! Did you like it? :), ;-), *&@)#@!\" "
   ]
  },
  {
   "cell_type": "markdown",
   "metadata": {},
   "source": [
    "As you work through these tasks, check your answers by running your code in the *#check solution here* cell, to see if you've gotten the correct result. If you get stuck on a task, click the See **solution** drop-down to view the answer."
   ]
  },
  {
   "cell_type": "markdown",
   "metadata": {},
   "source": [
    "## Task 1\n",
    "\n",
    "Complete the `NumbersOnly()` function so that it removes all non-digit characters from a string. Then, call this function with `sPhone` and `sPost` variables.\n",
    "\n",
    "<b>Hint:</b> Try <code>re.sub()</code> with character class <code>[^0-9]</code>"
   ]
  },
  {
   "cell_type": "code",
   "execution_count": null,
   "metadata": {},
   "outputs": [],
   "source": [
    "def NumbersOnly(sTxt='') -> str:\n",
    "    ''' Removes all non-digit characters from a string\n",
    "        Returns: the digit characters from sTxt'''\n",
    "    # check solution here\n",
    "\n",
    "    return sTxtNumOnly"
   ]
  },
  {
   "cell_type": "markdown",
   "metadata": {},
   "source": [
    "<font color=#606366>\n",
    "    <details>\n",
    "        <summary><font color=#b31b1b>▶</font>\n",
    "            See <b>solution</b>.\n",
    "        </summary>\n",
    "            <pre>\n",
    "# Solution 1:\n",
    "def NumbersOnly(sTxt='') -> str:\n",
    "    sTxtNumOnly = re.sub(pattern = r'[^0-9]', repl = '', string = sTxt)\n",
    "    return sTxtNumOnly\n",
    "\n",
    "NumbersOnly(sPhone)\n",
    "NumbersOnly(sPost)\n",
    "\n",
    "<span># Solution 2:</span>\n",
    "def NumbersOnly(sTxt='') -> str:\n",
    "    sTxtNumOnly = re.sub(pattern = r'[^\\d]', repl = '', string = sTxt)\n",
    "    return sTxtNumOnly\n",
    "    \n",
    "NumbersOnly(sPhone)\n",
    "NumbersOnly(sPost)\n",
    "            </pre>\n",
    "    </details> \n",
    "</font>\n",
    "<hr>"
   ]
  },
  {
   "cell_type": "markdown",
   "metadata": {},
   "source": [
    "## Task 2\n",
    "\n",
    "Now, complete the `AlphaNumOnly()` function, which takes a string and drops all non-alphanumeric ASCII characters (i.e., upper and lower a-z and digits 0-9). Then use it to clean the variables `sPhone` and `sPost`.\n",
    "\n",
    "<b>Hint:</b> Try <code>re.sub()</code> with character class <code>r'[^a-zA-Z0-9]'</code>"
   ]
  },
  {
   "cell_type": "code",
   "execution_count": null,
   "metadata": {},
   "outputs": [],
   "source": [
    "def AlphaNumOnly(sTxt='') -> str:\n",
    "    ''' Removes all non-alphanumeric characters from a string\n",
    "        Returns: the alphanumeric characters from sTxt'''\n",
    "    # check solution here\n",
    "\n",
    "    return sTxtAlphaNum"
   ]
  },
  {
   "cell_type": "markdown",
   "metadata": {},
   "source": [
    "<font color=#606366>\n",
    "    <details>\n",
    "        <summary><font color=#b31b1b>▶</font>\n",
    "            See <b>solution</b> \n",
    "        </summary>\n",
    "            <pre>\n",
    "            \n",
    "def AlphaNumOnly(sTxt='') -> str:\n",
    "    sTxtAlphaNum = re.sub(pattern = r'[^a-zA-Z0-9]', repl = '', string = sTxt)\n",
    "    return sTxtAlphaNum\n",
    "\n",
    "AlphaNumOnly(sPhone)\n",
    "AlphaNumOnly(sPost)\n",
    "            </pre>\n",
    "    </details> \n",
    "</font>\n",
    "<hr>"
   ]
  },
  {
   "cell_type": "markdown",
   "metadata": {},
   "source": [
    "## Task 3\n",
    "\n",
    "Create a function called `NoAccents()` that takes a string and both replaces accented characters with their ASCII equivalents **and** lowercases all letters. Apply this function to `sSAT` and `sStd` variables.\n",
    "\n",
    "<b>Hint:</b> Try the same normalization as above, but also call <code>.lower()</code> method on the resulting output."
   ]
  },
  {
   "cell_type": "code",
   "execution_count": null,
   "metadata": {},
   "outputs": [],
   "source": [
    "def NoAccents(sTxt='') -> str:\n",
    "    ''' Replaces accented characters in sTxt with their ASCII equivalents\n",
    "        Lowercases all letters\n",
    "        Returns: a lowercased sTxt with no accents'''\n",
    "    # check solution here\n",
    "\n",
    "    return sTxtNoAccents            "
   ]
  },
  {
   "cell_type": "markdown",
   "metadata": {},
   "source": [
    "<font color=#606366>\n",
    "    <details>\n",
    "        <summary><font color=#b31b1b>▶</font>\n",
    "            See <b>solution</b> \n",
    "        </summary>\n",
    "            <pre>\n",
    "def NoAccents(sTxt='') -> str:\n",
    "    sTxtNoAccents = unicodedata.normalize('NFKD', sTxt).encode('ascii', 'ignore').decode('utf-8', 'ignore').lower()\n",
    "    return sTxtNoAccents\n",
    "    \n",
    "NoAccents(sSAT)\n",
    "NoAccents(sStd)\n",
    "            </pre>\n",
    "    </details> \n",
    "</font>"
   ]
  }
 ],
 "metadata": {
  "anaconda-cloud": {},
  "kernelspec": {
   "display_name": "Python 3",
   "language": "python",
   "name": "python3"
  },
  "language_info": {
   "codemirror_mode": {
    "name": "ipython",
    "version": 3
   },
   "file_extension": ".py",
   "mimetype": "text/x-python",
   "name": "python",
   "nbconvert_exporter": "python",
   "pygments_lexer": "ipython3",
   "version": "3.6.9"
  },
  "toc": {
   "base_numbering": 1,
   "nav_menu": {},
   "number_sections": false,
   "sideBar": true,
   "skip_h1_title": false,
   "title_cell": "Table of Contents",
   "title_sidebar": "Contents",
   "toc_cell": false,
   "toc_position": {},
   "toc_section_display": true,
   "toc_window_display": false
  },
  "varInspector": {
   "cols": {
    "lenName": 16,
    "lenType": 16,
    "lenVar": 40
   },
   "kernels_config": {
    "python": {
     "delete_cmd_postfix": "",
     "delete_cmd_prefix": "del ",
     "library": "var_list.py",
     "varRefreshCmd": "print(var_dic_list())"
    },
    "r": {
     "delete_cmd_postfix": ") ",
     "delete_cmd_prefix": "rm(",
     "library": "var_list.r",
     "varRefreshCmd": "cat(var_dic_list()) "
    }
   },
   "types_to_exclude": [
    "module",
    "function",
    "builtin_function_or_method",
    "instance",
    "_Feature"
   ],
   "window_display": false
  }
 },
 "nbformat": 4,
 "nbformat_minor": 1
}
