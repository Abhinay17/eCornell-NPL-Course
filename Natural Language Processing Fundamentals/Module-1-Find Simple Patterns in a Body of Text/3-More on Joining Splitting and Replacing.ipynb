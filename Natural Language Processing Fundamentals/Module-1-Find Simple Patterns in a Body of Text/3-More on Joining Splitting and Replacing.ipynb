{
 "cells": [
  {
   "cell_type": "markdown",
   "metadata": {},
   "source": [
    "# **Setup**\n",
    "\n",
    "Work through the following examples to discover more ways you can use the `join()`, `replace()`, and `split()` methods to preprocess strings. "
   ]
  },
  {
   "cell_type": "code",
   "execution_count": 3,
   "metadata": {},
   "outputs": [],
   "source": [
    "%reset -f \n",
    "from IPython.core.interactiveshell import InteractiveShell as IS\n",
    "IS.ast_node_interactivity = \"all\"    # allows multiple outputs from a cell\n",
    "\n",
    "# Create variables you'll use in this coding activity:\n",
    "sDoc1 = 'NLP is so fun.'\n",
    "sDoc2 = 'I like it a ton.'"
   ]
  },
  {
   "cell_type": "markdown",
   "metadata": {},
   "source": [
    "<h2>More methods for joining, replacing and splitting strings</h2>\n",
    "\n",
    "The following cells contain more techniques you can perform with the [`join()`](https://docs.python.org/3/library/stdtypes.html#str.join), [`replace()`](https://docs.python.org/3/library/stdtypes.html#str.replace), and [`split()`](https://docs.python.org/3/library/stdtypes.html#str.split) methods. These techniques can be important when you preprocess strings, and you will use them as you work through the rest of this course. "
   ]
  },
  {
   "cell_type": "markdown",
   "metadata": {},
   "source": [
    "## `join()` method \n",
    "\n",
    "The `join()` method takes a list (or any iterable) of strings and concatenates (or \"glues\") them in the same order of a single larger string. If you attempt to pass a list of numbers or some other elements (which is a common mistake), an interpreter displays an error message. "
   ]
  },
  {
   "cell_type": "code",
   "execution_count": 4,
   "metadata": {},
   "outputs": [
    {
     "name": "stdout",
     "output_type": "stream",
     "text": [
      "NLP is so fun. I like it a ton.\n",
      "NLP is so fun. I like it a ton.\n"
     ]
    }
   ],
   "source": [
    "sDoc3 = sDoc1 + ' ' + sDoc2      # concatenate strings\n",
    "print(sDoc3)\n",
    "print(' '.join([sDoc1, sDoc2]))  # the same output, but concatenation is done with join()"
   ]
  },
  {
   "cell_type": "markdown",
   "metadata": {},
   "source": [
    "The example below creates a list of odd integers `LnOdd`. If passed to `join()` directly, a `TypeError` is thrown. Instead, each element needs to be cast to a string as is shown below."
   ]
  },
  {
   "cell_type": "code",
   "execution_count": 5,
   "metadata": {},
   "outputs": [
    {
     "data": {
      "text/plain": [
       "([1, 3, 5, 7, 9, 11, 13, 15, 17, 19],\n",
       " ['1', '3', '5', '7', '9', '11', '13', '15', '17', '19'])"
      ]
     },
     "execution_count": 5,
     "metadata": {},
     "output_type": "execute_result"
    }
   ],
   "source": [
    "LnOdd = [i for i in range(20) if i%2]   # conditional list comprehension resulting in a list of integers\n",
    "LsOdd = [str(i) for i in LnOdd]  # converts each integer to a string\n",
    "LnOdd, LsOdd"
   ]
  },
  {
   "cell_type": "markdown",
   "metadata": {},
   "source": [
    "You can catch a runtime error with [`try` clause](https://docs.python.org/3/tutorial/errors.html#handling-exceptions) to avoid interruption of interpreter's execution. In the cell below, two `join()` methods are called with different arguments. The first one throws an `TypeError`, while the second successfully executes joining all string characters into a single summation expression (still stored as a string)."
   ]
  },
  {
   "cell_type": "code",
   "execution_count": 6,
   "metadata": {},
   "outputs": [
    {
     "name": "stdout",
     "output_type": "stream",
     "text": [
      "sequence item 0: expected str instance, int found <class 'TypeError'>\n"
     ]
    },
    {
     "data": {
      "text/plain": [
       "'1 + 3 + 5 + 7 + 9 + 11 + 13 + 15 + 17 + 19'"
      ]
     },
     "execution_count": 6,
     "metadata": {},
     "output_type": "execute_result"
    }
   ],
   "source": [
    "try:\n",
    "    ' + '.join(LnOdd)\n",
    "except BaseException as err:\n",
    "    print(err, type(err))\n",
    "\n",
    "' + '.join(LsOdd)"
   ]
  },
  {
   "cell_type": "markdown",
   "metadata": {},
   "source": [
    "Finally, the following statement displays the individual summands on the left of the equality sign and the corresponding total sum on the right hand side."
   ]
  },
  {
   "cell_type": "code",
   "execution_count": 7,
   "metadata": {},
   "outputs": [
    {
     "data": {
      "text/plain": [
       "'1 + 3 + 5 + 7 + 9 + 11 + 13 + 15 + 17 + 19 = 100'"
      ]
     },
     "execution_count": 7,
     "metadata": {},
     "output_type": "execute_result"
    }
   ],
   "source": [
    "' + '.join(LsOdd) + ' = ' + str(sum(LnOdd))"
   ]
  },
  {
   "cell_type": "markdown",
   "metadata": {},
   "source": [
    "## `replace()` method\n",
    "\n",
    "The `replace()` method allows you to search and replace an old string pattern with a new string pattern. \n",
    "\n",
    "The example below defines a string of nucleotides (characters A, C, T, G), `sNucleotides`, which we often call a DNA sequence. You can check if a specific subsequence is in the `sNucleotides` with an `in` operation. "
   ]
  },
  {
   "cell_type": "code",
   "execution_count": 8,
   "metadata": {},
   "outputs": [
    {
     "data": {
      "text/plain": [
       "False"
      ]
     },
     "execution_count": 8,
     "metadata": {},
     "output_type": "execute_result"
    }
   ],
   "source": [
    "sNucleotides = 'CTGAACTGAGACTTGGACTGAACTGACTGACTGACTGACTGACTGACTGACTGACTGACT'\n",
    "'GACTTG1' in sNucleotides  # check whether 'GACTTG1' is in sNucleotides"
   ]
  },
  {
   "cell_type": "markdown",
   "metadata": {},
   "source": [
    "You can also search for a pattern `'. '` and replace it with an exclamation sign."
   ]
  },
  {
   "cell_type": "code",
   "execution_count": 9,
   "metadata": {},
   "outputs": [
    {
     "data": {
      "text/plain": [
       "'NLP is so fun!🎉 I like it a ton.'"
      ]
     },
     "execution_count": 9,
     "metadata": {},
     "output_type": "execute_result"
    }
   ],
   "source": [
    "sDoc4 = sDoc3.replace('. ', '!🎉 ')   # replace a period+space with new pattern\n",
    "sDoc4"
   ]
  },
  {
   "cell_type": "code",
   "execution_count": 10,
   "metadata": {},
   "outputs": [
    {
     "data": {
      "text/plain": [
       "('NLP is so fun.', 'NLP_is_so_fun.')"
      ]
     },
     "execution_count": 10,
     "metadata": {},
     "output_type": "execute_result"
    }
   ],
   "source": [
    "sDoc1, sDoc1.replace(' ', '_')     # replace spaces with underscores"
   ]
  },
  {
   "cell_type": "markdown",
   "metadata": {},
   "source": [
    "## `split()` method\n",
    "\n",
    "The `split()` method divides the string into a list of substrings, which were originally separated by some pattern. In the example below, the string is split by spaces."
   ]
  },
  {
   "cell_type": "code",
   "execution_count": null,
   "metadata": {},
   "outputs": [],
   "source": [
    "sDoc5 = sDoc1.split(' ')\n",
    "sDoc5"
   ]
  },
  {
   "cell_type": "markdown",
   "metadata": {},
   "source": [
    "The new list of strings can now be joined with a new character, which produces a result similar to the one derived from the `replace()` function."
   ]
  },
  {
   "cell_type": "code",
   "execution_count": null,
   "metadata": {},
   "outputs": [],
   "source": [
    "sDoc1, '_'.join(sDoc5)  # same result as above, sDoc1.replace(' ', '_')"
   ]
  }
 ],
 "metadata": {
  "anaconda-cloud": {},
  "kernelspec": {
   "display_name": "Python 3",
   "language": "python",
   "name": "python3"
  },
  "language_info": {
   "codemirror_mode": {
    "name": "ipython",
    "version": 3
   },
   "file_extension": ".py",
   "mimetype": "text/x-python",
   "name": "python",
   "nbconvert_exporter": "python",
   "pygments_lexer": "ipython3",
   "version": "3.6.9"
  },
  "toc": {
   "base_numbering": 1,
   "nav_menu": {},
   "number_sections": false,
   "sideBar": true,
   "skip_h1_title": false,
   "title_cell": "Table of Contents",
   "title_sidebar": "Contents",
   "toc_cell": false,
   "toc_position": {},
   "toc_section_display": true,
   "toc_window_display": false
  },
  "varInspector": {
   "cols": {
    "lenName": 16,
    "lenType": 16,
    "lenVar": 40
   },
   "kernels_config": {
    "python": {
     "delete_cmd_postfix": "",
     "delete_cmd_prefix": "del ",
     "library": "var_list.py",
     "varRefreshCmd": "print(var_dic_list())"
    },
    "r": {
     "delete_cmd_postfix": ") ",
     "delete_cmd_prefix": "rm(",
     "library": "var_list.r",
     "varRefreshCmd": "cat(var_dic_list()) "
    }
   },
   "types_to_exclude": [
    "module",
    "function",
    "builtin_function_or_method",
    "instance",
    "_Feature"
   ],
   "window_display": false
  }
 },
 "nbformat": 4,
 "nbformat_minor": 1
}
