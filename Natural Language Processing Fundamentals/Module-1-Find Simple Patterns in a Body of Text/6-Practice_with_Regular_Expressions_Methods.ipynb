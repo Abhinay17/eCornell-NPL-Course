{
 "cells": [
  {
   "cell_type": "markdown",
   "metadata": {},
   "source": [
    "# **Setup**\n",
    " \n",
    "Reset the Python environment to clear it of any previously loaded variables, functions, or libraries. Then, import the libraries needed to complete the code Professor Melnikov presented in the video.  "
   ]
  },
  {
   "cell_type": "code",
   "execution_count": 1,
   "metadata": {},
   "outputs": [],
   "source": [
    "%reset -f\n",
    "from IPython.core.interactiveshell import InteractiveShell as IS\n",
    "IS.ast_node_interactivity = \"all\"    # allows multiple outputs from a cell\n",
    "import nltk, re"
   ]
  },
  {
   "cell_type": "markdown",
   "metadata": {},
   "source": [
    "<hr style=\"border-top: 2px solid #606366; background: transparent;\">\n",
    "\n",
    "# **Review**\n",
    "\n",
    "Review some of the simple but powerful regex techniques that Professor Melnikov demonstrated in the previous video. In particular, you will examine several different methods of the [`re`](https://docs.python.org/3/library/re.html#module-re) library, including: \n",
    "\n",
    "* [`search()`](https://docs.python.org/3/library/re.html#re.search) \n",
    "* [`findall()`](https://docs.python.org/3/library/re.html#re.findall)\n",
    "* [`sub()`](https://docs.python.org/3/library/re.html#re.sub)\n",
    "\n",
    "You'll also practice using some of the more complex search patterns Professor Melnikov used in the video. Start by loading and printing `sFix`, the string you will be working with in this coding activity."
   ]
  },
  {
   "cell_type": "code",
   "execution_count": 2,
   "metadata": {},
   "outputs": [
    {
     "name": "stdout",
     "output_type": "stream",
     "text": [
      "fix is in prefix, suffix, affix, and fixture\n"
     ]
    }
   ],
   "source": [
    "sFix = 'fix is in prefix, suffix, affix, and fixture'\n",
    "print(sFix)"
   ]
  },
  {
   "cell_type": "markdown",
   "metadata": {},
   "source": [
    "## First Match\n",
    "\n",
    "You can use the `re.search()` method to find only the first match of a pattern in a given string. Instead of returning a modified string, this search returns a [`re.Match`](https://docs.python.org/3/library/re.html#match-objects) object, which provides information about the first match, including its location within the string. \n",
    "\n",
    "The example below looks for words starting with `'fix'` followed by at least one word character. Whenever a non-word character is reached (such as a space), the search stops.  The search reports that the first match is the word `'fixture'`, which starts in position 37 and ends in position 44 (which is the length of string `s`). "
   ]
  },
  {
   "cell_type": "code",
   "execution_count": 3,
   "metadata": {},
   "outputs": [
    {
     "data": {
      "text/plain": [
       "<_sre.SRE_Match object; span=(37, 44), match='fixture'>"
      ]
     },
     "execution_count": 3,
     "metadata": {},
     "output_type": "execute_result"
    },
    {
     "name": "stdout",
     "output_type": "stream",
     "text": [
      "regex object is \t\t <_sre.SRE_Match object; span=(37, 44), match='fixture'>\n",
      "found string is \t\t fixture\n",
      "starting index position\t 37\n",
      "ending index position\t 44\n"
     ]
    }
   ],
   "source": [
    "m = re.search(pattern='fix\\w+', string=sFix, flags=0)   # match \"fix\" followed by at least one word character\n",
    "m\n",
    "\n",
    "print('regex object is \\t\\t', re.search('fix\\w+', sFix))\n",
    "print('found string is \\t\\t', re.search('fix\\w+', sFix)[0])\n",
    "print('starting index position\\t', re.search('fix\\w+', sFix).start())\n",
    "print('ending index position\\t', re.search('fix\\w+', sFix).end())"
   ]
  },
  {
   "cell_type": "markdown",
   "metadata": {},
   "source": [
    "As you can see, the  `re.Match` object includes the string `'fixture'`, which matches the specified search pattern `'fix\\w+'`.  You can access this string by slicing the `re.Match` object directly or calling its [`.group()`](https://docs.python.org/3/library/re.html#re.Match.group) method; both methods return the same result."
   ]
  },
  {
   "cell_type": "code",
   "execution_count": 4,
   "metadata": {},
   "outputs": [
    {
     "data": {
      "text/plain": [
       "('fixture', 'fixture')"
      ]
     },
     "execution_count": 4,
     "metadata": {},
     "output_type": "execute_result"
    }
   ],
   "source": [
    "m[0], m.group(0)"
   ]
  },
  {
   "cell_type": "markdown",
   "metadata": {},
   "source": [
    "The meta information the `re.Match` object contains also includes the starting and ending index positions."
   ]
  },
  {
   "cell_type": "code",
   "execution_count": 5,
   "metadata": {},
   "outputs": [
    {
     "name": "stdout",
     "output_type": "stream",
     "text": [
      "starting index position\t 37\n",
      "ending index position\t 44\n"
     ]
    }
   ],
   "source": [
    "print('starting index position\\t', m.start())\n",
    "print('ending index position\\t', m.end())"
   ]
  },
  {
   "cell_type": "markdown",
   "metadata": {},
   "source": [
    "<details style=\"margin-top:0px;border-radius:20px\"><summary>\n",
    "    <div id=\"button\" style=\"background-color:#eee;padding:10px;border:1px solid black;border-radius:20px\">\n",
    "       <font color=#B31B1B>▶ </font> \n",
    "        <b>Application in NLP</b>: Finding User IDs\n",
    "    </div></summary>\n",
    "<div id=\"button_info\" style=\"padding:10px\">This information can be used to find the location of some trigger word and then look for information related to the trigger word. For example, we could look for <code>'SkypeID:'</code> trigger and then extract the ID itself, which is likely to follow such a trigger. If no substring is found, the search returns <code>None</code>, which is evaluted as <code>False</code>.</div> </details>\n",
    "\n",
    "## All Matches\n",
    "\n",
    "\n",
    "To retrieve all instances of matched substrings, you can use the [`re.findall()`](https://docs.python.org/3/library/re.html#re.findall) method, which returns a list of strings without meta data. This can be useful if you want to know the presence of string patterns, or their counts, in a document, but do not need their locations. The following code finds all matched substrings that contain a digit followed by two zeros."
   ]
  },
  {
   "cell_type": "code",
   "execution_count": 6,
   "metadata": {},
   "outputs": [
    {
     "data": {
      "text/plain": [
       "['100', '100']"
      ]
     },
     "execution_count": 6,
     "metadata": {},
     "output_type": "execute_result"
    }
   ],
   "source": [
    "s01 = \"1110001110001\"\n",
    "re.findall(pattern='\\d00', string=s01)"
   ]
  },
  {
   "cell_type": "markdown",
   "metadata": {},
   "source": [
    "Match any symbol in character class `[]` at least once:"
   ]
  },
  {
   "cell_type": "code",
   "execution_count": 7,
   "metadata": {},
   "outputs": [
    {
     "data": {
      "text/plain": [
       "['NLP']"
      ]
     },
     "execution_count": 7,
     "metadata": {},
     "output_type": "execute_result"
    }
   ],
   "source": [
    "re.findall(pattern='[nNlLpP]+', string='We ❤ NLP')"
   ]
  },
  {
   "cell_type": "markdown",
   "metadata": {},
   "source": [
    "Match any strings separated by the pipe operator, using the `re.IGNORECASE` flag to ignore the letter casing:"
   ]
  },
  {
   "cell_type": "code",
   "execution_count": 8,
   "metadata": {},
   "outputs": [
    {
     "data": {
      "text/plain": [
       "['We', 'NLP']"
      ]
     },
     "execution_count": 8,
     "metadata": {},
     "output_type": "execute_result"
    }
   ],
   "source": [
    "re.findall(pattern='we|nlp', string='We ❤ NLP', flags=re.IGNORECASE)"
   ]
  },
  {
   "cell_type": "markdown",
   "metadata": {},
   "source": [
    "Match the all instances of the string run, regardless of case or whether it is followed by word characters: "
   ]
  },
  {
   "cell_type": "code",
   "execution_count": 9,
   "metadata": {},
   "outputs": [
    {
     "data": {
      "text/plain": [
       "['runner', 'running', 'Runs']"
      ]
     },
     "execution_count": 9,
     "metadata": {},
     "output_type": "execute_result"
    }
   ],
   "source": [
    "sRun = 'I am a runner. I enjoy running at my morning Runs'\n",
    "re.findall(pattern='run\\w*', string=sRun, flags=re.IGNORECASE)"
   ]
  },
  {
   "cell_type": "markdown",
   "metadata": {},
   "source": [
    "## All Matches with Metadata\n",
    "\n",
    "If search meta information is valuable, we can use [`re.finditer()`](https://docs.python.org/3/library/re.html#re.finditer), which returns an [iterator](https://docs.python.org/3/glossary.html#term-iterator) of match objects. In order to view the results of the iterator, we should apply the `list()` function to it."
   ]
  },
  {
   "cell_type": "code",
   "execution_count": 10,
   "metadata": {},
   "outputs": [
    {
     "data": {
      "text/plain": [
       "[<_sre.SRE_Match object; span=(0, 3), match='fix'>,\n",
       " <_sre.SRE_Match object; span=(13, 16), match='fix'>,\n",
       " <_sre.SRE_Match object; span=(21, 24), match='fix'>,\n",
       " <_sre.SRE_Match object; span=(28, 31), match='fix'>,\n",
       " <_sre.SRE_Match object; span=(37, 40), match='fix'>]"
      ]
     },
     "execution_count": 10,
     "metadata": {},
     "output_type": "execute_result"
    }
   ],
   "source": [
    "LmoResults = list(re.finditer('fix', sFix))\n",
    "LmoResults"
   ]
  },
  {
   "cell_type": "markdown",
   "metadata": {},
   "source": [
    "Now, we can show all positions of matched substrings."
   ]
  },
  {
   "cell_type": "code",
   "execution_count": 11,
   "metadata": {},
   "outputs": [
    {
     "data": {
      "text/plain": [
       "[0, 13, 21, 28, 37]"
      ]
     },
     "execution_count": 11,
     "metadata": {},
     "output_type": "execute_result"
    }
   ],
   "source": [
    "[mo.start() for mo in LmoResults]"
   ]
  },
  {
   "cell_type": "markdown",
   "metadata": {},
   "source": [
    "## Substitution\n",
    "\n",
    "The `re.sub()` method allows a pattern in a string to be replaced."
   ]
  },
  {
   "cell_type": "code",
   "execution_count": 12,
   "metadata": {},
   "outputs": [
    {
     "data": {
      "text/plain": [
       "'We ❤ NLP & Python'"
      ]
     },
     "execution_count": 12,
     "metadata": {},
     "output_type": "execute_result"
    }
   ],
   "source": [
    "re.sub(pattern='NLP', repl='NLP & Python', string='We ❤ NLP')"
   ]
  },
  {
   "cell_type": "markdown",
   "metadata": {},
   "source": [
    "The real power of regex comes from the ability to combine many rules into one pattern, such as this:"
   ]
  },
  {
   "cell_type": "code",
   "execution_count": 13,
   "metadata": {},
   "outputs": [
    {
     "data": {
      "text/plain": [
       "'ACG--GC--CG--T--CG--ACGT'"
      ]
     },
     "execution_count": 13,
     "metadata": {},
     "output_type": "execute_result"
    }
   ],
   "source": [
    "sDNA = 'ACGTAGCTACGTATGACGTAACGT'\n",
    "re.sub(pattern='A[AT]|[GT]A', repl='--', string=sDNA)"
   ]
  },
  {
   "cell_type": "markdown",
   "metadata": {},
   "source": [
    "<hr style=\"border-top: 2px solid #606366; background: transparent;\">\n",
    "\n",
    "# Optional Practice\n",
    "\n",
    "Now you will practice some basic regex patterns that were introduced in the previous video. To start, load a famous quote by U.S. President Franklin."
   ]
  },
  {
   "cell_type": "code",
   "execution_count": 14,
   "metadata": {},
   "outputs": [
    {
     "data": {
      "text/plain": [
       "'`Tell me and I forget, teach me and I may remember, involve me and I learn.` Benjamin Franklin'"
      ]
     },
     "execution_count": 14,
     "metadata": {},
     "output_type": "execute_result"
    }
   ],
   "source": [
    "sQuote = '`Tell me and I forget, teach me and I may remember, involve me and I learn.` Benjamin Franklin'\n",
    "sQuote"
   ]
  },
  {
   "cell_type": "markdown",
   "metadata": {},
   "source": [
    "As you work through these tasks, check your answers by running your code in the *#check solution here* cell, to see if you’ve gotten the correct result. If you get stuck on a task, click the See **solution** drop-down to view the answer."
   ]
  },
  {
   "cell_type": "markdown",
   "metadata": {},
   "source": [
    "## Task 1\n",
    "\n",
    "Return the match object for the first instance of the `'me'` string.\n",
    "\n",
    "<b>Hint:</b> Try the <code>re.search()</code> method."
   ]
  },
  {
   "cell_type": "code",
   "execution_count": 15,
   "metadata": {},
   "outputs": [
    {
     "data": {
      "text/plain": [
       "<_sre.SRE_Match object; span=(6, 8), match='me'>"
      ]
     },
     "execution_count": 15,
     "metadata": {},
     "output_type": "execute_result"
    }
   ],
   "source": [
    "re.search('me', sQuote)"
   ]
  },
  {
   "cell_type": "markdown",
   "metadata": {},
   "source": [
    "\n",
    "<font color=#606366>\n",
    "    <details>\n",
    "        <summary><font color=#b31b1>▶</font>\n",
    "            See <b>solution</b>.\n",
    "        </summary>\n",
    "            <pre>\n",
    "re.search('me', sQuote)    # return match object for the first match of \"me\"\n",
    "            </pre>\n",
    "        </details>\n",
    "</font>\n",
    "<hr>"
   ]
  },
  {
   "cell_type": "markdown",
   "metadata": {},
   "source": [
    "## Task 2\n",
    "\n",
    "Return a list of all words in `sQuote` containing the substring `'me'`. One such word is `'remember'`.\n",
    "\n",
    "<b>Hint:</b> Try <code>re.findall()</code> method. The regex pattern should allow for any number of the leading and trailing word characters, <code>\\w</code>. You can use <code>*</code> to allow 0 or more repetitions of these."
   ]
  },
  {
   "cell_type": "code",
   "execution_count": 16,
   "metadata": {},
   "outputs": [
    {
     "data": {
      "text/plain": [
       "['me', 'me', 'remember', 'me']"
      ]
     },
     "execution_count": 16,
     "metadata": {},
     "output_type": "execute_result"
    }
   ],
   "source": [
    "re.findall('\\w*me\\w*', sQuote)"
   ]
  },
  {
   "cell_type": "markdown",
   "metadata": {},
   "source": [
    "<font color=#606366>\n",
    "    <details>\n",
    "        <summary><font color=#b31b1>▶</font>\n",
    "            See <b>solution</b>.\n",
    "        </summary>\n",
    "            <pre>\n",
    "re.findall('\\w*me\\w*', sQuote)          # all words containing \"me\"\n",
    "            </pre>\n",
    "        </details>\n",
    "</font>\n",
    "<hr>"
   ]
  },
  {
   "cell_type": "markdown",
   "metadata": {},
   "source": [
    "## Task 3\n",
    "\n",
    "Return the starting position of the third word that contains the substring `\"me\"`.\n",
    "\n",
    "<b>Hint:</b> Try <code>re.finditer()</code>, which needs to be wrapped into a list. Then you can slice it at the 3rd element (with index 2) and call the <code>start()</code> method for the starting position."
   ]
  },
  {
   "cell_type": "code",
   "execution_count": 17,
   "metadata": {},
   "outputs": [
    {
     "data": {
      "text/plain": [
       "42"
      ]
     },
     "execution_count": 17,
     "metadata": {},
     "output_type": "execute_result"
    }
   ],
   "source": [
    "list(re.finditer('\\w*me\\w*', sQuote))[2].start()"
   ]
  },
  {
   "cell_type": "markdown",
   "metadata": {},
   "source": [
    "<font color=#606366>\n",
    "    <details>\n",
    "        <summary><font color=#b31b1>▶</font>\n",
    "            See <b>solution</b>.</summary>\n",
    "            <pre>\n",
    "list(re.finditer('\\w*me\\w*', sQuote))[2].start()   # starting position of the 3rd word(containing \"me\")\n",
    "            </pre>\n",
    "        </details>\n",
    "</font>\n",
    "<hr>"
   ]
  },
  {
   "cell_type": "markdown",
   "metadata": {},
   "source": [
    "## Task 4\n",
    "\n",
    "Return a list of match objects of all words starting with `\"I\"` or `\"i\"`.\n",
    "\n",
    "<b>Hint:</b> You need to establish a leading word boundary with <code>'\\b'</code> and trailing arbitrary word characters with <code>'\\w*'</code>. You need to force regex pattern string to be <a src=https://www.python.org/dev/peps/pep-0498/>raw</a> because you're using <code>'\\b'</code>. This is not the case, when you use the special characters <code>'\\n'</code>, <code>'\\r'</code>, or <code>'\\t'</code>, which Python interprets as such without an explicit raw string indicator."
   ]
  },
  {
   "cell_type": "code",
   "execution_count": null,
   "metadata": {},
   "outputs": [],
   "source": [
    "# check solution here"
   ]
  },
  {
   "cell_type": "markdown",
   "metadata": {},
   "source": [
    "<font color=#606366>\n",
    "    <details>\n",
    "        <summary><font color=#b31b1>▶</font>\n",
    "            See <b>solution</b>.\n",
    "        </summary>\n",
    "            Here are a couple of ways to accomplish this.\n",
    "            <pre>\n",
    "# A list of match objects of all words starting with \"I\" or \"i\"\n",
    "list(re.finditer(r'\\bi\\w*', sQuote, flags=re.IGNORECASE)) \n",
    "list(re.finditer(r'\\b[iI]\\w*', sQuote))\n",
    "            </pre>\n",
    "        </details>\n",
    "</font>\n",
    "<hr>"
   ]
  },
  {
   "cell_type": "markdown",
   "metadata": {},
   "source": [
    "## Task 5\n",
    "\n",
    "Return the total count of characters of all words starting with `\"I\"` or `\"i\"`.\n",
    "\n",
    "<b>Hint:</b> You can iterate over the results of <code>re.finditer()</code> (even without wrapping it as a list). When doing so, compute the difference between ending character and starting character + 1."
   ]
  },
  {
   "cell_type": "code",
   "execution_count": 18,
   "metadata": {},
   "outputs": [
    {
     "data": {
      "text/plain": [
       "10"
      ]
     },
     "execution_count": 18,
     "metadata": {},
     "output_type": "execute_result"
    }
   ],
   "source": [
    "sum([mo.end() - mo.start() for mo in re.finditer(r'\\b[iI]\\w*', sQuote)]) "
   ]
  },
  {
   "cell_type": "markdown",
   "metadata": {},
   "source": [
    "<font color=#606366>\n",
    "    <details>\n",
    "        <summary><font color=#b31b1>▶</font>See <b>solution</b>.</summary>\n",
    "            <pre>\n",
    "# Total count of characters of all words starting with `\"I\"` or `\"i\"`\n",
    "sum([mo.end() - mo.start() for mo in re.finditer(r'\\b[iI]\\w*', sQuote)])  # solution 1\n",
    "\n",
    "len(\"\".join(re.findall(r'\\b[Ii]\\w*', sQuote)))                            # solution 2\n",
    "\n",
    "sum([len(i) for i in re.findall(r'\\b[iI]\\w*', sQuote)])                   # solution 3\n",
    "            </pre>\n",
    "        </details>\n",
    "</font>\n",
    "<hr>"
   ]
  }
 ],
 "metadata": {
  "anaconda-cloud": {},
  "kernelspec": {
   "display_name": "Python 3",
   "language": "python",
   "name": "python3"
  },
  "language_info": {
   "codemirror_mode": {
    "name": "ipython",
    "version": 3
   },
   "file_extension": ".py",
   "mimetype": "text/x-python",
   "name": "python",
   "nbconvert_exporter": "python",
   "pygments_lexer": "ipython3",
   "version": "3.6.9"
  },
  "toc": {
   "base_numbering": 1,
   "nav_menu": {},
   "number_sections": false,
   "sideBar": true,
   "skip_h1_title": false,
   "title_cell": "Table of Contents",
   "title_sidebar": "Contents",
   "toc_cell": false,
   "toc_position": {},
   "toc_section_display": true,
   "toc_window_display": false
  },
  "varInspector": {
   "cols": {
    "lenName": 16,
    "lenType": 16,
    "lenVar": 40
   },
   "kernels_config": {
    "python": {
     "delete_cmd_postfix": "",
     "delete_cmd_prefix": "del ",
     "library": "var_list.py",
     "varRefreshCmd": "print(var_dic_list())"
    },
    "r": {
     "delete_cmd_postfix": ") ",
     "delete_cmd_prefix": "rm(",
     "library": "var_list.r",
     "varRefreshCmd": "cat(var_dic_list()) "
    }
   },
   "types_to_exclude": [
    "module",
    "function",
    "builtin_function_or_method",
    "instance",
    "_Feature"
   ],
   "window_display": false
  }
 },
 "nbformat": 4,
 "nbformat_minor": 1
}
