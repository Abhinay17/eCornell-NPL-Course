{
 "cells": [
  {
   "cell_type": "markdown",
   "metadata": {},
   "source": [
    "# **Setup**\n",
    " \n",
    "Reset the Python environment to clear it of any previously loaded variables, functions, or libraries. Then, import the libraries needed to complete the code Professor Melnikov presented in the video."
   ]
  },
  {
   "cell_type": "code",
   "execution_count": 1,
   "metadata": {},
   "outputs": [],
   "source": [
    "%reset -f\n",
    "from IPython.core.interactiveshell import InteractiveShell as IS\n",
    "IS.ast_node_interactivity = \"all\"    # allows multiple outputs from a cell"
   ]
  },
  {
   "cell_type": "markdown",
   "metadata": {},
   "source": [
    "<hr style=\"border-top: 2px solid #606366; background: transparent;\">\n",
    "\n",
    "# **Review**\n",
    "\n",
    "Review the code Professor Melnikov used to manipulate strings in the previous video. \n",
    "\n",
    "## **String Basics**\n",
    "\n",
    "Python [strings](https://docs.python.org/3/tutorial/introduction.html#strings) are defined by enclosing sequences of characters with a pair of single or double quotes. "
   ]
  },
  {
   "cell_type": "code",
   "execution_count": 2,
   "metadata": {},
   "outputs": [
    {
     "data": {
      "text/plain": [
       "'NLP is so fun.'"
      ]
     },
     "execution_count": 2,
     "metadata": {},
     "output_type": "execute_result"
    }
   ],
   "source": [
    "sDoc1 = 'NLP is so fun.'    # we use single quotes to define a string of characters\n",
    "sDoc1"
   ]
  },
  {
   "cell_type": "code",
   "execution_count": 3,
   "metadata": {},
   "outputs": [
    {
     "name": "stdout",
     "output_type": "stream",
     "text": [
      "I like it a ton.\n"
     ]
    }
   ],
   "source": [
    "sDoc2 = \"I like it a ton.\"  # we use double quotes to define a string of characters\n",
    "print(sDoc2)"
   ]
  },
  {
   "cell_type": "markdown",
   "metadata": {},
   "source": [
    "You can format strings with invisible characters, which are special [escape characters](https://docs.python.org/3/reference/lexical_analysis.html#escape-sequences) that tell the Python interpreter to treat a character as special formating code, rather than as a string character. \n",
    "    \n",
    "For example, you can define [multi-line strings](https://docs.python.org/3/tutorial/introduction.html#strings) by ending each new line with the invisible newline character, `\\n`. The formatting of multi-line strings appears in the output when an object with multiple lines if printed with the `print()` function."
   ]
  },
  {
   "cell_type": "code",
   "execution_count": 4,
   "metadata": {},
   "outputs": [
    {
     "name": "stdout",
     "output_type": "stream",
     "text": [
      "It is having\n",
      "a good \n",
      "run.\n"
     ]
    }
   ],
   "source": [
    "sDoc3 = '''It is having\n",
    "a good \n",
    "run.'''\n",
    "print(sDoc3)  # formats the string with multiple lines, one per each \\n character"
   ]
  },
  {
   "cell_type": "markdown",
   "metadata": {},
   "source": [
    "Some other invisible characters you can use to format strings include tab (`\\t`), carriage return (`\\r`) (typical to Microsoft Windows operating systems), form feed (`\\f`), and vertical tab (`\\v`). The distinction between invisible and regular characters is important when you work with regular expressions, as you will discover later in this module. \n",
    "    \n",
    "When you don't use `print()` to display a string, invisible characters are displayed in the output cell as part of an unformatted string."
   ]
  },
  {
   "cell_type": "code",
   "execution_count": 5,
   "metadata": {},
   "outputs": [
    {
     "data": {
      "text/plain": [
       "'It is having\\na good \\nrun.'"
      ]
     },
     "execution_count": 5,
     "metadata": {},
     "output_type": "execute_result"
    }
   ],
   "source": [
    "sDoc3  # prints a string in a single line with \\n characters"
   ]
  },
  {
   "cell_type": "markdown",
   "metadata": {},
   "source": [
    "The `str()` function converts nearly any Python object to a string, including numbers, lists, `None` values, function definitions, and other Python objects. "
   ]
  },
  {
   "cell_type": "code",
   "execution_count": 6,
   "metadata": {},
   "outputs": [
    {
     "data": {
      "text/plain": [
       "('a', '1', '[3, 4]', '<built-in function print>')"
      ]
     },
     "execution_count": 6,
     "metadata": {},
     "output_type": "execute_result"
    }
   ],
   "source": [
    "str('a'), str(1), str([3,4]), str(print)"
   ]
  },
  {
   "cell_type": "markdown",
   "metadata": {},
   "source": [
    "The `str` function can also accept string inputs, with the following functionality:  \n",
    "* `str(str)` converts `str` (a class definition in Python) to the string `<class 'str'>`. \n",
    "* `str(str(1))` results in the same output as `str(1)`."
   ]
  },
  {
   "cell_type": "code",
   "execution_count": 7,
   "metadata": {},
   "outputs": [
    {
     "data": {
      "text/plain": [
       "('None', \"<class 'str'>\", '1')"
      ]
     },
     "execution_count": 7,
     "metadata": {},
     "output_type": "execute_result"
    }
   ],
   "source": [
    "str(None), str(str), str(str(1))"
   ]
  },
  {
   "cell_type": "markdown",
   "metadata": {},
   "source": [
    "## Splitting and Slicing Strings\n",
    "\n",
    "A simple way to split a string into characters is to apply the `list()` function to the string."
   ]
  },
  {
   "cell_type": "code",
   "execution_count": 8,
   "metadata": {},
   "outputs": [
    {
     "name": "stdout",
     "output_type": "stream",
     "text": [
      "['N', 'L', 'P', ' ', 'i', 's', ' ', 's', 'o', ' ', 'f', 'u', 'n', '.']\n"
     ]
    }
   ],
   "source": [
    "print(list(sDoc1))"
   ]
  },
  {
   "cell_type": "markdown",
   "metadata": {},
   "source": [
    "Notice that every character (even a space) of the original string, `sDoc1`, becomes an element of a list.\n",
    "\n",
    "**Slicing** or **subsetting** allows you to extract substrings using their *integer-indexed positions*. Indexing in Python starts from 0 rather than 1, so the slice `[0:3]` references the indices 0, 1, and 2 in the given list (or tuple or array), but ignores index 3. This is useful because it means that to partition the string into two non-overlapping substrings, you can indicate slices `[0:n]` and `[n:]`, where the character at the nth position falls into the second substring.\n",
    "\n",
    "A negative index counts characters from the end of a string. Examine some different slices of the `sDoc1` string, 'NLP is so fun'. \n"
   ]
  },
  {
   "cell_type": "code",
   "execution_count": 9,
   "metadata": {},
   "outputs": [
    {
     "data": {
      "text/plain": [
       "('NLP is so fun.', 'NLP', 'NLP', 'is', 'fun.')"
      ]
     },
     "execution_count": 9,
     "metadata": {},
     "output_type": "execute_result"
    }
   ],
   "source": [
    "sDoc1, sDoc1[0:3], sDoc1[:3], sDoc1[4:6], sDoc1[-4:]"
   ]
  },
  {
   "cell_type": "markdown",
   "metadata": {},
   "source": [
    "## Escaping and printing literal characters"
   ]
  },
  {
   "cell_type": "markdown",
   "metadata": {},
   "source": [
    "In Python, the backslash (`\\`) character is used to assign a special meaning to some characters. For example, `\\n` is interpreted as a newline character, which forces the string to break to a new line. To force the original (literal) meaning to `\\n`, i.e., the backslash and the character `n`, you should escape the escape as `'\\\\n'` or, alternatively, use the **raw string** by prepending the letter `r` before the string, i.e., `r'\\n'`. The latter is equivalent to double-backslashing and is a convenient shortcut when many special characters need to be reverted to their original literal meaning.\n",
    "\n",
    "The examples below demonstrate the differences in outputs of escaped and non-escaped characters."
   ]
  },
  {
   "cell_type": "code",
   "execution_count": 10,
   "metadata": {},
   "outputs": [
    {
     "data": {
      "text/plain": [
       "'0\\n1'"
      ]
     },
     "execution_count": 10,
     "metadata": {},
     "output_type": "execute_result"
    }
   ],
   "source": [
    "'0\\n1' # string is displayed literally (without print())"
   ]
  },
  {
   "cell_type": "code",
   "execution_count": 11,
   "metadata": {},
   "outputs": [
    {
     "name": "stdout",
     "output_type": "stream",
     "text": [
      "0\n",
      "1\n"
     ]
    }
   ],
   "source": [
    "print('0\\n1') # newline is printed as an invisible break between lines"
   ]
  },
  {
   "cell_type": "code",
   "execution_count": 12,
   "metadata": {},
   "outputs": [
    {
     "data": {
      "text/plain": [
       "'0\\\\n1'"
      ]
     },
     "execution_count": 12,
     "metadata": {},
     "output_type": "execute_result"
    }
   ],
   "source": [
    "'0\\\\n1' # string is displayed literally (without print())"
   ]
  },
  {
   "cell_type": "code",
   "execution_count": 13,
   "metadata": {},
   "outputs": [
    {
     "name": "stdout",
     "output_type": "stream",
     "text": [
      "0\\n1\n",
      "0\\n1\n"
     ]
    }
   ],
   "source": [
    "# characters '\\' and 'n' are literaly printed, not newline character\n",
    "print('0\\\\n1') \n",
    "print(r'0\\n1')"
   ]
  },
  {
   "cell_type": "markdown",
   "metadata": {},
   "source": [
    "The following example checks which statements contain a backslash character."
   ]
  },
  {
   "cell_type": "code",
   "execution_count": 14,
   "metadata": {},
   "outputs": [
    {
     "name": "stdout",
     "output_type": "stream",
     "text": [
      "\\\n",
      "False\n",
      "True\n",
      "True\n"
     ]
    }
   ],
   "source": [
    "print('\\\\')  # confirm that this is a literal backslash character\n",
    "print('\\\\' in '\\n') \n",
    "print('\\\\' in '\\\\n')\n",
    "print('\\\\' in r'\\n')"
   ]
  },
  {
   "cell_type": "markdown",
   "metadata": {},
   "source": [
    "## Other string prefixes"
   ]
  },
  {
   "cell_type": "markdown",
   "metadata": {},
   "source": [
    "Here is a more complete list of string prefixes\n",
    "\n",
    "1. `r'...'` defines a raw string to keep escape characters as literals.\n",
    "1. `f'...'` defines a [formatted string](https://docs.python.org/3/reference/lexical_analysis.html#f-strings) (or f-string), which allows for a quick formatting of numbers, dates, and other data types using `'{}'` notation.\n",
    "1. `u'...'` defines a [unicode string](https://docs.python.org/3/reference/lexical_analysis.html#string-and-bytes-literals), which is just an [ordinary string](https://peps.python.org/pep-0414/#proposal), contrary to ASCII string, which disallows unicode characters (such as non-Latin alphabet characters). In other words, all strings in Python are unicode strings by default, so the use of `u` prefix is redundant.\n",
    "1. `b'...'` defines a [byte string](https://docs.python.org/3/library/stdtypes.html#bytes), which can be stored on disk without an additional encoding. Since a computer stores and operates on bytes (consisting of 8 bits), i.e. numbers 0-255, most data structures require encoding to convert them to bytes and decoding to convert them to \"human-readable\" format.\n",
    "\n",
    "A few examples below demonstrate these special strings."
   ]
  },
  {
   "cell_type": "code",
   "execution_count": 15,
   "metadata": {},
   "outputs": [
    {
     "name": "stdout",
     "output_type": "stream",
     "text": [
      "1/7 ≈ 0.1429\n",
      "True\n",
      "b'this is byte string'\n"
     ]
    }
   ],
   "source": [
    "print(f'1/7 ≈ {1/7:.4f}')      # rounds 0.14285714285714285... to 4 decimals\n",
    "print(u'abc'=='abc')           # shows that strings are unicode by default in Python 3.x\n",
    "print(b'this is byte string')  # only ASCII characters are allowed and assumed in bytestrings"
   ]
  },
  {
   "cell_type": "markdown",
   "metadata": {
    "deletable": false,
    "editable": false,
    "nbgrader": {
     "cell_type": "markdown",
     "checksum": "ab233f05e21c454074910f63f6dd4285",
     "grade": false,
     "grade_id": "cell-defc94112170e7dc",
     "locked": true,
     "schema_version": 3,
     "solution": false
    }
   },
   "source": [
    "<hr style=\"border-top: 2px solid #606366; background: transparent;\">\n",
    "\n",
    "# **Optional Practice**\n",
    "\n",
    "Now you will practice some of these basic string manipulation techniques by working with the name of the bacteria *Myxococcus llanfairpwllgwyngyllgogerychwyrndrobwllllantysiliogogogochensis*."
   ]
  },
  {
   "cell_type": "code",
   "execution_count": 3,
   "metadata": {
    "deletable": false,
    "editable": false,
    "nbgrader": {
     "cell_type": "code",
     "checksum": "8cb03af90350dc7fe8c4e9690cf52fc1",
     "grade": false,
     "grade_id": "cell-3156ddc6e9e99ddd",
     "locked": true,
     "schema_version": 3,
     "solution": false
    }
   },
   "outputs": [
    {
     "data": {
      "text/plain": [
       "'The quick brown fox jumped Over the Big Dog And Then Jumped Again Over The Lazy Myxococcus llanfairpwllgwyngyllgogerychwyrndrobwllllantysiliogogogochensis'"
      ]
     },
     "execution_count": 3,
     "metadata": {},
     "output_type": "execute_result"
    }
   ],
   "source": [
    "sTxt = 'The quick brown fox jumped Over the Big Dog And Then Jumped Again Over The Lazy \\\n",
    "Myxococcus llanfairpwllgwyngyllgogerychwyrndrobwllllantysiliogogogochensis'\n",
    "sTxt"
   ]
  },
  {
   "cell_type": "markdown",
   "metadata": {},
   "source": [
    "This long, rather silly string contains a nice mix of features for you to work with: capital and lowercase letters, words of different lengths, and spaces between words.\n",
    "    \n",
    "As you work through these tasks, check your answers by running your code in the *#check solution here* cell, to see if you’ve gotten the correct result. If you get stuck on a task, click the See **solution** drop-down to view the answer. </span>"
   ]
  },
  {
   "cell_type": "markdown",
   "metadata": {},
   "source": [
    "## Task 1\n",
    "\n",
    "Use the `list()` function to split `sTxt` into characters and print out the list contents. \n",
    "\n",
    "  **Hint:** Call the `list()` function with `sTxt` as its argument."
   ]
  },
  {
   "cell_type": "code",
   "execution_count": 18,
   "metadata": {},
   "outputs": [
    {
     "name": "stdout",
     "output_type": "stream",
     "text": [
      "['T', 'h', 'e', ' ', 'q', 'u', 'i', 'c', 'k', ' ', 'b', 'r', 'o', 'w', 'n', ' ', 'f', 'o', 'x', ' ', 'j', 'u', 'm', 'p', 'e', 'd', ' ', 'O', 'v', 'e', 'r', ' ', 't', 'h', 'e', ' ', 'B', 'i', 'g', ' ', 'D', 'o', 'g', ' ', 'A', 'n', 'd', ' ', 'T', 'h', 'e', 'n', ' ', 'J', 'u', 'm', 'p', 'e', 'd', ' ', 'A', 'g', 'a', 'i', 'n', ' ', 'O', 'v', 'e', 'r', ' ', 'T', 'h', 'e', ' ', 'L', 'a', 'z', 'y', ' ', 'M', 'y', 'x', 'o', 'c', 'o', 'c', 'c', 'u', 's', ' ', 'l', 'l', 'a', 'n', 'f', 'a', 'i', 'r', 'p', 'w', 'l', 'l', 'g', 'w', 'y', 'n', 'g', 'y', 'l', 'l', 'g', 'o', 'g', 'e', 'r', 'y', 'c', 'h', 'w', 'y', 'r', 'n', 'd', 'r', 'o', 'b', 'w', 'l', 'l', 'l', 'l', 'a', 'n', 't', 'y', 's', 'i', 'l', 'i', 'o', 'g', 'o', 'g', 'o', 'g', 'o', 'c', 'h', 'e', 'n', 's', 'i', 's']\n"
     ]
    }
   ],
   "source": [
    "print(list(sTxt))# check solution here"
   ]
  },
  {
   "cell_type": "markdown",
   "metadata": {},
   "source": [
    "<font color=606366>\n",
    "    <details><summary><font color=B31B1B>▶ </font>See <b>solution</b>.</summary>\n",
    "            <pre class=\"ec\">\n",
    "print(list(sTxt))\n",
    "            </pre>\n",
    "        </details>\n",
    "    <hr>"
   ]
  },
  {
   "cell_type": "markdown",
   "metadata": {},
   "source": [
    "## Task 2\n",
    "\n",
    "Slice `sTxt` so that you return its first three characters as a string object. Save the result as a new variable, `sThe`.\n",
    "\n",
    "**Hint:** Use slice [:3] or [0:3] on the string `sTxt`."
   ]
  },
  {
   "cell_type": "code",
   "execution_count": null,
   "metadata": {},
   "outputs": [],
   "source": [
    "sTxt[:3]# check solution here"
   ]
  },
  {
   "cell_type": "markdown",
   "metadata": {},
   "source": [
    "<font color=606366>\n",
    "    <details><summary><font color=B31B1B>▶ </font>See <b>solution</b>.</summary>\n",
    "            <pre>\n",
    "sThe = sTxt[:3]\n",
    "sThe = sTxt[0:3]\n",
    "            </pre>\n",
    "        </details>\n",
    "<hr>"
   ]
  },
  {
   "cell_type": "markdown",
   "metadata": {},
   "source": [
    "## Task 3\n",
    "\n",
    "Index or slice the string so that you return only the letter `'e'` from the string `sThe`.\n",
    "\n",
    "**Hint:** You can use -1 index to slice from the right. For example, [-1:] returns the rightmost character of the string to which this slice is applied."
   ]
  },
  {
   "cell_type": "code",
   "execution_count": null,
   "metadata": {},
   "outputs": [],
   "source": [
    "# check solution here"
   ]
  },
  {
   "cell_type": "markdown",
   "metadata": {},
   "source": [
    "<font color=606366>\n",
    "    <details><summary><font color=B31B1B>▶ </font>See <b>solution</b>.</summary>\n",
    "            <pre>\n",
    "  sThe[-1]\n",
    "  sThe[-1:]\n",
    "  sThe[2:3]\n",
    "  sThe[2]\n",
    "            </pre>\n",
    "        </details>\n",
    "</font>\n",
    "\n",
    "<hr>"
   ]
  },
  {
   "cell_type": "markdown",
   "metadata": {},
   "source": [
    "## Task 4\n",
    "\n",
    "Slice `sTxt` so that you return the seventh character from the right. It should be the letter `'c'`.\n",
    "\n",
    "**Hint:** You can slice a string with right indexing using a minus sign, or with left indexing using the length of the string."
   ]
  },
  {
   "cell_type": "code",
   "execution_count": null,
   "metadata": {},
   "outputs": [],
   "source": [
    "# check solution here"
   ]
  },
  {
   "cell_type": "markdown",
   "metadata": {},
   "source": [
    "<font color=606366>\n",
    "    <details><summary><font color=B31B1B>▶ </font>See <b>solution</b>.</summary>\n",
    "            <pre>\n",
    "sTxt[-7:-6]   # An easy approach is to use right-indexing\n",
    "# Another approach is to left-indexing, but you need to know full length of the string. \n",
    "n = len(sTxt) # Calculate the length, n, with len()\n",
    "sTxt[n-7:n-6]\n",
    "# An even simpler solution is:\n",
    "sTxt[-7]\n",
    "            </pre>\n",
    "        </details>\n",
    "</font>\n",
    "<hr>"
   ]
  },
  {
   "cell_type": "markdown",
   "metadata": {},
   "source": [
    "## Task 5\n",
    "\n",
    "Slice `sTxt` to retrieve the full bacteria name, and save it as a new variable, `sBacteria`.\n",
    "\n",
    "**Hint:** Try several left indices until you find one that retrives the bacteria name."
   ]
  },
  {
   "cell_type": "code",
   "execution_count": 4,
   "metadata": {},
   "outputs": [
    {
     "data": {
      "text/plain": [
       "'Myxococcus llanfairpwllgwyngyllgogerychwyrndrobwllllantysiliogogogochensis'"
      ]
     },
     "execution_count": 4,
     "metadata": {},
     "output_type": "execute_result"
    }
   ],
   "source": [
    "sBacteria = sTxt[-74:]\n",
    "sBacteria"
   ]
  },
  {
   "cell_type": "markdown",
   "metadata": {},
   "source": [
    "<font color=606366>\n",
    "    <details><summary><font color=B31B1B>▶ </font>See <b>solution</b>.</summary>\n",
    "            <pre>\n",
    "# Solution 1: try several indices to get to the correct one\n",
    "sBacteria = sTxt[-74:]\n",
    "sBacteria\n",
    "# Solution 2: split sentence into words and join the last two words with a space\n",
    "sBacteria = \" \".join(sTxt.split(' ')[-2:])\n",
    "sBacteria\n",
    "# Solution 3: find index of 'M' to perform the slice\n",
    "pos = sTxt.index('M')\n",
    "sBacteria = sTxt[pos:]\n",
    "sBacteria\n",
    "            </pre>\n",
    "        </details>\n",
    "</font>\n",
    "\n",
    "<hr>"
   ]
  },
  {
   "cell_type": "markdown",
   "metadata": {},
   "source": [
    "## Task 6\n",
    "\n",
    "Print a list of the index positions of all occurrences of the letter `'l'` in `sBacteria`.\n",
    "\n",
    "**Hint:** You can iterate over characters while incrementing a counter `'l'`. The `'l'` is added to the list whenever `'l'` is encountered. A different approach is to iterate over characters via list comprehension. The iterator here can be created with the <a href=\"https://docs.python.org/3/library/functions.html#enumerate\"><code>enumerate()</code></a> function.\n"
   ]
  },
  {
   "cell_type": "code",
   "execution_count": 5,
   "metadata": {},
   "outputs": [
    {
     "data": {
      "text/plain": [
       "[11, 12, 21, 22, 29, 30, 48, 49, 50, 51, 58]"
      ]
     },
     "execution_count": 5,
     "metadata": {},
     "output_type": "execute_result"
    }
   ],
   "source": [
    "i = 0 # incrementing variable\n",
    "LnPos = []   # list of positions\n",
    "for c in sBacteria:\n",
    "    if c == 'l':\n",
    "        LnPos += [i]\n",
    "    i += 1\n",
    "LnPos# check solution here"
   ]
  },
  {
   "cell_type": "markdown",
   "metadata": {},
   "source": [
    "<font color=606366>\n",
    "    <details><summary><font color=B31B1B>▶ </font>See <b>solution</b>.</summary>\n",
    "            <pre>\n",
    "# Solution 1: \n",
    "i = 0 # incrementing variable\n",
    "LnPos = []   # list of positions\n",
    "for c in sBacteria:\n",
    "    if c == 'l':\n",
    "        LnPos += [i]\n",
    "    i += 1\n",
    "LnPos\n",
    "\n",
    "\\# Solution 2: \n",
    "[i for i,c in enumerate(sBacteria) if c=='l'] # a more compact solution using list comprehension\n",
    "\n",
    "\\# Solution 3:\n",
    "import numpy as np    # an even faster solution requires you to import NumPy\n",
    "sBacArray = np.array(list(sBacteria))\n",
    "np.where(sBacArray == 'l')\n",
    "           </pre>\n",
    "        </details>\n",
    "</font>\n",
    "\n"
   ]
  }
 ],
 "metadata": {
  "anaconda-cloud": {},
  "kernelspec": {
   "display_name": "Python 3",
   "language": "python",
   "name": "python3"
  },
  "language_info": {
   "codemirror_mode": {
    "name": "ipython",
    "version": 3
   },
   "file_extension": ".py",
   "mimetype": "text/x-python",
   "name": "python",
   "nbconvert_exporter": "python",
   "pygments_lexer": "ipython3",
   "version": "3.6.9"
  },
  "toc": {
   "base_numbering": 1,
   "nav_menu": {},
   "number_sections": false,
   "sideBar": true,
   "skip_h1_title": false,
   "title_cell": "Table of Contents",
   "title_sidebar": "Contents",
   "toc_cell": false,
   "toc_position": {},
   "toc_section_display": true,
   "toc_window_display": false
  },
  "varInspector": {
   "cols": {
    "lenName": 16,
    "lenType": 16,
    "lenVar": 40
   },
   "kernels_config": {
    "python": {
     "delete_cmd_postfix": "",
     "delete_cmd_prefix": "del ",
     "library": "var_list.py",
     "varRefreshCmd": "print(var_dic_list())"
    },
    "r": {
     "delete_cmd_postfix": ") ",
     "delete_cmd_prefix": "rm(",
     "library": "var_list.r",
     "varRefreshCmd": "cat(var_dic_list()) "
    }
   },
   "types_to_exclude": [
    "module",
    "function",
    "builtin_function_or_method",
    "instance",
    "_Feature"
   ],
   "window_display": false
  }
 },
 "nbformat": 4,
 "nbformat_minor": 1
}
