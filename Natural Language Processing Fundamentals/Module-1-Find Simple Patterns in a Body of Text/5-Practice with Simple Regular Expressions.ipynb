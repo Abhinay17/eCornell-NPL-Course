{
 "cells": [
  {
   "cell_type": "markdown",
   "metadata": {},
   "source": [
    "# **Setup**\n",
    " \n",
    "Reset the Python environment to clear it of any previously loaded variables, functions, or libraries. Then, import the libraries needed to complete the code Professor Melnikov presented in the video. "
   ]
  },
  {
   "cell_type": "code",
   "execution_count": 1,
   "metadata": {},
   "outputs": [],
   "source": [
    "%reset -f\n",
    "from IPython.core.interactiveshell import InteractiveShell as IS\n",
    "IS.ast_node_interactivity = 'all'    # allows multiple outputs from a cell\n",
    "import re # import the regex library, re"
   ]
  },
  {
   "cell_type": "markdown",
   "metadata": {},
   "source": [
    "<hr style=\"border-top: 2px solid #606366; background: transparent;\">\n",
    "\n",
    "# **Review**\n",
    "\n",
    "A search with a string's [`replace()`](https://docs.python.org/3/library/stdtypes.html#str.replace) method can be very limited and slow. Using methods for finding and altering patterns with methods from the regex `re` library can make your searches much more efficient and save a lot of time. Review the code Professor Melnikov used to find and replace patterns in strings with a string's built-in replace method and with the `re` library's [`sub()`](https://docs.python.org/3/library/re.html#re.sub) method for working with strings.\n",
    "\n",
    "## Use a String's `replace()` Method\n",
    "\n",
    "In the following example that uses string's `replace()` method, we replace the digits in a social security number (SSN) with asterisks. In each pass through the string a single type of digit is replaced, so replacing a full SSN requires ten passes through the string."
   ]
  },
  {
   "cell_type": "code",
   "execution_count": 2,
   "metadata": {},
   "outputs": [
    {
     "data": {
      "text/plain": [
       "'Social security number: ***-**-****'"
      ]
     },
     "execution_count": 2,
     "metadata": {},
     "output_type": "execute_result"
    }
   ],
   "source": [
    "sDoc = 'Social security number: 123-45-6789'\n",
    "sDoc.replace('0', '*').replace('1', '*').replace('2','*').replace('3','*').replace('4','*')\\\n",
    "  .replace('5','*').replace('6','*').replace('7','*').replace('8','*').replace('9','*')"
   ]
  },
  {
   "cell_type": "markdown",
   "metadata": {},
   "source": [
    "<details style=\"margin-top:0px;border-radius:20px\"><summary>\n",
    "    <div id=\"button\" style=\"background-color:#eee;padding:10px;border:1px solid black;border-radius:20px\">\n",
    "       <font color=#B31B1B>▶ </font> \n",
    "        <b>Application in Web Security</b>: Anonymization of Personal Information\n",
    "    </div></summary>\n",
    "<div id=\"button_info\" style=\"padding:10px\">In the anonymization example above, ten passes over the given string were needed to replace all the digits with asterisks, <code>'*'</code>. If a corpus contains billions of characters or if the search pattern is very complex, this approach is computationally inefficient, costly, and time consuming. Performing a single pass search and replacing all of the digits at once saves valuable time and resources.\n",
    "    \n",
    "Furthermore, anonymizing only personally identifiable numbers, such as social security numbers (SSN), phone numbers, medical record numbers, internet protocol addresses and such, requires a search for a trigger token, say \"SSN\", and then a local search for the sensitive information in the vicinity of the trigger. This logic might be too complex for the <code>replace()</code> method.</div> </details>\n",
    "\n",
    "## Use the Regex `sub` method \n",
    "    \n",
    "Regex search methods are often faster and cleaner than built-in string methods because regex can search over a string in one pass. Here, we use the [`sub()`](https://docs.python.org/3/library/re.html#re.sub) (substitution) method from the `re` library to perform the same anonymization task on the social security number. In this case, we search over a string of characters for the matching pattern of any digit, described as `'\\d'` in our search."
   ]
  },
  {
   "cell_type": "code",
   "execution_count": 3,
   "metadata": {},
   "outputs": [
    {
     "name": "stdout",
     "output_type": "stream",
     "text": [
      "Social security number: ***-**-****\n",
      "Social security number: ***-**-****\n"
     ]
    }
   ],
   "source": [
    "print(re.sub('\\d', '*', sDoc))      # substitute a pattern with a replacement in a string\n",
    "print(re.sub('[0-9]', '*', sDoc))   # equivalent search for a digit using a character class 0 through 9"
   ]
  },
  {
   "cell_type": "markdown",
   "metadata": {},
   "source": [
    "## Additional Regex Features\n",
    "\n",
    "Click the following button to reveal a short list of [basic pattern matching rules](https://www.regular-expressions.info/tutorial.html). You will use some of these rules in the tasks below to gain experience using regex.\n",
    "<div id=\"blank_space\" style=\"padding-top:25px\"><details><summary><div id=\"button\" style=\"color:white;background-color:#de2424;padding:10px;border:3px solid #B31B1B;border-radius:30px;width:235px;padding-left:25px;float:left;margin-top:-20px\"> \n",
    "    <b>Pattern Matching Rules →</b>\n",
    "    </div></summary>\n",
    "<div id=\"button_info\" style=\"padding:20px;background-color:#eee;border:3px solid #aaa;border-radius:30px;margin-left:25px\"><p style=\"padding:15px 2px 2px 2px\">\n",
    "   Here is a short list of the basic pattern matching rules. Try these out to gain expertise and experience these in action.\n",
    "\n",
    "|Rule|What It Searches For|\n",
    "|:---:|:---|\n",
    "|`.`|Any single character. If a period is placed inside a character class, such as `[.]`, then it matches a period only.|\n",
    "|`^`|The start of the string.|\n",
    "|`$`|The end of the string.|\n",
    "|`\\b`|A word boundary. For example, `r'\\bthing\\b'` matches `'thing'` word (surrounded by spaces or punctuation), but not `'nothing'` or any other word with a subword `'thing'`. Recall that `r'...'` is a raw string.|\n",
    "|`?`|Zero or one of the previous pattern.|\n",
    "|`*`|Any number of repeated cases of the previous pattern.|\n",
    "|`+`|One or more numbers of repeated cases of the previous pattern.|\n",
    "|`[]`|A [character class](https://www.regular-expressions.info/charclass.html). For example, `[0-9a.]`matches any digit, letter \"a\" or a period.|\n",
    "|`[^]`|Any character excluded from the square brackets containing symbols after `^`.|\n",
    "|<code>\\|</code>|Any pattern on the left or the right of the pipe symbol.|\n",
    "|`\\d` or `[0-9]`|Any decimal digit. The dash represents the range of digits.|\n",
    "|`\\D` or `[^0-9]`|Any non-decimal digit.|\n",
    "|`\\s`|Whitespace characters, including `' '`, `'\\t'`, `'\\n'`, `'\\r'`.|\n",
    "|`\\S`|Non-whitespace characters.|\n",
    "|`\\w` or `[a-zA-Z0-9]`|Any alphanumeric character.|\n",
    "|`\\W` or `[^a-zA-Z0-9]`|Any non-alphanumeric character.|\n",
    "|`()`|A [match group](https://regexone.com/lesson/capturing_groups). For example, `(he|we|they)` matches any of the listed pronouns in a string.|\n",
    "|`{m}`|The preceding element must repeat exactly `m` times. For example, `'i{4}'` is the same as `'iiii'`.|\n",
    "|`{m,n}`|The preceding element must repeat between `m` and `n` times.|\n",
    "|`{m,}`|The preceding element must repeat at least `m` times.|\n",
    "\n",
    "</p></div> </details></div>\n",
    "\n",
    "<p>&nbsp;</p>\n",
    "Additionally, to ensure that your function is interpreted properly, you may need to disable the effect of a special regex pattern within a function. You can do this escaping by prefixing patterns with a backslash <code>\\</code>. Click the following button to reveal some important ways to use escaping. \n",
    "\n",
    "<div id=\"blank_space\" style=\"padding-top:25px\"><details><summary><div id=\"button\" style=\"color:white;background-color:#de2424;padding:10px;border:3px solid #B31B1B;border-radius:30px;width:235px;padding-left:25px;float:left;margin-top:-20px\"> \n",
    "    <b>Escaping Special Patterns →</b>\n",
    "    </div></summary>\n",
    "<div id=\"button_info\" style=\"padding:20px;background-color:#eee;border:3px solid #aaa;border-radius:30px;margin-left:25px\"><p style=\"padding:15px 2px 2px 2px\">\n",
    "\n",
    "|Rule|What It Searches For|\n",
    "|:---:|:---|\n",
    "|`\\.`|Escapes period's super powers and makes it match a period only.|\n",
    "|`\\[`|Escapes the start of the character class brackets and simply matches a square bracket. For example, <code>[ab]</code> matches <code>a</code> or <code>b</code>, but <code>\\[ab\\]</code> literally matches <code>[ab]</code>.|\n",
    "|`\\?`|Literally matches a question mark (not any single character). For example, <code>H?</code> matches <code>Hi</code>, <code>H1</code>, <code>H.</code>, and any other character following letter <code>H</code>, but <code>H\\?</code> literally matches <code>H?</code> only.|\n",
    "|`\\+`|Literally matches a plus sign (not a preceding&nbsp;character).|\n",
    "\n",
    "</p></div> </details></div></div></div>"
   ]
  },
  {
   "cell_type": "markdown",
   "metadata": {},
   "source": [
    "You can explore regex more in [regex101](https://regex101.com/r/NwlUlO/1), an interactive online regex tool which visually explains regex processing on a test string."
   ]
  },
  {
   "cell_type": "markdown",
   "metadata": {},
   "source": [
    "<hr style=\"border-top: 2px solid #606366; background: transparent;\">\n",
    "\n",
    "# Optional Practice\n",
    "\n",
    "Here, you'll practice some basic regex patterns that were introduced in the previous video. Each of these tasks requires you to use the regex method `sub`. You may also need to consult the list of pattern matching rules, above, as you work through these tasks. Note that many of these problems can be solved in several ways.\n",
    "\n",
    "As you work through these tasks, check your answers by running your code in the *#check solution here* cell, to see if you’ve gotten the correct result. If you get stuck on a task, click the See **solution** drop-down to view the answer.\n",
    "\n",
    "Run the following code to load and print the string `sQuote`. `sQuote` contains a mix of cased characters, adjacent whitespace characters, periods, multiple sentences, etc. You will work with `sQuote` over the next few exercises as you practice using regex patterns. "
   ]
  },
  {
   "cell_type": "code",
   "execution_count": 4,
   "metadata": {},
   "outputs": [
    {
     "name": "stdout",
     "output_type": "stream",
     "text": [
      "`If you live long enough, you'll make mistakes.  \n",
      "But if you learn from them, you'll be a better person.  \n",
      "It's how you handle adversity, not how it affects you.  \n",
      "The main thing is never quit, never quit, never quit.`\n",
      "~ A quote by William J. Clinton, 42nd U.S. President from 1993 to 2001\n",
      "\n"
     ]
    },
    {
     "data": {
      "text/plain": [
       "\"`If you live long enough, you'll make mistakes.  \\nBut if you learn from them, you'll be a better person.  \\nIt's how you handle adversity, not how it affects you.  \\nThe main thing is never quit, never quit, never quit.`\\n~ A quote by William J. Clinton, 42nd U.S. President from 1993 to 2001\\n\""
      ]
     },
     "execution_count": 4,
     "metadata": {},
     "output_type": "execute_result"
    }
   ],
   "source": [
    "sQuote = \"\"\"`If you live long enough, you'll make mistakes.  \n",
    "But if you learn from them, you'll be a better person.  \n",
    "It's how you handle adversity, not how it affects you.  \n",
    "The main thing is never quit, never quit, never quit.`\n",
    "~ A quote by William J. Clinton, 42nd U.S. President from 1993 to 2001\n",
    "\"\"\"\n",
    "print(sQuote)  # formatted\n",
    "sQuote         # unformatted"
   ]
  },
  {
   "cell_type": "markdown",
   "metadata": {},
   "source": [
    "## Task 1\n",
    "\n",
    "Use `re` library to replace `'you'` with `'we'` in `sQuote`.\n",
    "\n",
    "<b>Hint:</b> You can search for a string <code>'you'</code> and replace with another string using the <code>.sub()</code> method of <code>re</code> object."
   ]
  },
  {
   "cell_type": "code",
   "execution_count": 5,
   "metadata": {},
   "outputs": [
    {
     "data": {
      "text/plain": [
       "\"`If we live long enough, we'll make mistakes.  \\nBut if we learn from them, we'll be a better person.  \\nIt's how we handle adversity, not how it affects we.  \\nThe main thing is never quit, never quit, never quit.`\\n~ A quote by William J. Clinton, 42nd U.S. President from 1993 to 2001\\n\""
      ]
     },
     "execution_count": 5,
     "metadata": {},
     "output_type": "execute_result"
    }
   ],
   "source": [
    "re.sub('you', 'we', sQuote)  # replace 'you' with 'we'"
   ]
  },
  {
   "cell_type": "markdown",
   "metadata": {},
   "source": [
    "<font color=#606366>\n",
    "    <details>\n",
    "        <summary><font color=#b31b1b>▶</font>See <b>solution</b>.</summary>\n",
    "            <pre>\n",
    "re.sub('you', 'we', sQuote)  # replace 'you' with 'we'\n",
    "            </pre>\n",
    "        </details>\n",
    "</font>\n",
    "<hr>"
   ]
  },
  {
   "cell_type": "markdown",
   "metadata": {},
   "source": [
    "## Task 2\n",
    "\n",
    "Use `re.sub()` to replace two or more adjacent spaces with a single space character.\n",
    "\n",
    "<b>Hint:</b> Use <code>'+'</code> to find multiple adjacent versions of a single string.\n"
   ]
  },
  {
   "cell_type": "code",
   "execution_count": null,
   "metadata": {},
   "outputs": [],
   "source": [
    "# check solution here"
   ]
  },
  {
   "cell_type": "markdown",
   "metadata": {},
   "source": [
    "<font color=#606366>\n",
    "    <details>\n",
    "        <summary><font color=#b31b1b>▶</font>See <b>solution</b>.</summary>\n",
    "            <pre>\n",
    "re.sub(' +', ' ', sQuote)  # replace two or more adjacent spaces with a single space character\n",
    "            </pre>\n",
    "        </details>\n",
    "</font>\n",
    "<hr>"
   ]
  },
  {
   "cell_type": "markdown",
   "metadata": {},
   "source": [
    "## Task 3\n",
    "\n",
    "Use a technique that uses escaped characters with `re.sub()` to replace two or more adjacent whitespaces with a single space character.\n",
    "\n",
    "<b>Hint:</b> <code>'\\s'</code> represents a whitespace character class."
   ]
  },
  {
   "cell_type": "code",
   "execution_count": null,
   "metadata": {
    "code_folding": []
   },
   "outputs": [],
   "source": [
    "# check solution here"
   ]
  },
  {
   "cell_type": "markdown",
   "metadata": {},
   "source": [
    "<font color=#606366>\n",
    "    <details>\n",
    "        <summary><font color=#b31b1b>▶</font>See <b>solution</b>.</summary>\n",
    "            <pre>\n",
    "re.sub('\\s+', ' ', sQuote)  # replace two or more adjacent whitespaces with a single space character\n",
    "            </pre>\n",
    "        </details>\n",
    "</font>\n",
    "<hr>"
   ]
  },
  {
   "cell_type": "markdown",
   "metadata": {},
   "source": [
    "## Task 4\n",
    "\n",
    "Use `re.sub()` to expand the contraction `\"'ll\"` to the word `' will'`.\n",
    "\n",
    "<b>Hint:</b> Wrap single quotes inside double quotes, <code>\"'ll\"</code>, or use escaping with the single quote as <code>'\\'ll'</code>.\n"
   ]
  },
  {
   "cell_type": "code",
   "execution_count": null,
   "metadata": {},
   "outputs": [],
   "source": [
    "# check solution here"
   ]
  },
  {
   "cell_type": "markdown",
   "metadata": {},
   "source": [
    "<font color=#606366>\n",
    "    <details>\n",
    "        <summary><font color=#b31b1b>▶</font>See <b>solution</b>.</summary>\n",
    "        <details>\n",
    "            <pre>\n",
    "re.sub(\"'ll\", ' will', sQuote)  # expand contraction \"'ll\" with ' will'\n",
    "            </pre>\n",
    "        </details>\n",
    "    </details> \n",
    "</font>\n",
    "<hr>"
   ]
  },
  {
   "cell_type": "markdown",
   "metadata": {},
   "source": [
    "## Task 5\n",
    "\n",
    "Use `re.sub()` to replace a 4 digit year with a word `'YEAR'`.\n",
    "\n",
    "<b>Hint: </b> Use sequential digit searches.\n"
   ]
  },
  {
   "cell_type": "code",
   "execution_count": null,
   "metadata": {},
   "outputs": [],
   "source": [
    "# check solution here"
   ]
  },
  {
   "cell_type": "markdown",
   "metadata": {},
   "source": [
    "<font color=#606366>\n",
    "    <details>\n",
    "        <summary><font color=#b31b1b>▶</font>See <b>solution</b>.\n",
    "        </summary>\n",
    "            <pre>\n",
    "re.sub('\\d\\d\\d\\d', 'YEAR', sQuote)  # solution 1: replace a 4 digit year with a word 'YEAR'\n",
    "re.sub(\"\\d{4}\", 'YEAR', sQuote)     # solution 2: replace a 4 digit year with a word 'YEAR'\n",
    "</pre>\n",
    "        </details>\n",
    "</font>\n",
    "<hr>"
   ]
  },
  {
   "cell_type": "markdown",
   "metadata": {},
   "source": [
    "## Task 6\n",
    "\n",
    "Use `re.sub()` to replace `'U.S.'` with `'U.S.A.'` .\n",
    "\n",
    "<b>Hint:</b> Escape a period character to avoid it being interpreted as any character."
   ]
  },
  {
   "cell_type": "code",
   "execution_count": null,
   "metadata": {},
   "outputs": [],
   "source": [
    "# check solution here"
   ]
  },
  {
   "cell_type": "markdown",
   "metadata": {},
   "source": [
    "<font color=#606366>\n",
    "    <details>\n",
    "        <summary><font color=#b31b1b>▶</font>See <b>solution</b>.\n",
    "        </summary>\n",
    "            <pre>\n",
    "re.sub('U\\.S\\.', 'U.S.A.', sQuote)  # replace 'U.S.' with 'U.S.A.'. We escape a period in re pattern, not in replacement\n",
    "            </pre>\n",
    "    </details>\n",
    "</font>\n",
    "<hr>"
   ]
  },
  {
   "cell_type": "markdown",
   "metadata": {},
   "source": [
    "## Task 7\n",
    "\n",
    "Use `re.sub()` to replace `'William J.'` with `'Bill'`.\n",
    "\n",
    " <b>Hint:</b> Search for the full string <code>'William J.'</code> ."
   ]
  },
  {
   "cell_type": "code",
   "execution_count": null,
   "metadata": {},
   "outputs": [],
   "source": [
    "# check solution here"
   ]
  },
  {
   "cell_type": "markdown",
   "metadata": {},
   "source": [
    "<font color=#606366>\n",
    "    <details>\n",
    "        <summary><font color=#b31b1b>▶</font>See <b>solution</b>.\n",
    "        </summary>\n",
    "            <pre>\n",
    "re.sub('William J\\.', 'Bill', sQuote)  # replace 'William J.' with 'Bill'\n",
    "            </pre>\n",
    "        </details>\n",
    "</font>\n",
    "<hr>"
   ]
  },
  {
   "cell_type": "markdown",
   "metadata": {},
   "source": [
    "## Task 8\n",
    "\n",
    "Use `re.sub()` to replace sequential instances of `'never quit'` with a single instance of `'never quit'`.\n",
    "\n",
    "<b>Hint:</b> You can search for multiple version of any text (not just individual characters) by placing it inside parentheses. "
   ]
  },
  {
   "cell_type": "code",
   "execution_count": null,
   "metadata": {},
   "outputs": [],
   "source": [
    "# check solution here"
   ]
  },
  {
   "cell_type": "markdown",
   "metadata": {},
   "source": [
    "\n",
    "<font color=#606366>\n",
    "    <details>\n",
    "        <summary><font color=#b31b1b>▶</font>See <b>solution</b>.\n",
    "        </summary>\n",
    "            <pre>\n",
    "re.sub('(never quit, )+', '', sQuote)  # replace multiple 'never quit' with a single 'never quit'\n",
    "            </pre>\n",
    "        </details>\n",
    "</font>\n",
    "<hr>"
   ]
  },
  {
   "cell_type": "markdown",
   "metadata": {},
   "source": [
    "## Task 9\n",
    "\n",
    "Use `re.sub()` to replace all word characters and punctuation characters with `'*'`.\n",
    "\n",
    "<b>Hint:</b> Try using a character class <code>[]</code> with all characters you want to find. Recall: `'\\w'` is a word character, and can be a letter, digit, an underscore, or a tilde."
   ]
  },
  {
   "cell_type": "code",
   "execution_count": null,
   "metadata": {},
   "outputs": [],
   "source": [
    "# check solution here"
   ]
  },
  {
   "cell_type": "markdown",
   "metadata": {},
   "source": [
    "<font color=#606366>\n",
    "    <details>\n",
    "        <summary><font color=#b31b1b>▶</font>See <b>solution</b>.\n",
    "        </summary>\n",
    "            <pre>\n",
    "re.sub('[\\w.,~`\\']', '*', sQuote)  # solution 1: replace all word and punctuation characters with '*', or, alternatively\n",
    "re.sub('\\S', '*', sQuote)          # solution 2: replace all non-whitespace characters with '*'\n",
    "re.sub('[\\w.,~`\\']', '*', sQuote) == re.sub('\\S', '*', sQuote)  # compare resulting strings\n",
    "            </pre>\n",
    "        </details>\n",
    "</font>\n",
    "<hr>"
   ]
  },
  {
   "cell_type": "markdown",
   "metadata": {},
   "source": [
    "## Task 10\n",
    "\n",
    "Use `re.sub()` to replace all non-word characters with `'_'`.\n",
    "\n",
    "<b>Hint:</b> Consider <code>'\\W'</code>, which is any non-word character, i.e., not a letter, not a digit, not an underscore."
   ]
  },
  {
   "cell_type": "code",
   "execution_count": null,
   "metadata": {
    "code_folding": []
   },
   "outputs": [],
   "source": [
    "# check solution here"
   ]
  },
  {
   "cell_type": "markdown",
   "metadata": {},
   "source": [
    "\n",
    "<font color=#606366>\n",
    "    <details>\n",
    "        <summary><font color=#b31b1b>▶</font>See <b>solution</b>.\n",
    "        </summary>\n",
    "            <pre>\n",
    "re.sub('\\W', '_', sQuote)  # replace all non-word characters with '_'\n",
    "            </pre>\n",
    "        </details>\n",
    "</font>\n",
    "<hr>"
   ]
  },
  {
   "cell_type": "markdown",
   "metadata": {},
   "source": [
    "## Task 11\n",
    "\n",
    "Use `re.sub()` to replace `'the'` and `'The'` with `'***'`.\n",
    "\n",
    "<b>Note:</b> Words containing the strings, `The` or `the`, will be partially replaced."
   ]
  },
  {
   "cell_type": "code",
   "execution_count": null,
   "metadata": {},
   "outputs": [],
   "source": [
    "# check solution here"
   ]
  },
  {
   "cell_type": "markdown",
   "metadata": {},
   "source": [
    "\n",
    "<font color=#606366>\n",
    "    <details>\n",
    "        <summary><font color=#b31b1b>▶</font>See <b>solution</b>.\n",
    "        </summary>\n",
    "            <pre>\n",
    "re.sub('[Tt]he', '***', sQuote)  # solution 1: replace 'the' and 'The' with '***'\n",
    "re.sub('(the|The)', '***', sQuote)  # solution 2: replace 'the' and 'The' with '***'\n",
    "            </pre>\n",
    "        </details>\n",
    "</font>\n",
    "<hr>"
   ]
  },
  {
   "cell_type": "markdown",
   "metadata": {},
   "source": [
    "## Task 12\n",
    "\n",
    "Use `re.sub()` to replace `'you'` or `'it'` or `'thing'` with `'****'`.\n",
    "\n",
    "<b>Hint:</b> You could use a match group."
   ]
  },
  {
   "cell_type": "code",
   "execution_count": null,
   "metadata": {},
   "outputs": [],
   "source": [
    "# check solution here"
   ]
  },
  {
   "cell_type": "markdown",
   "metadata": {},
   "source": [
    "\n",
    "<font color=#606366>\n",
    "    <details>\n",
    "        <summary><font color=#b31b1b>▶</font>See <b>solution</b>.</summary>\n",
    "            <pre>\n",
    "re.sub('(you|it|thing)', '****', sQuote)  # replace 'you' or 'it' or 'thing' with '****'\n",
    "            </pre>\n",
    "    </details> \n",
    "</font>\n",
    "<hr>"
   ]
  },
  {
   "cell_type": "markdown",
   "metadata": {},
   "source": [
    "## Task 13\n",
    "\n",
    "Use `re.sub()` to replace the **word** `'be'` with `'*****'`. Thus, a word `'better'` should remain unchanged.\n",
    "\n",
    "<b>Hint:</b> You could use a word boundary, <code>'\\b'</code>, to search the exact word and not a subword. You may also need to use <code>r'string'</code> to indicate a raw string. Otherwise, you can use double slashes as escapes."
   ]
  },
  {
   "cell_type": "code",
   "execution_count": null,
   "metadata": {},
   "outputs": [],
   "source": [
    "# check solution here"
   ]
  },
  {
   "cell_type": "markdown",
   "metadata": {},
   "source": [
    "<font color=#606366>\n",
    "    <details>\n",
    "        <summary><font color=#b31b1b>▶</font>See <b>solution</b>.\n",
    "        </summary>\n",
    "            <pre>\n",
    "re.sub(r'\\bbe\\b', '*****', sQuote)  # replace a word 'be' with '*****'\n",
    "re.sub('\\\\bbe\\\\b', '*****', sQuote)  # replace a word 'be' with '*****'\n",
    "            </pre>\n",
    "        </details>\n",
    "</font>\n",
    "<hr>"
   ]
  }
 ],
 "metadata": {
  "anaconda-cloud": {},
  "kernelspec": {
   "display_name": "Python 3",
   "language": "python",
   "name": "python3"
  },
  "language_info": {
   "codemirror_mode": {
    "name": "ipython",
    "version": 3
   },
   "file_extension": ".py",
   "mimetype": "text/x-python",
   "name": "python",
   "nbconvert_exporter": "python",
   "pygments_lexer": "ipython3",
   "version": "3.6.9"
  },
  "toc": {
   "base_numbering": 1,
   "nav_menu": {},
   "number_sections": false,
   "sideBar": true,
   "skip_h1_title": false,
   "title_cell": "Table of Contents",
   "title_sidebar": "Contents",
   "toc_cell": false,
   "toc_position": {},
   "toc_section_display": true,
   "toc_window_display": false
  },
  "varInspector": {
   "cols": {
    "lenName": 16,
    "lenType": 16,
    "lenVar": 40
   },
   "kernels_config": {
    "python": {
     "delete_cmd_postfix": "",
     "delete_cmd_prefix": "del ",
     "library": "var_list.py",
     "varRefreshCmd": "print(var_dic_list())"
    },
    "r": {
     "delete_cmd_postfix": ") ",
     "delete_cmd_prefix": "rm(",
     "library": "var_list.r",
     "varRefreshCmd": "cat(var_dic_list()) "
    }
   },
   "types_to_exclude": [
    "module",
    "function",
    "builtin_function_or_method",
    "instance",
    "_Feature"
   ],
   "window_display": false
  }
 },
 "nbformat": 4,
 "nbformat_minor": 1
}
