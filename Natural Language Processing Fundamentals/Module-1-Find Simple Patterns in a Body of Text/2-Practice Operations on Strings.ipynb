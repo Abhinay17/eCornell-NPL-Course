{
 "cells": [
  {
   "cell_type": "markdown",
   "metadata": {},
   "source": [
    "# Setup\n",
    "\n",
    "Reset the Python environment to clear it of any previously loaded variables, functions, and libraries. Then, import the libraries needed to complete the code Professor Melnikov presented in the video."
   ]
  },
  {
   "cell_type": "code",
   "execution_count": 1,
   "metadata": {},
   "outputs": [],
   "source": [
    "%reset -f \n",
    "from IPython.core.interactiveshell import InteractiveShell as IS\n",
    "IS.ast_node_interactivity = \"all\"    # allows multiple outputs from a cell"
   ]
  },
  {
   "cell_type": "markdown",
   "metadata": {},
   "source": [
    "<hr style=\"border-top: 2px solid #606366; background: transparent;\">\n",
    "\n",
    "# **Review**\n",
    "\n",
    "Review the code Professor Melnikov used to perform operations on strings in the previous video. \n",
    "\n",
    "## **Concatenating Strings**\n",
    "\n",
    "String [concatenation](https://en.wikipedia.org/wiki/Concatenation) is one of the most fundamental string operations. Substrings can be appended with a \"plus\" operator (`+`) or by applying a string's [`join()`](https://docs.python.org/3/library/stdtypes.html#str.join) method to the list of substrings you would like to concatenate. "
   ]
  },
  {
   "cell_type": "code",
   "execution_count": 2,
   "metadata": {},
   "outputs": [
    {
     "name": "stdout",
     "output_type": "stream",
     "text": [
      "NLP is so fun. I like it a ton.\n",
      "NLP is so fun. I like it a ton.\n"
     ]
    }
   ],
   "source": [
    "sDoc1 = 'NLP is so fun.'\n",
    "sDoc2 = 'I like it a ton.'\n",
    "print(sDoc1 + ' ' + sDoc2)\n",
    "print(' '.join([sDoc1, sDoc2]))"
   ]
  },
  {
   "cell_type": "markdown",
   "metadata": {},
   "source": [
    "## Standardizing Text Case\n",
    "\n",
    "Standardizing word casing is an important preprocessing task that makes it easier to find patterns in language. The `string` methods [`lower()`](https://docs.python.org/3/library/stdtypes.html#str.lower), [`upper()`](https://docs.python.org/3/library/stdtypes.html#str.upper), [`capitalize()`](https://docs.python.org/3/library/stdtypes.html#str.capitalize), and [`title()`](https://docs.python.org/3/library/stdtypes.html#str.title) can all be helpful for this task. The `lower()` method is used most often by Python programmers.</span>"
   ]
  },
  {
   "cell_type": "code",
   "execution_count": 3,
   "metadata": {},
   "outputs": [
    {
     "name": "stdout",
     "output_type": "stream",
     "text": [
      "NLP is so fun.\n",
      "nlp is so fun.\n",
      "NLP IS SO FUN.\n",
      "Nlp is so fun.\n",
      "Nlp Is So Fun.\n"
     ]
    }
   ],
   "source": [
    "print(sDoc1) # Print the original string for comparison OLEG: I added this and the following comments. Is this okay?\n",
    "print(sDoc1.lower()) # Lowercase sDoc1\n",
    "print(sDoc1.upper()) # Uppercase sDoc1\n",
    "print(sDoc1.capitalize()) # Capitalize sDoc1\n",
    "print(sDoc1.title()) # Title case sDoc1"
   ]
  },
  {
   "cell_type": "markdown",
   "metadata": {},
   "source": [
    "## Measuring String Length\n",
    "\n",
    "The [`len()`](https://docs.python.org/3/library/functions.html#len) function is used to measure the supplied argument. When applied to a string or a variable that contains a string, *the function returns the number of characters in that string.* Understanding the length of strings can be useful for a wide variety of NLP tasks: \n",
    " \n",
    "<details style=\"margin-top:20px;border-radius:20px\">\n",
    "    <summary>\n",
    "        <div id=\"button\" style=\"background-color:#eee;padding:10px;border:1px solid black;border-radius:20px\">\n",
    "            <font color=#B31B1B>▶ </font> \n",
    "            <b>Example 1</b>: Calculate Statistics of Text\n",
    "        </div>\n",
    "    </summary>\n",
    "    <div id=\"button_info\" style=\"padding:10px\">You can compute statistics, e.g., mean, standard deviation, mode, etc., on the lengths of words, phrases, and sentences within a large text.\n",
    "    </div>\n",
    "</details>\n",
    " \n",
    "<details style=\"margin-top:10px;border-radius:20px\">\n",
    "    <summary>\n",
    "        <div id=\"button\" style=\"background-color:#eee;padding:10px;border:1px solid black;border-radius:20px\">\n",
    "            <font color=#B31B1B>▶ </font> \n",
    "            <b>Example 2</b>: Determine Quality of a Parsing Method\n",
    "        </div>\n",
    "    </summary>\n",
    "    <div id=\"button_info\" style=\"padding:10px\">Evaluating the statistical distribution of word lengths can help determine the quality of a parsing method, i.e., a method that is used to parse a document into words. If parsing returns words with an average length of 50, then it was probably parsed poorly, since the expected average word length is about 5 characters, depending on context. A medical document with many Latin, technical, and procedural terms might average 9 characters per word, but the average word length would be still be below 50.\n",
    "    </div>\n",
    "</details>\n",
    "        \n",
    "<details style=\"margin-top:10px;border-radius:20px\"> \n",
    "    <summary>\n",
    "        <div id=\"button\" style=\"background-color:#eee;padding:10px;border:1px solid black;border-radius:20px\">\n",
    "            <font color=#B31B1B>▶ </font> \n",
    "            <b>Example 3</b>: Compare Two Documents\n",
    "        </div>\n",
    "    </summary>\n",
    "    <div id=\"button_info\" style=\"padding:10px\">Evaluating the similarity of two documents is often based on the number of matching words in these documents. Say, the documents are \n",
    "\n",
    "    sDoc1 = 'I like NLP'\n",
    "    sDoc2 = 'NLP is fun'\n",
    "\n",
    "A brute force approach would be to compare every word in the first document to every word in the second document (assuming no duplicates), which is an expensive computational operation. This approach requires many unnecessary comparisons, because words of different lengths cannot be the same. Thus, you only need to compare words of the same length. Typically, this results in far fewer comparisons.\n",
    "</div> \n",
    "</details>"
   ]
  },
  {
   "cell_type": "code",
   "execution_count": 4,
   "metadata": {},
   "outputs": [
    {
     "data": {
      "text/plain": [
       "16"
      ]
     },
     "execution_count": 4,
     "metadata": {},
     "output_type": "execute_result"
    },
    {
     "data": {
      "text/plain": [
       "14"
      ]
     },
     "execution_count": 4,
     "metadata": {},
     "output_type": "execute_result"
    }
   ],
   "source": [
    "len('Keep on learning') \n",
    "len(sDoc1)"
   ]
  },
  {
   "cell_type": "markdown",
   "metadata": {},
   "source": [
    "## Indexing Substrings\n",
    "\n",
    " The position of a substring can sometimes help extract meaningful content from a string. The built-in string method, [`.find()`](https://docs.python.org/3/library/stdtypes.html#str.find), searches the string for a substring marker, and returns the location of the first character in the first instance of the substring. </span>"
   ]
  },
  {
   "cell_type": "code",
   "execution_count": 5,
   "metadata": {},
   "outputs": [
    {
     "name": "stdout",
     "output_type": "stream",
     "text": [
      "3\n"
     ]
    },
    {
     "data": {
      "text/plain": [
       "'123123123'"
      ]
     },
     "execution_count": 5,
     "metadata": {},
     "output_type": "execute_result"
    }
   ],
   "source": [
    "sDoc6 = 'My Phone: 123123123'\n",
    "nPosIndex = sDoc6.find('Phone')   # returns position of the first character of the first instance of 'Phone' in sDoc6 string variable\n",
    "print(nPosIndex)\n",
    "sDoc6[(nPosIndex + 7):]           # we offset the position by 7 characters to skip 'Phone: ' (7 characters)"
   ]
  },
  {
   "cell_type": "markdown",
   "metadata": {},
   "source": [
    "Since `.find()` returns the position of only the first character in the substring, notice that in string `sDoc6`, `find('Phone')` and `find('P')` produce the same result: index 3."
   ]
  },
  {
   "cell_type": "code",
   "execution_count": 6,
   "metadata": {},
   "outputs": [
    {
     "data": {
      "text/plain": [
       "3"
      ]
     },
     "execution_count": 6,
     "metadata": {},
     "output_type": "execute_result"
    }
   ],
   "source": [
    "sDoc6.find('P')"
   ]
  },
  {
   "cell_type": "markdown",
   "metadata": {},
   "source": [
    "However, this may not be the case in a string containing more than one 'P', since the `.find()` method only returns the first character in the first instance of the given substring. In `sDoc7` below, substring 'P' occurs in both 'Poor' and 'Phone'; however, only the index for the first instance of 'P' is returned. "
   ]
  },
  {
   "cell_type": "code",
   "execution_count": 7,
   "metadata": {},
   "outputs": [
    {
     "data": {
      "text/plain": [
       "0"
      ]
     },
     "execution_count": 7,
     "metadata": {},
     "output_type": "execute_result"
    }
   ],
   "source": [
    "sDoc7 = 'Poor Phone Quality'\n",
    "sDoc7.find('P')"
   ]
  },
  {
   "cell_type": "markdown",
   "metadata": {},
   "source": [
    "To find the location of the word 'Phone' in a string like `sDoc7`, you would need to specify the entire substring 'Phone', rather than just 'P'."
   ]
  },
  {
   "cell_type": "code",
   "execution_count": 8,
   "metadata": {},
   "outputs": [
    {
     "data": {
      "text/plain": [
       "5"
      ]
     },
     "execution_count": 8,
     "metadata": {},
     "output_type": "execute_result"
    }
   ],
   "source": [
    "sDoc7.find('Phone')"
   ]
  },
  {
   "cell_type": "markdown",
   "metadata": {},
   "source": [
    "You can also test whether a substring is contained within a string. The [`.startswith()`](https://docs.python.org/3/library/stdtypes.html#str.startswith) method checks whether the string begins with the substring of interest and returns this result as `true` or `false`. Similarly,  [`.endswith()`](https://docs.python.org/3/library/stdtypes.html#str.endswith) checks whether the string ends with the substring.</span>"
   ]
  },
  {
   "cell_type": "code",
   "execution_count": 9,
   "metadata": {},
   "outputs": [
    {
     "data": {
      "text/plain": [
       "(True, True, False)"
      ]
     },
     "execution_count": 9,
     "metadata": {},
     "output_type": "execute_result"
    }
   ],
   "source": [
    "'Phone' in sDoc6, sDoc6.startswith('My'), sDoc6.endswith('My')  # returns a tuple with results from each operation"
   ]
  },
  {
   "cell_type": "markdown",
   "metadata": {},
   "source": [
    "## Replacing Whitespace Characters\n",
    "\n",
    "The [`replace()`](https://docs.python.org/3/library/stdtypes.html#str.replace) method is an important approach you can use to clean and standardize strings. For example, invisible characters such as `\\n` and `\\r` are usually changed to whitespace as part of text standardization.</span>"
   ]
  },
  {
   "cell_type": "code",
   "execution_count": 10,
   "metadata": {},
   "outputs": [
    {
     "data": {
      "text/plain": [
       "'NLP is great!'"
      ]
     },
     "execution_count": 10,
     "metadata": {},
     "output_type": "execute_result"
    }
   ],
   "source": [
    "'NLP\\nis gr8!'.replace('\\n',' ').replace('gr8', 'great')   # returns a cleaner string that is easier to read"
   ]
  },
  {
   "cell_type": "markdown",
   "metadata": {},
   "source": [
    "## Checking a String's State\n",
    "\n",
    "Often, you'll want to check the state of a given string to see what needs to be standardized. There are many methods for doing this, including [<code>isupper()</code>](https://docs.python.org/3/library/stdtypes.html#str.isupper),\n",
    "[<code>islower()</code>](https://docs.python.org/3/library/stdtypes.html#str.islower),[<code>isdecimal()</code>](https://docs.python.org/3/library/stdtypes.html#str.isdecimal), [<code>isalpha()</code>](https://docs.python.org/3/library/stdtypes.html#str.isalpha), [<code>isalnum()</code>](https://docs.python.org/3/library/stdtypes.html#str.isalnum), and more. These methods return a boolean value, either `True` or `False` depending on whether the string matches the specifications of the method."
   ]
  },
  {
   "cell_type": "code",
   "execution_count": 11,
   "metadata": {},
   "outputs": [
    {
     "data": {
      "text/plain": [
       "(False, True)"
      ]
     },
     "execution_count": 11,
     "metadata": {},
     "output_type": "execute_result"
    }
   ],
   "source": [
    "'Yesssss!'.isupper(), 'Oh, Noooo'.lower().islower()    # returns a tuple with results from each operation"
   ]
  },
  {
   "cell_type": "markdown",
   "metadata": {},
   "source": [
    "## Stripping Whitespace\n",
    "\n",
    "Preprocessing a string usually involves removing unnecessary leading and trailing spaces. The [<code>strip()</code>](https://docs.python.org/3/library/stdtypes.html#str.strip) method removes these extra spaces."
   ]
  },
  {
   "cell_type": "code",
   "execution_count": 12,
   "metadata": {},
   "outputs": [
    {
     "data": {
      "text/plain": [
       "'a space-padded string'"
      ]
     },
     "execution_count": 12,
     "metadata": {},
     "output_type": "execute_result"
    }
   ],
   "source": [
    "('     a space-padded string     ').strip()    # strips left and right space characters"
   ]
  },
  {
   "cell_type": "markdown",
   "metadata": {},
   "source": [
    "## Splitting a String\n",
    "\n",
    "The [<code>split()</code>](https://docs.python.org/3/library/stdtypes.html#str.split) method breaks a string at whitespace characters, which include space (<code>' '</code>), Tab (<code>\\t</code>), newline (<code>\\n</code>), or carriage return (<code>\\r</code>).</span> "
   ]
  },
  {
   "cell_type": "code",
   "execution_count": 13,
   "metadata": {},
   "outputs": [
    {
     "name": "stdout",
     "output_type": "stream",
     "text": [
      "['split', 'on', 'whitespace', 'characters:', 'tab', ',', 'newline', ',', 'carriage', 'return', ',', 'and', 'space']\n"
     ]
    }
   ],
   "source": [
    "print('split on whitespace characters: tab \\t, newline \\n, carriage return \\r, and space'.split())"
   ]
  },
  {
   "cell_type": "markdown",
   "metadata": {},
   "source": [
    "You can also split a string at a specified character. "
   ]
  },
  {
   "cell_type": "code",
   "execution_count": 14,
   "metadata": {},
   "outputs": [
    {
     "name": "stdout",
     "output_type": "stream",
     "text": [
      "['\\t\\r', ' \\t\\r', ' \\t\\r', ' ']\n",
      "['\\t\\r\\n', '\\t\\r\\n', '\\t\\r\\n', '']\n",
      "['\\t\\r', '\\t\\r', '\\t\\r', '']\n"
     ]
    }
   ],
   "source": [
    "print('\\t\\r\\n \\t\\r\\n \\t\\r\\n '.split('\\n'))\n",
    "print('\\t\\r\\n \\t\\r\\n \\t\\r\\n '.split(' '))\n",
    "print('\\t\\r\\n \\t\\r\\n \\t\\r\\n '.split('\\n '))"
   ]
  },
  {
   "cell_type": "markdown",
   "metadata": {},
   "source": [
    "Note that spaces remain in substrings if we split on <code>\\n</code>."
   ]
  },
  {
   "cell_type": "markdown",
   "metadata": {},
   "source": [
    "<hr style=\"border-top: 2px solid #606366; background: transparent;\">\n",
    "\n",
    "# Optional Practice\n",
    "\n",
    "Now you will practice techniques to perform operations on strings. To start, run the following code to load and print the same string you worked with in the last exercise: "
   ]
  },
  {
   "cell_type": "code",
   "execution_count": 15,
   "metadata": {},
   "outputs": [
    {
     "data": {
      "text/plain": [
       "'The quick brown fox jumped Over the Big Dog And Then Jumped Again Over The Lazy Myxococcus llanfairpwllgwyngyllgogerychwyrndrobwllllantysiliogogogochensis'"
      ]
     },
     "execution_count": 15,
     "metadata": {},
     "output_type": "execute_result"
    }
   ],
   "source": [
    "sTxt = 'The quick brown fox jumped Over the Big Dog And Then Jumped Again Over The Lazy \\\n",
    "Myxococcus llanfairpwllgwyngyllgogerychwyrndrobwllllantysiliogogogochensis'\n",
    "sTxt"
   ]
  },
  {
   "cell_type": "markdown",
   "metadata": {},
   "source": [
    "As you work through these tasks, check your answers by running your code in the *#check solution here* cell, to see if you’ve gotten the correct result. If you get stuck on a task, click the See **solution** drop-down to view the answer.\n",
    "\n",
    "## Task 1\n",
    "\n",
    "Convert <code>sTxt</code> to lowercase, save the output as <code>sTxt1</code>, and print <code>sTxt1</code>.\n",
    "\n",
    "**Hint:** Try calling <code>.lower()</code> method on <code>sTxt</code>."
   ]
  },
  {
   "cell_type": "code",
   "execution_count": 19,
   "metadata": {},
   "outputs": [
    {
     "name": "stdout",
     "output_type": "stream",
     "text": [
      "the quick brown fox jumped over the big dog and then jumped again over the lazy myxococcus llanfairpwllgwyngyllgogerychwyrndrobwllllantysiliogogogochensis\n"
     ]
    }
   ],
   "source": [
    "sTxt1 = sTxt.lower()\n",
    "print(sTxt1)"
   ]
  },
  {
   "cell_type": "markdown",
   "metadata": {},
   "source": [
    "<font color=606366>\n",
    "    <details><summary><font color=B31B1B>▶ </font>See <b>solution</b>.</summary>\n",
    "<code>sTxt1 = sTxt.lower()\n",
    "print(sTxt1)</code></p>\n",
    "        </details>\n",
    "    </details> \n",
    "</font>\n",
    "<hr>"
   ]
  },
  {
   "cell_type": "markdown",
   "metadata": {},
   "source": [
    "## Task 2\n",
    "\n",
    "Replace all instances of `\"dog\"` in the <code>sTxt1</code> string with `\"fox\"`. Save the output to a new object called <code>sTxt2</code>.\n",
    "\n",
    "<b>Hint:</b> Try using the <code>str.replace()</code> method."
   ]
  },
  {
   "cell_type": "code",
   "execution_count": 20,
   "metadata": {
    "code_folding": []
   },
   "outputs": [],
   "source": [
    "sIn, sOut = 'dog', 'fox'\n",
    "sTxt2 = sTxt1.replace(sIn, sOut)"
   ]
  },
  {
   "cell_type": "markdown",
   "metadata": {},
   "source": [
    "<font color=606366>\n",
    "    <details><summary><font color=B31B1B>▶ </font>See <b>solution</b>.</summary>       \n",
    "<p><code>sIn, sOut = 'dog', 'fox'\n",
    "sTxt2 = sTxt1.replace(sIn, sOut)\n",
    "sTxt2.find(sIn)     # confirm 'dog' is not in the string. \n",
    "                    # Output of -1 means search string not found\n",
    "sTxt2</code>\n",
    "        </details>\n",
    "</font>\n",
    "<hr>"
   ]
  },
  {
   "cell_type": "markdown",
   "metadata": {},
   "source": [
    "## Task 3\n",
    "\n",
    "Split <code>sTxt2</code> on spaces, save the output as <code>sTxt3</code>, and print <code>sTxt3</code>.\n",
    "\n",
    "<b>Hint:</b> The function <code>str.split()</code> uses whitespace as the default separator character, not a space. Check out the documentation for this method. Alternatively, you could use the more laborious method of creating a loop."
   ]
  },
  {
   "cell_type": "code",
   "execution_count": 21,
   "metadata": {},
   "outputs": [
    {
     "name": "stdout",
     "output_type": "stream",
     "text": [
      "['the', 'quick', 'brown', 'fox', 'jumped', 'over', 'the', 'big', 'fox', 'and', 'then', 'jumped', 'again', 'over', 'the', 'lazy', 'myxococcus', 'llanfairpwllgwyngyllgogerychwyrndrobwllllantysiliogogogochensis']\n"
     ]
    }
   ],
   "source": [
    "sTxt3=sTxt2.split(' ')\n",
    "print(sTxt3)"
   ]
  },
  {
   "cell_type": "markdown",
   "metadata": {},
   "source": [
    "<font color=606366>\n",
    "    <details><summary><font color=B31B1B>▶ </font>See <b>solution</b>.</summary>\n",
    "        <pre>\n",
    "<code>sTxt3 = sTxt2.split(' ')\n",
    "print(sTxt3)</code>\n",
    "            </pre>\n",
    "    </details> \n",
    "</font>\n",
    "\n",
    "<hr>"
   ]
  },
  {
   "cell_type": "markdown",
   "metadata": {},
   "source": [
    "## Task 4\n",
    "\n",
    "Join <code>sTxt3</code> back together, but this time separate the substrings from one another with a dash (`'-'`). Save the results to <code>sTxt4</code>, and print <code>sTxt4</code>. \n",
    "\n",
    "<b>Hint:</b> Try using the <code>str.join()</code> method. See documentation, if needed."
   ]
  },
  {
   "cell_type": "code",
   "execution_count": 22,
   "metadata": {},
   "outputs": [
    {
     "name": "stdout",
     "output_type": "stream",
     "text": [
      "the-quick-brown-fox-jumped-over-the-big-fox-and-then-jumped-again-over-the-lazy-myxococcus-llanfairpwllgwyngyllgogerychwyrndrobwllllantysiliogogogochensis\n"
     ]
    }
   ],
   "source": [
    "sTxt4 = '-'.join(sTxt3)\n",
    "print(sTxt4)"
   ]
  },
  {
   "cell_type": "markdown",
   "metadata": {},
   "source": [
    "<font color=606366>\n",
    "    <details><summary><font color=B31B1B>▶ </font>See <b>solution</b>.</summary>\n",
    "        <pre>\n",
    "<code>sTxt4 = '-'.join(sTxt3)\n",
    "print(sTxt4)</code>\n",
    "            </pre>\n",
    "        </details>\n",
    "</font>\n",
    "\n",
    "<hr>"
   ]
  }
 ],
 "metadata": {
  "anaconda-cloud": {},
  "kernelspec": {
   "display_name": "Python 3",
   "language": "python",
   "name": "python3"
  },
  "language_info": {
   "codemirror_mode": {
    "name": "ipython",
    "version": 3
   },
   "file_extension": ".py",
   "mimetype": "text/x-python",
   "name": "python",
   "nbconvert_exporter": "python",
   "pygments_lexer": "ipython3",
   "version": "3.6.9"
  },
  "toc": {
   "base_numbering": 1,
   "nav_menu": {},
   "number_sections": false,
   "sideBar": true,
   "skip_h1_title": false,
   "title_cell": "Table of Contents",
   "title_sidebar": "Contents",
   "toc_cell": false,
   "toc_position": {},
   "toc_section_display": true,
   "toc_window_display": false
  },
  "varInspector": {
   "cols": {
    "lenName": 16,
    "lenType": 16,
    "lenVar": 40
   },
   "kernels_config": {
    "python": {
     "delete_cmd_postfix": "",
     "delete_cmd_prefix": "del ",
     "library": "var_list.py",
     "varRefreshCmd": "print(var_dic_list())"
    },
    "r": {
     "delete_cmd_postfix": ") ",
     "delete_cmd_prefix": "rm(",
     "library": "var_list.r",
     "varRefreshCmd": "cat(var_dic_list()) "
    }
   },
   "types_to_exclude": [
    "module",
    "function",
    "builtin_function_or_method",
    "instance",
    "_Feature"
   ],
   "window_display": false
  }
 },
 "nbformat": 4,
 "nbformat_minor": 1
}
