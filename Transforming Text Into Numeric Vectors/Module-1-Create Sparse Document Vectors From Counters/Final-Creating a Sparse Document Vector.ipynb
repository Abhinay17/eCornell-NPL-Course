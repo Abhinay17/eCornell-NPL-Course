{
 "cells": [
  {
   "cell_type": "markdown",
   "metadata": {
    "deletable": false,
    "editable": false,
    "nbgrader": {
     "cell_type": "markdown",
     "checksum": "9424e49158b39615b33f54371d6e7f60",
     "grade": false,
     "grade_id": "cell-5635e54f16d38a77",
     "locked": true,
     "schema_version": 3,
     "solution": false
    }
   },
   "source": [
    "# **Part One of the Course Project**\n",
    "\n",
    "<span style=\"color:black\">In this project, you will complete user-defined functions (UDFs) to construct **document-term matrices** ([DTM](https://en.wikipedia.org/wiki/Document-term_matrix)) and **term frequency–inverse document frequency** ([TF-IDF](https://en.wikipedia.org/wiki/Tf%E2%80%93idf)) DTM matrices from a corpus of wine reviews. Then, you will manipulate the matrix data stored in `pandas` DataFrames to retrieve key statistics and information. Finally, you will use that information to answer several questions about the NLTK wine reviews corpus.\n",
    "     \n",
    "<span style=\"color:black\">You will test your implementation on a toy document, `LsNLP`, and on the much larger NLTK corpus of wine reviews, `LsWines`. The code below loads the documents and performs basic preprocessing.\n",
    "    \n",
    "As you work through this course project, you may need to consult the [Pandas documentation](https://pandas.pydata.org/pandas-docs/stable/index.html) to explore Pandas methods to help you in implementing these UDFs. \n",
    "<hr style=\"border-top: 2px solid #606366; background: transparent;\">\n"
   ]
  },
  {
   "cell_type": "markdown",
   "metadata": {},
   "source": [
    "# Setup\n",
    "\n",
    "Reset the Python environment to clear it of any previously loaded variables, functions, or libraries. Then, import the libraries and data sets you will need to complete this part of the course project. "
   ]
  },
  {
   "cell_type": "code",
   "execution_count": 1,
   "metadata": {
    "deletable": false,
    "editable": false,
    "nbgrader": {
     "cell_type": "code",
     "checksum": "7b5f26fcebd6c42d19ca3f52f2f6edbb",
     "grade": false,
     "grade_id": "cell-b967698ede6b1edb",
     "locked": true,
     "schema_version": 3,
     "solution": false
    }
   },
   "outputs": [],
   "source": [
    "%reset -f\n",
    "from IPython.core.interactiveshell import InteractiveShell as IS; IS.ast_node_interactivity = \"all\"\n",
    "import numpy as np, re, nltk, pandas as pd, numpy.testing as npt\n",
    "from sklearn.feature_extraction.text import CountVectorizer, TfidfTransformer\n",
    "import unittest\n",
    "from colorunittest import run_unittest\n",
    "eq, aeq, feq = npt.assert_equal, npt.assert_almost_equal, pd.testing.assert_frame_equal"
   ]
  },
  {
   "cell_type": "code",
   "execution_count": 2,
   "metadata": {
    "deletable": false,
    "editable": false,
    "nbgrader": {
     "cell_type": "code",
     "checksum": "da5dc2b2d73c3c2718d03e8ee14db4f8",
     "grade": false,
     "grade_id": "cell-497574479a9130d0",
     "locked": true,
     "schema_version": 3,
     "solution": false
    }
   },
   "outputs": [],
   "source": [
    "_ = nltk.download(['webtext','punkt','stopwords'], quiet=True)  # download NLTK corpora and databases\n",
    "LsStopwords = nltk.corpus.stopwords.words('english')  # List of string words\n",
    "LLsWineCorpus = nltk.corpus.webtext.sents('wine.txt') # short messages about wines (list of list of words)"
   ]
  },
  {
   "cell_type": "code",
   "execution_count": 3,
   "metadata": {
    "deletable": false,
    "editable": false,
    "nbgrader": {
     "cell_type": "code",
     "checksum": "71e89926e0ef50092067a7444a1f356d",
     "grade": false,
     "grade_id": "cell-a139c761c0f8eaf6",
     "locked": true,
     "schema_version": 3,
     "solution": false
    }
   },
   "outputs": [
    {
     "name": "stdout",
     "output_type": "stream",
     "text": [
      "Examples of wine reviews before and after preprocessing:\n",
      " \n",
      "CleanText processing time:\n",
      "CPU times: user 732 ms, sys: 8.71 ms, total: 741 ms\n",
      "Wall time: 737 ms\n",
      " \n",
      "View original sentences:\n",
      "['Lovely delicate , fragrant Rhone wine .', 'Polished leather and strawberries .', 'Perhaps a bit dilute , but good for drinking now .']\n",
      " \n",
      "View processed sentences:\n",
      "['love delic fragrant rhone wine', 'polish leather and strawberri', 'perhap a bit dilut but good for drink now']\n",
      " \n"
     ]
    }
   ],
   "source": [
    "# Returns concatenated stemmed words as a string sentence. Only keeps tokens of letters\n",
    "slo = nltk.PorterStemmer()  # instantiate a stemmer object for trimming words using Porter algorithm\n",
    "CleanText = lambda LsDoc=['NLP','is','fun','!']: ' '.join(slo.stem(s) for s in LsDoc if s.isalpha()) # keep stemmed letter words only\n",
    "\n",
    "LsNLP = ['nlp is fun', 'I like it a ton', 'more nlp makes better nlp']\n",
    "\n",
    "print('Examples of wine reviews before and after preprocessing:')\n",
    "print(' ')\n",
    "print('CleanText processing time:')\n",
    "%time LsWines = [CleanText(s) for s in LLsWineCorpus]  # stem all words in LsWines (and remove non-letter tokens)\n",
    "print(' ')\n",
    "print('View original sentences:')\n",
    "print([' '.join(s) for s in LLsWineCorpus[:3]])   # show original sentences\n",
    "print(' ')\n",
    "print('View processed sentences:')\n",
    "print(LsWines[:3])                                   # show preprocessed sentences\n",
    "print(' ')"
   ]
  },
  {
   "cell_type": "markdown",
   "metadata": {
    "deletable": false,
    "editable": false,
    "nbgrader": {
     "cell_type": "markdown",
     "checksum": "0c456fc9257d37bc4d77c64746ce40af",
     "grade": false,
     "grade_id": "cell-cb9b870181a9ce2f",
     "locked": true,
     "schema_version": 3,
     "solution": false
    }
   },
   "source": [
    "## Task 1: Create a Count-Based Document–Term Matrix (DTM)\n",
    "\n",
    "<span style=\"color:black\"> In this task, you will complete the `GetDTM()` function, which should use Scikit-learn's (SKL) [`CountVectorizer`](https://scikit-learn.org/stable/modules/generated/sklearn.feature_extraction.text.CountVectorizer.html) object to fit and transform a list of string sentences into a DTM. \n",
    "    \n",
    "This function needs to take the input as `LsSents`, a list of string sentences, and return the DTM as a Pandas DataFrame with the vocabulary words as column names (see [`get_feature_names()`](https://scikit-learn.org/stable/modules/generated/sklearn.feature_extraction.text.CountVectorizer.html#sklearn.feature_extraction.text.CountVectorizer.get_feature_names) method) and the sentences as row names. Additionally, the parameters of `GetDTM` should be passed through to `CountVectorizer()` so you can retain control over the vectorizer through your UDF. Note, Do **not** enable case sensitivity on the `CountVectorizer`.\n",
    "    \n",
    "<span style=\"color:black\"> Hint: Recall that the vectorizer tokenizes the given documents into words and outputs a [sparse matrix](https://en.wikipedia.org/wiki/Sparse_matrix) of type [`scipy.sparse.csr.csr_matrix`](https://docs.scipy.org/doc/scipy/reference/generated/scipy.sparse.csr_matrix.html), which stores only non-zero locations and values as a list-like structure. This sparse matrix can be converted into a NumPy array using the [`toarray()`](https://docs.scipy.org/doc/scipy/reference/generated/scipy.sparse.csr_matrix.toarray.html#scipy.sparse.csr_matrix.toarray) method."
   ]
  },
  {
   "cell_type": "markdown",
   "metadata": {},
   "source": [
    "#### Note: Anywhere you see the code <code>raise NotImplementedError()</code>, you can comment that line out, delete it, or move it after your <code>return</code> statement. "
   ]
  },
  {
   "cell_type": "code",
   "execution_count": 4,
   "metadata": {
    "deletable": false,
    "nbgrader": {
     "cell_type": "code",
     "checksum": "b448b77116950dff645552f6211dcc68",
     "grade": false,
     "grade_id": "GetDTM_answer",
     "locked": false,
     "schema_version": 3,
     "solution": true
    }
   },
   "outputs": [],
   "source": [
    "def GetDTM(LsSents=LsNLP, stop_words=LsStopwords, min_df=1, max_df=1.0, max_features=None) -> pd.DataFrame:\n",
    "    ''' GetDTM is a wrapper for CountVectorizer, but returns a DataFrame instead of a sparse matrix.\n",
    "    LsSents: list of string sentences\n",
    "    stop_words, min_df, max_df, max_features: see CountVectorizer's documentation\n",
    "    Return: DTM as pandas DataFrame object with vectorizer's vocabulary for the column names \n",
    "    and LsSents for the row names.     '''\n",
    "    vectorizer = CountVectorizer(stop_words=stop_words, min_df=min_df, max_df=max_df, max_features=max_features)\n",
    "    dtm = vectorizer.fit_transform(LsSents)\n",
    "    df = pd.DataFrame(dtm.toarray(), columns=vectorizer.get_feature_names(), index=LsSents)\n",
    "    return df"
   ]
  },
  {
   "cell_type": "code",
   "execution_count": 5,
   "metadata": {
    "code_folding": [],
    "deletable": false,
    "editable": false,
    "nbgrader": {
     "cell_type": "code",
     "checksum": "316041bf909ed711fea2ede8c86ee626",
     "grade": true,
     "grade_id": "GetDTM_test",
     "locked": true,
     "points": 1,
     "schema_version": 3,
     "solution": false
    }
   },
   "outputs": [
    {
     "name": "stdout",
     "output_type": "stream",
     "text": [
      "Ran 14 tests in 0.430s\n",
      "\n",
      "\u001b[1m\u001b[34mOK\u001b[0m\n",
      "test_00 (__main__.test_GetDTM) ... \u001b[1m\u001b[34mok\u001b[0m\n",
      "test_01 (__main__.test_GetDTM) ... \u001b[1m\u001b[34mok\u001b[0m\n",
      "test_02 (__main__.test_GetDTM) ... \u001b[1m\u001b[34mok\u001b[0m\n",
      "test_03 (__main__.test_GetDTM) ... \u001b[1m\u001b[34mok\u001b[0m\n",
      "test_04 (__main__.test_GetDTM) ... \u001b[1m\u001b[34mok\u001b[0m\n",
      "test_05 (__main__.test_GetDTM) ... \u001b[1m\u001b[34mok\u001b[0m\n",
      "test_06 (__main__.test_GetDTM) ... \u001b[1m\u001b[34mok\u001b[0m\n",
      "test_07 (__main__.test_GetDTM) ... \u001b[1m\u001b[34mok\u001b[0m\n",
      "test_08 (__main__.test_GetDTM) ... \u001b[1m\u001b[34mok\u001b[0m\n",
      "test_09 (__main__.test_GetDTM) ... \u001b[1m\u001b[34mok\u001b[0m\n",
      "test_10 (__main__.test_GetDTM) ... \u001b[1m\u001b[34mok\u001b[0m\n",
      "test_11 (__main__.test_GetDTM) ... \u001b[1m\u001b[34mok\u001b[0m\n",
      "test_12 (__main__.test_GetDTM) ... \u001b[1m\u001b[34mok\u001b[0m\n",
      "test_13 (__main__.test_GetDTM) ... \u001b[1m\u001b[34mok\u001b[0m\n",
      "\n",
      "----------------------------------------------------------------------\n",
      "\n"
     ]
    }
   ],
   "source": [
    "# TEST & AUTOGRADE CELL\n",
    "@run_unittest\n",
    "class test_GetDTM(unittest.TestCase):\n",
    "    def test_00(self):    \n",
    "        df1 = pd.DataFrame([[1,0,1,0],[0,1,0,1]], columns=['fun','like','nlp','ton'], index=['nlp is fun','I like it a ton'])\n",
    "        feq(GetDTM(LsNLP[:2]), df1)\n",
    "    def test_01(self):\n",
    "        df2 = pd.DataFrame([[1,0],[0,1]], columns=['fun','like'], index=['nlp is fun','I like it a ton'])\n",
    "        feq(GetDTM(LsNLP[:2], stop_words=['is','it','nlp','ton']), df2)\n",
    "    def test_02(self):\n",
    "        df2 = pd.DataFrame([[1,0],[0,1]], columns=['fun','like'], index=['nlp is fun','I like it a ton'])\n",
    "        feq(GetDTM(LsNLP[:2], max_features=2), df2)\n",
    "    def test_03(self): eq(GetDTM(LsNLP, min_df=2).sum().sum(), 3)\n",
    "    def test_04(self): eq(GetDTM(LsNLP, max_df=1).sum().sum(), 5)\n",
    "    def test_05(self): eq(GetDTM(LsNLP).sum().sum(), 8)\n",
    "    def test_06(self): eq(list(GetDTM(LsNLP).columns), ['better', 'fun', 'like', 'makes', 'nlp', 'ton'])\n",
    "    def test_07(self): eq(GetDTM(LsNLP).index[0], 'nlp is fun')\n",
    "    def test_08(self): eq(GetDTM(LsWines).sum().sum(), 15637)\n",
    "    def test_09(self): eq(GetDTM(LsWines, stop_words=[]).sum().sum(), 22653)\n",
    "    def test_10(self): eq(GetDTM(LsWines, stop_words=LsStopwords+['wine','veri','thi','good','fruit']).sum().sum(), 14005)\n",
    "    def test_11(self): eq(GetDTM(LsWines, min_df=300).sum().sum(), 1054)\n",
    "    def test_12(self): eq(GetDTM(LsWines, min_df=300, max_df=310).sum().sum(), 311)\n",
    "    def test_13(self): eq(list(GetDTM(LsWines, min_df=300, max_df=310, max_features=2).columns)[0], 'fruit')"
   ]
  },
  {
   "cell_type": "markdown",
   "metadata": {
    "deletable": false,
    "editable": false,
    "nbgrader": {
     "cell_type": "markdown",
     "checksum": "7c36f12c7312f428f32a61d47173464e",
     "grade": false,
     "grade_id": "cell-f2f7c1faecb93760",
     "locked": true,
     "schema_version": 3,
     "solution": false
    }
   },
   "source": [
    "## Task 2: Address Sparsity in the Count-Based DTM\n",
    "\n",
    "<span style='color:black'>Here, you will complete the `GetFrac()` UDF so that it computes the fraction of `nValue` values in the DTM DataFrame as a way to calculate sparsity. Recall that real-world corpora typically have high sparsity. Do you also observe high sparsity in the wine reviews corpus?\n"
   ]
  },
  {
   "cell_type": "code",
   "execution_count": 6,
   "metadata": {
    "deletable": false,
    "nbgrader": {
     "cell_type": "code",
     "checksum": "1b743114497b2343766ae563caf51c6c",
     "grade": false,
     "grade_id": "GetFrac_answer",
     "locked": false,
     "schema_version": 3,
     "solution": true
    }
   },
   "outputs": [],
   "source": [
    "def GetFrac(dfDTM=GetDTM(), nValue=0) -> float:\n",
    "    '''Return the fraction of nValue elements in dfDTM dataframe\n",
    "    Compute how many nValue elements are in the dataframe \n",
    "    (as proportion of the total number of elements).     '''\n",
    "    df = dfDTM.copy()  # make a copy of dataframe to avoid modifying original values on a reference\n",
    "    total_elements = df.size\n",
    "    count_nValue = (df == nValue).sum().sum()\n",
    "    return count_nValue / total_elements"
   ]
  },
  {
   "cell_type": "code",
   "execution_count": 7,
   "metadata": {
    "code_folding": [],
    "deletable": false,
    "editable": false,
    "nbgrader": {
     "cell_type": "code",
     "checksum": "b0003d7fe9452606b21faa69b23f9409",
     "grade": true,
     "grade_id": "GetFrac_test",
     "locked": true,
     "points": 1,
     "schema_version": 3,
     "solution": false
    }
   },
   "outputs": [
    {
     "name": "stdout",
     "output_type": "stream",
     "text": [
      "Ran 4 tests in 0.202s\n",
      "\n",
      "\u001b[1m\u001b[34mOK\u001b[0m\n",
      "test_00 (__main__.test_GetFrac) ... \u001b[1m\u001b[34mok\u001b[0m\n",
      "test_01 (__main__.test_GetFrac) ... \u001b[1m\u001b[34mok\u001b[0m\n",
      "test_02 (__main__.test_GetFrac) ... \u001b[1m\u001b[34mok\u001b[0m\n",
      "test_03 (__main__.test_GetFrac) ... \u001b[1m\u001b[34mok\u001b[0m\n",
      "\n",
      "----------------------------------------------------------------------\n",
      "\n"
     ]
    }
   ],
   "source": [
    "# TEST & AUTOGRADE CELL\n",
    "try:    dfDTM_Wines, dfDTM_NLP = GetDTM(LsWines), GetDTM(LsNLP)\n",
    "except: dfDTM_Wines = dfDTM_NLP = None # If not implemented, save None value\n",
    "    \n",
    "@run_unittest\n",
    "class test_GetFrac(unittest.TestCase):\n",
    "    def test_00(self): aeq(GetFrac(dfDTM_NLP, nValue=0), 0.611111111111111, 4)\n",
    "    def test_01(self): aeq(GetFrac(dfDTM_NLP, nValue=1), 0.3333333333333333, 4)\n",
    "    def test_02(self): aeq(GetFrac(dfDTM_Wines, nValue=0), 0.9975999585059148, 4)\n",
    "    def test_03(self): aeq(GetFrac(dfDTM_Wines, nValue=1), 0.0023728653529357688, 4)"
   ]
  },
  {
   "cell_type": "markdown",
   "metadata": {},
   "source": [
    "## Additional Demos of Helpful Pandas Methods\n",
    "\n",
    "For some of the functions that follow, you you may find it convenient to perform all operations on the input DataFrame by calling appropriate methods. Methods to consider (some of which you have seen before in the practice exercises) include `reset_index()`, `sort_values()`, `values`, `sum()`, `max()`, `min()`, `replace()`, and `tolist()`. The cells below contain some simple examples to illustrate how these work to help you understand where they might be useful in your own code.\n",
    "\n",
    "First, create a DataFrame to practice on using the `GetDTM()` function you coded above, accepting all the defaults:"
   ]
  },
  {
   "cell_type": "code",
   "execution_count": 8,
   "metadata": {},
   "outputs": [
    {
     "data": {
      "text/html": [
       "<div>\n",
       "<style scoped>\n",
       "    .dataframe tbody tr th:only-of-type {\n",
       "        vertical-align: middle;\n",
       "    }\n",
       "\n",
       "    .dataframe tbody tr th {\n",
       "        vertical-align: top;\n",
       "    }\n",
       "\n",
       "    .dataframe thead th {\n",
       "        text-align: right;\n",
       "    }\n",
       "</style>\n",
       "<table border=\"1\" class=\"dataframe\">\n",
       "  <thead>\n",
       "    <tr style=\"text-align: right;\">\n",
       "      <th></th>\n",
       "      <th>better</th>\n",
       "      <th>fun</th>\n",
       "      <th>like</th>\n",
       "      <th>makes</th>\n",
       "      <th>nlp</th>\n",
       "      <th>ton</th>\n",
       "    </tr>\n",
       "  </thead>\n",
       "  <tbody>\n",
       "    <tr>\n",
       "      <th>nlp is fun</th>\n",
       "      <td>0</td>\n",
       "      <td>1</td>\n",
       "      <td>0</td>\n",
       "      <td>0</td>\n",
       "      <td>1</td>\n",
       "      <td>0</td>\n",
       "    </tr>\n",
       "    <tr>\n",
       "      <th>I like it a ton</th>\n",
       "      <td>0</td>\n",
       "      <td>0</td>\n",
       "      <td>1</td>\n",
       "      <td>0</td>\n",
       "      <td>0</td>\n",
       "      <td>1</td>\n",
       "    </tr>\n",
       "    <tr>\n",
       "      <th>more nlp makes better nlp</th>\n",
       "      <td>1</td>\n",
       "      <td>0</td>\n",
       "      <td>0</td>\n",
       "      <td>1</td>\n",
       "      <td>2</td>\n",
       "      <td>0</td>\n",
       "    </tr>\n",
       "  </tbody>\n",
       "</table>\n",
       "</div>"
      ],
      "text/plain": [
       "                           better  fun  like  makes  nlp  ton\n",
       "nlp is fun                      0    1     0      0    1    0\n",
       "I like it a ton                 0    0     1      0    0    1\n",
       "more nlp makes better nlp       1    0     0      1    2    0"
      ]
     },
     "execution_count": 8,
     "metadata": {},
     "output_type": "execute_result"
    }
   ],
   "source": [
    "df_practice = GetDTM()\n",
    "df_practice"
   ]
  },
  {
   "cell_type": "markdown",
   "metadata": {},
   "source": [
    "The `sum()` method is straightforward and adds up the values of each column by default and returns it as a series, with the column labels serving as the index."
   ]
  },
  {
   "cell_type": "code",
   "execution_count": 9,
   "metadata": {},
   "outputs": [
    {
     "data": {
      "text/plain": [
       "better    1\n",
       "fun       1\n",
       "like      1\n",
       "makes     1\n",
       "nlp       3\n",
       "ton       1\n",
       "dtype: int64"
      ]
     },
     "execution_count": 9,
     "metadata": {},
     "output_type": "execute_result"
    }
   ],
   "source": [
    "df_practice.sum()"
   ]
  },
  {
   "cell_type": "markdown",
   "metadata": {},
   "source": [
    "You can change the default behavior of sum by changing the axis over which to perform the sum. "
   ]
  },
  {
   "cell_type": "code",
   "execution_count": 10,
   "metadata": {},
   "outputs": [
    {
     "data": {
      "text/plain": [
       "nlp is fun                   2\n",
       "I like it a ton              2\n",
       "more nlp makes better nlp    4\n",
       "dtype: int64"
      ]
     },
     "execution_count": 10,
     "metadata": {},
     "output_type": "execute_result"
    }
   ],
   "source": [
    "df_practice.sum(axis=1)"
   ]
  },
  {
   "cell_type": "markdown",
   "metadata": {},
   "source": [
    "If you want to know the largest value in each column instead of the sum, the `max()` method can be helpful."
   ]
  },
  {
   "cell_type": "code",
   "execution_count": 11,
   "metadata": {},
   "outputs": [
    {
     "data": {
      "text/plain": [
       "better    1\n",
       "fun       1\n",
       "like      1\n",
       "makes     1\n",
       "nlp       2\n",
       "ton       1\n",
       "dtype: int64"
      ]
     },
     "execution_count": 11,
     "metadata": {},
     "output_type": "execute_result"
    }
   ],
   "source": [
    "df_practice.max()"
   ]
  },
  {
   "cell_type": "markdown",
   "metadata": {},
   "source": [
    "Conversely, if you want to know the smallest values in each column, try the `min()` method."
   ]
  },
  {
   "cell_type": "code",
   "execution_count": 12,
   "metadata": {},
   "outputs": [
    {
     "data": {
      "text/plain": [
       "better    0\n",
       "fun       0\n",
       "like      0\n",
       "makes     0\n",
       "nlp       0\n",
       "ton       0\n",
       "dtype: int64"
      ]
     },
     "execution_count": 12,
     "metadata": {},
     "output_type": "execute_result"
    }
   ],
   "source": [
    "df_practice.min()"
   ]
  },
  {
   "cell_type": "markdown",
   "metadata": {},
   "source": [
    "Sometimes when working with sparse objects, you will want to replace zeros with NaN. This can be done using the `replace()` method and the NumPy `nan` function."
   ]
  },
  {
   "cell_type": "code",
   "execution_count": 13,
   "metadata": {},
   "outputs": [
    {
     "data": {
      "text/plain": [
       "better   NaN\n",
       "fun      NaN\n",
       "like     NaN\n",
       "makes    NaN\n",
       "nlp      NaN\n",
       "ton      NaN\n",
       "dtype: float64"
      ]
     },
     "execution_count": 13,
     "metadata": {},
     "output_type": "execute_result"
    }
   ],
   "source": [
    "df_practice.min().replace(0,np.nan)"
   ]
  },
  {
   "cell_type": "markdown",
   "metadata": {},
   "source": [
    "You can stack methods to produce useful outputs. For example, after calculating the sum of the word values, it may be helpful to sort those values. By default, the `sort_values` method will do this in ascending order:"
   ]
  },
  {
   "cell_type": "code",
   "execution_count": 14,
   "metadata": {},
   "outputs": [
    {
     "data": {
      "text/plain": [
       "better    1\n",
       "fun       1\n",
       "like      1\n",
       "makes     1\n",
       "ton       1\n",
       "nlp       3\n",
       "dtype: int64"
      ]
     },
     "execution_count": 14,
     "metadata": {},
     "output_type": "execute_result"
    }
   ],
   "source": [
    "df_practice.sum().sort_values()"
   ]
  },
  {
   "cell_type": "markdown",
   "metadata": {},
   "source": [
    "You can generate the list in descending order (which can be useful when you want to find the highest values) by specifying `ascending=False` within the `sort_values()` method:"
   ]
  },
  {
   "cell_type": "code",
   "execution_count": 15,
   "metadata": {},
   "outputs": [
    {
     "data": {
      "text/plain": [
       "nlp       3\n",
       "ton       1\n",
       "makes     1\n",
       "like      1\n",
       "fun       1\n",
       "better    1\n",
       "dtype: int64"
      ]
     },
     "execution_count": 15,
     "metadata": {},
     "output_type": "execute_result"
    }
   ],
   "source": [
    "df_practice.sum().sort_values(ascending=False)"
   ]
  },
  {
   "cell_type": "markdown",
   "metadata": {},
   "source": [
    "If you just want the values from the DataFrame, Pandas provides the `values` method which returns all values in the DataFrame as a list (or if dealing with multiple columns, a list of lists) embedded in an array."
   ]
  },
  {
   "cell_type": "code",
   "execution_count": 16,
   "metadata": {},
   "outputs": [
    {
     "data": {
      "text/plain": [
       "array([3, 1, 1, 1, 1, 1])"
      ]
     },
     "execution_count": 16,
     "metadata": {},
     "output_type": "execute_result"
    }
   ],
   "source": [
    "df_practice.sum().sort_values(ascending=False).values"
   ]
  },
  {
   "cell_type": "markdown",
   "metadata": {},
   "source": [
    "The `tolist()` method reformats the array into a list (or list of lists)."
   ]
  },
  {
   "cell_type": "code",
   "execution_count": 17,
   "metadata": {},
   "outputs": [
    {
     "data": {
      "text/plain": [
       "[3, 1, 1, 1, 1, 1]"
      ]
     },
     "execution_count": 17,
     "metadata": {},
     "output_type": "execute_result"
    }
   ],
   "source": [
    "df_practice.sum().sort_values(ascending=False).values.tolist()"
   ]
  },
  {
   "cell_type": "markdown",
   "metadata": {},
   "source": [
    "Perhaps the most challenging method in the list above is the `reset_index()` method. Take a look at an example of what happens when you use the `sum()` method, and then compare that to the output after calling `reset_index()`:"
   ]
  },
  {
   "cell_type": "code",
   "execution_count": 18,
   "metadata": {},
   "outputs": [
    {
     "data": {
      "text/plain": [
       "better    1\n",
       "fun       1\n",
       "like      1\n",
       "makes     1\n",
       "nlp       3\n",
       "ton       1\n",
       "dtype: int64"
      ]
     },
     "execution_count": 18,
     "metadata": {},
     "output_type": "execute_result"
    }
   ],
   "source": [
    "df_practice.sum()"
   ]
  },
  {
   "cell_type": "code",
   "execution_count": 19,
   "metadata": {},
   "outputs": [
    {
     "data": {
      "text/html": [
       "<div>\n",
       "<style scoped>\n",
       "    .dataframe tbody tr th:only-of-type {\n",
       "        vertical-align: middle;\n",
       "    }\n",
       "\n",
       "    .dataframe tbody tr th {\n",
       "        vertical-align: top;\n",
       "    }\n",
       "\n",
       "    .dataframe thead th {\n",
       "        text-align: right;\n",
       "    }\n",
       "</style>\n",
       "<table border=\"1\" class=\"dataframe\">\n",
       "  <thead>\n",
       "    <tr style=\"text-align: right;\">\n",
       "      <th></th>\n",
       "      <th>index</th>\n",
       "      <th>0</th>\n",
       "    </tr>\n",
       "  </thead>\n",
       "  <tbody>\n",
       "    <tr>\n",
       "      <th>0</th>\n",
       "      <td>better</td>\n",
       "      <td>1</td>\n",
       "    </tr>\n",
       "    <tr>\n",
       "      <th>1</th>\n",
       "      <td>fun</td>\n",
       "      <td>1</td>\n",
       "    </tr>\n",
       "    <tr>\n",
       "      <th>2</th>\n",
       "      <td>like</td>\n",
       "      <td>1</td>\n",
       "    </tr>\n",
       "    <tr>\n",
       "      <th>3</th>\n",
       "      <td>makes</td>\n",
       "      <td>1</td>\n",
       "    </tr>\n",
       "    <tr>\n",
       "      <th>4</th>\n",
       "      <td>nlp</td>\n",
       "      <td>3</td>\n",
       "    </tr>\n",
       "    <tr>\n",
       "      <th>5</th>\n",
       "      <td>ton</td>\n",
       "      <td>1</td>\n",
       "    </tr>\n",
       "  </tbody>\n",
       "</table>\n",
       "</div>"
      ],
      "text/plain": [
       "    index  0\n",
       "0  better  1\n",
       "1     fun  1\n",
       "2    like  1\n",
       "3   makes  1\n",
       "4     nlp  3\n",
       "5     ton  1"
      ]
     },
     "execution_count": 19,
     "metadata": {},
     "output_type": "execute_result"
    }
   ],
   "source": [
    "df_practice.sum().reset_index()"
   ]
  },
  {
   "cell_type": "markdown",
   "metadata": {},
   "source": [
    "The `reset_index()` method has taken the series index produced by the `sum()` method and made it into a column labeled \"index,\" taken the summed values and put them into a column labeled \"0,\" and replaced the actual index with a range from 0 to the end of the values.\n",
    "\n",
    "You can verify by using the Pandas `columns` method that this process creates two columns, which can now be independently acted upon."
   ]
  },
  {
   "cell_type": "code",
   "execution_count": 20,
   "metadata": {},
   "outputs": [
    {
     "data": {
      "text/plain": [
       "Index(['index', 0], dtype='object')"
      ]
     },
     "execution_count": 20,
     "metadata": {},
     "output_type": "execute_result"
    }
   ],
   "source": [
    "df_practice.sum().reset_index().columns"
   ]
  },
  {
   "cell_type": "code",
   "execution_count": 21,
   "metadata": {},
   "outputs": [
    {
     "data": {
      "text/plain": [
       "0    better\n",
       "1       fun\n",
       "2      like\n",
       "3     makes\n",
       "4       nlp\n",
       "5       ton\n",
       "Name: index, dtype: object"
      ]
     },
     "execution_count": 21,
     "metadata": {},
     "output_type": "execute_result"
    }
   ],
   "source": [
    "df_practice.sum().reset_index()['index']"
   ]
  },
  {
   "cell_type": "code",
   "execution_count": 22,
   "metadata": {},
   "outputs": [
    {
     "data": {
      "text/plain": [
       "0    1\n",
       "1    1\n",
       "2    1\n",
       "3    1\n",
       "4    3\n",
       "5    1\n",
       "Name: 0, dtype: int64"
      ]
     },
     "execution_count": 22,
     "metadata": {},
     "output_type": "execute_result"
    }
   ],
   "source": [
    "df_practice.sum().reset_index()[0]"
   ]
  },
  {
   "cell_type": "markdown",
   "metadata": {},
   "source": [
    "Note in the example above, subsetting by 0 returned the values in the column labeled \"0,\" not the first column in the DataFrame, which was labeled \"index.\" This context switch can take some getting used to. When in doubt, don't forget to print intermediate outputs to ensure you are working on the right section of the data."
   ]
  },
  {
   "cell_type": "markdown",
   "metadata": {},
   "source": [
    "Finally, when sorting DataFrames that have more than one column, you must specify the sort order when calling `sort_values` using the `by` argument and the column or order of columns you want to sort by. Take a look at the examples below:"
   ]
  },
  {
   "cell_type": "code",
   "execution_count": 23,
   "metadata": {},
   "outputs": [],
   "source": [
    "# You can uncomment the line of code below to see the error message when you don't specify the column to sort by:\n",
    "\n",
    "#df_practice.sum().reset_index().sort_values()"
   ]
  },
  {
   "cell_type": "code",
   "execution_count": 24,
   "metadata": {},
   "outputs": [
    {
     "data": {
      "text/html": [
       "<div>\n",
       "<style scoped>\n",
       "    .dataframe tbody tr th:only-of-type {\n",
       "        vertical-align: middle;\n",
       "    }\n",
       "\n",
       "    .dataframe tbody tr th {\n",
       "        vertical-align: top;\n",
       "    }\n",
       "\n",
       "    .dataframe thead th {\n",
       "        text-align: right;\n",
       "    }\n",
       "</style>\n",
       "<table border=\"1\" class=\"dataframe\">\n",
       "  <thead>\n",
       "    <tr style=\"text-align: right;\">\n",
       "      <th></th>\n",
       "      <th>index</th>\n",
       "      <th>0</th>\n",
       "    </tr>\n",
       "  </thead>\n",
       "  <tbody>\n",
       "    <tr>\n",
       "      <th>0</th>\n",
       "      <td>better</td>\n",
       "      <td>1</td>\n",
       "    </tr>\n",
       "    <tr>\n",
       "      <th>1</th>\n",
       "      <td>fun</td>\n",
       "      <td>1</td>\n",
       "    </tr>\n",
       "    <tr>\n",
       "      <th>2</th>\n",
       "      <td>like</td>\n",
       "      <td>1</td>\n",
       "    </tr>\n",
       "    <tr>\n",
       "      <th>3</th>\n",
       "      <td>makes</td>\n",
       "      <td>1</td>\n",
       "    </tr>\n",
       "    <tr>\n",
       "      <th>4</th>\n",
       "      <td>nlp</td>\n",
       "      <td>3</td>\n",
       "    </tr>\n",
       "    <tr>\n",
       "      <th>5</th>\n",
       "      <td>ton</td>\n",
       "      <td>1</td>\n",
       "    </tr>\n",
       "  </tbody>\n",
       "</table>\n",
       "</div>"
      ],
      "text/plain": [
       "    index  0\n",
       "0  better  1\n",
       "1     fun  1\n",
       "2    like  1\n",
       "3   makes  1\n",
       "4     nlp  3\n",
       "5     ton  1"
      ]
     },
     "execution_count": 24,
     "metadata": {},
     "output_type": "execute_result"
    }
   ],
   "source": [
    "# Sort by the 'index' column\n",
    "\n",
    "df_practice.sum().reset_index().sort_values(by = 'index')"
   ]
  },
  {
   "cell_type": "code",
   "execution_count": 25,
   "metadata": {},
   "outputs": [
    {
     "data": {
      "text/html": [
       "<div>\n",
       "<style scoped>\n",
       "    .dataframe tbody tr th:only-of-type {\n",
       "        vertical-align: middle;\n",
       "    }\n",
       "\n",
       "    .dataframe tbody tr th {\n",
       "        vertical-align: top;\n",
       "    }\n",
       "\n",
       "    .dataframe thead th {\n",
       "        text-align: right;\n",
       "    }\n",
       "</style>\n",
       "<table border=\"1\" class=\"dataframe\">\n",
       "  <thead>\n",
       "    <tr style=\"text-align: right;\">\n",
       "      <th></th>\n",
       "      <th>index</th>\n",
       "      <th>0</th>\n",
       "    </tr>\n",
       "  </thead>\n",
       "  <tbody>\n",
       "    <tr>\n",
       "      <th>0</th>\n",
       "      <td>better</td>\n",
       "      <td>1</td>\n",
       "    </tr>\n",
       "    <tr>\n",
       "      <th>1</th>\n",
       "      <td>fun</td>\n",
       "      <td>1</td>\n",
       "    </tr>\n",
       "    <tr>\n",
       "      <th>2</th>\n",
       "      <td>like</td>\n",
       "      <td>1</td>\n",
       "    </tr>\n",
       "    <tr>\n",
       "      <th>3</th>\n",
       "      <td>makes</td>\n",
       "      <td>1</td>\n",
       "    </tr>\n",
       "    <tr>\n",
       "      <th>5</th>\n",
       "      <td>ton</td>\n",
       "      <td>1</td>\n",
       "    </tr>\n",
       "    <tr>\n",
       "      <th>4</th>\n",
       "      <td>nlp</td>\n",
       "      <td>3</td>\n",
       "    </tr>\n",
       "  </tbody>\n",
       "</table>\n",
       "</div>"
      ],
      "text/plain": [
       "    index  0\n",
       "0  better  1\n",
       "1     fun  1\n",
       "2    like  1\n",
       "3   makes  1\n",
       "5     ton  1\n",
       "4     nlp  3"
      ]
     },
     "execution_count": 25,
     "metadata": {},
     "output_type": "execute_result"
    }
   ],
   "source": [
    "# Sort by the 0 column\n",
    "\n",
    "df_practice.sum().reset_index().sort_values(by = 0)"
   ]
  },
  {
   "cell_type": "code",
   "execution_count": 26,
   "metadata": {},
   "outputs": [
    {
     "data": {
      "text/html": [
       "<div>\n",
       "<style scoped>\n",
       "    .dataframe tbody tr th:only-of-type {\n",
       "        vertical-align: middle;\n",
       "    }\n",
       "\n",
       "    .dataframe tbody tr th {\n",
       "        vertical-align: top;\n",
       "    }\n",
       "\n",
       "    .dataframe thead th {\n",
       "        text-align: right;\n",
       "    }\n",
       "</style>\n",
       "<table border=\"1\" class=\"dataframe\">\n",
       "  <thead>\n",
       "    <tr style=\"text-align: right;\">\n",
       "      <th></th>\n",
       "      <th>index</th>\n",
       "      <th>0</th>\n",
       "    </tr>\n",
       "  </thead>\n",
       "  <tbody>\n",
       "    <tr>\n",
       "      <th>0</th>\n",
       "      <td>better</td>\n",
       "      <td>1</td>\n",
       "    </tr>\n",
       "    <tr>\n",
       "      <th>1</th>\n",
       "      <td>fun</td>\n",
       "      <td>1</td>\n",
       "    </tr>\n",
       "    <tr>\n",
       "      <th>2</th>\n",
       "      <td>like</td>\n",
       "      <td>1</td>\n",
       "    </tr>\n",
       "    <tr>\n",
       "      <th>3</th>\n",
       "      <td>makes</td>\n",
       "      <td>1</td>\n",
       "    </tr>\n",
       "    <tr>\n",
       "      <th>5</th>\n",
       "      <td>ton</td>\n",
       "      <td>1</td>\n",
       "    </tr>\n",
       "    <tr>\n",
       "      <th>4</th>\n",
       "      <td>nlp</td>\n",
       "      <td>3</td>\n",
       "    </tr>\n",
       "  </tbody>\n",
       "</table>\n",
       "</div>"
      ],
      "text/plain": [
       "    index  0\n",
       "0  better  1\n",
       "1     fun  1\n",
       "2    like  1\n",
       "3   makes  1\n",
       "5     ton  1\n",
       "4     nlp  3"
      ]
     },
     "execution_count": 26,
     "metadata": {},
     "output_type": "execute_result"
    }
   ],
   "source": [
    "# Sort by 0, then by 'index' as applicable\n",
    "\n",
    "df_practice.sum().reset_index().sort_values(by = [0, 'index'])"
   ]
  },
  {
   "cell_type": "markdown",
   "metadata": {},
   "source": [
    "Note that the previous two examples returned the same output, because the initial sort for \"index\" was ascending alphabetical order. You can change this behavior by specifiying whether ascending is True or False for each column specified."
   ]
  },
  {
   "cell_type": "code",
   "execution_count": 27,
   "metadata": {},
   "outputs": [
    {
     "data": {
      "text/html": [
       "<div>\n",
       "<style scoped>\n",
       "    .dataframe tbody tr th:only-of-type {\n",
       "        vertical-align: middle;\n",
       "    }\n",
       "\n",
       "    .dataframe tbody tr th {\n",
       "        vertical-align: top;\n",
       "    }\n",
       "\n",
       "    .dataframe thead th {\n",
       "        text-align: right;\n",
       "    }\n",
       "</style>\n",
       "<table border=\"1\" class=\"dataframe\">\n",
       "  <thead>\n",
       "    <tr style=\"text-align: right;\">\n",
       "      <th></th>\n",
       "      <th>index</th>\n",
       "      <th>0</th>\n",
       "    </tr>\n",
       "  </thead>\n",
       "  <tbody>\n",
       "    <tr>\n",
       "      <th>5</th>\n",
       "      <td>ton</td>\n",
       "      <td>1</td>\n",
       "    </tr>\n",
       "    <tr>\n",
       "      <th>3</th>\n",
       "      <td>makes</td>\n",
       "      <td>1</td>\n",
       "    </tr>\n",
       "    <tr>\n",
       "      <th>2</th>\n",
       "      <td>like</td>\n",
       "      <td>1</td>\n",
       "    </tr>\n",
       "    <tr>\n",
       "      <th>1</th>\n",
       "      <td>fun</td>\n",
       "      <td>1</td>\n",
       "    </tr>\n",
       "    <tr>\n",
       "      <th>0</th>\n",
       "      <td>better</td>\n",
       "      <td>1</td>\n",
       "    </tr>\n",
       "    <tr>\n",
       "      <th>4</th>\n",
       "      <td>nlp</td>\n",
       "      <td>3</td>\n",
       "    </tr>\n",
       "  </tbody>\n",
       "</table>\n",
       "</div>"
      ],
      "text/plain": [
       "    index  0\n",
       "5     ton  1\n",
       "3   makes  1\n",
       "2    like  1\n",
       "1     fun  1\n",
       "0  better  1\n",
       "4     nlp  3"
      ]
     },
     "execution_count": 27,
     "metadata": {},
     "output_type": "execute_result"
    }
   ],
   "source": [
    "df_practice.sum().reset_index().sort_values(by = [0, 'index'], ascending=[True,False])"
   ]
  },
  {
   "cell_type": "markdown",
   "metadata": {},
   "source": [
    "The examples above are often not the only way to accomplish a given task, and they do not represent the complete set of programming skills needed to complete all of the functions below. Please refer to the practice exercises and relevant documentation or equivalent resources for additional information. If you have questions that cannot be answered with these resources, please reach out to your course facilitator."
   ]
  },
  {
   "cell_type": "markdown",
   "metadata": {
    "deletable": false,
    "editable": false,
    "nbgrader": {
     "cell_type": "markdown",
     "checksum": "091e81613f4aff36e5caf9fcbbe0ce95",
     "grade": false,
     "grade_id": "cell-2807aeec5fe5e4dc",
     "locked": true,
     "schema_version": 3,
     "solution": false
    }
   },
   "source": [
    "## Task 3: Identify the Most Common Words in the DTM Overall\n",
    "\n",
    "<span style=\"color:black\">Next, you'll complete a function `MostCommonWords1` that computes each column's total and outputs only the `n` most frequent words in DTM. In case of a tie, your function should order words alphabetically. \n",
    "    \n",
    "For example, consider the following DTM and `n=3`:\n",
    "\n",
    "|.|better|fun|makes|nlp|\n",
    "|-|-|-|-|-|\n",
    "|more nlp makes better nlp|1|0|1|2|\n",
    "|better nlp is fun|1|1|0|1|\n",
    "\n",
    "The final output should be the following:\n",
    "\n",
    "    [['nlp', 3], ['better', 2], ['fun', 1]]\n",
    "    \n",
    "Since \"fun\" is alphabetically higher than \"makes,\" it's returned as the third most frequent word, even though their actual counts are the same."
   ]
  },
  {
   "cell_type": "code",
   "execution_count": 28,
   "metadata": {
    "deletable": false,
    "nbgrader": {
     "cell_type": "code",
     "checksum": "cbc9d4cbaa0c624e51a76e2d0686e4d7",
     "grade": false,
     "grade_id": "MostCommonWords1_answer",
     "locked": false,
     "schema_version": 3,
     "solution": true
    }
   },
   "outputs": [],
   "source": [
    "def MostCommonWords1(dfDTM=GetDTM(), n=5) -> [[str, int], ...]:\n",
    "    ''' Return top n most frequent words with their counts as a list of lists.\n",
    "    If frequencies are tied, order terms alphabetically.'''\n",
    "    df = dfDTM.copy()  # make a copy of dataframe to avoid modifying original values on a reference\n",
    "    word_counts = df.sum(axis=0)\n",
    "    sorted_words = sorted(word_counts.items(), key=lambda x: (-x[1], x[0]))\n",
    "    top_n_words = sorted_words[:n]\n",
    "    return [[word, count] for word, count in top_n_words]"
   ]
  },
  {
   "cell_type": "code",
   "execution_count": 29,
   "metadata": {
    "code_folding": [],
    "deletable": false,
    "editable": false,
    "nbgrader": {
     "cell_type": "code",
     "checksum": "4dc39393667c3d5a003dfc63f7cad732",
     "grade": true,
     "grade_id": "MostCommonWords1_test",
     "locked": true,
     "points": 1,
     "schema_version": 3,
     "solution": false
    }
   },
   "outputs": [
    {
     "name": "stdout",
     "output_type": "stream",
     "text": [
      "Ran 3 tests in 0.105s\n",
      "\n",
      "\u001b[1m\u001b[34mOK\u001b[0m\n",
      "test_00 (__main__.test_MostCommonWords1) ... \u001b[1m\u001b[34mok\u001b[0m\n",
      "test_01 (__main__.test_MostCommonWords1) ... \u001b[1m\u001b[34mok\u001b[0m\n",
      "test_02 (__main__.test_MostCommonWords1) ... \u001b[1m\u001b[34mok\u001b[0m\n",
      "\n",
      "----------------------------------------------------------------------\n",
      "\n"
     ]
    }
   ],
   "source": [
    "# TEST & AUTOGRADE CELL\n",
    "@run_unittest\n",
    "class test_MostCommonWords1(unittest.TestCase):\n",
    "    def test_00(self): eq(MostCommonWords1(dfDTM_NLP, n=5), [['nlp', 3], ['better', 1], ['fun', 1], ['like', 1], ['makes', 1]])\n",
    "    def test_01(self): eq(MostCommonWords1(dfDTM_Wines, n=5), [['veri', 380], ['good', 363], ['fruit', 311], ['quit', 303], ['thi', 289]])\n",
    "    def test_02(self): eq(MostCommonWords1(GetDTM(LsWines[:100]), n=5), [['good', 15], ['bit', 11], ['thi', 11], ['wine', 11], ['dri', 9]])"
   ]
  },
  {
   "cell_type": "markdown",
   "metadata": {
    "deletable": false,
    "editable": false,
    "nbgrader": {
     "cell_type": "markdown",
     "checksum": "2f276812d6e01b5a16527da23602a78a",
     "grade": false,
     "grade_id": "cell-91240bc196f8bca5",
     "locked": true,
     "schema_version": 3,
     "solution": false
    }
   },
   "source": [
    "## Task 4: Identify the Most Common Words by Occurrence in Separate Documents\n",
    "\n",
    "Next, you'll complete the function `MostCommonWords2`, which counts only the number of sentences (documents) in which the word appears, regardless of its count within a sentence. An easy way to achieve this is to convert all non-zero values to 1 (on a copy of `dfDTM`!) and then call the function you completed in Task 3, `MostCommonWords1()`.\n",
    "\n",
    "For example, consider the following DTM and `n=3`:\n",
    "\n",
    "|.|better|fun|makes|nlp|\n",
    "|-|-|-|-|-|\n",
    "|more nlp makes better nlp|1|0|1|2|\n",
    "|better nlp is fun|1|1|0|1|\n",
    "\n",
    "Then the output should be the following:\n",
    "\n",
    "    [['better', 2], ['nlp', 2], ['fun', 1]]\n",
    "    \n",
    "Since alphabetically \"better\" $>$ \"nlp\" and \"fun\" $>$ \"makes,\" \"better\" and \"nlp\" appear in two sentences, while \"fun\" and \"makes\" each appears in one sentence."
   ]
  },
  {
   "cell_type": "code",
   "execution_count": 30,
   "metadata": {
    "deletable": false,
    "nbgrader": {
     "cell_type": "code",
     "checksum": "f800e4ec130798ef7af2f3bea3c085c7",
     "grade": false,
     "grade_id": "MostCommonWords2_answer",
     "locked": false,
     "schema_version": 3,
     "solution": true
    }
   },
   "outputs": [],
   "source": [
    "def MostCommonWords2(dfDTM=GetDTM(), n=5) -> [[str, int], ...]:\n",
    "    ''' Return top n most frequent words with their counts.\n",
    "    Each word is counted only once per sentence. If frequencies are tied, order terms alphabetically.'''\n",
    "    df = dfDTM.copy()  # make a copy of dataframe to avoid modifying original values on a reference\n",
    "    df[df > 0] = 1\n",
    "    \n",
    "    # Sum across the rows to get the count of sentences (documents) each word appears in\n",
    "    word_counts = df.sum(axis=0)\n",
    "    \n",
    "    # Use the MostCommonWords1 function to sort by frequency and alphabetically\n",
    "    return MostCommonWords1(dfDTM=df, n=n)"
   ]
  },
  {
   "cell_type": "code",
   "execution_count": 31,
   "metadata": {
    "code_folding": [],
    "deletable": false,
    "editable": false,
    "nbgrader": {
     "cell_type": "code",
     "checksum": "28f01eaf4173802993862eb7ce334def",
     "grade": true,
     "grade_id": "MostCommonWords2_test",
     "locked": true,
     "points": 1,
     "schema_version": 3,
     "solution": false
    }
   },
   "outputs": [
    {
     "name": "stdout",
     "output_type": "stream",
     "text": [
      "Ran 12 tests in 0.319s\n",
      "\n",
      "\u001b[1m\u001b[34mOK\u001b[0m\n",
      "test_00 (__main__.test_MostCommonWords2) ... \u001b[1m\u001b[34mok\u001b[0m\n",
      "test_01 (__main__.test_MostCommonWords2) ... \u001b[1m\u001b[34mok\u001b[0m\n",
      "test_02 (__main__.test_MostCommonWords2) ... \u001b[1m\u001b[34mok\u001b[0m\n",
      "test_03 (__main__.test_MostCommonWords2) ... \u001b[1m\u001b[34mok\u001b[0m\n",
      "test_04 (__main__.test_MostCommonWords2) ... \u001b[1m\u001b[34mok\u001b[0m\n",
      "test_05 (__main__.test_MostCommonWords2) ... \u001b[1m\u001b[34mok\u001b[0m\n",
      "test_06 (__main__.test_MostCommonWords2) ... \u001b[1m\u001b[34mok\u001b[0m\n",
      "test_07 (__main__.test_MostCommonWords2) ... \u001b[1m\u001b[34mok\u001b[0m\n",
      "test_08 (__main__.test_MostCommonWords2) ... \u001b[1m\u001b[34mok\u001b[0m\n",
      "test_09 (__main__.test_MostCommonWords2) ... \u001b[1m\u001b[34mok\u001b[0m\n",
      "test_10 (__main__.test_MostCommonWords2) ... \u001b[1m\u001b[34mok\u001b[0m\n",
      "test_11 (__main__.test_MostCommonWords2) ... \u001b[1m\u001b[34mok\u001b[0m\n",
      "\n",
      "----------------------------------------------------------------------\n",
      "\n"
     ]
    }
   ],
   "source": [
    "# TEST & AUTOGRADE CELL\n",
    "@run_unittest\n",
    "class test_MostCommonWords2(unittest.TestCase): # verify input dataframes and outputs of MostCommonWords2()\n",
    "    def test_00(self): eq(type(dfDTM_NLP), pd.DataFrame)\n",
    "    def test_01(self): eq(list(dfDTM_NLP.columns), ['better', 'fun', 'like', 'makes', 'nlp', 'ton'])\n",
    "    def test_02(self): eq(list(dfDTM_NLP.index), ['nlp is fun', 'I like it a ton', 'more nlp makes better nlp'])\n",
    "    def test_03(self): eq(dfDTM_NLP.shape, (3,6))\n",
    "    def test_04(self): eq(dfDTM_NLP.values, [[0, 1, 0, 0, 1, 0],  [0, 0, 1, 0, 0, 1], [1, 0, 0, 1, 2, 0]])\n",
    "    def test_05(self): eq(MostCommonWords2(dfDTM_NLP, n=5), [['nlp', 2], ['better', 1], ['fun', 1], ['like', 1], ['makes', 1]])\n",
    "    \n",
    "    def test_06(self): eq(type(dfDTM_Wines), pd.DataFrame)\n",
    "    def test_07(self): eq(list(dfDTM_Wines.columns[[0,1,2,-3,-2,-1]]), ['abandon', 'ablout', 'abov', 'zing', 'zingi', 'zoo'])\n",
    "    def test_08(self): eq(list(dfDTM_Wines.index[[0,1,-2,-1]]), ['love delic fragrant rhone wine', 'polish leather and strawberri',\n",
    "       'i feel thi hasn t the fine to be great but it is veri good', 'ul'])\n",
    "    def test_09(self): eq(dfDTM_Wines.shape, (2984, 2158))\n",
    "    def test_10(self): eq(dfDTM_Wines.sum().sum(), 15637)\n",
    "    def test_11(self): eq(MostCommonWords2(dfDTM_Wines, n=5), [['veri', 366], ['good', 353], ['fruit', 305], ['quit', 297], ['wine', 281]])"
   ]
  },
  {
   "cell_type": "markdown",
   "metadata": {
    "deletable": false,
    "editable": false,
    "nbgrader": {
     "cell_type": "markdown",
     "checksum": "94dd73463cddd49ee73499a560a7d376",
     "grade": false,
     "grade_id": "cell-8c92ddb550daa6fe",
     "locked": true,
     "schema_version": 3,
     "solution": false
    }
   },
   "source": [
    "## Task 5: Identify Most Frequent Words in DTM\n",
    "\n",
    "Complete the function `MostCommonWords3` so that it returns $n$ the most frequent words across all documents. In case of a count tie, return them alphabetically. The output is a list of lists in the form `[str, int]` with a word and its count in DTM.\n",
    "\n",
    "For example, consider the following DTM and `n=4`:\n",
    "\n",
    "|.|better|fun|makes|nlp|\n",
    "|-|-|-|-|-|\n",
    "|more nlp makes better nlp|1|0|1|2|\n",
    "|better nlp is fun|1|1|0|1|\n",
    "\n",
    "Then the output should be the following:\n",
    "\n",
    "    [['nlp', 2], ['better', 1], ['fun', 1], ['makes', 1]]\n",
    "    \n",
    "Since \"better\" is alphabetically higher than \"fun,\" it's returned first."
   ]
  },
  {
   "cell_type": "code",
   "execution_count": 32,
   "metadata": {
    "deletable": false,
    "nbgrader": {
     "cell_type": "code",
     "checksum": "998b45dc69380677e58b5bd65ec4976e",
     "grade": false,
     "grade_id": "MostCommonWords3_answer",
     "locked": false,
     "schema_version": 3,
     "solution": true
    }
   },
   "outputs": [],
   "source": [
    "def MostCommonWords3(dfDTM=GetDTM(), n=5) -> [[str, int], ...]:\n",
    "    ''' Return top n most frequent words from the sentences in DTM.\n",
    "    Basically, a word with the highest count value in DTM is the most common. \n",
    "    Then word with the second highest count value in DTM is the second most common. And so on.\n",
    "    If frequencies are tied, order terms alphabetically.\n",
    "    Each word should be returned once.\n",
    "    Hint: you can find max value from each column and order by (max, index name), \n",
    "        then keep only top n words.\n",
    "    Inputs: \n",
    "        dfDTM: DTM dataframe with column words and row sentences. Values as frequency counts.\n",
    "        n: number of words to return\n",
    "    Ouput: a list of lists in the form [[word, largest count 1],...,[word, smallest count n])   '''\n",
    "    df = dfDTM.copy()  # make a copy of dataframe to avoid modifying original values on a reference\n",
    "    out = []           # deired (list) structure of the output\n",
    "    word_counts = df.max(axis=0)  # Get max frequency for each word\n",
    "    word_df = pd.DataFrame(word_counts).reset_index()\n",
    "    word_df.columns = ['word', 'count']\n",
    "    word_df = word_df.sort_values(by=['count', 'word'], ascending=[False, True])\n",
    "    top_n_words = word_df.head(n)\n",
    "    out = top_n_words.values.tolist()\n",
    "    return out"
   ]
  },
  {
   "cell_type": "code",
   "execution_count": 33,
   "metadata": {
    "code_folding": [],
    "deletable": false,
    "editable": false,
    "nbgrader": {
     "cell_type": "code",
     "checksum": "3a11e620e8c0193ed9f4441ea68768ab",
     "grade": true,
     "grade_id": "MostCommonWords3_test",
     "locked": true,
     "points": 1,
     "schema_version": 3,
     "solution": false
    }
   },
   "outputs": [
    {
     "name": "stdout",
     "output_type": "stream",
     "text": [
      "Ran 5 tests in 0.160s\n",
      "\n",
      "\u001b[1m\u001b[34mOK\u001b[0m\n",
      "test_00 (__main__.test_MostCommonWords3) ... \u001b[1m\u001b[34mok\u001b[0m\n",
      "test_01 (__main__.test_MostCommonWords3) ... \u001b[1m\u001b[34mok\u001b[0m\n",
      "test_02 (__main__.test_MostCommonWords3) ... \u001b[1m\u001b[34mok\u001b[0m\n",
      "test_03 (__main__.test_MostCommonWords3) ... \u001b[1m\u001b[34mok\u001b[0m\n",
      "test_04 (__main__.test_MostCommonWords3) ... \u001b[1m\u001b[34mok\u001b[0m\n",
      "\n",
      "----------------------------------------------------------------------\n",
      "\n"
     ]
    }
   ],
   "source": [
    "# TEST & AUTOGRADE CELL\n",
    "df1 = pd.DataFrame([[1,0,1,2],[1,1,0,1]], columns=['better','fun','makes','nlp'])\n",
    "@run_unittest\n",
    "class test_MostCommonWords3(unittest.TestCase):\n",
    "    def test_00(self): eq(type(MostCommonWords3(df1)), list)\n",
    "    def test_01(self): eq(MostCommonWords3(df1), [['nlp', 2], ['better', 1], ['fun', 1], ['makes', 1]])\n",
    "    def test_02(self): eq(MostCommonWords3(dfDTM_NLP, n=5), [['nlp', 2], ['better', 1], ['fun', 1], ['like', 1], ['makes', 1]])\n",
    "    def test_03(self): eq(MostCommonWords3(dfDTM_Wines, n=5), [['depth', 3], ['fruit', 3], ['thi', 3], ['top', 3], ['veri', 3]])\n",
    "    def test_04(self): eq(MostCommonWords3(dfDTM_Wines.iloc[:,:1000], n=5), [['depth', 3], ['fruit', 3], ['accord', 2], ['acid', 2], ['bay', 2]])"
   ]
  },
  {
   "cell_type": "markdown",
   "metadata": {
    "deletable": false,
    "editable": false,
    "nbgrader": {
     "cell_type": "markdown",
     "checksum": "ebab1ca964be470e5967259c2c15ce5f",
     "grade": false,
     "grade_id": "cell-690b3759880445c9",
     "locked": true,
     "schema_version": 3,
     "solution": false
    }
   },
   "source": [
    "## Task 6: Find Documents With the Most Occurrences of a Word\n",
    "\n",
    "Complete the UDF `SentWithMostDups` that, given the word `sWord`, retrieves the sentence (stored in `dfDTM`'s row index), that contains the most occurrences of `sWord`. If multiple sentences contain the same number of occurrences of `sWord`, sort alphabetically and return only the first sentence."
   ]
  },
  {
   "cell_type": "code",
   "execution_count": 34,
   "metadata": {
    "deletable": false,
    "nbgrader": {
     "cell_type": "code",
     "checksum": "c757ebb76f670e101e44bcb197944de0",
     "grade": false,
     "grade_id": "SentWithMostDups_answer",
     "locked": false,
     "schema_version": 3,
     "solution": true
    }
   },
   "outputs": [],
   "source": [
    "def SentWithMostDups(dfDTM=GetDTM(), sWord='depth') -> str:\n",
    "    '''Returns the sentence containing most instances of sWord.  Sentences are stored as indices of dfDTM.\n",
    "    If word is not in the columns of dfDTM, return None.\n",
    "    In case of ties, order alphabetically and retrieve the first sentence.'''\n",
    "    df = dfDTM.copy()  # make a copy of dataframe to avoid modifying original values on a reference\n",
    "    if sWord not in df.columns:\n",
    "        return None\n",
    "    word_counts = df[sWord]\n",
    "    max_count = word_counts.max()\n",
    "    max_sentences = word_counts[word_counts == max_count].index.tolist()\n",
    "    return sorted(max_sentences)[0]"
   ]
  },
  {
   "cell_type": "code",
   "execution_count": 35,
   "metadata": {
    "code_folding": [],
    "deletable": false,
    "editable": false,
    "nbgrader": {
     "cell_type": "code",
     "checksum": "e45c94061cdb7678d34a326dc46cbf65",
     "grade": true,
     "grade_id": "SentWithMostDups_test",
     "locked": true,
     "points": 1,
     "schema_version": 3,
     "solution": false
    }
   },
   "outputs": [
    {
     "name": "stdout",
     "output_type": "stream",
     "text": [
      "Ran 4 tests in 0.141s\n",
      "\n",
      "\u001b[1m\u001b[34mOK\u001b[0m\n",
      "test_00 (__main__.test_SentWithMostDups) ... \u001b[1m\u001b[34mok\u001b[0m\n",
      "test_01 (__main__.test_SentWithMostDups) ... \u001b[1m\u001b[34mok\u001b[0m\n",
      "test_02 (__main__.test_SentWithMostDups) ... \u001b[1m\u001b[34mok\u001b[0m\n",
      "test_03 (__main__.test_SentWithMostDups) ... \u001b[1m\u001b[34mok\u001b[0m\n",
      "\n",
      "----------------------------------------------------------------------\n",
      "\n"
     ]
    }
   ],
   "source": [
    "# TEST & AUTOGRADE CELL\n",
    "@run_unittest\n",
    "class test_SentWithMostDups(unittest.TestCase):\n",
    "    def test_00(self): eq(SentWithMostDups(dfDTM_NLP, sWord='NLP'), None)\n",
    "    def test_01(self): eq(SentWithMostDups(dfDTM_NLP, sWord='nlp'), 'more nlp makes better nlp')\n",
    "    def test_02(self): eq(SentWithMostDups(dfDTM_Wines, sWord='depth'), 'not rate depth depth and more depth')\n",
    "    def test_03(self): eq(SentWithMostDups(dfDTM_Wines, sWord='wine'), 'a good big scale wine top chianti as i d expect from thi wine in such a fine vintag')"
   ]
  },
  {
   "cell_type": "markdown",
   "metadata": {
    "deletable": false,
    "editable": false,
    "nbgrader": {
     "cell_type": "markdown",
     "checksum": "2cb30f5ee9ad41e4c22c2417f062c014",
     "grade": false,
     "grade_id": "cell-3a5358c4b1840b4a",
     "locked": true,
     "schema_version": 3,
     "solution": false
    }
   },
   "source": [
    "## Task 7: Create a TF-IDF DTM From the Count-Based DTM\n",
    "\n",
    "<span style=\"color:black\">Complete the `GetTFIDF()` function so that it transforms the DTM DataFrame into a TF-IDF DTM that contains fractional weights rather than count frequencies. The new DataFrame should retain the dimensions, indices, and column names of the count-based DTM you created. Recall that in a TF–IDF matrix, values are closer to 1 for more important words that appear either less frequently or are more concentrated in a single document and closer to zero for words that are broadly spread out in large counts."
   ]
  },
  {
   "cell_type": "code",
   "execution_count": 36,
   "metadata": {
    "deletable": false,
    "nbgrader": {
     "cell_type": "code",
     "checksum": "c1d8226f4be762722c96aa3f4802951f",
     "grade": false,
     "grade_id": "GetTFIDF_answer",
     "locked": false,
     "schema_version": 3,
     "solution": true
    }
   },
   "outputs": [],
   "source": [
    "def GetTFIDF(dfDTM=GetDTM(), use_idf=True, smooth_idf=True) -> pd.DataFrame:\n",
    "    '''Return TF-IDF dataframe of the same dimensions as dfDTM and with the same index and column names.\n",
    "    use_idf, smooth_idf: see help for  TfidfTransformer(). Pass these parameters to TfidfTransformer. '''\n",
    "    df = dfDTM.copy()  # make a copy of dataframe to avoid modifying original values on a reference\n",
    "    transformer = TfidfTransformer(use_idf=use_idf, smooth_idf=smooth_idf)\n",
    "    tfidf = transformer.fit_transform(df)\n",
    "    df_tfidf = pd.DataFrame(tfidf.toarray(), index=df.index, columns=df.columns)\n",
    "    return df_tfidf"
   ]
  },
  {
   "cell_type": "code",
   "execution_count": 37,
   "metadata": {
    "code_folding": [],
    "deletable": false,
    "editable": false,
    "nbgrader": {
     "cell_type": "code",
     "checksum": "963b87fa5cabebd8adc427d1e30d06e9",
     "grade": true,
     "grade_id": "GetTFIDF_test",
     "locked": true,
     "points": 1,
     "schema_version": 3,
     "solution": false
    }
   },
   "outputs": [
    {
     "name": "stdout",
     "output_type": "stream",
     "text": [
      "Ran 3 tests in 0.877s\n",
      "\n",
      "\u001b[1m\u001b[34mOK\u001b[0m\n",
      "test_00 (__main__.test_GetTFIDF) ... \u001b[1m\u001b[34mok\u001b[0m\n",
      "test_01 (__main__.test_GetTFIDF) ... \u001b[1m\u001b[34mok\u001b[0m\n",
      "test_02 (__main__.test_GetTFIDF) ... \u001b[1m\u001b[34mok\u001b[0m\n",
      "\n",
      "----------------------------------------------------------------------\n",
      "\n"
     ]
    }
   ],
   "source": [
    "# TEST & AUTOGRADE CELL\n",
    "@run_unittest\n",
    "class test_GetTFIDF(unittest.TestCase):\n",
    "    def test_00(self): aeq(GetTFIDF(dfDTM_NLP).sum().sum(), 4.5108460178771494, 4)\n",
    "    def test_01(self): aeq(GetTFIDF(dfDTM_Wines).sum().sum(), 6194.966362333746, 4)\n",
    "    def test_02(self): aeq(GetTFIDF(dfDTM_Wines, smooth_idf=False).sum().sum(), 6175.555391211886, 4)\n",
    "\n",
    "dfTFIDF_NLP = GetTFIDF(dfDTM_NLP)\n",
    "dfTFIDF_Wines = GetTFIDF(dfDTM_Wines)"
   ]
  },
  {
   "cell_type": "markdown",
   "metadata": {
    "deletable": false,
    "editable": false,
    "nbgrader": {
     "cell_type": "markdown",
     "checksum": "33f3892ba228306b340c9f4ad01863ce",
     "grade": false,
     "grade_id": "cell-961f8d9da02a80a4",
     "locked": true,
     "schema_version": 3,
     "solution": false
    }
   },
   "source": [
    "## Task 8: Identify the Most Important Words in the Corpus\n",
    "\n",
    "<span style=\"color:black\">With the information in the TF-IDF DTM, you can automatically compile a list of stopwords that are too generic to be useful for your specific corpus of interest. For example, in this wine reviews corpus the word \"wine\" is likely very common. In this task, you will complete the `MostImportantWords()` UDF so that it returns words with the highest TF-IDF weights. Use each column's max value to measure the peak importance of each word. Then return the words ordered by this peak importance in decreasing order. In the case of a tie in weights, order words alphabetically."
   ]
  },
  {
   "cell_type": "code",
   "execution_count": 38,
   "metadata": {
    "deletable": false,
    "nbgrader": {
     "cell_type": "code",
     "checksum": "800646b7dfb836bd0b5fa6ca8dec007b",
     "grade": false,
     "grade_id": "MostImportantWords_answer",
     "locked": false,
     "schema_version": 3,
     "solution": true
    }
   },
   "outputs": [],
   "source": [
    "def MostImportantWords(dfDTM, n=5) -> [[str, float]]:\n",
    "    df = dfDTM.copy()\n",
    "    max_values = df.max(axis=0)  # Get the max value of each word (column)\n",
    "    words_and_values = list(zip(max_values.index, max_values.values))\n",
    "    words_and_values.sort(key=lambda x: (-x[1], x[0]))\n",
    "    return [[word, round(value, 4)] for word, value in words_and_values[:n]]\n"
   ]
  },
  {
   "cell_type": "code",
   "execution_count": 39,
   "metadata": {
    "code_folding": [],
    "deletable": false,
    "editable": false,
    "nbgrader": {
     "cell_type": "code",
     "checksum": "114dce39d4627a62abddccb0b9d889c8",
     "grade": true,
     "grade_id": "MostImportantWords_test",
     "locked": true,
     "points": 1,
     "schema_version": 3,
     "solution": false
    }
   },
   "outputs": [
    {
     "name": "stdout",
     "output_type": "stream",
     "text": [
      "Ran 3 tests in 0.714s\n",
      "\n",
      "\u001b[1m\u001b[34mOK\u001b[0m\n",
      "test_00 (__main__.test_MostImportantWords) ... \u001b[1m\u001b[34mok\u001b[0m\n",
      "test_01 (__main__.test_MostImportantWords) ... \u001b[1m\u001b[34mok\u001b[0m\n",
      "test_02 (__main__.test_MostImportantWords) ... \u001b[1m\u001b[34mok\u001b[0m\n",
      "\n",
      "----------------------------------------------------------------------\n",
      "\n"
     ]
    }
   ],
   "source": [
    "# TEST & AUTOGRADE CELL\n",
    "@run_unittest\n",
    "class test_MostImportantWords(unittest.TestCase):\n",
    "    def test_00(self): eq(MostImportantWords(dfTFIDF_NLP.round(4), n=3), [['fun', 0.796], ['nlp', 0.7324], ['like', 0.7071]])\n",
    "    def test_01(self): eq(MostImportantWords(dfTFIDF_Wines, n=5), [['anise', 1.0], ['appet', 1.0], ['attract', 1.0], ['auster', 1.0], ['bad', 1.0]])\n",
    "    def test_02(self): eq(MostImportantWords(dfTFIDF_Wines[:10].round(4), n=3), [['rough', 1.0], ['liquoric', 0.7153], ['uninspir', 0.6959]])"
   ]
  },
  {
   "cell_type": "markdown",
   "metadata": {
    "deletable": false,
    "editable": false,
    "nbgrader": {
     "cell_type": "markdown",
     "checksum": "f0987aad6e6e2dfbd1cebe225397dd1d",
     "grade": false,
     "grade_id": "cell-fd07afbc0a41e594",
     "locked": true,
     "schema_version": 3,
     "solution": false
    }
   },
   "source": [
    "## Task 9: Identify Auto Stopwords\n",
    "\n",
    "<span style=\"color:black\">In this final task, you will complete the UDF `LeastImportantWords` so it uses the TF-IDF DTM to automatically identify stopwords in a given corpus of documents. To do so, you will need to find the minimum non-zero value of each column. \n",
    "    \n",
    "<span style=\"color:black\">Hint: You can order the words by their increasing lowest weight, resolving the ties alphabetically as before. To ignore zeros in the `min()` method of a dataframe, you can use the `replace()` method to replace zeros with `np.nan` values, which are ignored by aggregating methods."
   ]
  },
  {
   "cell_type": "code",
   "execution_count": 40,
   "metadata": {
    "deletable": false,
    "nbgrader": {
     "cell_type": "code",
     "checksum": "d30ef4ea162aa45c2739c644e180027c",
     "grade": false,
     "grade_id": "LeastImportantWords_answer",
     "locked": false,
     "schema_version": 3,
     "solution": true
    }
   },
   "outputs": [],
   "source": [
    "def LeastImportantWords(dfDTM, n=5) -> [[str, int], ...]:\n",
    "    '''Return auto-detected stop words. These are identified by the lowest non-zero weights in their columns.\n",
    "    Order auto-stopwords in weight-increasing order, resolving ties with alphabetical ordering of the words. '''\n",
    "    df = dfDTM.copy()  # make a copy of dataframe to avoid modifying original values on a reference\n",
    "    df_replace_zeros = df.replace(0, np.nan)  # Replace zeros with NaN to ignore them in min calculation\n",
    "    min_values = df_replace_zeros.min(axis=0)  # Find minimum value for each column\n",
    "    words_and_values = list(zip(min_values.index, min_values.values))\n",
    "    words_and_values.sort(key=lambda x: (x[1], x[0]))\n",
    "    return [[word, round(value, 4)] for word, value in words_and_values[:n]]"
   ]
  },
  {
   "cell_type": "code",
   "execution_count": 41,
   "metadata": {
    "code_folding": [],
    "deletable": false,
    "editable": false,
    "nbgrader": {
     "cell_type": "code",
     "checksum": "df3af23c61663000658ec106190b09d4",
     "grade": true,
     "grade_id": "LeastImportantWords_test",
     "locked": true,
     "points": 1,
     "schema_version": 3,
     "solution": false
    }
   },
   "outputs": [
    {
     "name": "stdout",
     "output_type": "stream",
     "text": [
      "Ran 3 tests in 3.765s\n",
      "\n",
      "\u001b[1m\u001b[34mOK\u001b[0m\n",
      "test_00 (__main__.test_LeastImportantWords) ... \u001b[1m\u001b[34mok\u001b[0m\n",
      "test_02 (__main__.test_LeastImportantWords) ... \u001b[1m\u001b[34mok\u001b[0m\n",
      "test_03 (__main__.test_LeastImportantWords) ... \u001b[1m\u001b[34mok\u001b[0m\n",
      "\n",
      "----------------------------------------------------------------------\n",
      "\n"
     ]
    }
   ],
   "source": [
    "# TEST & AUTOGRADE CELL\n",
    "@run_unittest\n",
    "class test_LeastImportantWords(unittest.TestCase):\n",
    "    def test_00(self): eq(LeastImportantWords(dfTFIDF_Wines.round(4), n=5), [['wine', 0.0865], ['thi', 0.0881], ['veri', 0.0909], ['fruit', 0.0953], ['top', 0.1056]])\n",
    "    def test_02(self): eq(LeastImportantWords(dfTFIDF_NLP.round(4), n=5), [['better', 0.4815], ['makes', 0.4815], ['nlp', 0.6053], ['like', 0.7071], ['ton', 0.7071]])\n",
    "    def test_03(self): eq(LeastImportantWords(GetTFIDF(GetDTM(LsWines, stop_words=[])).round(4), n=5), [['and', 0.0621], ['but', 0.0675], ['of', 0.069], ['the', 0.0723], ['it', 0.0764]])"
   ]
  },
  {
   "cell_type": "code",
   "execution_count": null,
   "metadata": {},
   "outputs": [],
   "source": []
  }
 ],
 "metadata": {
  "anaconda-cloud": {},
  "kernelspec": {
   "display_name": "Python 3",
   "language": "python",
   "name": "python3"
  },
  "language_info": {
   "codemirror_mode": {
    "name": "ipython",
    "version": 3
   },
   "file_extension": ".py",
   "mimetype": "text/x-python",
   "name": "python",
   "nbconvert_exporter": "python",
   "pygments_lexer": "ipython3",
   "version": "3.6.9"
  },
  "toc": {
   "base_numbering": 1,
   "nav_menu": {},
   "number_sections": false,
   "sideBar": true,
   "skip_h1_title": false,
   "title_cell": "Table of Contents",
   "title_sidebar": "Contents",
   "toc_cell": false,
   "toc_position": {},
   "toc_section_display": true,
   "toc_window_display": false
  },
  "varInspector": {
   "cols": {
    "lenName": 16,
    "lenType": 16,
    "lenVar": 40
   },
   "kernels_config": {
    "python": {
     "delete_cmd_postfix": "",
     "delete_cmd_prefix": "del ",
     "library": "var_list.py",
     "varRefreshCmd": "print(var_dic_list())"
    },
    "r": {
     "delete_cmd_postfix": ") ",
     "delete_cmd_prefix": "rm(",
     "library": "var_list.r",
     "varRefreshCmd": "cat(var_dic_list()) "
    }
   },
   "types_to_exclude": [
    "module",
    "function",
    "builtin_function_or_method",
    "instance",
    "_Feature"
   ],
   "window_display": false
  }
 },
 "nbformat": 4,
 "nbformat_minor": 1
}
