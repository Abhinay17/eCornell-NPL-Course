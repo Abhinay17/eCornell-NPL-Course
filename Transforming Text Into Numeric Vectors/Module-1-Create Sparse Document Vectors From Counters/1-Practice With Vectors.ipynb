{
 "cells": [
  {
   "cell_type": "markdown",
   "metadata": {},
   "source": [
    "# **Setup**\n",
    " \n",
    "Reset the Python environment to clear it of any previously loaded variables, functions, or libraries. Then, import the libraries needed to complete the code Professor Melnikov presented in the video."
   ]
  },
  {
   "cell_type": "code",
   "execution_count": 1,
   "metadata": {},
   "outputs": [],
   "source": [
    "%reset -f\n",
    "from IPython.core.interactiveshell import InteractiveShell as IS\n",
    "IS.ast_node_interactivity = \"all\"    # allows multiple outputs from a cell\n",
    "import numpy as np, matplotlib.pyplot as plt  # load NumPy and visualization libraries"
   ]
  },
  {
   "cell_type": "markdown",
   "metadata": {},
   "source": [
    "<hr style=\"border-top: 2px solid #606366; background: transparent;\">\n",
    "\n",
    "# **Review** \n",
    "\n",
    "In this Jupyter Notebook, you will practice visualizing and performing operations on basic linear algebra structures. You'll use these techniques to calculate vector-encoded similarities among documents later in this module."
   ]
  },
  {
   "cell_type": "markdown",
   "metadata": {},
   "source": [
    "<h3 style=\"color:black\"> NumPy Arrays </h3>\n",
    "\n",
    "<span style=\"color:black\">The user-defined function (UDF) `Vec()` plots a 2-dimensional (2D) vector, i.e., array with two real-valued coordinates. This function is useful for visualizing 2D vectors and transformations.</span>"
   ]
  },
  {
   "cell_type": "code",
   "execution_count": 2,
   "metadata": {},
   "outputs": [],
   "source": [
    "def Vec(x=[1,2], text='', col='black', width=0.001):\n",
    "    ''' Plots a vector x with 2 coordinates in color col with a specified text \n",
    "            and in the specified width.'''\n",
    "    ax.arrow(x=0, y=0, dx=x[0], dy=x[1], width=width, head_width=0.2, head_length=0.1, fc=col, ec=col);\n",
    "    ax.text(x[0], x[1], s=text, size=15, color='black');"
   ]
  },
  {
   "cell_type": "markdown",
   "metadata": {},
   "source": [
    "In Python, 2D vectors can be defined as 1D NumPy arrays. Create two arrays, `a` and `b`, that represent two 2D vectors."
   ]
  },
  {
   "cell_type": "code",
   "execution_count": 3,
   "metadata": {},
   "outputs": [
    {
     "data": {
      "text/plain": [
       "array([1, 2])"
      ]
     },
     "execution_count": 3,
     "metadata": {},
     "output_type": "execute_result"
    },
    {
     "data": {
      "text/plain": [
       "array([2, 1])"
      ]
     },
     "execution_count": 3,
     "metadata": {},
     "output_type": "execute_result"
    },
    {
     "name": "stdout",
     "output_type": "stream",
     "text": [
      "a = [1 2] and b = [2 1]\n"
     ]
    }
   ],
   "source": [
    "a = np.array([1,2])  # create a numpy array with two coordinates\n",
    "b = np.array([2,1])\n",
    "\n",
    "# Examine the arrays. Note the difference when calling the variables vs. using them in a print statement.\n",
    "\n",
    "a\n",
    "b\n",
    "\n",
    "print(\"a = {} and b = {}\".format(a,b))"
   ]
  },
  {
   "cell_type": "markdown",
   "metadata": {},
   "source": [
    "You can use the [`shape`](https://numpy.org/doc/stable/reference/generated/numpy.ndarray.shape.html) attribute to retrieve the dimensions of a NumPy array structure. Thus, you can confirm that the vectors are of appropriate dimensionality before you apply vector operations on them. For example, we cannot add a 2D vector to a 3D vector. Occasionally, you will encounter a NumPy error and will need to investigate which of the vectors has an unexpected dimensionality and why."
   ]
  },
  {
   "cell_type": "code",
   "execution_count": 4,
   "metadata": {},
   "outputs": [
    {
     "data": {
      "text/plain": [
       "(2,)"
      ]
     },
     "execution_count": 4,
     "metadata": {},
     "output_type": "execute_result"
    }
   ],
   "source": [
    "a.shape  # returns a tuple with number of values stored in each dimension of NumPy array"
   ]
  },
  {
   "cell_type": "markdown",
   "metadata": {},
   "source": [
    "Notice a single set of square brackets, `[...]`, in a definition of a vector. To define a vector of vectors (a.k.a. a *matrix* or table of values), you need to use a list of one or more equi-sized lists, `[[...],...,[...]]`, as you shall see below. "
   ]
  },
  {
   "cell_type": "markdown",
   "metadata": {},
   "source": [
    "We begin by examining a few simple vectors created using the NumPy array function:"
   ]
  },
  {
   "cell_type": "code",
   "execution_count": 5,
   "metadata": {},
   "outputs": [
    {
     "data": {
      "text/plain": [
       "array([5])"
      ]
     },
     "execution_count": 5,
     "metadata": {},
     "output_type": "execute_result"
    },
    {
     "data": {
      "text/plain": [
       "array([5, 6])"
      ]
     },
     "execution_count": 5,
     "metadata": {},
     "output_type": "execute_result"
    },
    {
     "data": {
      "text/plain": [
       "array([5, 6, 7])"
      ]
     },
     "execution_count": 5,
     "metadata": {},
     "output_type": "execute_result"
    },
    {
     "data": {
      "text/plain": [
       "(1,)"
      ]
     },
     "execution_count": 5,
     "metadata": {},
     "output_type": "execute_result"
    },
    {
     "data": {
      "text/plain": [
       "(2,)"
      ]
     },
     "execution_count": 5,
     "metadata": {},
     "output_type": "execute_result"
    },
    {
     "data": {
      "text/plain": [
       "(3,)"
      ]
     },
     "execution_count": 5,
     "metadata": {},
     "output_type": "execute_result"
    },
    {
     "data": {
      "text/plain": [
       "6"
      ]
     },
     "execution_count": 5,
     "metadata": {},
     "output_type": "execute_result"
    }
   ],
   "source": [
    "vec1 = np.array([5])     # a 1D vector with a single value at index 0\n",
    "vec2 = np.array([5,6])   # a 2D vector with a single value at indices 0 and 1\n",
    "vec3 = np.array([5,6,7]) # a 3D vector with a single value at indices 0, 1, and 2\n",
    "\n",
    "vec1\n",
    "vec2\n",
    "vec3\n",
    "\n",
    "vec1.shape\n",
    "vec2.shape\n",
    "vec3.shape\n",
    "\n",
    "vec3[1] # This will return the value in index position \"1\" for vec3"
   ]
  },
  {
   "cell_type": "markdown",
   "metadata": {},
   "source": [
    "Next, create the same objects but this time enclose the bracketed numbers inside a list and observe the differences in the outputs:"
   ]
  },
  {
   "cell_type": "code",
   "execution_count": 6,
   "metadata": {},
   "outputs": [
    {
     "data": {
      "text/plain": [
       "array([[5]])"
      ]
     },
     "execution_count": 6,
     "metadata": {},
     "output_type": "execute_result"
    },
    {
     "data": {
      "text/plain": [
       "array([[5, 6]])"
      ]
     },
     "execution_count": 6,
     "metadata": {},
     "output_type": "execute_result"
    },
    {
     "data": {
      "text/plain": [
       "array([[5, 6, 7]])"
      ]
     },
     "execution_count": 6,
     "metadata": {},
     "output_type": "execute_result"
    },
    {
     "data": {
      "text/plain": [
       "(1, 1)"
      ]
     },
     "execution_count": 6,
     "metadata": {},
     "output_type": "execute_result"
    },
    {
     "data": {
      "text/plain": [
       "(1, 2)"
      ]
     },
     "execution_count": 6,
     "metadata": {},
     "output_type": "execute_result"
    },
    {
     "data": {
      "text/plain": [
       "(1, 3)"
      ]
     },
     "execution_count": 6,
     "metadata": {},
     "output_type": "execute_result"
    },
    {
     "data": {
      "text/plain": [
       "6"
      ]
     },
     "execution_count": 6,
     "metadata": {},
     "output_type": "execute_result"
    }
   ],
   "source": [
    "mat1 = np.array([[5]])     # a 1x1 matrix with a single value at index 0,0\n",
    "mat2 = np.array([[5,6]])   # a 1x2 matrix with a single value at indices 0,0 and 0,1\n",
    "mat3 = np.array([[5,6,7]]) # a 1x3 matrix with a single value at indices 0,0, 0,1, and 0,2\n",
    "\n",
    "mat1\n",
    "mat2\n",
    "mat3\n",
    "\n",
    "mat1.shape  # Note that two axes are reported for the shape, even though there is only one number in the matrix\n",
    "mat2.shape\n",
    "mat3.shape\n",
    "\n",
    "mat3[0,1] # Note that the matrix version must be given coordinates across both axes to produce the right value\n",
    "\n",
    "#mat3[1] # This would fail because it is looking for row \"1\" which does not exist in this matrix.\n",
    "         # Feel free to uncomment the line of code and see for yourself."
   ]
  },
  {
   "cell_type": "markdown",
   "metadata": {},
   "source": [
    "Note the difference in the output of the vector converted to a matrix vs. the simple vector. Another way to perform this simple conversion would be to use the NumPy reshape function:"
   ]
  },
  {
   "cell_type": "code",
   "execution_count": 7,
   "metadata": {},
   "outputs": [
    {
     "data": {
      "text/plain": [
       "array([[5]])"
      ]
     },
     "execution_count": 7,
     "metadata": {},
     "output_type": "execute_result"
    },
    {
     "data": {
      "text/plain": [
       "(1, 1)"
      ]
     },
     "execution_count": 7,
     "metadata": {},
     "output_type": "execute_result"
    }
   ],
   "source": [
    "vec1tomatrix = vec1.reshape([1,1])\n",
    "vec1tomatrix\n",
    "vec1tomatrix.shape"
   ]
  },
  {
   "cell_type": "markdown",
   "metadata": {},
   "source": [
    "Now create a matrix with more than one row by supplying a list of lists to the NumPy array function:"
   ]
  },
  {
   "cell_type": "code",
   "execution_count": 8,
   "metadata": {},
   "outputs": [
    {
     "data": {
      "text/plain": [
       "array([[5],\n",
       "       [6]])"
      ]
     },
     "execution_count": 8,
     "metadata": {},
     "output_type": "execute_result"
    },
    {
     "data": {
      "text/plain": [
       "array([[5, 6],\n",
       "       [7, 8]])"
      ]
     },
     "execution_count": 8,
     "metadata": {},
     "output_type": "execute_result"
    },
    {
     "data": {
      "text/plain": [
       "array([[5, 6, 7],\n",
       "       [4, 3, 2]])"
      ]
     },
     "execution_count": 8,
     "metadata": {},
     "output_type": "execute_result"
    },
    {
     "data": {
      "text/plain": [
       "array([[5, 6],\n",
       "       [7, 4],\n",
       "       [3, 2]])"
      ]
     },
     "execution_count": 8,
     "metadata": {},
     "output_type": "execute_result"
    },
    {
     "data": {
      "text/plain": [
       "(2, 1)"
      ]
     },
     "execution_count": 8,
     "metadata": {},
     "output_type": "execute_result"
    },
    {
     "data": {
      "text/plain": [
       "(2, 2)"
      ]
     },
     "execution_count": 8,
     "metadata": {},
     "output_type": "execute_result"
    },
    {
     "data": {
      "text/plain": [
       "(2, 3)"
      ]
     },
     "execution_count": 8,
     "metadata": {},
     "output_type": "execute_result"
    },
    {
     "data": {
      "text/plain": [
       "(3, 2)"
      ]
     },
     "execution_count": 8,
     "metadata": {},
     "output_type": "execute_result"
    }
   ],
   "source": [
    "mat2x1 = np.array([[5],[6]])             # a 2x1 matrix\n",
    "mat2x2 = np.array([[5, 6],[7,8]])        # a 2x2 matrix\n",
    "mat2x3 = np.array([[5, 6, 7],[4, 3, 2]])   # a 2x3 matrix\n",
    "mat3x2 = np.array([[5,6],[7,4],[3,2]])   # a 3x2 matrix\n",
    "\n",
    "mat2x1\n",
    "mat2x2\n",
    "mat2x3\n",
    "mat3x2\n",
    "\n",
    "mat2x1.shape\n",
    "mat2x2.shape\n",
    "mat2x3.shape\n",
    "mat3x2.shape"
   ]
  },
  {
   "cell_type": "markdown",
   "metadata": {},
   "source": [
    "Note that each row in the matrix must have the same number of columns, otherwise what gets created is a list of lists, not a matrix. Check the output of the code below."
   ]
  },
  {
   "cell_type": "code",
   "execution_count": 9,
   "metadata": {},
   "outputs": [
    {
     "name": "stderr",
     "output_type": "stream",
     "text": [
      "/usr/local/lib/python3.6/dist-packages/ipykernel_launcher.py:1: VisibleDeprecationWarning: Creating an ndarray from ragged nested sequences (which is a list-or-tuple of lists-or-tuples-or ndarrays with different lengths or shapes) is deprecated. If you meant to do this, you must specify 'dtype=object' when creating the ndarray\n",
      "  \"\"\"Entry point for launching an IPython kernel.\n",
      "/usr/local/lib/python3.6/dist-packages/ipykernel_launcher.py:2: VisibleDeprecationWarning: Creating an ndarray from ragged nested sequences (which is a list-or-tuple of lists-or-tuples-or ndarrays with different lengths or shapes) is deprecated. If you meant to do this, you must specify 'dtype=object' when creating the ndarray\n",
      "  \n"
     ]
    },
    {
     "data": {
      "text/plain": [
       "array([list([1, 2]), list([3, 4, 5])], dtype=object)"
      ]
     },
     "execution_count": 9,
     "metadata": {},
     "output_type": "execute_result"
    },
    {
     "data": {
      "text/plain": [
       "array([list([3, 4]), list([1, 2, 3])], dtype=object)"
      ]
     },
     "execution_count": 9,
     "metadata": {},
     "output_type": "execute_result"
    }
   ],
   "source": [
    "badmat1 = np.array([[1, 2],[3, 4, 5]]) # Attempt to create an uneven matrix\n",
    "badmat2 = np.array([[3, 4],[1, 2, 3]]) # Second attempt, same shape as the first\n",
    "badmat1  \n",
    "badmat2"
   ]
  },
  {
   "cell_type": "markdown",
   "metadata": {},
   "source": [
    "Note that if we try to add these two objects together, Python will concatenate the values in each list. This is not what we are trying to do with matrix addition, which will be demonstrated later."
   ]
  },
  {
   "cell_type": "code",
   "execution_count": 10,
   "metadata": {},
   "outputs": [
    {
     "data": {
      "text/plain": [
       "array([list([1, 2, 3, 4]), list([3, 4, 5, 1, 2, 3])], dtype=object)"
      ]
     },
     "execution_count": 10,
     "metadata": {},
     "output_type": "execute_result"
    }
   ],
   "source": [
    "badmat1 + badmat2"
   ]
  },
  {
   "cell_type": "markdown",
   "metadata": {},
   "source": [
    "<h3 style=\"color:black\"> Vector (and Matrix) Math Operations </h3>\n",
    "\n",
    "You can perform the following operations on NumPy arrays and matrices:\n",
    "\n",
    "* Addition, subtraction, multiplication, and division of two vectors (or matrices) is element-wise, where the operation is performed on corresponding coordinates across the two objects.\n",
    "* Operations with a scalar are element-wise, such the operation is performed on every coordinate with that scalar.\n",
    "\n",
    "These operations are defined and used in *linear algebra*, which is a subfield of mathematics concerning the study properties of vectors, matrices, and higher-level structures called tensors."
   ]
  },
  {
   "cell_type": "markdown",
   "metadata": {},
   "source": [
    "Take a look at some simple examples using the a and b vectors created earlier in the notebook:"
   ]
  },
  {
   "cell_type": "code",
   "execution_count": 11,
   "metadata": {},
   "outputs": [
    {
     "name": "stdout",
     "output_type": "stream",
     "text": [
      "elementwise addition a + b\n",
      "[1 2] + [2 1] = [3 3]\n",
      "********\n",
      "scalar addition a + 3\n",
      "[1 2] + 3 = [4 5]\n",
      "********\n",
      "elementwise subtraction a - b\n",
      "[1 2] - [2 1] = [-1  1]\n",
      "********\n",
      "scalar subtraction example a - 3\n",
      "[1 2] - 3 = [-2 -1]\n",
      "********\n",
      "elementwise subtraction b - a\n",
      "[2 1] - [1 2] = [ 1 -1]\n",
      "********\n",
      "scalar subtraction b - 5\n",
      "[2 1] - 5 = [-3 -4]\n",
      "********\n",
      "elementwise multiplication b * a\n",
      "[2 1] * [1 2] = [2 2]\n",
      "********\n",
      "scalar multiplication a * 2\n",
      "2 * [1 2] = [2 4]\n",
      "********\n",
      "scalar multiplication b * 2\n",
      "2 * [2 1] = [4 2]\n"
     ]
    }
   ],
   "source": [
    "print(\"elementwise addition a + b\")\n",
    "print(a, '+', b, '=', a + b) # elementwise addition\n",
    "print(\"********\")\n",
    "print(\"scalar addition a + 3\")\n",
    "print(a, '+', 3, '=', a + 3) # scalar addition\n",
    "print(\"********\")\n",
    "print(\"elementwise subtraction a - b\")\n",
    "print(a, '-', b, '=', a - b) # elementwise subtraction\n",
    "print(\"********\")\n",
    "print(\"scalar subtraction example a - 3\")\n",
    "print(a, '-', 3, '=', a - 3) # scalar subtraction\n",
    "print(\"********\")\n",
    "print(\"elementwise subtraction b - a\")\n",
    "print(b, '-', a, '=', b - a) # elementwise subtraction\n",
    "print(\"********\")\n",
    "print(\"scalar subtraction b - 5\")\n",
    "print(b, '-', 5, '=', b - 5) # scalar subtraction\n",
    "print(\"********\")\n",
    "print(\"elementwise multiplication b * a\")\n",
    "print(b, '*', a, '=', b * a) # elementwise multiplication\n",
    "print(\"********\")\n",
    "print(\"scalar multiplication a * 2\")\n",
    "print( '2 *', a, '=', 2 * a) # multiplication by a scalar\n",
    "print(\"********\")\n",
    "print(\"scalar multiplication b * 2\")\n",
    "print( '2 *', b, '=', 2 * b) # multiplication by a scalar"
   ]
  },
  {
   "cell_type": "markdown",
   "metadata": {},
   "source": [
    "Note that each operation above results in a new vector in the same 2D (vector) space, not in a larger or smaller vector space. You can visualize this by plotting the two input vectors and the output vectors from the various algebraic manipulations in the same plot."
   ]
  },
  {
   "cell_type": "code",
   "execution_count": 12,
   "metadata": {},
   "outputs": [
    {
     "data": {
      "image/png": "[encoded data removed]",
      "text/plain": [
       "<Figure size 432x288 with 1 Axes>"
      ]
     },
     "metadata": {
      "needs_background": "light"
     },
     "output_type": "display_data"
    }
   ],
   "source": [
    "ax = plt.axes()            # create an axis panel for plotting\n",
    "Vec(a, 'a', width=0.1)     # plot vector a with text 'a' in black color with width 0.1\n",
    "Vec(b, 'b', width=0.1)\n",
    "Vec(a+b, 'a + b', 'green') # plot a vector resulting from the sum of a and b vectors\n",
    "Vec(a-b, 'a - b', 'brown')\n",
    "Vec(b-a, 'b - a', 'orange')\n",
    "Vec(2*a, '2a', 'gray')\n",
    "Vec(-0.5*a, '-0.5a', 'lightblue')\n",
    "\n",
    "ax.set_title('Vector Algebra'); # create a title for the panel/figure\n",
    "ax.set_xlabel('x');             # add a label for x axis\n",
    "ax.set_ylabel('y');\n",
    "plt.grid();                     # plot a mesh of vertical/horizontal gray lines\n",
    "plt.xlim(-2,5);                 # define the range of visible horizontal interval\n",
    "plt.ylim(-2,5);\n",
    "plt.tight_layout();             # remove unnecessary white space in plot margins\n",
    "plt.show();                     # print the plot on screen"
   ]
  },
  {
   "cell_type": "markdown",
   "metadata": {},
   "source": [
    "As demonstrated earlier, you can also store an equivalent of a 2D vector as a higher-dimensional NumPy structure, called a matrix. For example, the two vectors from above, `a` and `b`, can be stored as horizontal, one-row matrices `aRow` and `bRow` by adding an extra set of brackets around the numbers.\n",
    "\n",
    "Matrices are a more compact and convenient way of combining many (for example, millions, hundreds of millions, or billions) of individual vectors. Modern computers are also optimized to operate on matrices, providing significant performance gains compared to similar operations on a matrix vs. a series of vectors. The larger the data, the more tangible tangible and cost effective these performance gains become."
   ]
  },
  {
   "cell_type": "code",
   "execution_count": 13,
   "metadata": {},
   "outputs": [
    {
     "name": "stdout",
     "output_type": "stream",
     "text": [
      "a shape: (2,)\n",
      "b shape: (2,)\n",
      "aRow shape: (1, 2)\n",
      "bRow shape: (1, 2)\n"
     ]
    }
   ],
   "source": [
    "aRow = np.array([[1,2]])  # notice the double brackets\n",
    "bRow = np.array([[2,1]])\n",
    "\n",
    "print('a shape:', a.shape) \n",
    "print('b shape:', b.shape)  \n",
    "print('aRow shape:', aRow.shape)  # 1 row and 2 columns\n",
    "print('bRow shape:', bRow.shape)  # also 1 row and 2 columns"
   ]
  },
  {
   "cell_type": "markdown",
   "metadata": {},
   "source": [
    "<span style=\"color:black\">Using this structure does not change the operation behavior, but the outputs will have the same dimensions as the inputs (also with double brackets)."
   ]
  },
  {
   "cell_type": "code",
   "execution_count": 14,
   "metadata": {},
   "outputs": [
    {
     "data": {
      "text/plain": [
       "array([[3, 3]])"
      ]
     },
     "execution_count": 14,
     "metadata": {},
     "output_type": "execute_result"
    }
   ],
   "source": [
    "aRow + bRow    #  results in 2D array representing 2D vector"
   ]
  },
  {
   "cell_type": "markdown",
   "metadata": {},
   "source": [
    "Once again compare `a` to `aRow` and note the number of brackets used in each.  In `aRow`, each set of inner brackets defines a new row of a matrix (in this example, just one row)."
   ]
  },
  {
   "cell_type": "code",
   "execution_count": 15,
   "metadata": {},
   "outputs": [
    {
     "data": {
      "text/plain": [
       "array([1, 2])"
      ]
     },
     "execution_count": 15,
     "metadata": {},
     "output_type": "execute_result"
    },
    {
     "data": {
      "text/plain": [
       "array([[1, 2]])"
      ]
     },
     "execution_count": 15,
     "metadata": {},
     "output_type": "execute_result"
    }
   ],
   "source": [
    "a\n",
    "aRow"
   ]
  },
  {
   "cell_type": "markdown",
   "metadata": {},
   "source": [
    "When you perform operations on these vectors, NumPy will convert the vector with the simpler structure to the more complex structure as long as the matrix has only one row and the same number of dimensions / values. Try this by adding `a` and `aRow`."
   ]
  },
  {
   "cell_type": "code",
   "execution_count": 16,
   "metadata": {},
   "outputs": [
    {
     "data": {
      "text/plain": [
       "array([[2, 4]])"
      ]
     },
     "execution_count": 16,
     "metadata": {},
     "output_type": "execute_result"
    }
   ],
   "source": [
    "a + aRow"
   ]
  },
  {
   "cell_type": "markdown",
   "metadata": {},
   "source": [
    "A 2x1 matrix has vertical and horizontal dimensions. As you have already seen, you can create a matrix with multiple rows and just a single column. As before, each set of inner brackets defines a new row in a matrix."
   ]
  },
  {
   "cell_type": "code",
   "execution_count": 17,
   "metadata": {},
   "outputs": [
    {
     "data": {
      "text/plain": [
       "array([[1],\n",
       "       [2]])"
      ]
     },
     "execution_count": 17,
     "metadata": {},
     "output_type": "execute_result"
    },
    {
     "name": "stdout",
     "output_type": "stream",
     "text": [
      "shape: (2, 1)\n"
     ]
    }
   ],
   "source": [
    "aCol = np.array([[1],[2]])\n",
    "aCol\n",
    "print('shape:', aCol.shape)  # two rows and one column"
   ]
  },
  {
   "cell_type": "markdown",
   "metadata": {},
   "source": [
    "A **transpose** operation converts between horizontal and vertical 2D NumPy arrays. In general, the transpose flips the table around its diagonal values (values from top left corner of a matrix to bottom right corner of the matrix). In a column matrix, there is only one diagonal element. \n",
    "\n",
    "Also, **diagonal** elements have the same row and column index values. For example, in `aRow`, the value 1 has index (0,0) and, hence, is on diagonal. However, the value 2 has an index (1,0), and, hence, is not on diagonal, since index values are different."
   ]
  },
  {
   "cell_type": "code",
   "execution_count": 18,
   "metadata": {},
   "outputs": [
    {
     "name": "stdout",
     "output_type": "stream",
     "text": [
      "Transposed row as column: \n",
      " [[1]\n",
      " [2]]\n",
      "Transposed column as row: \n",
      " [[1 2]]\n"
     ]
    }
   ],
   "source": [
    "print('Transposed row as column: \\n', aRow.T)\n",
    "print('Transposed column as row: \\n', aCol.T)"
   ]
  },
  {
   "cell_type": "markdown",
   "metadata": {},
   "source": [
    "Although not recommended, you can perform operations on simple vectors and matrices with **mixed** dimensions (meaning a 1x2 matrix and a 2x1 matrix, or either of those with a 2D vector). NumPy will try to convert the vectors to matrices of sufficient dimensionality to obey element-wise operation. "
   ]
  },
  {
   "cell_type": "code",
   "execution_count": 19,
   "metadata": {},
   "outputs": [
    {
     "name": "stdout",
     "output_type": "stream",
     "text": [
      "a and aRow\n"
     ]
    },
    {
     "data": {
      "text/plain": [
       "array([1, 2])"
      ]
     },
     "execution_count": 19,
     "metadata": {},
     "output_type": "execute_result"
    },
    {
     "data": {
      "text/plain": [
       "array([[1, 2]])"
      ]
     },
     "execution_count": 19,
     "metadata": {},
     "output_type": "execute_result"
    },
    {
     "name": "stdout",
     "output_type": "stream",
     "text": [
      "********\n",
      "add aRow + a\n"
     ]
    },
    {
     "data": {
      "text/plain": [
       "array([[2, 4]])"
      ]
     },
     "execution_count": 19,
     "metadata": {},
     "output_type": "execute_result"
    }
   ],
   "source": [
    "# 1x2 matrix + 2D vector\n",
    "\n",
    "print(\"a and aRow\")\n",
    "a\n",
    "aRow\n",
    "print(\"********\")\n",
    "print(\"add aRow + a\")\n",
    "aRow + a # will treat the 2D vector like a 1x2 matrix, resulting in a 1x2 matrix"
   ]
  },
  {
   "cell_type": "code",
   "execution_count": 20,
   "metadata": {},
   "outputs": [
    {
     "name": "stdout",
     "output_type": "stream",
     "text": [
      "a and aCol\n"
     ]
    },
    {
     "data": {
      "text/plain": [
       "array([1, 2])"
      ]
     },
     "execution_count": 20,
     "metadata": {},
     "output_type": "execute_result"
    },
    {
     "data": {
      "text/plain": [
       "array([[1],\n",
       "       [2]])"
      ]
     },
     "execution_count": 20,
     "metadata": {},
     "output_type": "execute_result"
    },
    {
     "name": "stdout",
     "output_type": "stream",
     "text": [
      "add aCol + a\n"
     ]
    },
    {
     "data": {
      "text/plain": [
       "array([[2, 3],\n",
       "       [3, 4]])"
      ]
     },
     "execution_count": 20,
     "metadata": {},
     "output_type": "execute_result"
    }
   ],
   "source": [
    "# 2x1 matrix + 2D vector\n",
    "\n",
    "print(\"a and aCol\")\n",
    "a\n",
    "aCol\n",
    "print(\"add aCol + a\")\n",
    "aCol + a # creates a 2x2 matrix "
   ]
  },
  {
   "cell_type": "markdown",
   "metadata": {},
   "source": [
    "However, this can lead to unexpected behavior in your code and you should avoid it. For example, NumPy automatically [\"broadcasts\"](https://numpy.org/doc/stable/user/basics.broadcasting.html) (or \"recycles\") dimensions of a shorter array, but this may not be the intended mathematical behavior. In `aRow + aCol`, NumPy pads matrices till insufficient dimensions are added, without throwing an error. But is this what you really wanted mathematically?"
   ]
  },
  {
   "cell_type": "code",
   "execution_count": 21,
   "metadata": {},
   "outputs": [
    {
     "data": {
      "text/plain": [
       "array([[2, 3],\n",
       "       [3, 4]])"
      ]
     },
     "execution_count": 21,
     "metadata": {},
     "output_type": "execute_result"
    }
   ],
   "source": [
    "# 1x2 matrix + 2x1 matrix\n",
    "\n",
    "aRow + aCol  # creates a 2x2 matrix"
   ]
  },
  {
   "cell_type": "markdown",
   "metadata": {},
   "source": [
    "Unexpected shapes of outputs (for example, adding a 1x2 and 2x1 matrix and getting a 2x2 matrix in response) can cause hard-to-debug issues across a large, complex code base. For best results, you should always make sure your matrices are the same shape **before** performing a linear algebra operation. \n",
    "\n",
    "You can convert a vector into a matrix by specifying where the additional dimension should be added with either `np.newaxis` or `None`. You can also use the NumPy reshape function and specify the desired matrix shape."
   ]
  },
  {
   "cell_type": "code",
   "execution_count": 22,
   "metadata": {},
   "outputs": [
    {
     "data": {
      "text/plain": [
       "array([[1, 2]])"
      ]
     },
     "execution_count": 22,
     "metadata": {},
     "output_type": "execute_result"
    },
    {
     "data": {
      "text/plain": [
       "array([[1, 2]])"
      ]
     },
     "execution_count": 22,
     "metadata": {},
     "output_type": "execute_result"
    },
    {
     "data": {
      "text/plain": [
       "array([[1],\n",
       "       [2]])"
      ]
     },
     "execution_count": 22,
     "metadata": {},
     "output_type": "execute_result"
    },
    {
     "data": {
      "text/plain": [
       "array([[1],\n",
       "       [2]])"
      ]
     },
     "execution_count": 22,
     "metadata": {},
     "output_type": "execute_result"
    }
   ],
   "source": [
    "a[np.newaxis, :]  # same as a[None, :], makes a row vector\n",
    "a.reshape([1,2])  # same result as above\n",
    "a[:, None]        # makes a column vector\n",
    "a.reshape([2,1])  # same result as above"
   ]
  },
  {
   "cell_type": "markdown",
   "metadata": {},
   "source": [
    "NumPy arrays can be sliced using 0-based index notation, just like strings. However, the **concatenation** operation is different since `+` is already used for an element-wise addition. "
   ]
  },
  {
   "cell_type": "code",
   "execution_count": null,
   "metadata": {},
   "outputs": [],
   "source": [
    "print(\"*****2D vector work*****\")\n",
    "a[0]                           # retrieve the element in 0th position\n",
    "a[1]                           # retrieve the element in position 1\n",
    "a[:1]                          # retrieve a subarray up to the specified position minus 1. Same as a[0:1]\n",
    "a[1:]                          # retrieve a subarray starting at position 1 to the end of the array\n",
    "np.concatenate([a,b])          # concatenate two vectors as a 1x4 matrix\n",
    "np.concatenate([a,b], axis=0)  # same output as above\n",
    "#np.concatenate([a,b], axis=1) # this operation will fail since vectors technically don't have \"columns\"\n",
    "np.r_[a, b]                    # concatenate along the first axis"
   ]
  },
  {
   "cell_type": "code",
   "execution_count": null,
   "metadata": {},
   "outputs": [],
   "source": [
    "print(\"*****1x2 matrix work*****\")\n",
    "aRow[0][0]                     # retrieve the value in row 0, column 0\n",
    "aRow[0][1]                     # retrieve the value in row 0, column 1\n",
    "np.concatenate([aRow,bRow])    # concatenate two 1x2 matrices, resulting in a 2x2 matrix\n",
    "np.concatenate([aRow,bRow], axis = 0) # same as above\n",
    "np.concatenate([aRow,bRow], axis = 1) # results in a 1x4 matrix"
   ]
  },
  {
   "cell_type": "markdown",
   "metadata": {},
   "source": [
    "Note that once vectors have more than two values, you can no longer plot them in a 2D image, i.e., a 2-dimensional coordinate system.\n",
    "\n",
    "<h3 style=\"color:black\"> Dot (Inner) Products</h3>\n",
    "\n",
    "Here you will learn about a very popular matrix operation known as **dot product**, also referred to as **inner product** or **sum product**. Dot products are frequently used to compute similarity metrics for vectors. Dot product works with two matrices that have matching \"inner\" values. For example, you could compute a dot product for a 3x5 matrix and a 5x4 matrix because the column value of the first matrix matches the row value in the second (they are both 5). However, unlike element-wise multiplication, the order of the matrices is important. You could not reverse and try to take the dot product of the 5x4 matrix and the 3x5 matrix, because the inner values (now 4 and 3) do not match. \n",
    "\n",
    "Dot product treats a column of values in the first matrix like a vector and multiplies it by a row of values in the second matrix (which is why the inner values have to match). When it has computed the products, it then stores the sum of those products as a value in the resulting matrix. For example, if the 0-index column in the first matrix had two values (1, 2) and the 0-index row in the second matrix had two values (3, 4), the product of those two \"vectors\" would be (3, 8). The value stored would be the sum of these values, or (11). \n",
    "\n",
    "The shape of the resulting matrix (the number of values stored) is determined by the outer shape values. For example, the final shape of the dot product of a 3x5 matrix and a 5x4 matrix would be a 3x4 matrix. \n",
    "\n",
    "In contrast, element-wise multiplication, also known as a **Hadamard product**, of $a$ and $b$ (two vectors with the same dimensionality) can be represented as $a \\odot b$. Similarly, element-wise division can be represented as $a\\oslash b$. Element-wise multiplication requires that each matrix be the same shape from the beginning; thus, you cannot perform an element-wise multiplication operation on a 3x5 matrix with a 5x4 matrix."
   ]
  },
  {
   "cell_type": "code",
   "execution_count": null,
   "metadata": {},
   "outputs": [],
   "source": [
    "# element-wise operation examples \n",
    "\n",
    "a * b           # element-wise multiplication, a.k.a. Hadamard product\n",
    "a * a * a * a   # a Hadamard product applied sequentially\n",
    "a**4            # element-wise power\n",
    "a / b           # element-wise division"
   ]
  },
  {
   "cell_type": "markdown",
   "metadata": {},
   "source": [
    "The sum of the outputs from element-wise multiplication of two vectors with equal dimensionality is equal to the dot product. This operation is denoted as $a\\bullet b$ (with a large dot, not an asterisk) in mathematics or `a @ b` in Python."
   ]
  },
  {
   "cell_type": "code",
   "execution_count": null,
   "metadata": {},
   "outputs": [],
   "source": [
    "sum(a * b)   # a sum of element-wise multiplication, i.e. sum product or inner product\n",
    "a @ b        # the same sum product using dot product notation\n",
    "#a @ aRow    # this operation will fail because the inner shape of a = 2, whereas aRow is 1x2\n",
    "aRow @ a     # this operation will work because aRow's inner value = 2, which matches a\n",
    "print(\"Note that the dimension of aRow @ a matches the outer values of 1 for aRow and <blank> for a\")"
   ]
  },
  {
   "cell_type": "markdown",
   "metadata": {},
   "source": [
    "One application of a dot product is to check whether it is zero, in which case such pair of vectors are defined to be **orthogonal** (or **perpendicular**, i.e., with an angle of 90 degrees). For example:\n",
    "\n",
    "1. The vectors aligned with axes are orthogonal: $[0,a], [b,0]$, for any scalar values $a,b\\ne 0$. \n",
    "1. $[0,1,1]\\bullet[1,1,-1]=0$ (try drawing this vector).\n",
    "1. Try drawing any two orthogonal vectors on paper and then compute their dot product."
   ]
  },
  {
   "cell_type": "code",
   "execution_count": null,
   "metadata": {},
   "outputs": [],
   "source": [
    "np.array([0,1,1]) @ np.array([1,1,-1])"
   ]
  },
  {
   "cell_type": "markdown",
   "metadata": {},
   "source": [
    "## Copying NumPy Arrays\n",
    "\n",
    "A secondary but still important functionality of NumPy arrays (and Pandas DataFrames) is referencing and copying. This will be useful in handling objects throughout this course sequence.\n",
    "\n",
    "In Python, basic data types (integers, floats) are copied by value, but more complex data types are copied by reference instead because it is faster. This means, for example, that the assignment `d = c` does not create two vectors but instead has both variables point to the same location in memory. \n",
    "\n",
    "Recall from your Python prerequisite: You can use [`np.copy`](https://numpy.org/doc/stable/reference/generated/numpy.copy.html) or [`c.copy`](https://numpy.org/doc/stable/reference/generated/numpy.ndarray.copy.html#numpy.ndarray.copy) or [`copy.copy`](https://docs.python.org/3/library/copy.html) to copy by value instead, which creates a new source."
   ]
  },
  {
   "cell_type": "code",
   "execution_count": null,
   "metadata": {},
   "outputs": [],
   "source": [
    "c = np.array([1,1])\n",
    "d = c                # caution: this is a copy by reference. d points to location of c\n",
    "e = c.copy()         # this is a copy by value. a new source is created\n",
    "c[0] = 99            # change the source variable's 0th element\n",
    "d                    # d and c are still the same\n",
    "e                    # e remains unchanged with the old value of c"
   ]
  },
  {
   "cell_type": "markdown",
   "metadata": {},
   "source": [
    "<hr style=\"border-top: 2px solid #606366; background: transparent;\">\n",
    "\n",
    "# **Optional Practice**\n",
    "\n",
    "Now you will practice vector operations with a vector of zeros, $z$, and a vector of ones, $x$. Create these vectors in Python. "
   ]
  },
  {
   "cell_type": "code",
   "execution_count": null,
   "metadata": {},
   "outputs": [],
   "source": [
    "z = np.zeros(5)   # create a 2D vector of zeros with 1D array\n",
    "x = np.ones(5)    # create a 2D vector of ones with 1D array\n",
    "print('z: ', z)\n",
    "print('x: ', x)"
   ]
  },
  {
   "cell_type": "markdown",
   "metadata": {},
   "source": [
    "As you work through these tasks, check your answers by running your code in the *#check solution here* cell, to see if you’ve gotten the correct result. If you get stuck on a task, click the See **solution** drop-down to view the answer.\n",
    "\n",
    "## Task 1\n",
    "\n",
    "Compute $z+x,\\,\\,\\,z-x,\\,\\,\\,10x,\\,\\,\\,x/10,\\,\\,\\,z\\odot x,\\,\\,\\,x\\odot x,\\,\\,\\,x\\bullet x$\n",
    "\n",
    "<b>Hint:</b> Check code above, where these operations are defined and used."
   ]
  },
  {
   "cell_type": "code",
   "execution_count": null,
   "metadata": {},
   "outputs": [],
   "source": [
    "# check solution here"
   ]
  },
  {
   "cell_type": "markdown",
   "metadata": {},
   "source": [
    "<font color=#606366>\n",
    "    <details><summary><font color=#b31b1b>▶ </font>See <b>solution</b>.</summary>\n",
    "    <pre>\n",
    "z + x    # vector addition\n",
    "z - x    # vector subtraction\n",
    "10 * x   # element-wise multiplication by a scalar\n",
    "x / 10   # element-wise division by a scalar\n",
    "z * x    # element-wise multiplication\n",
    "x * x    # element-wise multiplication\n",
    "x @ x    # dot product (or sum product)\n",
    "    </pre>\n",
    "    </details> \n",
    "</font>\n",
    "<hr>"
   ]
  },
  {
   "cell_type": "markdown",
   "metadata": {},
   "source": [
    "## Task 2\n",
    "\n",
    "Copy $z$ to $y$ by value, change $y_0$ to 2 (i.e., 0th element of vector $y$) and compute $10(y+x)$\n",
    "\n",
    "<b>Hint:</b> Check code above where these operations are used."
   ]
  },
  {
   "cell_type": "code",
   "execution_count": null,
   "metadata": {},
   "outputs": [],
   "source": [
    "# check solution here"
   ]
  },
  {
   "cell_type": "markdown",
   "metadata": {},
   "source": [
    "\n",
    "<font color=#606366>\n",
    "    <details><summary><font color=#b31b1b>▶ </font>See <b>solution</b>.</summary>\n",
    "    <pre>\n",
    "y = z.copy()\n",
    "y[0] = 2\n",
    "10 * (y + x)\n",
    "    </pre>\n",
    "    </details> \n",
    "</font>\n",
    "<hr>"
   ]
  },
  {
   "cell_type": "markdown",
   "metadata": {},
   "source": [
    "## Task 3\n",
    "\n",
    "Can you compute the answer manually, i.e., without using Python code?\n",
    "Note: The order of operations is left to right with no priority to `*` or `@` operations.\n",
    "\n",
    "    x @ x * x\n",
    "    x * x @ x\n",
    "    \n",
    "<b>Hint:</b> Work out the algebra on a piece of paper and compare your result to outputs from running the code lines."
   ]
  },
  {
   "cell_type": "code",
   "execution_count": null,
   "metadata": {},
   "outputs": [],
   "source": [
    "# check solution here after working these out on a piece of paper"
   ]
  },
  {
   "cell_type": "markdown",
   "metadata": {},
   "source": [
    "\n",
    "<font color=#606366>\n",
    "    <details><summary><font color=#b31b1b>▶ </font>See <b>solution</b>.</summary>\n",
    "    <pre> \n",
    "Simply execute these lines to check your calculations:\n",
    "x @ x * x\n",
    "x * x @ x\n",
    "    </pre>\n",
    "    </details> \n",
    "</font>\n",
    "<hr>"
   ]
  },
  {
   "cell_type": "markdown",
   "metadata": {},
   "source": [
    "## Task 4\n",
    "\n",
    "Can you determine the answer manually, i.e., without using Python code? Note: Power operation has a priority.\n",
    "\n",
    "    x ** x @ x * x\n",
    "    x * x @ x ** x\n",
    "    \n",
    "<b>Hint:</b> Work out the algebra on a piece of paper and compare your result to outputs from running the code lines."
   ]
  },
  {
   "cell_type": "code",
   "execution_count": null,
   "metadata": {},
   "outputs": [],
   "source": [
    "# check solution here after working these out on a piece of paper"
   ]
  },
  {
   "cell_type": "markdown",
   "metadata": {},
   "source": [
    "\n",
    "\n",
    "<font color=#606366>\n",
    "    <details><summary><font color=#b31b1b>▶ </font>See <b>solution</b>.</summary>\n",
    " Run the lines of code to see the solution. <pre>x ** x @ x * x\n",
    "x * x @ x ** x</pre>\n",
    "<hr>"
   ]
  },
  {
   "cell_type": "markdown",
   "metadata": {},
   "source": [
    "## Task 5\n",
    "\n",
    "Can you determine the answer manually, i.e., without using Python code?\n",
    "\n",
    "    x @ x @ x\n",
    "    \n",
    "<b>Hint:</b> Is <code>x @ x </code> a scalar or a vector? Work out the algebra on a piece of paper and compare your result to outputs from running the code lines."
   ]
  },
  {
   "cell_type": "code",
   "execution_count": null,
   "metadata": {},
   "outputs": [],
   "source": [
    "# check solution here after working these out on a piece of paper"
   ]
  },
  {
   "cell_type": "markdown",
   "metadata": {},
   "source": [
    "<font color=#606366>\n",
    "    <details><summary><font color=#b31b1b>▶ </font>See <b>solution</b>.</summary>\n",
    "The code <code>x @ x @ x</code> throws an error since <code>@</code> (dot product) expects \"inner\" values to match, which is true for the first <code>@</code>, but not for the second <code>@</code>. The first <code>x @ x</code> is an operation on two vectors with no \"outer\" values, therefore <code>x @ x</code> returns a scalar. Feel free to test this for yourself in a test cell with the following experiment:\n",
    "        \n",
    "        <code>value = x @ x</code>\n",
    "        <code>value.shape</code>\n",
    "        \n",
    "Therefore, when the second <code>@</code> is reached, there is no \"inner\" value of the previous dot product to match.\n",
    "<hr>"
   ]
  },
  {
   "cell_type": "markdown",
   "metadata": {},
   "source": [
    "## Task 6\n",
    "\n",
    "Compute $x / \\sqrt{x\\bullet x}$ and save results to $u$ variable. Notice that $\\sqrt{x\\bullet x}$ is a scalar, so this is just a scalar division (or multiplication by its reciprocal, which is still a scalar).\n",
    "\n",
    "<b>Hint:</b> Check code above where we used these operations.\n"
   ]
  },
  {
   "cell_type": "code",
   "execution_count": null,
   "metadata": {},
   "outputs": [],
   "source": [
    "# check solution here"
   ]
  },
  {
   "cell_type": "markdown",
   "metadata": {},
   "source": [
    "\n",
    "<font color=#606366>\n",
    "    <details><summary><font color=#b31b1b>▶ </font>See <b>solution</b>.</summary>\n",
    "    <pre>\n",
    "xLen = (x @ x)**0.5  # Euclidean length of vector x\n",
    "u = x / xLen         # unit vector (of length 1) in the direction of x\n",
    "u\n",
    "(u @ u)**0.5         # confirm that the length of u is 1 (with minor precision error)\n",
    "    </pre>\n",
    "    </details> \n",
    "</font>\n",
    "<hr>"
   ]
  },
  {
   "cell_type": "markdown",
   "metadata": {},
   "source": [
    "## Task 7\n",
    "\n",
    "Convert $x$ to a row and column 2D NumPy arrays, `xRow` and `xCol`, respectively. Then, compute `xRow + xRow` and `xCol + xCol`.\n",
    "\n",
    "<b>Hint:</b> <code>x[None, :]</code> slice adds one more array dimension in axis 0.\n"
   ]
  },
  {
   "cell_type": "code",
   "execution_count": null,
   "metadata": {},
   "outputs": [],
   "source": [
    "# check solution here"
   ]
  },
  {
   "cell_type": "markdown",
   "metadata": {},
   "source": [
    "\n",
    "<font color=#606366>\n",
    "    <details><summary><font color=#b31b1b>▶ </font>See <b>solution</b>.</summary>\n",
    "<pre>\n",
    "# Solution 1:\n",
    "xRow= x[None, :]\n",
    "xCol = x[:, None]\n",
    "xRow + xRow\n",
    "xCol + xCol\n",
    "# Solution 2:\n",
    "xRow = np.array([x])\n",
    "xCol = xRow.T\n",
    "xRow + xRow\n",
    "xCol + xCol\n",
    "    </pre>\n",
    "    </details> \n",
    "</font>\n",
    "<hr>"
   ]
  },
  {
   "cell_type": "markdown",
   "metadata": {},
   "source": [
    "## Task 8\n",
    "\n",
    "Concatenate the arrays $u$ and $x$, then calculate the dot product of the result with itself.\n",
    "\n",
    "<b>Hint:</b> <code>np.r_</code> or another concatenation function above may be helpful.\n"
   ]
  },
  {
   "cell_type": "code",
   "execution_count": null,
   "metadata": {},
   "outputs": [],
   "source": [
    "# check solution here"
   ]
  },
  {
   "cell_type": "markdown",
   "metadata": {},
   "source": [
    "\n",
    "<font color=#606366>\n",
    "    <details><summary><font color=#b31b1b>▶ </font>See <b>solution</b>.</summary>\n",
    "<pre>\n",
    "# Solution 1:\n",
    "np.r_[u,x] @ np.r_[u,x]\n",
    "# Solution 2:\n",
    "c = np.concatenate([u,x], axis=0)\n",
    "c @ c\n",
    "    </pre>\n",
    "    </details> \n",
    "</font>\n",
    "<hr>"
   ]
  }
 ],
 "metadata": {
  "anaconda-cloud": {},
  "kernelspec": {
   "display_name": "Python 3",
   "language": "python",
   "name": "python3"
  },
  "language_info": {
   "codemirror_mode": {
    "name": "ipython",
    "version": 3
   },
   "file_extension": ".py",
   "mimetype": "text/x-python",
   "name": "python",
   "nbconvert_exporter": "python",
   "pygments_lexer": "ipython3",
   "version": "3.6.9"
  },
  "toc": {
   "base_numbering": 1,
   "nav_menu": {},
   "number_sections": false,
   "sideBar": true,
   "skip_h1_title": false,
   "title_cell": "Table of Contents",
   "title_sidebar": "Contents",
   "toc_cell": false,
   "toc_position": {},
   "toc_section_display": true,
   "toc_window_display": false
  },
  "varInspector": {
   "cols": {
    "lenName": 16,
    "lenType": 16,
    "lenVar": 40
   },
   "kernels_config": {
    "python": {
     "delete_cmd_postfix": "",
     "delete_cmd_prefix": "del ",
     "library": "var_list.py",
     "varRefreshCmd": "print(var_dic_list())"
    },
    "r": {
     "delete_cmd_postfix": ") ",
     "delete_cmd_prefix": "rm(",
     "library": "var_list.r",
     "varRefreshCmd": "cat(var_dic_list()) "
    }
   },
   "types_to_exclude": [
    "module",
    "function",
    "builtin_function_or_method",
    "instance",
    "_Feature"
   ],
   "window_display": false
  }
 },
 "nbformat": 4,
 "nbformat_minor": 1
}
