{
 "cells": [
  {
   "cell_type": "markdown",
   "metadata": {},
   "source": [
    "# **Setup**\n",
    " \n",
    "Reset the Python environment to clear it of any previously loaded variables, functions, or libraries. Then, import the libraries needed to complete the code Professor Melnikov presented in the video."
   ]
  },
  {
   "cell_type": "code",
   "execution_count": 1,
   "metadata": {},
   "outputs": [],
   "source": [
    "%reset -f\n",
    "from IPython.core.interactiveshell import InteractiveShell as IS\n",
    "IS.ast_node_interactivity = \"all\"    # allows multiple outputs from a cell\n",
    "import numpy as np, matplotlib.pyplot as plt"
   ]
  },
  {
   "cell_type": "markdown",
   "metadata": {},
   "source": [
    "<hr style=\"border-top: 2px solid #606366; background: transparent;\">\n",
    "\n",
    "# **Review**\n",
    "\n",
    "In this notebook, you'll continue building your foundation of linear algebra by examining matrices, which can be thought of as vectors of vectors (or a collection of identically sized vectors stacked together). Matrices are typically structures with multiple rows and multiple columns. \n",
    "\n",
    "The rows in a matrix are sometimes referred to as \"observations\" while the columns are sometimes referred to as \"features,\" \"variables,\" or \"dimensions.\" We specify the shape of a matrix by the number of rows x number of columns. For example, a matrix with three rows and five columns would be referred to as a 3x5 matrix. This matrix would also be referred to as being a data set with five dimensions.\n",
    "\n",
    "The term \"dimensions\" can be confusing, however, because it has two different ways it can be used. If you are talking about the number of columns in a matrix or the number of items in a vector, these numbers are sometimes referred to as dimensions, such as the five-dimensional matrix example from the previous paragraph. Yet sometimes you will see vectors referred to as 1D (or one-dimensional) objects and matrices as 2D (or two-dimensional) objects regardless of the number of elements they contain. In this context, the term \"dimension\" is referring to the shape of the object, not the number of features or elements in the object. For example, the 3x5 matrix above could be said to have two dimensions in this context (rows and columns), whereas a vector could be said to have only one dimension (a single array of values, without specificity as to whether it is row or column oriented).\n",
    "\n",
    "Usually any confusion can be cleared up by the context in which the term \"dimension\" is used as long as you are aware that the meaning may change based on context. If you are ever unclear about the meaning of the term as used in this or any other materials in the course, please feel free to reach out to your facilitator for guidance."
   ]
  },
  {
   "cell_type": "markdown",
   "metadata": {},
   "source": [
    "## Matrices\n",
    "\n",
    "Matrices can have any number of rows and columns. First, use the NumPy array function to define a $2\\times2$ matrix."
   ]
  },
  {
   "cell_type": "code",
   "execution_count": 2,
   "metadata": {},
   "outputs": [
    {
     "data": {
      "text/plain": [
       "array([[ 1, -2],\n",
       "       [ 3,  4]])"
      ]
     },
     "execution_count": 2,
     "metadata": {},
     "output_type": "execute_result"
    },
    {
     "data": {
      "text/plain": [
       "(2, 2)"
      ]
     },
     "execution_count": 2,
     "metadata": {},
     "output_type": "execute_result"
    }
   ],
   "source": [
    "A = np.array(\n",
    "    [[1,-2],\n",
    "     [3,4]])\n",
    "A              #print the matrix\n",
    "A.shape        #print the matrix shape"
   ]
  },
  {
   "cell_type": "markdown",
   "metadata": {},
   "source": [
    "Once you've defined a matrix, you can use Python to perform operations on matrices by following the rules of matrix algebra. For example, **scalar multiplication** is an element-wise operation, where each element of a matrix is multiplied by the scalar value."
   ]
  },
  {
   "cell_type": "code",
   "execution_count": 3,
   "metadata": {},
   "outputs": [
    {
     "data": {
      "text/plain": [
       "array([[ 10, -20],\n",
       "       [ 30,  40]])"
      ]
     },
     "execution_count": 3,
     "metadata": {},
     "output_type": "execute_result"
    }
   ],
   "source": [
    "10 * A   # scalar multiplication "
   ]
  },
  {
   "cell_type": "markdown",
   "metadata": {},
   "source": [
    "**Matrix transposition** is an operation that \"flips\" the matrix along its diagonal line (from top left to bottom right). The rows become columns and the columns become rows. Double transposition returns the matrix to original form. In fact, any pair of transpose operations cancel each other out. "
   ]
  },
  {
   "cell_type": "code",
   "execution_count": 4,
   "metadata": {},
   "outputs": [
    {
     "name": "stdout",
     "output_type": "stream",
     "text": [
      "B = \n",
      " [[ 1  3]\n",
      " [-2  4]]\n",
      " \n",
      "B.T = \n",
      " [[ 1 -2]\n",
      " [ 3  4]]\n"
     ]
    },
    {
     "data": {
      "text/plain": [
       "array([[ True,  True],\n",
       "       [ True,  True]])"
      ]
     },
     "execution_count": 4,
     "metadata": {},
     "output_type": "execute_result"
    },
    {
     "data": {
      "text/plain": [
       "array([[ True, False],\n",
       "       [False,  True]])"
      ]
     },
     "execution_count": 4,
     "metadata": {},
     "output_type": "execute_result"
    }
   ],
   "source": [
    "B = A.T          # transposition\n",
    "print(\"B = \\n {}\".format(B)) # Prints b, with a \"\\n\" newline character to make the matrix more readable\n",
    "print(' ')\n",
    "print(\"B.T = \\n {}\".format(B.T))     # back to the original matrix A      \n",
    "A.T.T.T.T == A   # check if original matrix is returned, \"\"==\"\" is also element-wise\n",
    "A.T.T.T.T == B   # returns true for elements which stayed the same, and false for values that changed"
   ]
  },
  {
   "cell_type": "markdown",
   "metadata": {},
   "source": [
    "You can also add and subtract matrices, but these are element-wise operations, so to do so the matrices must have the same dimensions (i.e., number of rows and columns). Trying to add or subtract matrices with different shapes will result in an error.\n",
    "    \n",
    "Adding a **square matrix** (a matrix in which the number of rows is equal to the number of columns) to its own transpose results in a [**symmetric matrix**](https://mathworld.wolfram.com/SymmetricMatrix.html), which has the same values on the opposite sides of its diagonal. "
   ]
  },
  {
   "cell_type": "code",
   "execution_count": 5,
   "metadata": {},
   "outputs": [
    {
     "name": "stdout",
     "output_type": "stream",
     "text": [
      "The sum of A + B = \n",
      " [[2 1]\n",
      " [1 8]]\n",
      "Note that the values in the top right and bottom left (opposite of the diagonal values) are the same.\n",
      " \n"
     ]
    },
    {
     "data": {
      "text/plain": [
       "array([[ True,  True],\n",
       "       [ True,  True]])"
      ]
     },
     "execution_count": 5,
     "metadata": {},
     "output_type": "execute_result"
    }
   ],
   "source": [
    "S = A + B   # add matrix to its transpose\n",
    "print(\"The sum of A + B = \\n {}\".format(S))           # a symmetric matrix\n",
    "print(\"Note that the values in the top right and bottom left (opposite of the diagonal values) are the same.\")\n",
    "print(\" \")\n",
    "S == S.T    # Another way to check if S is symmetric - the top right and bottom left values should be True"
   ]
  },
  {
   "cell_type": "markdown",
   "metadata": {},
   "source": [
    "As we have seen, you can check the shape of a NumPy array with the [`shape`](https://numpy.org/doc/stable/reference/generated/numpy.shape.html) attribute."
   ]
  },
  {
   "cell_type": "code",
   "execution_count": 6,
   "metadata": {},
   "outputs": [
    {
     "data": {
      "text/plain": [
       "(2, 2)"
      ]
     },
     "execution_count": 6,
     "metadata": {},
     "output_type": "execute_result"
    },
    {
     "data": {
      "text/plain": [
       "(2, 2)"
      ]
     },
     "execution_count": 6,
     "metadata": {},
     "output_type": "execute_result"
    }
   ],
   "source": [
    "A.shape  # returns a tuple with a number of rows and columns\n",
    "B.shape"
   ]
  },
  {
   "cell_type": "markdown",
   "metadata": {},
   "source": [
    "You can stack matrices together using several methods, including NumPy's `hstack` and `vstack` functions, as long as the shape along the axis being added to matches. For square matrices, this does not matter since both axes are the same value, but for non-square matrices, attempting to stack along an axis with non-matching values will cause an error. See the examples below and make sure you understand which shape values matter depending on the operation you're trying to perform."
   ]
  },
  {
   "cell_type": "code",
   "execution_count": 7,
   "metadata": {},
   "outputs": [
    {
     "name": "stdout",
     "output_type": "stream",
     "text": [
      "Using hstack with A and B:\n",
      "[[ 1 -2  1  3]\n",
      " [ 3  4 -2  4]]\n",
      "H1 shape = (2, 4)\n",
      " \n",
      "Using vstack with A and B\n",
      "[[ 1 -2]\n",
      " [ 3  4]\n",
      " [ 1  3]\n",
      " [-2  4]]\n",
      "V1 shape = (4, 2)\n",
      " \n",
      "Stack different-shaped matrices horizontally:\n",
      "H1 and A will work because they have the same number of rows\n",
      "[[ 1 -2  1  3  1 -2]\n",
      " [ 3  4 -2  4  3  4]]\n",
      "H2 shape = (2, 6)\n",
      " \n",
      "H1 and V1 will fail because the value for rows is not the same\n",
      " \n",
      "Stack different-shaped matrices vertically:\n",
      "V1 and A will work because they have the same number of columns\n",
      "[[ 1 -2]\n",
      " [ 3  4]\n",
      " [ 1  3]\n",
      " [-2  4]\n",
      " [ 1 -2]\n",
      " [ 3  4]]\n",
      "V2 shape = (6, 2)\n",
      " \n",
      "H1 and V1 will once again fail, this time because the number of columns does not match\n"
     ]
    }
   ],
   "source": [
    "print(\"Using hstack with A and B:\")\n",
    "H1 = np.hstack([A,B])\n",
    "print(H1)\n",
    "\n",
    "print(\"H1 shape = {}\".format(H1.shape))\n",
    "print(\" \")\n",
    "\n",
    "print(\"Using vstack with A and B\")\n",
    "V1 = np.vstack([A,B])\n",
    "print(V1)\n",
    "\n",
    "print(\"V1 shape = {}\".format(V1.shape))\n",
    "print(\" \")\n",
    "\n",
    "print(\"Stack different-shaped matrices horizontally:\")\n",
    "print(\"H1 and A will work because they have the same number of rows\")\n",
    "H2 = np.hstack([H1,A])\n",
    "print(H2)\n",
    "\n",
    "print(\"H2 shape = {}\".format(H2.shape))\n",
    "print(\" \")\n",
    "\n",
    "\n",
    "print(\"H1 and V1 will fail because the value for rows is not the same\")\n",
    "#H3 = np.hstack([H1,V1])  #Uncomment this code to see this operation fail\n",
    "print(\" \")\n",
    "\n",
    "print(\"Stack different-shaped matrices vertically:\")\n",
    "print(\"V1 and A will work because they have the same number of columns\")\n",
    "V2 = np.vstack([V1,A])\n",
    "print(V2)\n",
    "\n",
    "print(\"V2 shape = {}\".format(V2.shape))\n",
    "print(\" \")\n",
    "\n",
    "print(\"H1 and V1 will once again fail, this time because the number of columns does not match\")\n",
    "#V3 = np.vstack([V1,H1]) #Uncomment this code to see this operation fail"
   ]
  },
  {
   "cell_type": "markdown",
   "metadata": {},
   "source": [
    "## Sparse Matrices\n",
    "\n",
    "<span style=\"color:black\"> Highly sparse matrices are common in NLP. These matrices contain millions of entries, of which only ~1% (or even less) are non-zero entries. These matrices are ubiquitous in NLP because when you use a matrix to track counts of specific words in sentences, the rows represent sentences or documents and columns represent the terms or words in those sentences. Each sentence uses only a few words from the total vocabulary (which can be very large), so most word count values are zeros. \n",
    "    \n",
    "<span style=\"color:black\">Storing large matrices takes up computer memory, so you should avoid storing highly sparse matrices in their raw form. One efficient way to store these matrices is by storing indices of non-zero locations and their values using `scipy.sparse`. Explicit storage of indices is an overhead, but you are still saving a significant storage space, if 99% or more zeros are not stored.\n",
    "    \n",
    "Note: There is no uniform definition for a \"sparse matrix\". Typically, we describe a matrix with \"lots of zero values\" as sparse and can say that one matrix is more or less sparse than another. However, one can define sparsity based on values \"close\" to zero or even close to zero only in some \"important\" positions in the given matrix."
   ]
  },
  {
   "cell_type": "code",
   "execution_count": 11,
   "metadata": {},
   "outputs": [
    {
     "name": "stdout",
     "output_type": "stream",
     "text": [
      "X object (all rows have one value, but in different positions):\n"
     ]
    },
    {
     "data": {
      "text/plain": [
       "<3x3 sparse matrix of type '<class 'numpy.longlong'>'\n",
       "\twith 3 stored elements in Compressed Sparse Row format>"
      ]
     },
     "execution_count": 11,
     "metadata": {},
     "output_type": "execute_result"
    },
    {
     "name": "stdout",
     "output_type": "stream",
     "text": [
      " \n",
      "First element of X:\n"
     ]
    },
    {
     "data": {
      "text/plain": [
       "<1x3 sparse matrix of type '<class 'numpy.int64'>'\n",
       "\twith 1 stored elements in Compressed Sparse Row format>"
      ]
     },
     "execution_count": 11,
     "metadata": {},
     "output_type": "execute_result"
    },
    {
     "name": "stdout",
     "output_type": "stream",
     "text": [
      " \n",
      "Second element of X:\n"
     ]
    },
    {
     "data": {
      "text/plain": [
       "<1x3 sparse matrix of type '<class 'numpy.int64'>'\n",
       "\twith 1 stored elements in Compressed Sparse Row format>"
      ]
     },
     "execution_count": 11,
     "metadata": {},
     "output_type": "execute_result"
    },
    {
     "name": "stdout",
     "output_type": "stream",
     "text": [
      " \n",
      "Third element of X:\n"
     ]
    },
    {
     "data": {
      "text/plain": [
       "<1x3 sparse matrix of type '<class 'numpy.int64'>'\n",
       "\twith 1 stored elements in Compressed Sparse Row format>"
      ]
     },
     "execution_count": 11,
     "metadata": {},
     "output_type": "execute_result"
    },
    {
     "name": "stdout",
     "output_type": "stream",
     "text": [
      " \n",
      "********\n",
      " \n",
      "X2 object (first row two values, second row all 0's, third row one value)\n"
     ]
    },
    {
     "data": {
      "text/plain": [
       "<3x3 sparse matrix of type '<class 'numpy.longlong'>'\n",
       "\twith 3 stored elements in Compressed Sparse Row format>"
      ]
     },
     "execution_count": 11,
     "metadata": {},
     "output_type": "execute_result"
    },
    {
     "name": "stdout",
     "output_type": "stream",
     "text": [
      " \n",
      "First element of X2:\n"
     ]
    },
    {
     "data": {
      "text/plain": [
       "<1x3 sparse matrix of type '<class 'numpy.int64'>'\n",
       "\twith 2 stored elements in Compressed Sparse Row format>"
      ]
     },
     "execution_count": 11,
     "metadata": {},
     "output_type": "execute_result"
    },
    {
     "name": "stdout",
     "output_type": "stream",
     "text": [
      " \n",
      "Second element of X2:\n"
     ]
    },
    {
     "data": {
      "text/plain": [
       "<1x3 sparse matrix of type '<class 'numpy.int64'>'\n",
       "\twith 0 stored elements in Compressed Sparse Row format>"
      ]
     },
     "execution_count": 11,
     "metadata": {},
     "output_type": "execute_result"
    },
    {
     "name": "stdout",
     "output_type": "stream",
     "text": [
      " \n",
      "Third element of X2\n"
     ]
    },
    {
     "data": {
      "text/plain": [
       "<1x3 sparse matrix of type '<class 'numpy.int64'>'\n",
       "\twith 1 stored elements in Compressed Sparse Row format>"
      ]
     },
     "execution_count": 11,
     "metadata": {},
     "output_type": "execute_result"
    },
    {
     "name": "stdout",
     "output_type": "stream",
     "text": [
      " \n",
      "Note that both X and X2 report having 3 stored elements, but each sub-element reports the number of non-zero values in a given row\n"
     ]
    }
   ],
   "source": [
    "from scipy.sparse import csr_matrix\n",
    "\n",
    "X = csr_matrix([[0, 1, 0], [0, 0, 3], [4, 0, 0]])  # sparse matrix data structure\n",
    "print(\"X object (all rows have one value, but in different positions):\")\n",
    "X\n",
    "print(' ')\n",
    "\n",
    "print(\"First element of X:\")\n",
    "X[0]\n",
    "print(' ')\n",
    "\n",
    "print(\"Second element of X:\")\n",
    "X[1]\n",
    "print(' ')\n",
    "print(\"Third element of X:\")\n",
    "X[2]\n",
    "\n",
    "#X[3] #There are only 3 rows, so there is no index position 3\n",
    "\n",
    "print(' ')\n",
    "print(\"********\")\n",
    "print(' ')\n",
    "\n",
    "X2 = csr_matrix([[0, 1, 1], [0, 0, 0], [4, 0, 0]])  # sparse matrix data structure\n",
    "\n",
    "print(\"X2 object (first row two values, second row all 0's, third row one value)\")\n",
    "X2\n",
    "print(' ')\n",
    "\n",
    "print(\"First element of X2:\")\n",
    "X2[0]\n",
    "print(' ')\n",
    "\n",
    "print(\"Second element of X2:\")\n",
    "X2[1]\n",
    "print(' ')\n",
    "\n",
    "print(\"Third element of X2\")\n",
    "X2[2]\n",
    "print (' ')\n",
    "\n",
    "print(\"Note that both X and X2 report having 3 stored elements, but each sub-element reports the number of non-zero values in a given row\")"
   ]
  },
  {
   "cell_type": "markdown",
   "metadata": {},
   "source": [
    "You can convert SciPy sparse matrices to NumPy matrices with the `.toarray` method."
   ]
  },
  {
   "cell_type": "code",
   "execution_count": 12,
   "metadata": {},
   "outputs": [
    {
     "name": "stdout",
     "output_type": "stream",
     "text": [
      "Convert X to a NumPy matrix\n"
     ]
    },
    {
     "data": {
      "text/plain": [
       "array([[0, 1, 0],\n",
       "       [0, 0, 3],\n",
       "       [4, 0, 0]], dtype=int64)"
      ]
     },
     "execution_count": 12,
     "metadata": {},
     "output_type": "execute_result"
    },
    {
     "name": "stdout",
     "output_type": "stream",
     "text": [
      " \n",
      "Convert X2 to a NumPy matrix\n"
     ]
    },
    {
     "data": {
      "text/plain": [
       "array([[0, 1, 1],\n",
       "       [0, 0, 0],\n",
       "       [4, 0, 0]], dtype=int64)"
      ]
     },
     "execution_count": 12,
     "metadata": {},
     "output_type": "execute_result"
    }
   ],
   "source": [
    "print(\"Convert X to a NumPy matrix\")\n",
    "Y = X.toarray()  # convert to numpy (dense) array\n",
    "Y\n",
    "print(' ')\n",
    "\n",
    "print(\"Convert X2 to a NumPy matrix\")\n",
    "Y2 = X2.toarray()\n",
    "Y2"
   ]
  },
  {
   "cell_type": "markdown",
   "metadata": {},
   "source": [
    "You can slice sparse matrices in the same manner in which you can slice NumPy matrices. Sparse matrices remain sparse after they are sliced. Below, retrieve a top left $2\\times 2$ submatrix from the SciPy sparse matrix $X$ and the NumPy matrix $Y$."
   ]
  },
  {
   "cell_type": "code",
   "execution_count": 13,
   "metadata": {},
   "outputs": [
    {
     "data": {
      "text/plain": [
       "<2x2 sparse matrix of type '<class 'numpy.int64'>'\n",
       "\twith 1 stored elements in Compressed Sparse Row format>"
      ]
     },
     "execution_count": 13,
     "metadata": {},
     "output_type": "execute_result"
    },
    {
     "data": {
      "text/plain": [
       "array([[0, 1],\n",
       "       [0, 0]], dtype=int64)"
      ]
     },
     "execution_count": 13,
     "metadata": {},
     "output_type": "execute_result"
    }
   ],
   "source": [
    "X[:2,:2]\n",
    "Y[:2,:2]"
   ]
  },
  {
   "cell_type": "markdown",
   "metadata": {},
   "source": [
    "## Loops (and List Comprehensions) vs. Vectorization"
   ]
  },
  {
   "cell_type": "markdown",
   "metadata": {},
   "source": [
    "Occasionally, you may need to iterate over the rows of a matrix. A common approach to performing this is to use a loop or list comprehension."
   ]
  },
  {
   "cell_type": "code",
   "execution_count": 14,
   "metadata": {},
   "outputs": [
    {
     "name": "stdout",
     "output_type": "stream",
     "text": [
      "[0 1 0]\n",
      "[0 0 3]\n",
      "[4 0 0]\n"
     ]
    }
   ],
   "source": [
    "for y in Y : print(y)   # regular loop over rows of Y"
   ]
  },
  {
   "cell_type": "markdown",
   "metadata": {},
   "source": [
    "To iterate over columns, you might transpose the matrix then apply the for loop.\n",
    "\n",
    "However, it is also useful when working with large data to avoid loops in Python by using vectorization approaches and, where appropriate, in place of loops. For example, say you want to only print out rows where the first value of Y equals 0. You could write a loop like this:"
   ]
  },
  {
   "cell_type": "code",
   "execution_count": 15,
   "metadata": {},
   "outputs": [
    {
     "name": "stdout",
     "output_type": "stream",
     "text": [
      "[0 1 0]\n",
      "[0 0 3]\n"
     ]
    }
   ],
   "source": [
    "for y in Y: \n",
    "    if y[0] == 0:\n",
    "        print(y)"
   ]
  },
  {
   "cell_type": "markdown",
   "metadata": {},
   "source": [
    "However, a more efficient way to write this would be to use vectorization. Do this by specifying the condition that should be true as a value for subsetting the operation to be performed. For example, the code below in a single line (and single Python operation) produces the same output as the loop above:"
   ]
  },
  {
   "cell_type": "code",
   "execution_count": 16,
   "metadata": {},
   "outputs": [
    {
     "name": "stdout",
     "output_type": "stream",
     "text": [
      "[[0 1 0]\n",
      " [0 0 3]]\n"
     ]
    }
   ],
   "source": [
    "print(Y[Y[:,0]==0])"
   ]
  },
  {
   "cell_type": "markdown",
   "metadata": {},
   "source": [
    "To evaluate how this is working, you can print just the condition that is being evaluated. This returns an index of True / False values, and only those index positions where the condition is True will perform the operation (in this case, the \"print\" statement):"
   ]
  },
  {
   "cell_type": "code",
   "execution_count": 17,
   "metadata": {},
   "outputs": [
    {
     "name": "stdout",
     "output_type": "stream",
     "text": [
      "[ True  True False]\n"
     ]
    }
   ],
   "source": [
    "print(Y[:,0]==0)"
   ]
  },
  {
   "cell_type": "markdown",
   "metadata": {},
   "source": [
    "The vectorized approach takes only one Python operation performed over the entire data set at once, whereas the loop approach takes three - one operation for each row. While this may seem insignificant, consider the case where Y was three billion rows instead of just three. The loop approach would initiate three billion separate Python operations and take a considerable amount of time. The vectorized approach, while it would still take some time, would likely be anywhere from **10x to 30x** faster (or better, even) since only two Python operations are being executed, albeit over much larger chunks of data.\n",
    "\n",
    "While list comprehensions have some performance gains compared to traditional loops, vectorized code will still outperform them many times over. On large data, the perfomance gains are substantial.\n",
    "\n",
    "Deep dives into vectorization as loop alternatives in code go beyond the scope of this class. However, in a production environment with significantly large data, they can take a process than might run for several hours, days, or more and complete them in only hours or minutes. "
   ]
  },
  {
   "cell_type": "markdown",
   "metadata": {},
   "source": [
    "## Dot Product\n",
    "\n",
    "A **dot product** is a useful operation in machine learning because it provides a simple mathematical way of comparing similarity between vectors. Same-sign values result in positive contribution to the final sum, while the opposite-sign values yield a negative contribution. Thus, the higher the final dot product value, the more similar the vectors are interpreted to be. Conversely, the lower the dot product value, the more dissimilar the two vectors can be interpreted to be.\n",
    "\n",
    "For example, the two vectors below have zero dot product because of equal opposite-sign contribution to the sum (1x1 = 1, 1x-1 = -1, and the sum of 1 and -1 = 0). Note the directions of these vectors (try drawing these on a piece of paper using the two values in each as x and y coordinates). Also, since the dot product is zero, we know that these are two orthogonal (i.e., perpendicular) vectors."
   ]
  },
  {
   "cell_type": "code",
   "execution_count": 18,
   "metadata": {},
   "outputs": [
    {
     "data": {
      "text/plain": [
       "0"
      ]
     },
     "execution_count": 18,
     "metadata": {},
     "output_type": "execute_result"
    }
   ],
   "source": [
    "np.array([1, -1]) @ np.array([1,1])"
   ]
  },
  {
   "cell_type": "markdown",
   "metadata": {},
   "source": [
    "However, the following two vectors have a higher dot product because of all positive contributions to the sum. Note the directions of these vectors"
   ]
  },
  {
   "cell_type": "code",
   "execution_count": 19,
   "metadata": {},
   "outputs": [
    {
     "data": {
      "text/plain": [
       "2"
      ]
     },
     "execution_count": 19,
     "metadata": {},
     "output_type": "execute_result"
    }
   ],
   "source": [
    "np.array([1, -1]) @ np.array([1, -1])"
   ]
  },
  {
   "cell_type": "markdown",
   "metadata": {},
   "source": [
    "Thus, we could use this as a metric to conclude that the second set of vectors is more similar than the first set."
   ]
  },
  {
   "cell_type": "markdown",
   "metadata": {},
   "source": [
    "If we consider the matrix `Y` as a box of row vectors, you can compute dot product of each row with another same-size vector using a loop as show next."
   ]
  },
  {
   "cell_type": "code",
   "execution_count": 20,
   "metadata": {},
   "outputs": [
    {
     "name": "stdout",
     "output_type": "stream",
     "text": [
      "1\n",
      "3\n",
      "4\n"
     ]
    }
   ],
   "source": [
    "a = np.array([1,1,1])      # create a 1D array of ones\n",
    "for y in Y: print(y @ a)   # iterative computation of dot products of rows with a vector"
   ]
  },
  {
   "cell_type": "markdown",
   "metadata": {},
   "source": [
    "However, similar to the example above where we printed rows based on a condition, this method is overly complex and inefficient. It is again slow because the loop itself is done at Python level, one row at a time. In this case, the NumPy dot product libraries allow us to use the `@` operator to perform this operation on the entire matrix at once. The first thing NumPy functions do is convert the Python operation to a lower-level compiled language (like C), which comes with substantial performance gains - even more than vectorization on large data sets. \n",
    "\n",
    "The dot product of a matrix $Y$ below by a vector $a$ can be mathematically written as $Ya$, skipping the multiplication symbol for brevity."
   ]
  },
  {
   "cell_type": "code",
   "execution_count": 21,
   "metadata": {},
   "outputs": [
    {
     "data": {
      "text/plain": [
       "array([1, 3, 4], dtype=int64)"
      ]
     },
     "execution_count": 21,
     "metadata": {},
     "output_type": "execute_result"
    }
   ],
   "source": [
    "Y @ a"
   ]
  },
  {
   "cell_type": "markdown",
   "metadata": {},
   "source": [
    "For matrices, this dot product operation is not commutative and you will receive a different answer if the `a` is on the left of the matrix `Y`. In this situation, the vector is multiplied by every column, instead of every row.\n",
    "\n",
    "The right multiplication of a vector $a$ below by a matrix $Y$ is mathematically written as $aY$."
   ]
  },
  {
   "cell_type": "code",
   "execution_count": 22,
   "metadata": {},
   "outputs": [
    {
     "data": {
      "text/plain": [
       "array([4, 1, 3], dtype=int64)"
      ]
     },
     "execution_count": 22,
     "metadata": {},
     "output_type": "execute_result"
    }
   ],
   "source": [
    "a @ Y"
   ]
  },
  {
   "cell_type": "markdown",
   "metadata": {},
   "source": [
    "To avoid mistakes, make sure you understand the order of operations between matrices and vectors. \n",
    "\n",
    "## Deeper Dive: Dot Product of Two Matrices\n",
    "\n",
    "The dot product of two matrices $A\\cdot B$ or $AB$ is basically the dot products of rows from the left matrix $A$ and columns from the right matrix $B$. The result is a matrix, which we will call $C$, with the number of rows matching the number of rows in $A$ and the number of columns matching the number of columns in $B$. Each $ij$-th value of $C$ is a dot product of row $i$ in $A$ and column $j$ in $B$. \n",
    "\n",
    "This is usually not commutative, so $BA$ is likely to produce a different result (assuming it will produce a result at all). Indeed, dot products only work if the number of rows in $A$ is the same as the number of columns in $B$. Put another way, the \"inner\" values of the matrices must match (dot product is also known as \"inner\" product), but the \"outer\" values can be different. For example, you can compute the dot product of a 3x6 matrix with a 6x9 matrix, which would result in a 3x9 matrix. However, you could not perform a dot product calculation of a 3x6 with another 3x6 matrix, since the inner values (6 and 3, respectively) are not the same.\n",
    "\n",
    "Note the difference between dot products, which uses the `@` symbol, and element-wise multiplication, which uses the `*` symbol. (Element-wise multiplication is also referred to as \"Hadamard product.\") For element-wise operations, the shape of the matrices must be identical. Therefore, while a 3x6 `@` 3x6 operation would fail, a 3x6 `*` 3x6 would succeed, and the resulting matrix would also be a 3x6.   \n",
    "\n",
    "In NumPy, you can perform 2D (row x column) matrix multiplication with the `@` symbol, [`np.dot`](https://numpy.org/doc/stable/reference/generated/numpy.dot.html), [`np.matmul`](https://numpy.org/doc/stable/reference/generated/numpy.matmul.html) or [`np.ndarray.dot`](https://numpy.org/doc/stable/reference/generated/numpy.ndarray.dot.html). (Note that when working with multidimensional arrays, there are some cases where `@`, `np.matmul`, and `np.ndarray.dot` may produce different results; however, when using 2D [row x column] arrays in this course, you can use them interchangeably.)\n",
    "\n",
    "See examples below:"
   ]
  },
  {
   "cell_type": "code",
   "execution_count": 23,
   "metadata": {},
   "outputs": [
    {
     "data": {
      "text/plain": [
       "(3, 3)"
      ]
     },
     "execution_count": 23,
     "metadata": {},
     "output_type": "execute_result"
    },
    {
     "data": {
      "text/plain": [
       "array([[ 0,  0,  3],\n",
       "       [12,  0,  0],\n",
       "       [ 0,  4,  0]], dtype=int64)"
      ]
     },
     "execution_count": 23,
     "metadata": {},
     "output_type": "execute_result"
    },
    {
     "data": {
      "text/plain": [
       "array([[ 0,  0,  3],\n",
       "       [12,  0,  0],\n",
       "       [ 0,  4,  0]], dtype=int64)"
      ]
     },
     "execution_count": 23,
     "metadata": {},
     "output_type": "execute_result"
    },
    {
     "data": {
      "text/plain": [
       "array([[ 0,  0,  3],\n",
       "       [12,  0,  0],\n",
       "       [ 0,  4,  0]], dtype=int64)"
      ]
     },
     "execution_count": 23,
     "metadata": {},
     "output_type": "execute_result"
    },
    {
     "data": {
      "text/plain": [
       "array([[ 0,  0,  3],\n",
       "       [12,  0,  0],\n",
       "       [ 0,  4,  0]], dtype=int64)"
      ]
     },
     "execution_count": 23,
     "metadata": {},
     "output_type": "execute_result"
    },
    {
     "name": "stdout",
     "output_type": "stream",
     "text": [
      "Note that all functions return the same results\n"
     ]
    }
   ],
   "source": [
    "Y.shape # Since this is a square matrix, the inner values will match for dot product calculation\n",
    "Y @ Y   \n",
    "np.dot(Y, Y)\n",
    "Y.dot(Y)\n",
    "np.matmul(Y, Y)\n",
    "print(\"Note that all functions return the same results\")"
   ]
  },
  {
   "cell_type": "markdown",
   "metadata": {},
   "source": [
    "Create two non-square matrices with shapes `(2,3)`  and `(3,2)`, which can be represented mathematically as $2\\times3$ and $3\\times 2$."
   ]
  },
  {
   "cell_type": "code",
   "execution_count": 24,
   "metadata": {},
   "outputs": [
    {
     "data": {
      "text/plain": [
       "array([[0, 1, 0],\n",
       "       [0, 0, 3]], dtype=int64)"
      ]
     },
     "execution_count": 24,
     "metadata": {},
     "output_type": "execute_result"
    },
    {
     "data": {
      "text/plain": [
       "array([[0, 1],\n",
       "       [0, 0],\n",
       "       [4, 0]], dtype=int64)"
      ]
     },
     "execution_count": 24,
     "metadata": {},
     "output_type": "execute_result"
    }
   ],
   "source": [
    "Y23 = Y[:2,:]  # slice a 2 by 3 submatrix\n",
    "Y32 = Y[:,:2]  # slice a 3 by 2 submatrix\n",
    "Y23\n",
    "Y32"
   ]
  },
  {
   "cell_type": "markdown",
   "metadata": {},
   "source": [
    "Now you will verify the dimensionality match requirement by examining the dimensions of matrices that result from matrix multiplication. "
   ]
  },
  {
   "cell_type": "code",
   "execution_count": 25,
   "metadata": {},
   "outputs": [
    {
     "name": "stdout",
     "output_type": "stream",
     "text": [
      "2x3 @ 3x2 dot product\n"
     ]
    },
    {
     "data": {
      "text/plain": [
       "array([[ 0,  0],\n",
       "       [12,  0]], dtype=int64)"
      ]
     },
     "execution_count": 25,
     "metadata": {},
     "output_type": "execute_result"
    },
    {
     "name": "stdout",
     "output_type": "stream",
     "text": [
      " \n",
      "3x2 @ 3x2 dot product\n"
     ]
    },
    {
     "data": {
      "text/plain": [
       "array([[0, 0, 3],\n",
       "       [0, 0, 0],\n",
       "       [0, 4, 0]], dtype=int64)"
      ]
     },
     "execution_count": 25,
     "metadata": {},
     "output_type": "execute_result"
    },
    {
     "name": "stdout",
     "output_type": "stream",
     "text": [
      " \n",
      "Try element-wise multiplication of 3x2 and 2x3 matrices\n",
      " \n",
      "operands could not be broadcast together with shapes (3,2) (2,3)  \n",
      "\n",
      " \n",
      "********\n",
      " \n",
      "Try dot product of 2x3 and 2x3 matrix\n",
      " \n",
      "matmul: Input operand 1 has a mismatch in its core dimension 0, with gufunc signature (n?,k),(k,m?)->(n?,m?) (size 2 is different from 3)\n"
     ]
    }
   ],
   "source": [
    "print(\"2x3 @ 3x2 dot product\")\n",
    "Y23 @ Y32    # inner shape values are both 3, and the result is a 2x2 matrix (the outer shape values)\n",
    "print(' ')\n",
    "\n",
    "print(\"3x2 @ 3x2 dot product\")\n",
    "Y32 @ Y23    # inner shape values are both 2, and the result is a 3x3 matrix (the outer shape values)\n",
    "print(' ')\n",
    "\n",
    "print(\"Try element-wise multiplication of 3x2 and 2x3 matrices\")\n",
    "print(' ')\n",
    "try:\n",
    "    Y32 * Y23    # throws an error since Hadamard product requires matching shapes\n",
    "except ValueError as e:  # catch an error into an object e\n",
    "    print(e, '\\n')             # print error attributes    \n",
    "print(' ')\n",
    "\n",
    "print('********')\n",
    "print(' ')\n",
    "\n",
    "print(\"Try dot product of 2x3 and 2x3 matrix\")\n",
    "print(' ')\n",
    "try:\n",
    "    Y23 @ Y23    # throws an error about mismatched inner dimensions in matmul operation\n",
    "except ValueError as e:  # catch an error into an object e\n",
    "    print(e)             # print error attributes       "
   ]
  },
  {
   "cell_type": "markdown",
   "metadata": {},
   "source": [
    "<hr style=\"border-top: 2px solid #606366; background: transparent;\">\n",
    "\n",
    "# **Optional Practice**\n",
    "\n",
    "You will now practice creating matrices and performing matrix operations.\n",
    "\n",
    "As you work through these tasks, check your answers by running your code in the *#check solution here* cell, to see if you’ve gotten the correct result. If you get stuck on a task, click the See **solution** drop-down to view the answer."
   ]
  },
  {
   "cell_type": "markdown",
   "metadata": {},
   "source": [
    "## Task 1\n",
    "\n",
    "Create a $3\\times 3$ matrix $W$ (using the NumPy array function) with the values:\n",
    "\n",
    "    [[1, 2, 3],\n",
    "     [4, 5, 6],\n",
    "     [7, 8, 9]]\n",
    "\n",
    "Then, compute $W + W,\\,\\,\\,\\,\\,10W - 5Y,\\,\\,\\,\\,\\,\\,WW / 10$\n",
    "\n",
    "**Hint:** Check code above, where we used the same operations. "
   ]
  },
  {
   "cell_type": "code",
   "execution_count": null,
   "metadata": {
    "code_folding": []
   },
   "outputs": [],
   "source": [
    "# check solution here"
   ]
  },
  {
   "cell_type": "markdown",
   "metadata": {},
   "source": [
    "\n",
    "<font color=#606366>\n",
    "    <details><summary><font color=#b31b1b>▶ </font>See <b>solution</b>.</summary>\n",
    "<pre>\n",
    "W = np.array([[1,2,3],[4,5,6],[7,8,9]])\n",
    "W\n",
    "W + W\n",
    "10 * W - 5 * Y\n",
    "W @ W / 10\n",
    "    </pre>\n",
    "    </details> \n",
    "</font>\n",
    "<hr>"
   ]
  },
  {
   "cell_type": "markdown",
   "metadata": {},
   "source": [
    "## Task 2\n",
    "\n",
    "Compute $(W + W^T)(W + W^T)$, where $W^T$ is the transpose of $W$ matrix.\n",
    "\n",
    "<b>Hint:</b> See code above where we used the same operations."
   ]
  },
  {
   "cell_type": "code",
   "execution_count": null,
   "metadata": {},
   "outputs": [],
   "source": [
    "# check solution here"
   ]
  },
  {
   "cell_type": "markdown",
   "metadata": {},
   "source": [
    "\n",
    "<font color=#606366>\n",
    "    <details><summary><font color=#b31b1b>▶ </font>See <b>solution</b>.</summary>\n",
    "<pre>\n",
    "(W + W.T) @ (W + W.T)\n",
    "    </pre>\n",
    "    </details> \n",
    "</font>\n",
    "<hr>"
   ]
  },
  {
   "cell_type": "markdown",
   "metadata": {},
   "source": [
    "## Task 3\n",
    "\n",
    "Define a $3\\times 3$ identity matrix with [`np.eye()`](https://numpy.org/devdocs/reference/generated/numpy.eye.html) method and save it to a variable $I$. This is a matrix of ones on diagonal and zeros off diagonal. Then compute on paper: \n",
    "\n",
    "$$IW,\\,\\,\\,WI,\\,\\,\\,I\\odot W,\\,\\,\\,W\\odot I$$\n",
    "\n",
    "<b>Hint:</b> Follow the link to view the documentation on <code>np.eye()</code> method. Also recall that $\\odot$ is a Hadamard (element-wise) product."
   ]
  },
  {
   "cell_type": "code",
   "execution_count": null,
   "metadata": {},
   "outputs": [],
   "source": [
    "# check solution here"
   ]
  },
  {
   "cell_type": "markdown",
   "metadata": {},
   "source": [
    "\n",
    "<font color=#606366>\n",
    "    <details><summary><font color=#b31b1b>▶ </font>See <b>solution</b>.</summary>\n",
    "    <pre>\n",
    "I = np.eye(3)   # identity matrix with ones on diagonal and zero elsewhere\n",
    "I @ W           # left or right dot product with I retains W without a change\n",
    "W @ I\n",
    "I * W           # element-wise multiplication with I wipes out non-diagonal elements\n",
    "W * I\n",
    "    </pre>\n",
    "    </details> \n",
    "</font>\n",
    "<hr>"
   ]
  },
  {
   "cell_type": "markdown",
   "metadata": {},
   "source": [
    "## Task 4\n",
    "\n",
    "Define $F$ as the top left $2\\times 2$ submatrix of $W$ and $G$ as the top right $2\\times 2$ of $W$. Then compute on paper: \n",
    "\n",
    "$$F \\odot G, \\,\\,\\,G \\odot F,\\,\\,\\, FG,\\,\\,\\, GF$$\n",
    "\n",
    " <b>Hint:</b> See code above."
   ]
  },
  {
   "cell_type": "code",
   "execution_count": null,
   "metadata": {},
   "outputs": [],
   "source": [
    "# check solution here"
   ]
  },
  {
   "cell_type": "markdown",
   "metadata": {},
   "source": [
    "\n",
    "\n",
    "<font color=#606366>\n",
    "    <details><summary><font color=#b31b1b>▶ </font>See <b>solution</b>.</summary>\n",
    "    <pre>\n",
    "F, G = W[:2,:2], W[:2, 1:]\n",
    "F * G\n",
    "G * F\n",
    "F @ G\n",
    "G @ F\n",
    "    </pre>\n",
    "    </details> \n",
    "</font>\n",
    "<hr>"
   ]
  },
  {
   "cell_type": "markdown",
   "metadata": {},
   "source": [
    "## Task 5\n",
    "\n",
    "Define $F$ as the first two columns of $W$ and $G$ as the top two rows of $W$. Then compute on paper (and check with code): \n",
    "\n",
    "$$F \\odot G, \\,\\,\\,G \\odot F,\\,\\,\\, FG,\\,\\,\\, GF,\\,\\,\\, FF,\\,\\,\\, F\\odot F$$\n",
    "\n",
    " <b>Hint:</b> See code above."
   ]
  },
  {
   "cell_type": "code",
   "execution_count": null,
   "metadata": {},
   "outputs": [],
   "source": [
    "# check solution here"
   ]
  },
  {
   "cell_type": "markdown",
   "metadata": {},
   "source": [
    "\n",
    "<font color=#606366>\n",
    "    <details><summary><font color=#b31b1b>▶ </font>See <b>solution</b>.</summary>\n",
    "    <pre>\n",
    "F, G = W[:,:2], W[:2,:]\n",
    "# F * G # throws an error since element-wise operations do not make sense on matrices with mismatched dimensions\n",
    "# G * F # also throws an error\n",
    "F @ G\n",
    "G @ F\n",
    "# F @ F   # also throws an error. Inner dimensions must match!\n",
    "F * F\n",
    "    </pre>\n",
    "    </details> \n",
    "</font>\n",
    "<hr>"
   ]
  }
 ],
 "metadata": {
  "anaconda-cloud": {},
  "kernelspec": {
   "display_name": "Python 3",
   "language": "python",
   "name": "python3"
  },
  "language_info": {
   "codemirror_mode": {
    "name": "ipython",
    "version": 3
   },
   "file_extension": ".py",
   "mimetype": "text/x-python",
   "name": "python",
   "nbconvert_exporter": "python",
   "pygments_lexer": "ipython3",
   "version": "3.6.9"
  },
  "toc": {
   "base_numbering": 1,
   "nav_menu": {},
   "number_sections": false,
   "sideBar": true,
   "skip_h1_title": false,
   "title_cell": "Table of Contents",
   "title_sidebar": "Contents",
   "toc_cell": false,
   "toc_position": {},
   "toc_section_display": true,
   "toc_window_display": false
  },
  "varInspector": {
   "cols": {
    "lenName": 16,
    "lenType": 16,
    "lenVar": 40
   },
   "kernels_config": {
    "python": {
     "delete_cmd_postfix": "",
     "delete_cmd_prefix": "del ",
     "library": "var_list.py",
     "varRefreshCmd": "print(var_dic_list())"
    },
    "r": {
     "delete_cmd_postfix": ") ",
     "delete_cmd_prefix": "rm(",
     "library": "var_list.r",
     "varRefreshCmd": "cat(var_dic_list()) "
    }
   },
   "types_to_exclude": [
    "module",
    "function",
    "builtin_function_or_method",
    "instance",
    "_Feature"
   ],
   "window_display": false
  }
 },
 "nbformat": 4,
 "nbformat_minor": 1
}
