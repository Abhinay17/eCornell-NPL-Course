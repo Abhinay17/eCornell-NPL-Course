{
 "cells": [
  {
   "cell_type": "markdown",
   "metadata": {},
   "source": [
    "# **Setup**\n",
    " \n",
    "Reset the Python environment to clear it of any previously loaded variables, functions, or libraries. Then, import the libraries needed to complete the code Professor Melnikov presented in the video. "
   ]
  },
  {
   "cell_type": "code",
   "execution_count": 1,
   "metadata": {},
   "outputs": [],
   "source": [
    "%reset -f\n",
    "from IPython.core.interactiveshell import InteractiveShell as IS\n",
    "IS.ast_node_interactivity = \"all\"    # allows multiple outputs from a cell\n",
    "import pandas as pd, seaborn as sns, matplotlib.pyplot as plt, numpy as np, nltk\n",
    "from sklearn.feature_extraction.text import CountVectorizer\n",
    "plt.rcParams['figure.figsize'] = [16, 4]   # plot wider figures\n",
    "np.set_printoptions(linewidth=10000, precision=3, edgeitems=20, suppress=True)  # format for printed arrays\n",
    "pd.set_option('max_rows', 10, 'max_columns', 500, 'max_colwidth', 1, 'precision', 2, 'display.width', 3000)"
   ]
  },
  {
   "cell_type": "markdown",
   "metadata": {},
   "source": [
    "<hr style=\"border-top: 2px solid #606366; background: transparent;\">\n",
    "\n",
    "# **Review**\n",
    " \n",
    "Below a few famous quotes about language are loaded into a list. While these are all on the same topic, the subtopics vary. Some quotes relate language to knowledge, some to future, some to soul, etc. In other words, some sentences are more similar than others. You can subjectively group sentences by their similarity, but you will learn tools that objectively and quantitatively assign some similarity scores to pairs of sentences. First, you will learn how to convert these quotes to mathematical structures on which you can use vector and matrix operations.\n",
    "    \n",
    "<h3 style=\"color:black\"> Creating a Document-Term Matrix </h3>\n",
    "    \n",
    "To create a document-term matrix, you'll load 15 famous quotes about language. While these are all on the same topic, subtopics vary: Some quotes relate language to knowledge, some to the future, some to the soul, etc. In other words, some sentences are more similar than others. \n",
    "\n",
    "You'll practice converting these quotes into a DTM and then visualizing it."
   ]
  },
  {
   "cell_type": "code",
   "execution_count": 2,
   "metadata": {},
   "outputs": [
    {
     "name": "stdout",
     "output_type": "stream",
     "text": [
      "Number of quotes: 15\n"
     ]
    }
   ],
   "source": [
    "LsQuote=[\"A different language is a different vision of life.\", # Federico Fellini\n",
    "  \"The limits of my language mean the limits of my world.\",     # Ludwig Wittgenstein\n",
    "  \"One language sets you in a corridor for life. Two languages open every door along the way.\",  # Frank Smith\n",
    "  \"He who knows no foreign languages knows nothing of his own.\",  # Johann Wolfgang von Goethe\n",
    "  \"You can never understand one language until you understand at least two.\",  # Geoffrey Willans\n",
    "  \"To have another language is to possess a second soul.\",      # Charlemagne\n",
    "  \"Change your language and you change your thoughts.\",         # Karl Albrecht\n",
    "  \"Knowledge of languages is the doorway to wisdom.\",           # Roger Bacon\n",
    "  \"Language is the blood of the soul into which thoughts run and out of which they grow.\",  # Oliver Wendell Holmes\n",
    "  \"Learn a new language and get a new soul.\",                   # Czech Proverb\n",
    "  \"A special kind of beauty exists which is born in language, of language, and for language.\",  # Gaston Bachelard\n",
    "  \"Learning is a treasure that will follow its owner everywhere.\",  # Chinese Proverb\n",
    "  \"One should not aim at being possible to understand but at being impossible to misunderstand.\",  # Marcus Fabius Quintilian\n",
    "  \"A mistake is to commit a misunderstanding.\",                  # Bob Dylan\n",
    "  \"Language is to the mind more than light is to the eye.\"]     # William Gibson\n",
    "\n",
    "print('Number of quotes:', len(LsQuote))"
   ]
  },
  {
   "cell_type": "markdown",
   "metadata": {},
   "source": [
    "<span style=\"color:black\">You can use `scikit-learn`'s [`CountVectorizer()`](https://scikit-learn.org/stable/modules/generated/sklearn.feature_extraction.text.CountVectorizer.html) object to build a document term matrix ([DTM](https://en.wikipedia.org/wiki/Document-term_matrix)). `CountVectorizer` takes a list of string sentences, parses them into word tokens, builds a vocabulary from the list of unique words in the corpus of sentences, and counts each word in each sentence. The vocabulary words become columns and sentences (or documents) become rows. In addition, this object has many useful arguments and methods for convenient preprocessing, such as stopword removal, lower casing, etc. It can also be customized with a more sophisticated preprocessing tool, such as a lemmatizer. The default word tokenizer pattern is the argument `token_pattern='(?u)\\b\\w\\w+\\b'`, which assumes words are made up of multiple word characters, but can be modified for other word separators.\n",
    "\n",
    "<span style=\"color:black\">Use the `CountVectorizer` object with a common English list of [stopwords](https://scikit-learn.org/stable/modules/feature_extraction.html#stop-words) and lower-case preprocessor."
   ]
  },
  {
   "cell_type": "code",
   "execution_count": 3,
   "metadata": {},
   "outputs": [
    {
     "data": {
      "text/plain": [
       "CountVectorizer(stop_words='english')"
      ]
     },
     "execution_count": 3,
     "metadata": {},
     "output_type": "execute_result"
    }
   ],
   "source": [
    "cv = CountVectorizer(stop_words='english', lowercase=True) # create object to count pre-processed words\n",
    "cv"
   ]
  },
  {
   "cell_type": "markdown",
   "metadata": {},
   "source": [
    "Now that the object is initialized, you can pass the list of sentence strings to the `fit_transform()` method. Nearly all modeling objects in `scikit-learn` have `fit`, `transform`, and `fit_transform` methods. Here, `fit` applies preprocessing, parses words, and learns the vocabulary. Once the vocabulary is learned on a set of documents, you can apply the same set of docs or another set of docs to be transformed to a DTM. Note that the `CountVectorizer` only \"knows\" the vocabulary it was fitted on. So, if the transformed set of documents has new words, they will be ignored. For this reason, you should try to have a reasonably comprehensive vocabulary when you apply `CountVectorizer`. Otherwise, you'll need to refit the `CountVectorizer` object as you add documents. \n",
    "\n",
    "<span style=\"color:black\">The `fit_transform` applies both methods at once to the same set of documents (or quotes, in this case). \n",
    "\n",
    "<span style=\"color:black\">A transformation returns a SciPy sparse matrix, which stores indices and values of non-zero elements in a matrix. If the matrix is highly sparse (as is often the case with DTMs), then such data structure is very effective in saving memory. It is interesting that a larger vocabulary will not use any more memory for storing counts in a sparse matrix but will use some memory to store a larger vocabulary list itself."
   ]
  },
  {
   "cell_type": "code",
   "execution_count": 4,
   "metadata": {},
   "outputs": [
    {
     "data": {
      "text/plain": [
       "<15x48 sparse matrix of type '<class 'numpy.longlong'>'\n",
       "\twith 64 stored elements in Compressed Sparse Row format>"
      ]
     },
     "execution_count": 4,
     "metadata": {},
     "output_type": "execute_result"
    }
   ],
   "source": [
    "DT_smatrix = cv.fit_transform(LsQuote)     # create document-term matrix (DTM) in sparse format\n",
    "DT_smatrix"
   ]
  },
  {
   "cell_type": "markdown",
   "metadata": {},
   "source": [
    "<span style=\"color:black\">Note that the DTM above has the size of 15 rows (of sentences) and 48 columns (of words). That's 720 values with only 64 non-zero values, or 0.88%. In NLP we call the fraction of non-zero elements the **sparsity degree**.\n",
    "\n",
    "\n",
    "## Retrieve a Vocabulary From a DTM and Convert It to a DataFrame\n",
    "\n",
    "<span style=\"color:black\"> You can retrieve a vocabulary from `DT_smatrix` with the `get_feature_names()` method."
   ]
  },
  {
   "cell_type": "code",
   "execution_count": 5,
   "metadata": {},
   "outputs": [
    {
     "name": "stdout",
     "output_type": "stream",
     "text": [
      "['aim', 'beauty', 'blood', 'born', 'change', 'commit', 'corridor', 'different', 'door', 'doorway', 'exists', 'eye', 'follow', 'foreign', 'grow', 'impossible', 'kind', 'knowledge', 'knows', 'language', 'languages', 'learn', 'learning', 'life', 'light', 'limits', 'mean', 'mind', 'mistake', 'misunderstand', 'misunderstanding', 'new', 'open', 'owner', 'possess', 'possible', 'run', 'second', 'sets', 'soul', 'special', 'thoughts', 'treasure', 'understand', 'vision', 'way', 'wisdom', 'world']\n"
     ]
    }
   ],
   "source": [
    "LsVocab = cv.get_feature_names()          # create a vocabulary of unique words in our corpus\n",
    "print(LsVocab)"
   ]
  },
  {
   "cell_type": "markdown",
   "metadata": {},
   "source": [
    "<span style=\"color:black\">Note that the vocabulary is a list of strings, and its order corresponds to the columns in the DTM. You can use this list to label columns of a DataFrame if you decide to convert the sparse array to a DataFrame.\n",
    "\n",
    "<span style=\"color:black\"> The sparse matrix can be converted to a NumPy array with `toarray()` method."
   ]
  },
  {
   "cell_type": "code",
   "execution_count": 6,
   "metadata": {},
   "outputs": [
    {
     "data": {
      "text/plain": [
       "array([[0, 0, 0, 0, 0, 0, 0, 2, 0, 0, 0, 0, 0, 0, 0, 0, 0, 0, 0, 1],\n",
       "       [0, 0, 0, 0, 0, 0, 0, 0, 0, 0, 0, 0, 0, 0, 0, 0, 0, 0, 0, 1],\n",
       "       [0, 0, 0, 0, 0, 0, 1, 0, 1, 0, 0, 0, 0, 0, 0, 0, 0, 0, 0, 1],\n",
       "       [0, 0, 0, 0, 0, 0, 0, 0, 0, 0, 0, 0, 0, 1, 0, 0, 0, 0, 2, 0],\n",
       "       [0, 0, 0, 0, 0, 0, 0, 0, 0, 0, 0, 0, 0, 0, 0, 0, 0, 0, 0, 1]], dtype=int64)"
      ]
     },
     "execution_count": 6,
     "metadata": {},
     "output_type": "execute_result"
    }
   ],
   "source": [
    "DT_smatrix.toarray()[0:5,0:20]"
   ]
  },
  {
   "cell_type": "markdown",
   "metadata": {},
   "source": [
    "<span style=\"color:black\">Within this slice of a few rows and columns from the matrix, you can see a lot of zeros."
   ]
  },
  {
   "cell_type": "markdown",
   "metadata": {},
   "source": [
    "Now, wrap the array as a DataFrame with sentences as row indices and vocabulary words as column indices."
   ]
  },
  {
   "cell_type": "code",
   "execution_count": 7,
   "metadata": {},
   "outputs": [
    {
     "data": {
      "text/html": [
       "<div>\n",
       "<style scoped>\n",
       "    .dataframe tbody tr th:only-of-type {\n",
       "        vertical-align: middle;\n",
       "    }\n",
       "\n",
       "    .dataframe tbody tr th {\n",
       "        vertical-align: top;\n",
       "    }\n",
       "\n",
       "    .dataframe thead th {\n",
       "        text-align: right;\n",
       "    }\n",
       "</style>\n",
       "<table border=\"1\" class=\"dataframe\">\n",
       "  <thead>\n",
       "    <tr style=\"text-align: right;\">\n",
       "      <th></th>\n",
       "      <th>aim</th>\n",
       "      <th>beauty</th>\n",
       "      <th>blood</th>\n",
       "      <th>born</th>\n",
       "      <th>change</th>\n",
       "      <th>commit</th>\n",
       "      <th>corridor</th>\n",
       "      <th>different</th>\n",
       "      <th>door</th>\n",
       "      <th>doorway</th>\n",
       "    </tr>\n",
       "  </thead>\n",
       "  <tbody>\n",
       "    <tr>\n",
       "      <th>A different language is a different vision of life.</th>\n",
       "      <td>0</td>\n",
       "      <td>0</td>\n",
       "      <td>0</td>\n",
       "      <td>0</td>\n",
       "      <td>0</td>\n",
       "      <td>0</td>\n",
       "      <td>0</td>\n",
       "      <td>2</td>\n",
       "      <td>0</td>\n",
       "      <td>0</td>\n",
       "    </tr>\n",
       "    <tr>\n",
       "      <th>The limits of my language mean the limits of my world.</th>\n",
       "      <td>0</td>\n",
       "      <td>0</td>\n",
       "      <td>0</td>\n",
       "      <td>0</td>\n",
       "      <td>0</td>\n",
       "      <td>0</td>\n",
       "      <td>0</td>\n",
       "      <td>0</td>\n",
       "      <td>0</td>\n",
       "      <td>0</td>\n",
       "    </tr>\n",
       "    <tr>\n",
       "      <th>One language sets you in a corridor for life. Two languages open every door along the way.</th>\n",
       "      <td>0</td>\n",
       "      <td>0</td>\n",
       "      <td>0</td>\n",
       "      <td>0</td>\n",
       "      <td>0</td>\n",
       "      <td>0</td>\n",
       "      <td>1</td>\n",
       "      <td>0</td>\n",
       "      <td>1</td>\n",
       "      <td>0</td>\n",
       "    </tr>\n",
       "    <tr>\n",
       "      <th>He who knows no foreign languages knows nothing of his own.</th>\n",
       "      <td>0</td>\n",
       "      <td>0</td>\n",
       "      <td>0</td>\n",
       "      <td>0</td>\n",
       "      <td>0</td>\n",
       "      <td>0</td>\n",
       "      <td>0</td>\n",
       "      <td>0</td>\n",
       "      <td>0</td>\n",
       "      <td>0</td>\n",
       "    </tr>\n",
       "    <tr>\n",
       "      <th>You can never understand one language until you understand at least two.</th>\n",
       "      <td>0</td>\n",
       "      <td>0</td>\n",
       "      <td>0</td>\n",
       "      <td>0</td>\n",
       "      <td>0</td>\n",
       "      <td>0</td>\n",
       "      <td>0</td>\n",
       "      <td>0</td>\n",
       "      <td>0</td>\n",
       "      <td>0</td>\n",
       "    </tr>\n",
       "  </tbody>\n",
       "</table>\n",
       "</div>"
      ],
      "text/plain": [
       "                                                                                            aim  beauty  blood  born  change  commit  corridor  different  door  doorway\n",
       "A different language is a different vision of life.                                         0    0       0      0     0       0       0         2          0     0      \n",
       "The limits of my language mean the limits of my world.                                      0    0       0      0     0       0       0         0          0     0      \n",
       "One language sets you in a corridor for life. Two languages open every door along the way.  0    0       0      0     0       0       1         0          1     0      \n",
       "He who knows no foreign languages knows nothing of his own.                                 0    0       0      0     0       0       0         0          0     0      \n",
       "You can never understand one language until you understand at least two.                    0    0       0      0     0       0       0         0          0     0      "
      ]
     },
     "execution_count": 7,
     "metadata": {},
     "output_type": "execute_result"
    }
   ],
   "source": [
    "dfDT = pd.DataFrame(DT_smatrix.toarray(), index=LsQuote, columns=LsVocab)\n",
    "dfDT.iloc[0:5,0:10]   # print just a few rows and columns"
   ]
  },
  {
   "cell_type": "markdown",
   "metadata": {},
   "source": [
    "   \n",
    "## Visualize the DTM\n",
    "\n",
    "<span style=\"color:black\">Sometimes the DataFrame is small enough to be visualized. Use the Seaborn library to add colors to values to the DTM of these sentences, which helps identify the distribution of words around sentences. "
   ]
  },
  {
   "cell_type": "code",
   "execution_count": 8,
   "metadata": {},
   "outputs": [
    {
     "data": {
      "image/png": "[encoded data removed]",
      "text/plain": [
       "<Figure size 432x288 with 1 Axes>"
      ]
     },
     "metadata": {
      "needs_background": "light"
     },
     "output_type": "display_data"
    }
   ],
   "source": [
    "ax = sns.heatmap(dfDT, annot=True, cmap='coolwarm', cbar=False);\n",
    "tmp = ax.set_title('Counts Matrix');"
   ]
  },
  {
   "cell_type": "markdown",
   "metadata": {},
   "source": [
    "Take a look at this matrix and make sure you understand what it is showing you. What is each row, and what is each column? Do you notice the most frequent words? What about words that are repeated multiple times in a single sentence?\n",
    "\n",
    "<hr style=\"border-top: 2px solid #606366; background: transparent;\">\n",
    "\n",
    "# Optional Practice\n",
    "\n",
    "Now you will evaluate the DTM above and  build your own on a larger corpus.\n",
    "\n",
    "As you work through these tasks, check your answers by running your code in the *#check solution here* cell, to see if you’ve gotten the correct result. If you get stuck on a task, click the See **solution** drop-down to view the answer.\n"
   ]
  },
  {
   "cell_type": "markdown",
   "metadata": {},
   "source": [
    "## Part 1: Exploring Sentence Vectors in DTM\n",
    "\n",
    "### Task 1\n",
    "\n",
    "`'language'` and `'soul'` are words within LsQuote. Convert a column for `'language'` to a vector `X` (as 1D NumPy array) and a column for `'soul'` to a vector `Y`. Then compute dot product, $X\\bullet Y$, between these vectors.\n",
    "\n",
    "You will learn later that a dot product represents a measure of similarity between two vectors. Thus, a higher dot product implies greater similarity.\n",
    "\n",
    "<b>Hint:</b> You can use <code>dfDT.language</code> to access the column by its name. "
   ]
  },
  {
   "cell_type": "code",
   "execution_count": 9,
   "metadata": {},
   "outputs": [
    {
     "name": "stdout",
     "output_type": "stream",
     "text": [
      "X: [1 1 1 0 1 1 1 0 1 1 3 0 0 0 1]\n",
      "Y: [0 0 0 0 0 1 0 0 1 1 0 0 0 0 0]\n"
     ]
    },
    {
     "data": {
      "text/plain": [
       "3"
      ]
     },
     "execution_count": 9,
     "metadata": {},
     "output_type": "execute_result"
    }
   ],
   "source": [
    "X = dfDT.language.values\n",
    "Y = dfDT.soul.values\n",
    "print('X:', X)\n",
    "print('Y:', Y)\n",
    "X @ Y"
   ]
  },
  {
   "cell_type": "markdown",
   "metadata": {},
   "source": [
    "\n",
    "<font color=#606366>\n",
    "    <details><summary><font color=#b31b1b>▶ </font>See <b>solution</b>.</summary>\n",
    "    <pre>\n",
    "X = dfDT.language.values\n",
    "Y = dfDT.soul.values\n",
    "print('X:', X)\n",
    "print('Y:', Y)\n",
    "X @ Y\n",
    "    </pre>\n",
    "    </details> \n",
    "</font>\n",
    "<hr>"
   ]
  },
  {
   "cell_type": "markdown",
   "metadata": {},
   "source": [
    "### Task 2\n",
    "\n",
    "Use the following steps to compute the dot product between vector representations of the two longest sentences, where length is the count of words listed in the DTM vocabulary for the given sentence:\n",
    "\n",
    "1. Sum the values of each row in `dfDT`, returning the index/label/sentence and number of words in the DTM.\n",
    "2. Sort these values from smallest to largest.\n",
    "3. Retrieve the two largest indexes by DTM sum count (you do not need to store the actual values anymore).\n",
    "4. Put these two indexes/sentences/labels in a list named `LsIX`.\n",
    "5. Subset `dfDT` using `.loc` to retrieve the DTM array values of just those two sentences.\n",
    "6. Use dot product to calculate the \"distance\" between the DTM array values of those two sentences.\n",
    "\n",
    "<b>Hint:</b> Use Pandas DataFrame's <code>sum()</code> to count words in each sentence, i.e., to sum frequencies in each row of the DTM <code>dfDT</code>. The length here is measured in terms of words in DTM vocabulary only. Then use <code>sort_values()</code> to sort sentence lengths and retrieve top two (i.e., longest) sentences. Save as a list of strings to a variable <code>LsIx</code>. Retrieve the row vectors for the sentences in <code>LsIx</code> and compute their dot product. Once the rows are sorted, you can use slice or <code>head()</code> or <code>tail()</code> to display top or bottom rows."
   ]
  },
  {
   "cell_type": "code",
   "execution_count": null,
   "metadata": {},
   "outputs": [],
   "source": [
    "# check solution here"
   ]
  },
  {
   "cell_type": "markdown",
   "metadata": {},
   "source": [
    "\n",
    "<font color=#606366>\n",
    "    <details><summary><font color=#b31b1b>▶ </font>See <b>solution</b>.</summary>\n",
    "    <pre>\n",
    "sumwords = np.sum(dfDT, axis=1)\n",
    "sortsums = sumwords.sort_values()\n",
    "twolongestindex = sortsums[-2:].index\n",
    "LsIX = list(twolongestindex)\n",
    "LsIX\n",
    "X, Y = dfDT.loc[LsIX,:].values\n",
    "print('X:', X)\n",
    "print('Y:', Y)\n",
    "X@Y\n",
    "    </pre>\n",
    "When computing a dot product between arrays, your result is a similarity metric of the words in common between the two sentences:\n",
    "howRelatedAreTwoSentencesBasedOnCommonVocab = wordInVocab1stSentence @ wordInVocab2ndSentence\n",
    "    </details> \n",
    "</font>\n",
    "<hr>"
   ]
  },
  {
   "cell_type": "markdown",
   "metadata": {},
   "source": [
    "### Task 3\n",
    "\n",
    "Find all sentence pairs with the largest dot product of their sentence vectors. Because greater dot product means greater similarity, this finds the most similar sentence pairs (based on common words).\n",
    "\n",
    "There are many ways to implement this. One approach is a double loop over rows of `dfDT`.\n",
    "\n",
    "<b>Hint:</b> You can try a double loop over rows of <code>dfDT</code>. To retrieve a row by its index, try <code>dfDT.iloc[i,:]</code>."
   ]
  },
  {
   "cell_type": "code",
   "execution_count": null,
   "metadata": {},
   "outputs": [],
   "source": [
    "# check solution here"
   ]
  },
  {
   "cell_type": "markdown",
   "metadata": {},
   "source": [
    "\n",
    "<font color=#606366>\n",
    "    <details><summary><font color=#b31b1b>▶ </font>See <b>solution</b>.</summary>\n",
    "    <pre>\n",
    "LTMem = []\n",
    "nMaxDP = 0\n",
    "for i in range(len(dfDT)):\n",
    "    for j in range(i+1, len(dfDT)):            # avoid duplicated and identical pairs\n",
    "        nDP = dfDT.iloc[i,:] @ dfDT.iloc[j,:]  # dot product of two sentences\n",
    "        LTMem += [(nDP, i, j)]                 # save dot product and related row indices\n",
    "        \n",
    "LTMem = sorted(LTMem, reverse=True)            # automatically sorts by the first element of the tuple element\n",
    "nMaxDP = LTMem[0][0]                           # largest dot product value\n",
    "for nDP, i, j in LTMem:                        # find and print all sentence pairs with largest DP\n",
    "    if nDP == nMaxDP:\n",
    "        print(f'DP={nDP}:\\n', LsQuote[i], '\\n', LsQuote[j])\n",
    "    </pre>\n",
    "    </details> \n",
    "</font>\n",
    "<hr>"
   ]
  },
  {
   "cell_type": "markdown",
   "metadata": {},
   "source": [
    "### Task 4\n",
    "\n",
    "\n",
    "Here, you'll try a linear algebra approach to the problem you completed in Task 3. \n",
    "\n",
    "1. Use the [`values`](https://pandas.pydata.org/docs/reference/api/pandas.DataFrame.values.html) attribute to save the underlying array of values of `dfDT` to a 2D array $X$.\n",
    "1. Compute the matrix inner product (or dot product of all of its pairs of row vectors), $X\\bullet X'$ of size $15\\times 15$, and save to `aDP`, where $X'$ is the transpose of $X$.\n",
    "    1. The diagonal elements of this matrix are dot products of sentence vectors with themselves. \n",
    "    1. Also this matrix is symmetric with duplicated dot products above and below diagonal.\n",
    "1. Use [`np.triu()`](https://numpy.org/doc/stable/reference/generated/numpy.triu.html) to keep only the upper triangular values from `aDP`. Use parameter `k` to exclude the diagonal. See docs. The end result is also a $15\\times15$ matrix `aUpTri`, which contains dot products for unique pairs of sentences.\n",
    "1. Create a `aBoolMask` matrix of Boolean values indicating where the max dot product values are in the upper triangular matrix `aUpTri`. This is just a `==` between the matrix and the max value of `aUpTri`. The comparison is applied element-wise, returning a $15\\times15$ matrix of Booleans.\n",
    "    1. Use the `max()` method of a NumPy array to find the max value in `aUpTri`.\n",
    "1. Use [`np.where()`](https://numpy.org/doc/stable/reference/generated/numpy.where.html) method to retrieve row and column indices of largest DP values from the matrix `aBoolMask`.\n",
    "2. Finally, iterate over corresponding pairs of indices and print the dot product value from `aUpTri` and the corresponding quotes.\n",
    "\n",
    "Make sure to carefully study and verify all intermediate structures and their values.\n",
    "\n",
    "FYI: This method computes redundant dot products in the lower triangular and on the diagonal (you discard these) but may still be faster since NumPy computes all operations in C/C++ level (closer to hardware) without the overhead of a high-level programming interface.\n",
    "\n",
    "<b>Hint:</b> Review matrix operations in a previous notebook."
   ]
  },
  {
   "cell_type": "code",
   "execution_count": null,
   "metadata": {},
   "outputs": [],
   "source": [
    "# check solution here"
   ]
  },
  {
   "cell_type": "markdown",
   "metadata": {},
   "source": [
    "\n",
    "<font color=#606366>\n",
    "    <details><summary><font color=#b31b1b>▶ </font>See <b>solution</b>.</summary>\n",
    "    <pre>\n",
    "X = dfDT.values\n",
    "aDP = X @ X.T\n",
    "aUpTri = np.triu(aDP, k=1)\n",
    "aBoolMask = aUpTri == aUpTri.max()\n",
    "I, J = np.where(aBoolMask)   # alt: aBoolMask.nonzero()\n",
    "for i, j in zip(*(I, J)):\n",
    "    print(f'DP={aUpTri[i,j]}:\\n', LsQuote[i], '\\n', LsQuote[j])\n",
    "    </pre>\n",
    "    </details> \n",
    "</font>\n",
    "<hr>"
   ]
  },
  {
   "cell_type": "markdown",
   "metadata": {},
   "source": [
    "<hr style=\"border-top: 2px solid #606366; background: transparent;\">\n",
    "\n",
    "## Part 2: Building a DTM\n",
    "\n",
    "### Task 5\n",
    "\n",
    "Here, you will work on *Alice in Wonderland* (i.e., *'carroll-alice.txt'* file id) from NLTK's Gutenberg Corpus. \n",
    "\n",
    "1. Download tokenized sentences of words (list of lists of word strings) into `LLsWords`.\n",
    "1. Then build a list of sentence strings, `LsSents` (it will be needed in tasks below).\n",
    "1. From `LLsWords` remove any words that are not entirely alphabetic or are only one character long. Lowercase all remaining words. (Hint: You might need a double loop over a list of lists.)\n",
    "1. Build a count vectorizer object `cv1` with `analyzer=lambda x: x`, which avoids parsing strings and instead accepts sentences as lists of words.\n",
    "1. Fit and transform the `LLsWords`.\n",
    "1. Create a DataFrame `dfAlice` from the resulting DTM matrix.\n",
    "\n",
    "<b>Hint:</b> You may need <code>nltk.corpus.gutenberg.sents('carroll-alice.txt')</code> to draw sentences as lists of lists of words. See code above to build a DTM sparse matrix, then NumPy array, then a DataFrame. The index labels are not necessary but nice to have. The resulting DTM is of size 1703 rows × 2557 columns."
   ]
  },
  {
   "cell_type": "code",
   "execution_count": null,
   "metadata": {},
   "outputs": [],
   "source": [
    "# check solution here"
   ]
  },
  {
   "cell_type": "markdown",
   "metadata": {},
   "source": [
    "<font color=#606366>\n",
    "    <details><summary><font color=#b31b1b>▶ </font>See <b>solution</b>.</summary>\n",
    "    <pre>\n",
    "_ = nltk.download(['gutenberg'], quiet=True)   # download Gutenberg corpus\n",
    "LLsWords = nltk.corpus.gutenberg.sents('carroll-alice.txt') # list of lists of words (i.e. sentences of words)\n",
    "LsSents = [' '.join(LsWords) for LsWords in LLsWords]  # list of sentences\n",
    "LLsWords = [[w.lower() for w in LsWords if w.isalpha() and len(w)>1] for LsWords in LLsWords]\n",
    "\n",
    "cv1 = CountVectorizer(analyzer=lambda x: x)\n",
    "smX = cv1.fit_transform(LLsWords)  # sparse matrix\n",
    "X = smX.toarray()                  # DTM matrix as a 2D NumPy array\n",
    "dfAlice = pd.DataFrame(X, columns=cv1.get_feature_names())\n",
    "dfAlice\n",
    "    </pre>\n",
    "    </details> \n",
    "</font>\n",
    "<hr>"
   ]
  },
  {
   "cell_type": "markdown",
   "metadata": {},
   "source": [
    "### Task 6\n",
    "\n",
    "Compute the sparsity degree (i.e., fraction of non-zero elements) in `dfAlice`.\n",
    "\n",
    "<b>Hint:</b> You can use logical comparison of an array to a zero value to return a matrix of Boolean values with non-zero positions indicated. Then use a <code>sum()</code> to count non-zeros."
   ]
  },
  {
   "cell_type": "code",
   "execution_count": null,
   "metadata": {},
   "outputs": [],
   "source": [
    "# check solution here"
   ]
  },
  {
   "cell_type": "markdown",
   "metadata": {},
   "source": [
    "\n",
    "<font color=#606366>\n",
    "    <details><summary><font color=#b31b1b>▶ </font>See <b>solution</b>.</summary>\n",
    "    <pre>\n",
    "nNonZeroCount = smX.nnz        # alt: sum(sum(X > 0))\n",
    "nNonZeroCount / (X.shape[0] * X.shape[1])\n",
    "    </pre>\n",
    "    </details> \n",
    "</font>\n",
    "<hr>"
   ]
  },
  {
   "cell_type": "markdown",
   "metadata": {},
   "source": [
    "### Task 7\n",
    "\n",
    "Find two sentences with the largest dot product of their sentence vectors in `dfAlice`.\n",
    "\n",
    "<b>Hint:</b> You can reuse your code from the task above. This is just a larger-scale implementation. The largest dot product is 511.\n"
   ]
  },
  {
   "cell_type": "code",
   "execution_count": null,
   "metadata": {},
   "outputs": [],
   "source": [
    "# check solution here"
   ]
  },
  {
   "cell_type": "markdown",
   "metadata": {},
   "source": [
    "\n",
    "<font color=#606366>\n",
    "    <details><summary><font color=#b31b1b>▶ </font>See <b>solution</b>.</summary>\n",
    "    <pre>\n",
    "X = dfAlice.values\n",
    "aDP = X @ X.T\n",
    "aUpTri = np.triu(aDP, k=1)\n",
    "aBoolMask = aUpTri == aUpTri.max()\n",
    "I, J = np.where(aBoolMask)   # alt: aBoolMask.nonzero()\n",
    "for i, j in zip(*(I, J)):\n",
    "    s1, s2 = LsSents[i], LsSents[j]\n",
    "    print(f'DP={aUpTri[i,j]}:\\n', s1, '\\n', s2)\n",
    "    </pre>\n",
    "    </details> \n",
    "</font>\n",
    "<hr>"
   ]
  },
  {
   "cell_type": "markdown",
   "metadata": {},
   "source": [
    "### Task 8\n",
    "\n",
    "For the two sentences with the largest dot product you found in the previous task, find the word that most increased the dot product.\n",
    "\n",
    "<b>Hint:</b> You can first tokenize and convert each sentence to a set of words. Then, find common words with a set intersection. Then, for each common word, compute its frequency in each sentence and multiply these frequencies. The largest product is the largest contribution to dot product."
   ]
  },
  {
   "cell_type": "code",
   "execution_count": null,
   "metadata": {},
   "outputs": [],
   "source": [
    "# check solution here"
   ]
  },
  {
   "cell_type": "markdown",
   "metadata": {},
   "source": [
    "\n",
    "<font color=#606366>\n",
    "    <details><summary><font color=#b31b1b>▶ </font>See <b>solution</b>.</summary>\n",
    "    <pre>\n",
    "SsCommon = set(s1.split()) & set(s2.split())\n",
    "# The answer is at the top of the sorted list:\n",
    "sorted([(s1.count(w) * s2.count(w), w, s1.count(w), s2.count(w)) for w in SsCommon], reverse=True)\n",
    "    </pre>\n",
    "    </details> \n",
    "</font>\n",
    "<hr>"
   ]
  }
 ],
 "metadata": {
  "anaconda-cloud": {},
  "kernelspec": {
   "display_name": "Python 3",
   "language": "python",
   "name": "python3"
  },
  "language_info": {
   "codemirror_mode": {
    "name": "ipython",
    "version": 3
   },
   "file_extension": ".py",
   "mimetype": "text/x-python",
   "name": "python",
   "nbconvert_exporter": "python",
   "pygments_lexer": "ipython3",
   "version": "3.6.9"
  },
  "toc": {
   "base_numbering": 1,
   "nav_menu": {},
   "number_sections": false,
   "sideBar": true,
   "skip_h1_title": false,
   "title_cell": "Table of Contents",
   "title_sidebar": "Contents",
   "toc_cell": false,
   "toc_position": {},
   "toc_section_display": true,
   "toc_window_display": false
  },
  "varInspector": {
   "cols": {
    "lenName": 16,
    "lenType": 16,
    "lenVar": 40
   },
   "kernels_config": {
    "python": {
     "delete_cmd_postfix": "",
     "delete_cmd_prefix": "del ",
     "library": "var_list.py",
     "varRefreshCmd": "print(var_dic_list())"
    },
    "r": {
     "delete_cmd_postfix": ") ",
     "delete_cmd_prefix": "rm(",
     "library": "var_list.r",
     "varRefreshCmd": "cat(var_dic_list()) "
    }
   },
   "types_to_exclude": [
    "module",
    "function",
    "builtin_function_or_method",
    "instance",
    "_Feature"
   ],
   "window_display": false
  }
 },
 "nbformat": 4,
 "nbformat_minor": 1
}
