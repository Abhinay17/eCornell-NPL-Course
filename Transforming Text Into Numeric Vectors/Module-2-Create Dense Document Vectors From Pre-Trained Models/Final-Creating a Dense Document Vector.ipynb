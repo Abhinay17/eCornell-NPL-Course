{
 "cells": [
  {
   "cell_type": "markdown",
   "metadata": {
    "deletable": false,
    "editable": false,
    "nbgrader": {
     "cell_type": "markdown",
     "checksum": "dc6f7653fb0a23fb69b0b0de99cfceef",
     "grade": false,
     "grade_id": "cell-ee3b8ceb6d4814cb",
     "locked": true,
     "schema_version": 3,
     "solution": false
    }
   },
   "source": [
    "# Part Two of the Course Project\n",
    "\n",
    "<span style=\"color:black\">In this part of the course project, you'll complete a set of functions that retrieve word vectors from a Word2Vec model, process the model's vocabulary to work better with similarity analyses, and then use these functions to analyze similarity of pairs and groups of words. As you use these functions, you will work with the <b>glove-wiki-gigaword-50</b> pre-trained Word2Vec model that you've worked with in this module. \n",
    "    \n",
    "<p style=\"color:black\">Begin by loading the required libraries and printing the versions of NLTK, Gensim, and NumPy using their <code>__version__</code> attribute.</p>\n",
    "\n",
    "<p style=\"color:black\"><b>Note:</b> Since word-embedding models are a rapidly changing area of NLP, changes in library versions may break older code. Pay attention to library versions and, as always, carefully read error messages. We will note where the functionality diverges from that demonstrated in the videos and provide alternative methods you can use to complete the task. \n",
    "    \n",
    "<hr style=\"border-top: 2px solid #606366; background: transparent;\">"
   ]
  },
  {
   "cell_type": "markdown",
   "metadata": {},
   "source": [
    "# **Setup**\n",
    " \n",
    "Reset the Python environment to clear it of any previously loaded variables, functions, or libraries. Then, import the libraries needed to complete this part of the course project. "
   ]
  },
  {
   "cell_type": "code",
   "execution_count": 1,
   "metadata": {
    "deletable": false,
    "editable": false,
    "nbgrader": {
     "cell_type": "code",
     "checksum": "a1180a40417679dea55c8e71375bf83a",
     "grade": false,
     "grade_id": "cell-47ecf614d2d49fc6",
     "locked": true,
     "schema_version": 3,
     "solution": false
    }
   },
   "outputs": [
    {
     "name": "stdout",
     "output_type": "stream",
     "text": [
      "Versions. nltk:3.6.7, gensim:4.2.0, np:1.19.5\n"
     ]
    }
   ],
   "source": [
    "%reset -f\n",
    "from IPython.core.interactiveshell import InteractiveShell as IS; IS.ast_node_interactivity = \"all\"\n",
    "import numpy as np, pandas as pd, numpy.testing as npt, nltk, gensim\n",
    "from gensim.models import KeyedVectors\n",
    "import unittest\n",
    "from colorunittest import run_unittest\n",
    "eq, aeq, areq = npt.assert_equal, npt.assert_almost_equal, np.testing.assert_array_equal\n",
    "\n",
    "# Expected Codio versions: NLTK 3.6.2, gensim 4.0.1, np 1.19.5\n",
    "print(f'Versions. nltk:{nltk.__version__}, gensim:{gensim.__version__}, np:{np.__version__}')  "
   ]
  },
  {
   "cell_type": "markdown",
   "metadata": {
    "deletable": false,
    "editable": false,
    "nbgrader": {
     "cell_type": "markdown",
     "checksum": "e6f52987272816623ab3ea36dac75aaa",
     "grade": false,
     "grade_id": "cell-e05a6d1c6050339a",
     "locked": true,
     "schema_version": 3,
     "solution": false
    }
   },
   "source": [
    "Next, Word2Vec model (in compressed gz format) is loaded from the local Jupyter folder.\n",
    "\n",
    "### **Note:** This model may take between 30 and 60 seconds to load."
   ]
  },
  {
   "cell_type": "code",
   "execution_count": 2,
   "metadata": {
    "deletable": false,
    "editable": false,
    "nbgrader": {
     "cell_type": "code",
     "checksum": "535db56b9f81aba4c4854dcbad4b51dd",
     "grade": false,
     "grade_id": "cell-ccd287dc3a5e647b",
     "locked": true,
     "schema_version": 3,
     "solution": false
    }
   },
   "outputs": [
    {
     "name": "stdout",
     "output_type": "stream",
     "text": [
      "CPU times: user 38.8 s, sys: 601 ms, total: 39.4 s\n",
      "Wall time: 39.4 s\n"
     ]
    },
    {
     "data": {
      "text/plain": [
       "<gensim.models.keyedvectors.KeyedVectors at 0x7628d71b0358>"
      ]
     },
     "execution_count": 2,
     "metadata": {},
     "output_type": "execute_result"
    }
   ],
   "source": [
    "# Dictionary-like object. key=word (string), value=trained embedding coefficients (array of numbers)\n",
    "# https://github.com/RaRe-Technologies/gensim-data/releases/download/glove-wiki-gigaword-50/glove-wiki-gigaword-50.gz\n",
    "%time wv = KeyedVectors.load_word2vec_format('glove-wiki-gigaword-50.gz')\n",
    "wv            # prints the type of the object and its memory location"
   ]
  },
  {
   "cell_type": "markdown",
   "metadata": {
    "deletable": false,
    "editable": false,
    "nbgrader": {
     "cell_type": "markdown",
     "checksum": "b60df2334c28a6d3603794b3ace714b2",
     "grade": false,
     "grade_id": "cell-a86578e61d8a0ebc",
     "locked": true,
     "schema_version": 3,
     "solution": false
    }
   },
   "source": [
    "# **Function 1: Retrieve Word Vectors**\n",
    "\n",
    "Complete this function so that it extracts the word vector for a given word from the `wv` Word2Vec model.\n",
    "\n",
    "### Note: This function may take 30 seconds or longer to run when complete."
   ]
  },
  {
   "cell_type": "code",
   "execution_count": 3,
   "metadata": {
    "deletable": false,
    "nbgrader": {
     "cell_type": "code",
     "checksum": "e21439e62bbcb69ee50da9b8c6d685d1",
     "grade": false,
     "grade_id": "GetWV_answer",
     "locked": false,
     "schema_version": 3,
     "solution": true
    }
   },
   "outputs": [],
   "source": [
    "def GetWV(wv, sWord='nlp') -> np.array:\n",
    "    ''' Returns a word vector for sWord (in lower case), if it is found, \n",
    "        and a zero vector (of length n) otherwise, where n is the length of vectors in wv.\n",
    "    wv: Gensim's word2vec model object'''\n",
    "    sWord = sWord.lower()\n",
    "    if sWord in wv:\n",
    "        return wv[sWord]\n",
    "    else:\n",
    "        return np.zeros(wv.vector_size)"
   ]
  },
  {
   "cell_type": "code",
   "execution_count": 4,
   "metadata": {
    "code_folding": [],
    "deletable": false,
    "editable": false,
    "nbgrader": {
     "cell_type": "code",
     "checksum": "3450ea26105830db7afaf40469dfbfdd",
     "grade": true,
     "grade_id": "GetWV_test",
     "locked": true,
     "points": 1,
     "schema_version": 3,
     "solution": false
    }
   },
   "outputs": [
    {
     "name": "stdout",
     "output_type": "stream",
     "text": [
      "Ran 3 tests in 0.001s\n",
      "\n",
      "\u001b[1m\u001b[34mOK\u001b[0m\n",
      "test_00 (__main__.test_GetWV) ... \u001b[1m\u001b[34mok\u001b[0m\n",
      "test_01 (__main__.test_GetWV) ... \u001b[1m\u001b[34mok\u001b[0m\n",
      "test_02 (__main__.test_GetWV) ... \u001b[1m\u001b[34mok\u001b[0m\n",
      "\n",
      "----------------------------------------------------------------------\n",
      "\n"
     ]
    }
   ],
   "source": [
    "# TEST & AUTOGRADE CELL\n",
    "@run_unittest\n",
    "class test_GetWV(unittest.TestCase):\n",
    "    def test_00(self): eq(GetWV(wv, 'Los Angeles').sum(), 0.0)\n",
    "    def test_01(self): aeq(GetWV(wv, 'Cornell').sum(), -1.7181, 4)\n",
    "    def test_02(self): aeq(GetWV(wv, 'nlp').sum(), 5.4109, 4)"
   ]
  },
  {
   "cell_type": "markdown",
   "metadata": {
    "deletable": false,
    "editable": false,
    "nbgrader": {
     "cell_type": "markdown",
     "checksum": "ca275c6b1dd9f984e3bcbebe3621d58b",
     "grade": false,
     "grade_id": "cell-54cd81f2b668b39a",
     "locked": true,
     "schema_version": 3,
     "solution": false
    }
   },
   "source": [
    "# Function 2: Extract Qualifying Words\n",
    "\n",
    "Complete the `GetSupWords` function so it searches through `wv` lexicon and extracts \"qualifying\" words. Qualifying words are those that are lowercased substrings of a given word `sWord`.\n",
    "\n",
    "Once you have completed this function, spend some time exploring the word tokens in the dictionary. You will find that many of them are not words at all but numbers, phone numbers, punctuation symbols, and various word parts. Also compound words, such as \"english-language,\" \"york-new,\" \"new-york\" are stored. It's an important observation because in order to obtain a vector for \"new york,\" we would need to first identify \"new\" and \"york\" as part of a single word and then add a hyphen to bring it to a word form, for which the vector can be found. If we simply parse our text on spaces, we would end up with two vectors: one for \"new\" and one for \"york,\" which are vaguely related to the state of New York and New York City. So, whenever working with a Word2Vec model, spend some time to understand the distribution of words and their forms in the model's vocabulary."
   ]
  },
  {
   "cell_type": "code",
   "execution_count": 5,
   "metadata": {
    "deletable": false,
    "nbgrader": {
     "cell_type": "code",
     "checksum": "a1408c24c1abb45f29eb3647714f90ad",
     "grade": false,
     "grade_id": "GetSupWords_answer",
     "locked": false,
     "schema_version": 3,
     "solution": true
    }
   },
   "outputs": [],
   "source": [
    "def GetSupWords(wv, sWord='nlp') -> [str]:\n",
    "    '''Return all wv vocabulary words, for which sWord (in lower case) \n",
    "        is a subword, i.e. a substring. If none is found, return an empty list.\n",
    "    wv: Gensim's word2vec model '''\n",
    "    sWord = sWord.lower()\n",
    "    return [word for word in wv.index_to_key if sWord in word]"
   ]
  },
  {
   "cell_type": "code",
   "execution_count": 6,
   "metadata": {
    "code_folding": [],
    "deletable": false,
    "editable": false,
    "nbgrader": {
     "cell_type": "code",
     "checksum": "3c7b079d5807986fd5393b0243e734db",
     "grade": true,
     "grade_id": "GetSupWords_test",
     "locked": true,
     "points": 1,
     "schema_version": 3,
     "solution": false
    }
   },
   "outputs": [
    {
     "name": "stdout",
     "output_type": "stream",
     "text": [
      "Ran 6 tests in 0.124s\n",
      "\n",
      "\u001b[1m\u001b[34mOK\u001b[0m\n",
      "test_00 (__main__.test_GetSupWords) ... \u001b[1m\u001b[34mok\u001b[0m\n",
      "test_01 (__main__.test_GetSupWords) ... \u001b[1m\u001b[34mok\u001b[0m\n",
      "test_02 (__main__.test_GetSupWords) ... \u001b[1m\u001b[34mok\u001b[0m\n",
      "test_03 (__main__.test_GetSupWords) ... \u001b[1m\u001b[34mok\u001b[0m\n",
      "test_04 (__main__.test_GetSupWords) ... \u001b[1m\u001b[34mok\u001b[0m\n",
      "test_05 (__main__.test_GetSupWords) ... \u001b[1m\u001b[34mok\u001b[0m\n",
      "\n",
      "----------------------------------------------------------------------\n",
      "\n"
     ]
    }
   ],
   "source": [
    "# TEST & AUTOGRADE CELL\n",
    "@run_unittest\n",
    "class test_GetSupWords(unittest.TestCase):\n",
    "    def test_00(self): eq(GetSupWords(wv, 'CatsFromSpace'), [])\n",
    "    def test_01(self): eq(GetSupWords(wv, 'NLP'), ['nlp'])\n",
    "    def test_02(self): eq(GetSupWords(wv, 'Cornell'), ['cornell', 'cornella', 'cornellà'])\n",
    "    def test_03(self): eq(GetSupWords(wv, 'York')[:6], ['york', 'yorkshire', 'yorker', 'yorkers', 'yorke', 'yorktown'])\n",
    "    def test_04(self): eq(GetSupWords(wv, 'language')[:4], ['language', 'languages', 'english-language', 'spanish-language'])\n",
    "    def test_05(self): eq(GetSupWords(wv, '123')[:7], ['123', '1230', '1234', '123,000', '1235', '1236', '1237'])"
   ]
  },
  {
   "cell_type": "markdown",
   "metadata": {
    "deletable": false,
    "editable": false,
    "nbgrader": {
     "cell_type": "markdown",
     "checksum": "b3156d458a33788ed753b71e9a6b1c5a",
     "grade": false,
     "grade_id": "cell-cf4cb0a897bbf1b1",
     "locked": true,
     "schema_version": 3,
     "solution": false
    }
   },
   "source": [
    "# **Function 3: Find Nearest Neighbors**\n",
    "\n",
    "Here, you will complete the function `NN` to modify the `wv.most_similar()` method, which retrieves `topn` most similar words for the given \"positive\" word so that it retrieves only most similar words that are within `nThreshold`, the similarity to `sWord`.\n",
    "\n",
    "This modification is practical in situations where `sWord` (some rare word) has too few neighbors so the most similar function returns irrelevant words. For example, applying a threshold on `wv.most_similar(\"gulag\", topn=10)` retrieves words that rapidly drop in similarity from 0.77 to 0.58. Thus, applying a threshold on similarity so that we don't retrieve irrelevant words would be more suitable.\n",
    "\n",
    "Hint: Set `topn` within `vw.most_similar()` as the length of the whole vocabulary then apply a threshold to the similarity value."
   ]
  },
  {
   "cell_type": "code",
   "execution_count": 7,
   "metadata": {
    "deletable": false,
    "nbgrader": {
     "cell_type": "code",
     "checksum": "894100533d148682b31442bdaf6f7d6f",
     "grade": false,
     "grade_id": "NN_answer",
     "locked": false,
     "schema_version": 3,
     "solution": true
    }
   },
   "outputs": [
    {
     "name": "stdout",
     "output_type": "stream",
     "text": [
      "[('languages', 0.8814865946769714), ('word', 0.8100197315216064), ('spoken', 0.8074647784233093)]\n"
     ]
    }
   ],
   "source": [
    "def NN(wv, sWord='pet', nThreshold=0.75) -> [(str, float)]:\n",
    "    '''For sWord (in lower-case), return a list of most similar words \n",
    "    and corresponding similarity score. Only similarities above nThreshold are returned.\n",
    "    If none is found, return an empty list.\n",
    "    Inputs: \n",
    "        wv: Gensim's word2vec model object\n",
    "        sWord: string word for which most semantically similar words are retrieved \n",
    "        nThreshold: fraction of similar words to retrieve for sWord\n",
    "    Returns: returns a list of tuples (word, similarity score) from the .most_similar() method '''\n",
    "    sWord = sWord.lower()\n",
    "    if sWord in wv:\n",
    "        vocab_size = len(wv.index_to_key)\n",
    "        similar_words = wv.most_similar(sWord, topn=vocab_size)\n",
    "        return [(word, score) for word, score in similar_words if score > nThreshold]\n",
    "    return [] \n",
    "print(NN(wv, 'language', 0.80))"
   ]
  },
  {
   "cell_type": "code",
   "execution_count": 8,
   "metadata": {
    "code_folding": [],
    "deletable": false,
    "editable": false,
    "nbgrader": {
     "cell_type": "code",
     "checksum": "ddd3b0b39f3414fb7a1df042991aa5fc",
     "grade": true,
     "grade_id": "NN_test",
     "locked": true,
     "points": 1,
     "schema_version": 3,
     "solution": false
    }
   },
   "outputs": [
    {
     "name": "stdout",
     "output_type": "stream",
     "text": [
      "Ran 10 tests in 10.573s\n",
      "\n",
      "\u001b[1m\u001b[34mOK\u001b[0m\n",
      "test_00 (__main__.test_NN) ... \u001b[1m\u001b[34mok\u001b[0m\n",
      "test_01 (__main__.test_NN) ... \u001b[1m\u001b[34mok\u001b[0m\n",
      "test_02 (__main__.test_NN) ... \u001b[1m\u001b[34mok\u001b[0m\n",
      "test_03 (__main__.test_NN) ... \u001b[1m\u001b[34mok\u001b[0m\n",
      "test_04 (__main__.test_NN) ... \u001b[1m\u001b[34mok\u001b[0m\n",
      "test_05 (__main__.test_NN) ... \u001b[1m\u001b[34mok\u001b[0m\n",
      "test_06 (__main__.test_NN) ... \u001b[1m\u001b[34mok\u001b[0m\n",
      "test_07 (__main__.test_NN) ... \u001b[1m\u001b[34mok\u001b[0m\n",
      "test_08 (__main__.test_NN) ... \u001b[1m\u001b[34mok\u001b[0m\n",
      "test_09 (__main__.test_NN) ... \u001b[1m\u001b[34mok\u001b[0m\n",
      "\n",
      "----------------------------------------------------------------------\n",
      "\n"
     ]
    }
   ],
   "source": [
    "# TEST & AUTOGRADE CELL\n",
    "\n",
    "@run_unittest\n",
    "class test_NN(unittest.TestCase):\n",
    "    def test_00(self): eq(type(NN(wv, 'not found')), list)\n",
    "    def test_01(self): eq( NN(wv, 'x men'), [])\n",
    "    def test_02(self): areq(NN(wv, 'Cornell', 0.85), [('yale', 0.8834298253059387), \n",
    "                          ('harvard', 0.8587191104888916), ('princeton', 0.8516749739646912)])\n",
    "    def test_03(self): areq(NN(wv, 'language', 0.85), [('languages', 0.8814865946769714)])\n",
    "    def test_04(self): areq(NN(wv, 'language', 0.80), [('languages', 0.8814865946769714), \n",
    "                           ('word', 0.8100197315216064), ('spoken', 0.8074647784233093)])\n",
    "    def test_05(self): aeq(sum([s for _,s in NN(wv, 'Cornell', 0.75)[:5]]), 4.228408098220825, 4)\n",
    "    def test_06(self): eq(','.join([w for w,_ in NN(wv, 'language', 0.75)[:5]]), 'languages,word,spoken,vocabulary,translation')\n",
    "    def test_07(self): aeq(sum([s for _,s in NN(wv, 'language', 0.75)[:5]]), 4.077211260795593, 4)\n",
    "    def test_08(self): eq(','.join([w for w,_ in NN(wv, 'english-language', 0.75)[:5]]), \\\n",
    "        'german-language,french-language,spanish-language,russian-language,arabic-language')\n",
    "    def test_09(self): aeq(sum([sim for _,sim in NN(wv, 'english-language', 0.75)[:5]]), 4.016840815544128, 4)\n"
   ]
  },
  {
   "cell_type": "markdown",
   "metadata": {
    "deletable": false,
    "editable": false,
    "nbgrader": {
     "cell_type": "markdown",
     "checksum": "cf6583caaf6e9713f7dc2eaf012cc922",
     "grade": false,
     "grade_id": "cell-8234b05bc1438035",
     "locked": true,
     "schema_version": 3,
     "solution": false
    }
   },
   "source": [
    "# **Function 4: Find a Pair of Neighbors**\n",
    "\n",
    "Complete this function, `NN2`, so that it identifies the pair of words that are semantically the closest in a given list, `LsWords`. Pay attention to ordering. Convert all words in `LsWords` to lowercase.\n",
    "\n",
    "For example, the following call:\n",
    "\n",
    "    NN2(wv, 'Cat Ant Rat Owl Dog Cow Pig Hen Ape Man Elk Bee Eel Fox Bat Emu Gnu Koi'.split())\n",
    "    \n",
    "should return:\n",
    "\n",
    "    (0.9218005, 'cat', 'dog')"
   ]
  },
  {
   "cell_type": "code",
   "execution_count": 9,
   "metadata": {
    "deletable": false,
    "nbgrader": {
     "cell_type": "code",
     "checksum": "14ec44723e0f70393122f0541c221241",
     "grade": false,
     "grade_id": "NN2_answer",
     "locked": false,
     "schema_version": 3,
     "solution": true
    }
   },
   "outputs": [],
   "source": [
    "def NN2(wv, LsWords=['cat','dog','NLP']) -> (float, str, str):\n",
    "    ''' Given a list of words in LsWords, identify a pair of semantically-closest (lower-cased) words.\n",
    "        Use Gensim's similarity() method (i.e. cosine similarity) to measure closeness.\n",
    "        If the count of words (for which vectors are available)<2, return None\n",
    "    wv: Gensim's word2vec model\n",
    "    Return as a tuple containing a similarity score, and two (lower-cased) strings, \n",
    "        each containing one of the pair of closest words in alphabetical order. '''\n",
    "    \n",
    "    ##### Pseudocode Hints #####\n",
    "    \n",
    "    # Step 1: Keep only lower-cased words which are in the word2vec vocabulary\n",
    "    \n",
    "    # Step 2: Make sure the resulting list contains at least two words, otherwise return None\n",
    "    \n",
    "    # Step 3: If step 2 is passed, compare the similarity score of every possible pair of words\n",
    "    #         in the list and return the two words with the highest similarity score as described\n",
    "    #         in the instructions above the function\n",
    "    \n",
    "    \n",
    "    valid_words = [word.lower() for word in LsWords if word.lower() in wv]\n",
    "    if len(valid_words) < 2:\n",
    "        return None\n",
    "    max_similarity = -1\n",
    "    closest_pair = (\"\", \"\")\n",
    "    for i in range(len(valid_words)):\n",
    "        for j in range(i + 1, len(valid_words)):\n",
    "            word1, word2 = valid_words[i], valid_words[j]\n",
    "            similarity = wv.similarity(word1, word2)\n",
    "            #print(f\"Comparing: {word1} - {word2}, Similarity: {similarity}\")\n",
    "            if similarity > max_similarity:\n",
    "                max_similarity = similarity\n",
    "                closest_pair = tuple(sorted([word1, word2]))\n",
    "    print(f\"Max Similarity: {max_similarity}, Closest Pair: {closest_pair}\")\n",
    "    return (max_similarity, closest_pair[0], closest_pair[1])"
   ]
  },
  {
   "cell_type": "code",
   "execution_count": 10,
   "metadata": {
    "code_folding": [],
    "deletable": false,
    "editable": false,
    "nbgrader": {
     "cell_type": "code",
     "checksum": "1fffd0e55561948706fd13633f3d7d20",
     "grade": true,
     "grade_id": "NN2_test",
     "locked": true,
     "points": 1,
     "schema_version": 3,
     "solution": false
    }
   },
   "outputs": [
    {
     "name": "stdout",
     "output_type": "stream",
     "text": [
      "Ran 11 tests in 0.171s\n",
      "\n",
      "\u001b[1m\u001b[34mOK\u001b[0m\n",
      "test_00 (__main__.test_NN2) ... Max Similarity: 0.9218004941940308, Closest Pair: ('cat', 'dog')\n",
      "\u001b[1m\u001b[34mok\u001b[0m\n",
      "test_01 (__main__.test_NN2) ... \u001b[1m\u001b[34mok\u001b[0m\n",
      "test_02 (__main__.test_NN2) ... \u001b[1m\u001b[34mok\u001b[0m\n",
      "test_03 (__main__.test_NN2) ... Max Similarity: 0.7891963720321655, Closest Pair: ('cat', 'rat')\n",
      "\u001b[1m\u001b[34mok\u001b[0m\n",
      "test_04 (__main__.test_NN2) ... Max Similarity: 0.9218004941940308, Closest Pair: ('cat', 'dog')\n",
      "\u001b[1m\u001b[34mok\u001b[0m\n",
      "test_05 (__main__.test_NN2) ... Max Similarity: 0.7437035441398621, Closest Pair: ('jerry', 'tom')\n",
      "\u001b[1m\u001b[34mok\u001b[0m\n",
      "test_06 (__main__.test_NN2) ... \u001b[1m\u001b[34mok\u001b[0m\n",
      "test_07 (__main__.test_NN2) ... Max Similarity: 0.9218004941940308, Closest Pair: ('cat', 'dog')\n",
      "\u001b[1m\u001b[34mok\u001b[0m\n",
      "test_08 (__main__.test_NN2) ... Max Similarity: 0.9377264976501465, Closest Pair: ('facebook', 'myspace')\n",
      "\u001b[1m\u001b[34mok\u001b[0m\n",
      "test_09 (__main__.test_NN2) ... Max Similarity: 0.9159014225006104, Closest Pair: ('polish-language', 'russian-language')\n",
      "\u001b[1m\u001b[34mok\u001b[0m\n",
      "test_10 (__main__.test_NN2) ... Max Similarity: 0.9597434401512146, Closest Pair: ('harvard', 'yale')\n",
      "\u001b[1m\u001b[34mok\u001b[0m\n",
      "\n",
      "----------------------------------------------------------------------\n",
      "\n"
     ]
    }
   ],
   "source": [
    "# TEST & AUTOGRADE CELL\n",
    "LsWords1 = 'Cat Ant Rat Owl Dog Cow Pig Hen Ape Man Elk Bee Eel Fox Bat Emu Gnu Koi'.split()\n",
    "LsWords2 = [w for w,_ in NN(wv, 'Pet', 0.7)]\n",
    "LsWords3 = [w for w,_ in NN(wv, 'google', 0.7)]\n",
    "LsWords4 = [w for w,_ in NN(wv, 'english-language', 0.6)]\n",
    "LsWords5 = [w for w,_ in NN(wv, 'university', 0.7)]\n",
    "\n",
    "@run_unittest\n",
    "class test_NN2(unittest.TestCase):\n",
    "    def test_00(self): eq(type(NN2(wv, ['cat','dog'])), tuple)   # ensure that tuple is returned\n",
    "    def test_01(self): eq(NN2(wv, []), None)\n",
    "    def test_02(self): eq(NN2(wv, ['cat']), None)\n",
    "    def test_03(self): areq(NN2(wv, ['cat','rat']), (0.7891964, 'cat', 'rat'))\n",
    "    def test_04(self): areq(NN2(wv, LsWords1), (0.9218005, 'cat', 'dog'))\n",
    "    def test_05(self): areq(NN2(wv, ['tom','and','jerry']), (0.74370354, 'jerry', 'tom'))\n",
    "    def test_06(self): eq(NN2(wv, ['Tom','and_','Jerrry']), None)\n",
    "    def test_07(self): areq(NN2(wv, LsWords2), (0.9218005, 'cat', 'dog'))\n",
    "    def test_08(self): areq(NN2(wv, LsWords3), (0.9377265, 'facebook', 'myspace'))\n",
    "    def test_09(self): areq(NN2(wv, LsWords4), (0.9159014, 'polish-language', 'russian-language'))\n",
    "    def test_10(self): areq(NN2(wv, LsWords5), (0.95974344, 'harvard', 'yale'))"
   ]
  },
  {
   "cell_type": "markdown",
   "metadata": {
    "deletable": false,
    "editable": false,
    "nbgrader": {
     "cell_type": "markdown",
     "checksum": "cfde26727d4035d99bc6a575da26a2f6",
     "grade": false,
     "grade_id": "cell-40886092dc197e0a",
     "locked": true,
     "schema_version": 3,
     "solution": false
    }
   },
   "source": [
    "# **Function 5: Find Neighbors With Conditions**\n",
    "\n",
    "Complete the function `NNExc` so it finds the words that are most similar to the given word and are not on the exception list. This is a helper function that you will use in Function 6. This helper function should return the list of the most similar words for a given word, `sWord`. This list cannot include words in the exception list, `LsExcept`."
   ]
  },
  {
   "cell_type": "code",
   "execution_count": 11,
   "metadata": {
    "deletable": false,
    "nbgrader": {
     "cell_type": "code",
     "checksum": "dae8f880e37051cceac250bf6eb40316",
     "grade": false,
     "grade_id": "NNExc_answer",
     "locked": false,
     "schema_version": 3,
     "solution": true
    }
   },
   "outputs": [],
   "source": [
    "def NNExc(wv, sWord='pet', LsExcept=['cat', 'dog']) -> (str, float):\n",
    "    ''' \n",
    "    Lower-case all input words and use Gensim's most_similar() \n",
    "    to find sWord's neighbor, which is not in LsExcept list.\n",
    "    wv: Gensim's word2vec model  \n",
    "    Return: a tuple with (neighbor X, similarity score between X and sWord)\n",
    "    If none is found, return None.\n",
    "    '''\n",
    "    sWord = sWord.lower()\n",
    "    try:\n",
    "        similar_words = wv.most_similar(sWord, topn=10)  # Get top 10 most similar words\n",
    "        for word, similarity in similar_words:\n",
    "            if word not in LsExcept:\n",
    "                return (word, similarity)\n",
    "        return None\n",
    "    except KeyError:\n",
    "        return None"
   ]
  },
  {
   "cell_type": "code",
   "execution_count": 12,
   "metadata": {
    "code_folding": [],
    "deletable": false,
    "editable": false,
    "nbgrader": {
     "cell_type": "code",
     "checksum": "bf7aeb4a9d1d86e1c54a7fdc48a00a5b",
     "grade": true,
     "grade_id": "NNExc_test",
     "locked": true,
     "points": 1,
     "schema_version": 3,
     "solution": false
    }
   },
   "outputs": [
    {
     "name": "stdout",
     "output_type": "stream",
     "text": [
      "Ran 5 tests in 0.057s\n",
      "\n",
      "\u001b[1m\u001b[34mOK\u001b[0m\n",
      "test_00 (__main__.test_NNExc) ... \u001b[1m\u001b[34mok\u001b[0m\n",
      "test_01 (__main__.test_NNExc) ... \u001b[1m\u001b[34mok\u001b[0m\n",
      "test_02 (__main__.test_NNExc) ... \u001b[1m\u001b[34mok\u001b[0m\n",
      "test_03 (__main__.test_NNExc) ... \u001b[1m\u001b[34mok\u001b[0m\n",
      "test_04 (__main__.test_NNExc) ... \u001b[1m\u001b[34mok\u001b[0m\n",
      "\n",
      "----------------------------------------------------------------------\n",
      "\n"
     ]
    }
   ],
   "source": [
    "# TEST & AUTOGRADE CELL\n",
    "@run_unittest\n",
    "class test_NNExc(unittest.TestCase):\n",
    "    def test_00(self): eq(NNExc(wv, 'pet-', []), None)\n",
    "    def test_01(self): eq(NNExc(wv, 'Pet', []), ('pets', 0.8009442687034607))\n",
    "    def test_02(self): eq(NNExc(wv, 'pet', ['pets']), ('cat', 0.7792248725891113))\n",
    "    def test_03(self): eq(NNExc(wv, 'pet', ['pets','cat']), ('dog', 0.7724707722663879))\n",
    "    def test_04(self): eq(NNExc(wv, 'pet', ['pets','cat','dog']), ('animal', 0.7471762895584106))"
   ]
  },
  {
   "cell_type": "markdown",
   "metadata": {
    "deletable": false,
    "editable": false,
    "nbgrader": {
     "cell_type": "markdown",
     "checksum": "1365a44bfc719da236272e3290ae11bf",
     "grade": false,
     "grade_id": "cell-87f532edef2a32ac",
     "locked": true,
     "schema_version": 3,
     "solution": false
    }
   },
   "source": [
    "# **Function 6: Build a Chain of Neighbors**\n",
    "\n",
    "Complete the function, `NNChain`, so it builds a sequence of unique words in which subsequent words are semantically the closest to the previous word. The sequence should start with the given word, `sWord`, and end at the specified length, `n`."
   ]
  },
  {
   "cell_type": "code",
   "execution_count": 13,
   "metadata": {
    "deletable": false,
    "nbgrader": {
     "cell_type": "code",
     "checksum": "092c568bd8b678b918ae934a8b1eb6c7",
     "grade": false,
     "grade_id": "NNChain_answer",
     "locked": false,
     "schema_version": 3,
     "solution": true
    }
   },
   "outputs": [],
   "source": [
    "def NNChain(wv, sWord='pet', n=5) -> [(str, float)]:\n",
    "    ''' For the lower-cased sWord find a chain of n words where each word is the closest\n",
    "        neighbor of the previous word excluding all words chained so far, including sWord.\n",
    "        Use NNExc() to find the next neighbor given words in a chain + sWord as the exclusion list.\n",
    "    Example: 'cat' neighbors with 'dog' with similarity .92; \n",
    "             'dog' neighbors with 'dogs' ('cat' was already used), and so on.\n",
    "    Return a list of chained words with their corresponding similarity scores \n",
    "            (between the word and its previous neighbor).\n",
    "        If none is found, return en empty list. '''\n",
    "    chain = [(sWord, None)]\n",
    "    exclusion_list = [sWord]\n",
    "    current_word = sWord\n",
    "    for _ in range(n):\n",
    "        result = NNExc(wv, current_word, exclusion_list)\n",
    "        if result is None:\n",
    "            break\n",
    "        neighbor, similarity = result\n",
    "        chain.append((neighbor, similarity))\n",
    "        exclusion_list.append(neighbor)\n",
    "        current_word = neighbor\n",
    "    return chain[1:]"
   ]
  },
  {
   "cell_type": "code",
   "execution_count": 14,
   "metadata": {
    "code_folding": [],
    "deletable": false,
    "editable": false,
    "nbgrader": {
     "cell_type": "code",
     "checksum": "229bd2182bf486a4790eb6be3345a795",
     "grade": true,
     "grade_id": "NNChain_test",
     "locked": true,
     "points": 1,
     "schema_version": 3,
     "solution": false
    }
   },
   "outputs": [
    {
     "name": "stdout",
     "output_type": "stream",
     "text": [
      "Ran 6 tests in 0.527s\n",
      "\n",
      "\u001b[1m\u001b[34mOK\u001b[0m\n",
      "test_00 (__main__.test_NNChain) ... \u001b[1m\u001b[34mok\u001b[0m\n",
      "test_01 (__main__.test_NNChain) ... \u001b[1m\u001b[34mok\u001b[0m\n",
      "test_02 (__main__.test_NNChain) ... \u001b[1m\u001b[34mok\u001b[0m\n",
      "test_03 (__main__.test_NNChain) ... \u001b[1m\u001b[34mok\u001b[0m\n",
      "test_04 (__main__.test_NNChain) ... \u001b[1m\u001b[34mok\u001b[0m\n",
      "test_05 (__main__.test_NNChain) ... \u001b[1m\u001b[34mok\u001b[0m\n",
      "\n",
      "----------------------------------------------------------------------\n",
      "\n"
     ]
    }
   ],
   "source": [
    "# TEST & AUTOGRADE CELL\n",
    "@run_unittest\n",
    "class test_NNChain(unittest.TestCase):\n",
    "    def test_00(self): eq(NNChain(wv, 'x men', 3), [])\n",
    "    def test_01(self): eq(NNChain(wv, 'word', 3), [('phrase', 0.9161801934242249), ('phrases', 0.8355081081390381), ('words', 0.8024383187294006)])\n",
    "    def test_02(self): eq(NNChain(wv, 'cornell', 3), [('yale', 0.8834298253059387), ('harvard', 0.9597433805465698), ('princeton', 0.9076478481292725)])\n",
    "    def test_03(self): eq(NNChain(wv, 'yosemite', 3), [('yellowstone', 0.7428672909736633), ('elk', 0.7619157433509827), ('beaver', 0.8251944780349731)])\n",
    "    def test_04(self): eq(NNChain(wv, 'apple', 3), [('blackberry', 0.7543067336082458), ('iphone', 0.7549240589141846), ('ipad', 0.9405524730682373)])\n",
    "    def test_05(self):\n",
    "        sOut = ', '.join(list(zip(*NNChain(wv, 'avengers', 10)))[0])\n",
    "        eq(sOut, 'x-men, wolverine, sabretooth, nightcrawler, psylocke, shadowcat, takiko, baughan, wanley, couvreur')"
   ]
  },
  {
   "cell_type": "markdown",
   "metadata": {},
   "source": [
    "## Conclusion\n",
    "\n",
    "In this assignment, you practiced the use of the Word2Vec model in identifying semantically similar words. The Gensim library already gives you tools to find semantically similar words. Here is an example."
   ]
  },
  {
   "cell_type": "code",
   "execution_count": 15,
   "metadata": {},
   "outputs": [
    {
     "data": {
      "text/plain": [
       "[('nurse', 0.7977497577667236),\n",
       " ('physician', 0.7965211272239685),\n",
       " ('patient', 0.7611691951751709),\n",
       " ('child', 0.7558937668800354),\n",
       " ('teacher', 0.7538284063339233),\n",
       " ('surgeon', 0.747907280921936),\n",
       " ('psychiatrist', 0.7422093749046326),\n",
       " ('doctors', 0.7393609285354614),\n",
       " ('father', 0.733410656452179),\n",
       " ('mother', 0.728441059589386)]"
      ]
     },
     "execution_count": 15,
     "metadata": {},
     "output_type": "execute_result"
    }
   ],
   "source": [
    " wv.most_similar('doctor', topn=10)"
   ]
  },
  {
   "cell_type": "markdown",
   "metadata": {},
   "source": [
    "But you may be interested in extracting a different pattern of collected knowledge from Word2Vec. In the project, you also have built a function to extract a sequence of words semantically related to each other, not to the original query word. In some cases, this may give you a wider range of synonyms or thesaurus. In other cases, if your Word2Vec is built on a specific domain, you may find a more relevant sequence of concepts. For example, in the medical domain, you may not need all synonyms for a doctor but may be interested in treatments, medications, tools, and hospitals relating to the query concept. Here is an example."
   ]
  },
  {
   "cell_type": "code",
   "execution_count": 16,
   "metadata": {},
   "outputs": [
    {
     "data": {
      "text/plain": [
       "[('nurse', 0.7977497577667236),\n",
       " ('nurses', 0.7752917408943176),\n",
       " ('doctors', 0.8390864133834839),\n",
       " ('patients', 0.8991112112998962),\n",
       " ('treat', 0.9049516320228577),\n",
       " ('treating', 0.9172737002372742),\n",
       " ('treatment', 0.8768693208694458),\n",
       " ('treatments', 0.8393588662147522),\n",
       " ('therapies', 0.8925673961639404),\n",
       " ('therapy', 0.8364090919494629)]"
      ]
     },
     "execution_count": 16,
     "metadata": {},
     "output_type": "execute_result"
    }
   ],
   "source": [
    "NNChain(wv, 'doctor', 10)"
   ]
  },
  {
   "cell_type": "markdown",
   "metadata": {},
   "source": [
    "With these tools in your toolbox, you now have the skills to extract knowledge from Word2Vec and similar knowledge bases, the kinds of concepts that make your work more effective and more fun!"
   ]
  }
 ],
 "metadata": {
  "anaconda-cloud": {},
  "kernelspec": {
   "display_name": "Python 3",
   "language": "python",
   "name": "python3"
  },
  "language_info": {
   "codemirror_mode": {
    "name": "ipython",
    "version": 3
   },
   "file_extension": ".py",
   "mimetype": "text/x-python",
   "name": "python",
   "nbconvert_exporter": "python",
   "pygments_lexer": "ipython3",
   "version": "3.6.9"
  },
  "toc": {
   "base_numbering": 1,
   "nav_menu": {},
   "number_sections": false,
   "sideBar": true,
   "skip_h1_title": false,
   "title_cell": "Table of Contents",
   "title_sidebar": "Contents",
   "toc_cell": false,
   "toc_position": {},
   "toc_section_display": true,
   "toc_window_display": false
  },
  "varInspector": {
   "cols": {
    "lenName": 16,
    "lenType": 16,
    "lenVar": 40
   },
   "kernels_config": {
    "python": {
     "delete_cmd_postfix": "",
     "delete_cmd_prefix": "del ",
     "library": "var_list.py",
     "varRefreshCmd": "print(var_dic_list())"
    },
    "r": {
     "delete_cmd_postfix": ") ",
     "delete_cmd_prefix": "rm(",
     "library": "var_list.r",
     "varRefreshCmd": "cat(var_dic_list()) "
    }
   },
   "types_to_exclude": [
    "module",
    "function",
    "builtin_function_or_method",
    "instance",
    "_Feature"
   ],
   "window_display": false
  }
 },
 "nbformat": 4,
 "nbformat_minor": 1
}
