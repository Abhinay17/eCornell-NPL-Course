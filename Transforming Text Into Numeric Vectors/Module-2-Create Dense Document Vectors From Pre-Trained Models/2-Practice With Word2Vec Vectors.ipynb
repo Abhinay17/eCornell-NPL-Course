{
 "cells": [
  {
   "cell_type": "markdown",
   "metadata": {
    "deletable": false,
    "editable": false,
    "nbgrader": {
     "cell_type": "markdown",
     "checksum": "02e6065eddcdca0c90daa1e9f54204a5",
     "grade": false,
     "grade_id": "cell-8948a0caa48b51e7",
     "locked": true,
     "schema_version": 3,
     "solution": false
    }
   },
   "source": [
    "# **Setup**\n",
    " \n",
    "Reset the Python environment to clear it of any previously loaded variables, functions, or libraries. Then, import the libraries needed to complete the code Professor Melnikov presented in the video."
   ]
  },
  {
   "cell_type": "code",
   "execution_count": 1,
   "metadata": {
    "deletable": false,
    "editable": false,
    "nbgrader": {
     "cell_type": "code",
     "checksum": "07acd8f4884b783259e69d9518a44b67",
     "grade": false,
     "grade_id": "cell-9a9bf11902e50751",
     "locked": true,
     "schema_version": 3,
     "solution": false
    }
   },
   "outputs": [
    {
     "name": "stdout",
     "output_type": "stream",
     "text": [
      "Versions. nltk:3.6.7, gensim:4.2.0, np:1.19.5\n"
     ]
    }
   ],
   "source": [
    "%reset -f\n",
    "from IPython.core.interactiveshell import InteractiveShell as IS\n",
    "IS.ast_node_interactivity = \"all\"    # allows multiple outputs from a cell\n",
    "import pandas as pd, numpy as np, nltk, seaborn as sns, matplotlib.pyplot as plt, sys, gensim\n",
    "from gensim.models import KeyedVectors\n",
    "\n",
    "# Expected Codio versions: NLTK 3.6.2, gensim 4.0.1, np 1.19.5\n",
    "print(f'Versions. nltk:{nltk.__version__}, gensim:{gensim.__version__}, np:{np.__version__}') "
   ]
  },
  {
   "cell_type": "code",
   "execution_count": 2,
   "metadata": {},
   "outputs": [
    {
     "name": "stdout",
     "output_type": "stream",
     "text": [
      "CPU times: user 43.2 s, sys: 748 ms, total: 43.9 s\n",
      "Wall time: 44 s\n"
     ]
    },
    {
     "data": {
      "text/plain": [
       "<gensim.models.keyedvectors.KeyedVectors at 0x7b55b78822e8>"
      ]
     },
     "execution_count": 2,
     "metadata": {},
     "output_type": "execute_result"
    }
   ],
   "source": [
    "# Dictionary-like object. key=word (string), value=trained embedding coefficients (array of numbers)\n",
    "# https://github.com/RaRe-Technologies/gensim-data/releases/download/glove-wiki-gigaword-50/glove-wiki-gigaword-50.gz\n",
    "%time wv = KeyedVectors.load_word2vec_format('glove-wiki-gigaword-50.gz')\n",
    "wv            # prints the type of the object and its memory location"
   ]
  },
  {
   "cell_type": "markdown",
   "metadata": {
    "deletable": false,
    "editable": false,
    "nbgrader": {
     "cell_type": "markdown",
     "checksum": "12732970e6cdbcdd3cffb243542a7be2",
     "grade": false,
     "grade_id": "cell-82847cbb37c2057a",
     "locked": true,
     "schema_version": 3,
     "solution": false
    }
   },
   "source": [
    "<hr style=\"border-top: 2px solid #606366; background: transparent;\">\n",
    "\n",
    "# **Review**\n",
    "<span style=\"color:black\">You will now practice working with the vectors embeddings from the GloVe pretrained word2vec model. \n",
    "    \n",
    "<span style=\"color:black\"><b>Note:</b> Loading the model from *'glove-wiki-gigaword-50.gz'* takes approximately 20-30 seconds.\n",
    " \n"
   ]
  },
  {
   "cell_type": "markdown",
   "metadata": {
    "deletable": false,
    "editable": false,
    "nbgrader": {
     "cell_type": "markdown",
     "checksum": "d56575b169b27ec00156c141fcb1fff6",
     "grade": false,
     "grade_id": "cell-95e09c81cc893bde",
     "locked": true,
     "schema_version": 3,
     "solution": false
    }
   },
   "source": [
    "## Write a UDF to Improve Error Handling\n",
    "\n",
    "First, you'll learn a UDF `GetWV()`that improves error handling by testing whether a word is in a dictionary before trying to retrieve its word vector. This is important because if you try to access an out of vocabulary (OOV) word, the model throws an error message informing you of a wrong key (in Python dictionary structure used `wv` object). \n",
    "\n",
    "For example, try retrieving a word vector for the properly capitalized word, '*Cornell*'. Here the key error is caught by the `try-except` clause to avoid interruption of the execution of the Python kernel in this Jupyter Notebook."
   ]
  },
  {
   "cell_type": "code",
   "execution_count": 3,
   "metadata": {
    "deletable": false,
    "editable": false,
    "nbgrader": {
     "cell_type": "code",
     "checksum": "cadc92e7d296863b7960054fb9ac5950",
     "grade": false,
     "grade_id": "cell-2800aafdbf2b6d05",
     "locked": true,
     "schema_version": 3,
     "solution": false
    }
   },
   "outputs": [
    {
     "name": "stdout",
     "output_type": "stream",
     "text": [
      "Unexpected error:\n",
      " (<class 'KeyError'>, KeyError(\"Key 'Cornell' not present\",), <traceback object at 0x7b55b0bcbf08>)\n"
     ]
    }
   ],
   "source": [
    "# error handling\n",
    "try:\n",
    "    wv['Cornell']\n",
    "except:\n",
    "    print(\"Unexpected error:\\n\", sys.exc_info())"
   ]
  },
  {
   "cell_type": "markdown",
   "metadata": {
    "deletable": false,
    "editable": false,
    "nbgrader": {
     "cell_type": "markdown",
     "checksum": "0d5ae0eca4b49858df2610368f00102a",
     "grade": false,
     "grade_id": "cell-0dc2a59b503cc41d",
     "locked": true,
     "schema_version": 3,
     "solution": false
    }
   },
   "source": [
    "<span style=\"color:black\"> Catching errors is good, but a better technique is to check if the word is in the model's vocabulary and then return the retrieved vector. If the word is not found, return a zero vector of the same size, i.e., 50-dimensional zero vector. The UDF defined in the next cell, `GetWV` will do this."
   ]
  },
  {
   "cell_type": "code",
   "execution_count": 4,
   "metadata": {
    "deletable": false,
    "editable": false,
    "nbgrader": {
     "cell_type": "code",
     "checksum": "f7e8ef71f0ea8ec3ee21e324e66cc5f2",
     "grade": false,
     "grade_id": "cell-57057caacc73c75d",
     "locked": true,
     "schema_version": 3,
     "solution": false
    }
   },
   "outputs": [
    {
     "name": "stdout",
     "output_type": "stream",
     "text": [
      "cornell [-0.92918   1.2927   -0.60859  -0.64373  -0.42095   0.22215  -1.3797   -0.27724  -0.11376\n",
      " -0.3705    0.19052   0.39284   0.068273  0.045676 -0.35982  -0.025498 -0.33448   0.70516\n",
      " -0.3363    1.0111    0.2258    0.63049   0.403    -0.66357   0.12265  -0.78821   0.14584\n",
      " -0.43932  -1.1897   -0.75912   0.66164  -0.31295   0.14875  -1.0532    0.034797 -0.074928\n",
      " -0.024014  0.75029   1.73      0.16136  -0.26749  -0.68806  -0.29646   0.12024   0.51634\n",
      "  0.32831   0.66773   0.47298  -1.1365    0.72653 ]\n",
      "eCornell [ 0.  0. -0.  0.  0. -0. -0. -0. -0. -0.  0. -0. -0.  0. -0.  0.  0. -0. -0. -0. -0. -0. -0. -0.\n",
      " -0. -0. -0.  0. -0. -0.  0. -0. -0. -0.  0.  0.  0. -0.  0. -0. -0. -0. -0. -0. -0.  0.  0. -0.\n",
      " -0. -0.]\n"
     ]
    }
   ],
   "source": [
    "GetWV = lambda sWord: wv[sWord] if sWord in wv else wv.vectors[0]*0 # return a vector from the model or zero vector\n",
    "\n",
    "np.set_printoptions(linewidth=100)\n",
    "print('cornell', GetWV('cornell'))\n",
    "print('eCornell', GetWV('eCornell'))"
   ]
  },
  {
   "cell_type": "markdown",
   "metadata": {
    "deletable": false,
    "editable": false,
    "nbgrader": {
     "cell_type": "markdown",
     "checksum": "09ab39a082792f08cdc1573705b5e7ca",
     "grade": false,
     "grade_id": "cell-eb75b93dbb65b130",
     "locked": true,
     "schema_version": 3,
     "solution": false
    }
   },
   "source": [
    "## Examine Vectors Within the Word2Vec Model\n",
    "\n",
    "This section is similar to what was covered by the previous video and Jupyter Notebook, where you learned about the structure of the Word2Vec vocabulary and coefficient matrix, but here you dive deeper into exploration and analysis of the coefficients in the Word2Vec matrix.\n",
    "\n",
    "First, note that the vocabulary object (i.e., `wv.index_to_key`) is a list of (string) words learned by the Word2Vec model. \n",
    "\n",
    "It's good to know the type of the object before its use so that you could cast or approach the object properly without errors or unexpected coding behavior. For example, if a vocabulary object were a generator, you would have to wrap it with a `list` method to be able to print it, but you would not need to do so if we just wanted to iterate over the generator object."
   ]
  },
  {
   "cell_type": "code",
   "execution_count": 5,
   "metadata": {
    "deletable": false,
    "editable": false,
    "nbgrader": {
     "cell_type": "code",
     "checksum": "602c1b6118696c5ad995fd6c54c8a23b",
     "grade": false,
     "grade_id": "cell-fea9afa4eb99c557",
     "locked": true,
     "schema_version": 3,
     "solution": false
    }
   },
   "outputs": [
    {
     "data": {
      "text/plain": [
       "list"
      ]
     },
     "execution_count": 5,
     "metadata": {},
     "output_type": "execute_result"
    }
   ],
   "source": [
    "type(wv.index_to_key)      # wv.index_to_key in gensim 4.0.0; and wv.vocab in earlier versions"
   ]
  },
  {
   "cell_type": "markdown",
   "metadata": {
    "deletable": false,
    "editable": false,
    "nbgrader": {
     "cell_type": "markdown",
     "checksum": "c0dc1fdfd3d664edd1dc48d4b43d4556",
     "grade": false,
     "grade_id": "cell-2cff989f31525731",
     "locked": true,
     "schema_version": 3,
     "solution": false
    }
   },
   "source": [
    "<span style=\"color:black\">This object is a `list`. Had the object been a generator, you would have needed to wrap it with a `list` method or iterate over the generator object to print its elements."
   ]
  },
  {
   "cell_type": "markdown",
   "metadata": {
    "deletable": false,
    "editable": false,
    "nbgrader": {
     "cell_type": "markdown",
     "checksum": "f0725408e502c924ca14e2da91ed8fcc",
     "grade": false,
     "grade_id": "cell-b6f58bfdfbd2cd25",
     "locked": true,
     "schema_version": 3,
     "solution": false
    }
   },
   "source": [
    "<span style=\"color:black\">Print the first 100 word tokens from the vocabulary."
   ]
  },
  {
   "cell_type": "code",
   "execution_count": 6,
   "metadata": {
    "deletable": false,
    "editable": false,
    "nbgrader": {
     "cell_type": "code",
     "checksum": "d77f8dcffb447188978230c09c8ebe50",
     "grade": false,
     "grade_id": "cell-5624ff072e42f32b",
     "locked": true,
     "schema_version": 3,
     "solution": false
    }
   },
   "outputs": [
    {
     "name": "stdout",
     "output_type": "stream",
     "text": [
      "the  ,  .  of  to  and  in  a  \"  's  for  -  that  on  is  was  said  with  he  as  it  by  at  (  )  from  his  ''  ``  an  be  has  are  have  but  were  not  this  who  they  had  i  which  will  their  :  or  its  one  after  new  been  also  we  would  two  more  '  first  about  up  when  year  there  all  --  out  she  other  people  n't  her  percent  than  over  into  last  some  government  time  $  you  years  if  no  world  can  three  do  ;  president  only  state  million  could  us  most  _  against  u.s.\n"
     ]
    }
   ],
   "source": [
    "print('  '.join(wv.index_to_key[0:100]))"
   ]
  },
  {
   "cell_type": "markdown",
   "metadata": {
    "deletable": false,
    "editable": false,
    "nbgrader": {
     "cell_type": "markdown",
     "checksum": "050fca7e7bcf3a06d2f2bedd2c84c01d",
     "grade": false,
     "grade_id": "cell-c901176a89e5c75c",
     "locked": true,
     "schema_version": 3,
     "solution": false
    }
   },
   "source": [
    "<span style=\"color:black\"> Notice that all words are lowercase, as expected, and that the list starts with punctuation and stopword tokens. It can be assumed that this list is ordered based on the frequency of the words in the text.\n",
    "\n",
    "<span style=\"color:black\">Horizontally stack these vectors into a dense matrix form, so that each row represents a vector."
   ]
  },
  {
   "cell_type": "code",
   "execution_count": 7,
   "metadata": {
    "deletable": false,
    "editable": false,
    "nbgrader": {
     "cell_type": "code",
     "checksum": "c6d44877a3888e6415d696f58d2fab74",
     "grade": false,
     "grade_id": "cell-0462228a80058073",
     "locked": true,
     "schema_version": 3,
     "solution": false
    }
   },
   "outputs": [
    {
     "data": {
      "text/plain": [
       "array([[ 0.42,  0.25, -0.41,  0.12,  0.35, ...,  0.19,  0.  , -0.18, -0.12, -0.79],\n",
       "       [ 0.01,  0.24, -0.17,  0.41,  0.64, ...,  0.36, -0.38, -0.57,  0.04,  0.3 ],\n",
       "       [ 0.15,  0.3 , -0.17,  0.18,  0.32, ...,  0.22, -0.08, -0.36,  0.02,  0.1 ],\n",
       "       [ 0.71,  0.57, -0.47,  0.18,  0.54, ...,  0.23, -0.22, -0.23, -0.09, -0.8 ],\n",
       "       [ 0.68, -0.04,  0.3 , -0.18,  0.43, ...,  0.08, -0.09, -0.07, -0.06, -0.26],\n",
       "       ...,\n",
       "       [ 0.23,  0.03, -0.71, -0.05,  0.14, ..., -0.69,  0.12, -0.18, -0.26, -0.04],\n",
       "       [-0.61, -0.67,  0.24, -0.11, -0.46, ...,  0.03, -0.11, -0.11, -0.25, -0.12],\n",
       "       [-0.51,  0.06,  1.09, -0.55, -0.1 , ..., -0.86,  0.07, -0.25, -1.12,  1.59],\n",
       "       [-0.76, -0.47,  0.47,  0.77, -0.78, ...,  0.31, -0.61,  0.79, -0.01,  0.64],\n",
       "       [ 0.07, -0.51,  0.47, -0.52, -0.36, ..., -0.28,  0.06, -0.19, -0.59,  0.56]], dtype=float32)"
      ]
     },
     "execution_count": 7,
     "metadata": {},
     "output_type": "execute_result"
    }
   ],
   "source": [
    "np.set_printoptions(linewidth=500, precision=2, edgeitems=5, suppress=True)\n",
    "wv.vectors  # dense matrix, horizontally laid word vectors"
   ]
  },
  {
   "cell_type": "markdown",
   "metadata": {
    "deletable": false,
    "editable": false,
    "nbgrader": {
     "cell_type": "markdown",
     "checksum": "60b5788fd33c3dea3419b949cc748ef8",
     "grade": false,
     "grade_id": "cell-e2ceb45dac024540",
     "locked": true,
     "schema_version": 3,
     "solution": false
    }
   },
   "source": [
    "<span style=\"color:black\">Observe that some values in this matrix are the same as those in the vectors stored in the `gz` file. The values seem to concentrate in the $[-1,+1]$ interval, so they are likely to be standardized in some way for easier interpretation.\n",
    "    \n",
    "<span style=\"color:black\">The matrix can be a bit easier to understand when it is wrapped as a DataFrame with words as indices for the rows."
   ]
  },
  {
   "cell_type": "code",
   "execution_count": 8,
   "metadata": {
    "deletable": false,
    "editable": false,
    "nbgrader": {
     "cell_type": "code",
     "checksum": "c2b053e9946b6621dc8c4f58e9416a0f",
     "grade": false,
     "grade_id": "cell-91e14b45d4707abd",
     "locked": true,
     "schema_version": 3,
     "solution": false
    }
   },
   "outputs": [
    {
     "data": {
      "text/html": [
       "<div>\n",
       "<style scoped>\n",
       "    .dataframe tbody tr th:only-of-type {\n",
       "        vertical-align: middle;\n",
       "    }\n",
       "\n",
       "    .dataframe tbody tr th {\n",
       "        vertical-align: top;\n",
       "    }\n",
       "\n",
       "    .dataframe thead th {\n",
       "        text-align: right;\n",
       "    }\n",
       "</style>\n",
       "<table border=\"1\" class=\"dataframe\">\n",
       "  <thead>\n",
       "    <tr style=\"text-align: right;\">\n",
       "      <th></th>\n",
       "      <th>0</th>\n",
       "      <th>1</th>\n",
       "      <th>2</th>\n",
       "      <th>3</th>\n",
       "      <th>4</th>\n",
       "      <th>5</th>\n",
       "      <th>6</th>\n",
       "      <th>7</th>\n",
       "      <th>8</th>\n",
       "      <th>9</th>\n",
       "      <th>...</th>\n",
       "      <th>40</th>\n",
       "      <th>41</th>\n",
       "      <th>42</th>\n",
       "      <th>43</th>\n",
       "      <th>44</th>\n",
       "      <th>45</th>\n",
       "      <th>46</th>\n",
       "      <th>47</th>\n",
       "      <th>48</th>\n",
       "      <th>49</th>\n",
       "    </tr>\n",
       "  </thead>\n",
       "  <tbody>\n",
       "    <tr>\n",
       "      <th>the</th>\n",
       "      <td>0.42</td>\n",
       "      <td>0.25</td>\n",
       "      <td>-0.41</td>\n",
       "      <td>0.12</td>\n",
       "      <td>0.35</td>\n",
       "      <td>-0.04</td>\n",
       "      <td>-0.50</td>\n",
       "      <td>-0.18</td>\n",
       "      <td>-0.00</td>\n",
       "      <td>-0.66</td>\n",
       "      <td>...</td>\n",
       "      <td>-0.30</td>\n",
       "      <td>-0.16</td>\n",
       "      <td>-0.35</td>\n",
       "      <td>-0.05</td>\n",
       "      <td>-0.44</td>\n",
       "      <td>0.19</td>\n",
       "      <td>0.00</td>\n",
       "      <td>-0.18</td>\n",
       "      <td>-0.12</td>\n",
       "      <td>-0.79</td>\n",
       "    </tr>\n",
       "    <tr>\n",
       "      <th>,</th>\n",
       "      <td>0.01</td>\n",
       "      <td>0.24</td>\n",
       "      <td>-0.17</td>\n",
       "      <td>0.41</td>\n",
       "      <td>0.64</td>\n",
       "      <td>0.48</td>\n",
       "      <td>-0.43</td>\n",
       "      <td>-0.56</td>\n",
       "      <td>-0.36</td>\n",
       "      <td>-0.24</td>\n",
       "      <td>...</td>\n",
       "      <td>-0.08</td>\n",
       "      <td>0.63</td>\n",
       "      <td>0.32</td>\n",
       "      <td>-0.47</td>\n",
       "      <td>0.23</td>\n",
       "      <td>0.36</td>\n",
       "      <td>-0.38</td>\n",
       "      <td>-0.57</td>\n",
       "      <td>0.04</td>\n",
       "      <td>0.30</td>\n",
       "    </tr>\n",
       "    <tr>\n",
       "      <th>.</th>\n",
       "      <td>0.15</td>\n",
       "      <td>0.30</td>\n",
       "      <td>-0.17</td>\n",
       "      <td>0.18</td>\n",
       "      <td>0.32</td>\n",
       "      <td>0.34</td>\n",
       "      <td>-0.43</td>\n",
       "      <td>-0.31</td>\n",
       "      <td>-0.45</td>\n",
       "      <td>-0.29</td>\n",
       "      <td>...</td>\n",
       "      <td>-0.00</td>\n",
       "      <td>0.07</td>\n",
       "      <td>0.09</td>\n",
       "      <td>-0.10</td>\n",
       "      <td>-0.14</td>\n",
       "      <td>0.22</td>\n",
       "      <td>-0.08</td>\n",
       "      <td>-0.36</td>\n",
       "      <td>0.02</td>\n",
       "      <td>0.10</td>\n",
       "    </tr>\n",
       "    <tr>\n",
       "      <th>of</th>\n",
       "      <td>0.71</td>\n",
       "      <td>0.57</td>\n",
       "      <td>-0.47</td>\n",
       "      <td>0.18</td>\n",
       "      <td>0.54</td>\n",
       "      <td>0.73</td>\n",
       "      <td>0.18</td>\n",
       "      <td>-0.52</td>\n",
       "      <td>0.10</td>\n",
       "      <td>-0.18</td>\n",
       "      <td>...</td>\n",
       "      <td>-0.35</td>\n",
       "      <td>0.28</td>\n",
       "      <td>0.08</td>\n",
       "      <td>-0.06</td>\n",
       "      <td>-0.39</td>\n",
       "      <td>0.23</td>\n",
       "      <td>-0.22</td>\n",
       "      <td>-0.23</td>\n",
       "      <td>-0.09</td>\n",
       "      <td>-0.80</td>\n",
       "    </tr>\n",
       "    <tr>\n",
       "      <th>to</th>\n",
       "      <td>0.68</td>\n",
       "      <td>-0.04</td>\n",
       "      <td>0.30</td>\n",
       "      <td>-0.18</td>\n",
       "      <td>0.43</td>\n",
       "      <td>0.03</td>\n",
       "      <td>-0.41</td>\n",
       "      <td>0.13</td>\n",
       "      <td>-0.30</td>\n",
       "      <td>-0.09</td>\n",
       "      <td>...</td>\n",
       "      <td>-0.09</td>\n",
       "      <td>0.02</td>\n",
       "      <td>0.21</td>\n",
       "      <td>-0.03</td>\n",
       "      <td>-0.20</td>\n",
       "      <td>0.08</td>\n",
       "      <td>-0.09</td>\n",
       "      <td>-0.07</td>\n",
       "      <td>-0.06</td>\n",
       "      <td>-0.26</td>\n",
       "    </tr>\n",
       "    <tr>\n",
       "      <th>...</th>\n",
       "      <td>...</td>\n",
       "      <td>...</td>\n",
       "      <td>...</td>\n",
       "      <td>...</td>\n",
       "      <td>...</td>\n",
       "      <td>...</td>\n",
       "      <td>...</td>\n",
       "      <td>...</td>\n",
       "      <td>...</td>\n",
       "      <td>...</td>\n",
       "      <td>...</td>\n",
       "      <td>...</td>\n",
       "      <td>...</td>\n",
       "      <td>...</td>\n",
       "      <td>...</td>\n",
       "      <td>...</td>\n",
       "      <td>...</td>\n",
       "      <td>...</td>\n",
       "      <td>...</td>\n",
       "      <td>...</td>\n",
       "      <td>...</td>\n",
       "    </tr>\n",
       "    <tr>\n",
       "      <th>chanty</th>\n",
       "      <td>0.23</td>\n",
       "      <td>0.03</td>\n",
       "      <td>-0.71</td>\n",
       "      <td>-0.05</td>\n",
       "      <td>0.14</td>\n",
       "      <td>-0.63</td>\n",
       "      <td>0.73</td>\n",
       "      <td>0.34</td>\n",
       "      <td>0.45</td>\n",
       "      <td>0.16</td>\n",
       "      <td>...</td>\n",
       "      <td>-0.10</td>\n",
       "      <td>-0.30</td>\n",
       "      <td>0.39</td>\n",
       "      <td>0.14</td>\n",
       "      <td>0.59</td>\n",
       "      <td>-0.69</td>\n",
       "      <td>0.12</td>\n",
       "      <td>-0.18</td>\n",
       "      <td>-0.26</td>\n",
       "      <td>-0.04</td>\n",
       "    </tr>\n",
       "    <tr>\n",
       "      <th>kronik</th>\n",
       "      <td>-0.61</td>\n",
       "      <td>-0.67</td>\n",
       "      <td>0.24</td>\n",
       "      <td>-0.11</td>\n",
       "      <td>-0.46</td>\n",
       "      <td>-0.01</td>\n",
       "      <td>0.26</td>\n",
       "      <td>0.86</td>\n",
       "      <td>0.06</td>\n",
       "      <td>-0.24</td>\n",
       "      <td>...</td>\n",
       "      <td>0.67</td>\n",
       "      <td>-0.60</td>\n",
       "      <td>-0.20</td>\n",
       "      <td>0.39</td>\n",
       "      <td>0.03</td>\n",
       "      <td>0.03</td>\n",
       "      <td>-0.11</td>\n",
       "      <td>-0.11</td>\n",
       "      <td>-0.25</td>\n",
       "      <td>-0.12</td>\n",
       "    </tr>\n",
       "    <tr>\n",
       "      <th>rolonda</th>\n",
       "      <td>-0.51</td>\n",
       "      <td>0.06</td>\n",
       "      <td>1.09</td>\n",
       "      <td>-0.55</td>\n",
       "      <td>-0.10</td>\n",
       "      <td>-0.13</td>\n",
       "      <td>1.00</td>\n",
       "      <td>0.08</td>\n",
       "      <td>-0.16</td>\n",
       "      <td>0.56</td>\n",
       "      <td>...</td>\n",
       "      <td>0.02</td>\n",
       "      <td>0.20</td>\n",
       "      <td>-1.09</td>\n",
       "      <td>-0.14</td>\n",
       "      <td>0.35</td>\n",
       "      <td>-0.86</td>\n",
       "      <td>0.07</td>\n",
       "      <td>-0.25</td>\n",
       "      <td>-1.12</td>\n",
       "      <td>1.59</td>\n",
       "    </tr>\n",
       "    <tr>\n",
       "      <th>zsombor</th>\n",
       "      <td>-0.76</td>\n",
       "      <td>-0.47</td>\n",
       "      <td>0.47</td>\n",
       "      <td>0.77</td>\n",
       "      <td>-0.78</td>\n",
       "      <td>0.23</td>\n",
       "      <td>0.05</td>\n",
       "      <td>0.84</td>\n",
       "      <td>0.24</td>\n",
       "      <td>0.02</td>\n",
       "      <td>...</td>\n",
       "      <td>0.45</td>\n",
       "      <td>-0.84</td>\n",
       "      <td>0.11</td>\n",
       "      <td>-0.06</td>\n",
       "      <td>0.09</td>\n",
       "      <td>0.31</td>\n",
       "      <td>-0.61</td>\n",
       "      <td>0.79</td>\n",
       "      <td>-0.01</td>\n",
       "      <td>0.64</td>\n",
       "    </tr>\n",
       "    <tr>\n",
       "      <th>sandberger</th>\n",
       "      <td>0.07</td>\n",
       "      <td>-0.51</td>\n",
       "      <td>0.47</td>\n",
       "      <td>-0.52</td>\n",
       "      <td>-0.36</td>\n",
       "      <td>0.35</td>\n",
       "      <td>0.23</td>\n",
       "      <td>0.23</td>\n",
       "      <td>0.27</td>\n",
       "      <td>0.41</td>\n",
       "      <td>...</td>\n",
       "      <td>0.69</td>\n",
       "      <td>-0.18</td>\n",
       "      <td>-0.07</td>\n",
       "      <td>-0.48</td>\n",
       "      <td>-0.56</td>\n",
       "      <td>-0.28</td>\n",
       "      <td>0.06</td>\n",
       "      <td>-0.19</td>\n",
       "      <td>-0.59</td>\n",
       "      <td>0.56</td>\n",
       "    </tr>\n",
       "  </tbody>\n",
       "</table>\n",
       "<p>400000 rows × 50 columns</p>\n",
       "</div>"
      ],
      "text/plain": [
       "              0     1     2     3     4     5     6     7     8     9   ...  \\\n",
       "the         0.42  0.25 -0.41  0.12  0.35 -0.04 -0.50 -0.18 -0.00 -0.66  ...   \n",
       ",           0.01  0.24 -0.17  0.41  0.64  0.48 -0.43 -0.56 -0.36 -0.24  ...   \n",
       ".           0.15  0.30 -0.17  0.18  0.32  0.34 -0.43 -0.31 -0.45 -0.29  ...   \n",
       "of          0.71  0.57 -0.47  0.18  0.54  0.73  0.18 -0.52  0.10 -0.18  ...   \n",
       "to          0.68 -0.04  0.30 -0.18  0.43  0.03 -0.41  0.13 -0.30 -0.09  ...   \n",
       "...          ...   ...   ...   ...   ...   ...   ...   ...   ...   ...  ...   \n",
       "chanty      0.23  0.03 -0.71 -0.05  0.14 -0.63  0.73  0.34  0.45  0.16  ...   \n",
       "kronik     -0.61 -0.67  0.24 -0.11 -0.46 -0.01  0.26  0.86  0.06 -0.24  ...   \n",
       "rolonda    -0.51  0.06  1.09 -0.55 -0.10 -0.13  1.00  0.08 -0.16  0.56  ...   \n",
       "zsombor    -0.76 -0.47  0.47  0.77 -0.78  0.23  0.05  0.84  0.24  0.02  ...   \n",
       "sandberger  0.07 -0.51  0.47 -0.52 -0.36  0.35  0.23  0.23  0.27  0.41  ...   \n",
       "\n",
       "              40    41    42    43    44    45    46    47    48    49  \n",
       "the        -0.30 -0.16 -0.35 -0.05 -0.44  0.19  0.00 -0.18 -0.12 -0.79  \n",
       ",          -0.08  0.63  0.32 -0.47  0.23  0.36 -0.38 -0.57  0.04  0.30  \n",
       ".          -0.00  0.07  0.09 -0.10 -0.14  0.22 -0.08 -0.36  0.02  0.10  \n",
       "of         -0.35  0.28  0.08 -0.06 -0.39  0.23 -0.22 -0.23 -0.09 -0.80  \n",
       "to         -0.09  0.02  0.21 -0.03 -0.20  0.08 -0.09 -0.07 -0.06 -0.26  \n",
       "...          ...   ...   ...   ...   ...   ...   ...   ...   ...   ...  \n",
       "chanty     -0.10 -0.30  0.39  0.14  0.59 -0.69  0.12 -0.18 -0.26 -0.04  \n",
       "kronik      0.67 -0.60 -0.20  0.39  0.03  0.03 -0.11 -0.11 -0.25 -0.12  \n",
       "rolonda     0.02  0.20 -1.09 -0.14  0.35 -0.86  0.07 -0.25 -1.12  1.59  \n",
       "zsombor     0.45 -0.84  0.11 -0.06  0.09  0.31 -0.61  0.79 -0.01  0.64  \n",
       "sandberger  0.69 -0.18 -0.07 -0.48 -0.56 -0.28  0.06 -0.19 -0.59  0.56  \n",
       "\n",
       "[400000 rows x 50 columns]"
      ]
     },
     "execution_count": 8,
     "metadata": {},
     "output_type": "execute_result"
    }
   ],
   "source": [
    "df = pd.DataFrame(wv.vectors, index=wv.index_to_key)\n",
    "df.round(2)"
   ]
  },
  {
   "cell_type": "markdown",
   "metadata": {
    "deletable": false,
    "editable": false,
    "nbgrader": {
     "cell_type": "markdown",
     "checksum": "953065b3bb041e8ac82b39104ceb9bd5",
     "grade": false,
     "grade_id": "cell-ec093acaf05bf9c3",
     "locked": true,
     "schema_version": 3,
     "solution": false
    }
   },
   "source": [
    "## Examine a Group of Words From the Word2Vec Model\n",
    "\n",
    "<span style=\"color:black\">Observe the list below, which includes a few words chosen from the model's vocabulary, and think about how the words are related."
   ]
  },
  {
   "cell_type": "code",
   "execution_count": 9,
   "metadata": {
    "deletable": false,
    "editable": false,
    "nbgrader": {
     "cell_type": "code",
     "checksum": "4b19f68badc4bf934965861e5778ab23",
     "grade": false,
     "grade_id": "cell-b1f7e4874372c239",
     "locked": true,
     "schema_version": 3,
     "solution": false
    }
   },
   "outputs": [
    {
     "name": "stdout",
     "output_type": "stream",
     "text": [
      "['cornell', 'graduate', 'university', 'professor', 'jazz', 'music', 'wave']\n"
     ]
    }
   ],
   "source": [
    "LsQueryWords = ['cornell', 'graduate', 'university', 'professor', 'jazz', 'music', 'wave']\n",
    "print(LsQueryWords)"
   ]
  },
  {
   "cell_type": "markdown",
   "metadata": {
    "deletable": false,
    "editable": false,
    "nbgrader": {
     "cell_type": "markdown",
     "checksum": "c2b0d2341f3c2a0dd30d8494014dece5",
     "grade": false,
     "grade_id": "cell-d17bb3d41b70cc3f",
     "locked": true,
     "schema_version": 3,
     "solution": false
    }
   },
   "source": [
    "<span style=\"color:black\">Two main clusters can be formed from this list: education and music. To look for these relations within the vector-embedding dimensions, first obtain the vector embedding for each of these words and create a dense matrix, like above. Then apply a `seaborn` heatmap to color-code the numbers within the matrix."
   ]
  },
  {
   "cell_type": "code",
   "execution_count": 10,
   "metadata": {
    "deletable": false,
    "editable": false,
    "nbgrader": {
     "cell_type": "code",
     "checksum": "31595c4c7c6ed5545716d3ab18a29b43",
     "grade": false,
     "grade_id": "cell-b331ab7743cf9a64",
     "locked": true,
     "schema_version": 3,
     "solution": false
    }
   },
   "outputs": [
    {
     "data": {
      "image/png": "[encoded data removed]",
      "text/plain": [
       "<Figure size 1440x288 with 1 Axes>"
      ]
     },
     "metadata": {
      "needs_background": "light"
     },
     "output_type": "display_data"
    }
   ],
   "source": [
    "plt.rcParams['figure.figsize'] = [20, 4]   # plot wider figures\n",
    "ax = sns.heatmap(df.loc[LsQueryWords].round(1), annot=True, cmap='coolwarm', cbar=False);\n",
    "tmp = ax.set_title('');"
   ]
  },
  {
   "cell_type": "markdown",
   "metadata": {
    "deletable": false,
    "editable": false,
    "nbgrader": {
     "cell_type": "markdown",
     "checksum": "b56a82b957f23401b113230c82c403d7",
     "grade": false,
     "grade_id": "cell-0dd77679c859a52f",
     "locked": true,
     "schema_version": 3,
     "solution": false
    }
   },
   "source": [
    "<span style=\"color:black\"> With this color-coded matrix, you can now identify columns (i.e., vector dimensions) that embed \"education-ness\" and \"music-ness.\" For example, columns 33, 37, and 38 appear to distinguish education-related words from music-related terms. You will not know what these columns represent exactly, but you can use this information to help cluster terms together."
   ]
  },
  {
   "cell_type": "markdown",
   "metadata": {
    "deletable": false,
    "editable": false,
    "nbgrader": {
     "cell_type": "markdown",
     "checksum": "50f0ee9a106baa8fe23431260d6bd0c5",
     "grade": false,
     "grade_id": "cell-2d6652498d98e4fb",
     "locked": true,
     "schema_version": 3,
     "solution": false
    }
   },
   "source": [
    "## Using Dot Product to Understand Semantic Similarity\n",
    "\n",
    "<span style=\"color:black\">A technique for comparing semantic similarity between two vectors is by calculating their dot product (i.e., sum product). A high number implies greater semantic similarity between two words. \n",
    "    \n",
    "<span style=\"color:black\">Note that this is not alphabetic similarity (at least not directly) but semantic similarity, where the meanings of words are captured by values in dimensions (or some fuzzy categories), in which these words have a meaning. So, a vector for \"cornell\" should be similar to words relating to education, to Cornell family, to East Coast, to technology, and many other topics that we associate Cornell with. That's because in training these models, the word \"Cornell\" appeared in these contexts in training corpora (Wikipedia and Gigaword) so the model learned these associations."
   ]
  },
  {
   "cell_type": "code",
   "execution_count": 11,
   "metadata": {
    "deletable": false,
    "editable": false,
    "nbgrader": {
     "cell_type": "code",
     "checksum": "9bc31896fdbe3d5f063581cc717f31d0",
     "grade": false,
     "grade_id": "cell-101757f7672e34ff",
     "locked": true,
     "schema_version": 3,
     "solution": false
    }
   },
   "outputs": [
    {
     "data": {
      "text/plain": [
       "20.122221"
      ]
     },
     "execution_count": 11,
     "metadata": {},
     "output_type": "execute_result"
    }
   ],
   "source": [
    "df.loc['cornell',:] @ df.loc['graduate',:]"
   ]
  },
  {
   "cell_type": "markdown",
   "metadata": {
    "deletable": false,
    "editable": false,
    "nbgrader": {
     "cell_type": "markdown",
     "checksum": "16f0040a00bb81400e71423bf1eec7ee",
     "grade": false,
     "grade_id": "cell-11ed2ac495d700b9",
     "locked": true,
     "schema_version": 3,
     "solution": false
    }
   },
   "source": [
    "<span style=\"color:black\">It can be hard to tell whether the dot product is high or low because the value is relative rather than standardized. You need to compare multiple dot products to gauge what qualifies as high and low in the context of the model and your question."
   ]
  },
  {
   "cell_type": "code",
   "execution_count": 12,
   "metadata": {
    "deletable": false,
    "editable": false,
    "nbgrader": {
     "cell_type": "code",
     "checksum": "73ae842526a6f78e9f9449f6e6dfbbd0",
     "grade": false,
     "grade_id": "cell-09f0551bd57240c2",
     "locked": true,
     "schema_version": 3,
     "solution": false
    }
   },
   "outputs": [
    {
     "data": {
      "text/plain": [
       "23.354948"
      ]
     },
     "execution_count": 12,
     "metadata": {},
     "output_type": "execute_result"
    },
    {
     "data": {
      "text/plain": [
       "2.2978904"
      ]
     },
     "execution_count": 12,
     "metadata": {},
     "output_type": "execute_result"
    }
   ],
   "source": [
    "df.loc['cornell',:] @ df.loc['university',:]\n",
    "df.loc['cornell',:] @ df.loc['fish',:]"
   ]
  },
  {
   "cell_type": "markdown",
   "metadata": {
    "deletable": false,
    "editable": false,
    "nbgrader": {
     "cell_type": "markdown",
     "checksum": "d7ac9fd6a2ea08169bb044bec33f8186",
     "grade": false,
     "grade_id": "cell-6849b5fe75a1097a",
     "locked": true,
     "schema_version": 3,
     "solution": false
    }
   },
   "source": [
    "<span style=\"color:black\"> The dot product between (vectors of) '*cornell*' and '*fish*' is notably closer to zero than between (vectors of) '*cornell*' and '*university*', demonstrating that there is a strong (linear) relationship between (vectors of) '*cornell*' and '*university*'.\n",
    "\n",
    "<span style=\"color:black\"> A cosine similarity is a more interpretable metric. It is a standardized measure in $[-1,1]$, where $-1=$ highest dissimilarity and $+1=$ highest similarity. It allows you to judge the semantic relation of each pair of word vectors independently without relative comparisons. In cosine similarity, you standardize the length of each vector to be of one unit before applying a dot product. Vector-length standardization does not change their orientation. Essentially, you are computing the cosine of the angle between two vectors, $x$ and $y$, ignoring their lengths.\n",
    "\n",
    "$$\\text{CosSim}(x,y):=\\frac{x'y}{||x||\\cdot||y||}=\\frac{x'y}{\\sqrt{x'x\\cdot y'y}}$$\n",
    "\n",
    "<span style=\"color:black\">The function `CosSim` computes cosine similarity of two vectors (of the same dimension or size, of course)."
   ]
  },
  {
   "cell_type": "code",
   "execution_count": 13,
   "metadata": {
    "deletable": false,
    "editable": false,
    "nbgrader": {
     "cell_type": "code",
     "checksum": "abf1c75096ed2d70b7ab3aeea0bea191",
     "grade": false,
     "grade_id": "cell-9cc820ea786e2934",
     "locked": true,
     "schema_version": 3,
     "solution": false
    }
   },
   "outputs": [
    {
     "name": "stdout",
     "output_type": "stream",
     "text": [
      "CosSim('cornell', 'university') = 0.784\n",
      "CosSim('cornell', 'fish') = 0.090\n"
     ]
    }
   ],
   "source": [
    "CosSim = lambda x,y: x @ y / (x @ x)**0.5 / (y @ y)**0.5\n",
    "Word_CosSim = lambda w1,w2: print( f\"CosSim('{w1}', '{w2}') = {CosSim(wv[w1], wv[w2]):.3f}\" )\n",
    "\n",
    "Word_CosSim('cornell', 'university')\n",
    "Word_CosSim('cornell', 'fish')"
   ]
  },
  {
   "cell_type": "markdown",
   "metadata": {
    "deletable": false,
    "editable": false,
    "nbgrader": {
     "cell_type": "markdown",
     "checksum": "4330254cb9045d3913f9931f25c4cc10",
     "grade": false,
     "grade_id": "cell-538d8b05d1f9e2a7",
     "locked": true,
     "schema_version": 3,
     "solution": false
    }
   },
   "source": [
    "<hr style=\"border-top: 2px solid #606366; background: transparent;\">\n",
    "\n",
    "# **Optional Practice**\n",
    "\n",
    "In this exercise, you will investigate the distributions of parameters in the `wv` object.\n",
    "\n",
    "As you work through these tasks, check your answers by running your code in the *#check solution here* cell, to see if you’ve gotten the correct result. If you get stuck on a task, click the See **solution** drop-down to view the answer."
   ]
  },
  {
   "cell_type": "markdown",
   "metadata": {
    "deletable": false,
    "editable": false,
    "nbgrader": {
     "cell_type": "markdown",
     "checksum": "ff9c8b6bd6688ae33fdf92bec46f4671",
     "grade": false,
     "grade_id": "cell-d59d2d29351dddd9",
     "locked": true,
     "schema_version": 3,
     "solution": false
    }
   },
   "source": [
    "## Task 1\n",
    "\n",
    "\n",
    "Compute the mean, standard deviation, min, median, and max for all $400K\\times50$ values in `wv`. \n",
    "\n",
    "1. What is the center of the distribution of these parameters? \n",
    "1. Do the basic stats suggest symmetry or skew of the distribution? \n",
    "\n",
    "Note: These questions help you understand the distribution of word vectors, so that if you observe a notably different distribution after training your own word vectors, you can detect, investigate, and fix the problem. Note that while each corpus will likely result in different coefficients of word vectors, the distribution should mainly remain similar to the current distribution.\n",
    "\n",
    "<b>Hint:</b> You can retrieve all values from a DataFrame as a NumPy array using <code>values</code> attribute. Then use <code>ravel()</code> to flatten this 2D array into a 1D array. Then you can use NumPy's statistical methods <code>mean(), min(), std(), min(), median(), max()</code> to compute basic stats.\n"
   ]
  },
  {
   "cell_type": "code",
   "execution_count": null,
   "metadata": {},
   "outputs": [],
   "source": [
    "# check solution here"
   ]
  },
  {
   "cell_type": "markdown",
   "metadata": {
    "deletable": false,
    "editable": false,
    "nbgrader": {
     "cell_type": "markdown",
     "checksum": "6e4298cf8a6689ad0808ac1bfb033e02",
     "grade": false,
     "grade_id": "cell-9340abcc42508c95",
     "locked": true,
     "schema_version": 3,
     "solution": false
    }
   },
   "source": [
    "\n",
    "<font color=#606366>\n",
    "    <details><summary><font color=#b31b1b>▶ </font>See <b>solution</b>.</summary>\n",
    "    <pre>\n",
    "npPar = df.values.ravel()   # weights\n",
    "npPar.mean(), npPar.std(), npPar.min(), np.median(npPar), npPar.max()\n",
    "    </pre>The distribution appears to be symmetric and centered at about zero. Note that the mean is approximately equal to the median (in units of standard deviation), indicating that the skew is insignificant. The left and right tails of the histogram are also of approximate length (about 5.35).\n",
    "    </details> \n",
    "</font>\n",
    "<hr>"
   ]
  },
  {
   "cell_type": "markdown",
   "metadata": {
    "deletable": false,
    "editable": false,
    "nbgrader": {
     "cell_type": "markdown",
     "checksum": "6d58701dd09dba24f88f4a8457e4eaea",
     "grade": false,
     "grade_id": "cell-54ed1185c14906f0",
     "locked": true,
     "schema_version": 3,
     "solution": false
    }
   },
   "source": [
    "## Task 2\n",
    "\n",
    "Plot a histogram (with 100 bins) for all $400K\\times50$ parameters.\n",
    "\n",
    "1. What is the center of the distribution of these parameters? \n",
    "1. Does the distribution appear symmetric or skewed? \n",
    "\n",
    "<b>Hint:</b> If you retrieve a flattened list of all <code>wv</code> parameters as above, then you can wrap the array as a dataframe again and call <code>hist()</code> method with appropriate parameters. See documentation of this method.\n"
   ]
  },
  {
   "cell_type": "code",
   "execution_count": null,
   "metadata": {},
   "outputs": [],
   "source": [
    "# check solution here"
   ]
  },
  {
   "cell_type": "markdown",
   "metadata": {},
   "source": [
    "<font color=#606366>\n",
    "    <details><summary><font color=#b31b1b>▶ </font>See <b>solution</b>.</summary>\n",
    "    <pre>\n",
    "pd.DataFrame(npPar).hist(bins=100, alpha=0.5, density=True);\n",
    "    </pre>The center of the histogram appears around value 0, where there is the top of the bell curve. This implies that largest counts of observations are in the interval around 0 value. The distribution appears symmetric. That is, if we (mentally) flip the horizontal axis, the new histogram will approximately overlay the current histogram. \n",
    "    </details> \n",
    "</font>\n",
    "<hr>"
   ]
  },
  {
   "cell_type": "markdown",
   "metadata": {
    "deletable": false,
    "editable": false,
    "nbgrader": {
     "cell_type": "markdown",
     "checksum": "93a8777d4ad0b690c0735efb7678c55c",
     "grade": false,
     "grade_id": "cell-e6d45b61685a69c6",
     "locked": true,
     "schema_version": 3,
     "solution": false
    }
   },
   "source": [
    "## Task 3\n",
    "\n",
    "Plot a histogram for columns with index 37 parameters that appear to be related to education. Use the same range (i.e., min and max values) as those observed in the histogram in the Task 2.\n",
    "\n",
    "1. What is the center of the distribution of these parameters? \n",
    "1. Does the distribution appear symmetric or skewed? \n",
    "1. How is it different from the distribution of all parameters above? I.e., any observable shift, scale, skew?\n",
    "\n",
    "<b>Hint:</b> Use the <code>iloc</code> attribute of a DataFrame to reference columns and rows by their index. See documentation. Once you retrieve a column, it's a Pandas Series object but still has a <code>hist()</code> method."
   ]
  },
  {
   "cell_type": "code",
   "execution_count": null,
   "metadata": {},
   "outputs": [],
   "source": [
    "# check solution here"
   ]
  },
  {
   "cell_type": "markdown",
   "metadata": {
    "deletable": false,
    "editable": false,
    "nbgrader": {
     "cell_type": "markdown",
     "checksum": "b2799d0b89ff39125d9c42efdd2f205c",
     "grade": false,
     "grade_id": "cell-ac6673e5289f5e17",
     "locked": true,
     "schema_version": 3,
     "solution": false
    }
   },
   "source": [
    "\n",
    "<font color=#606366>\n",
    "    <details><summary><font color=#b31b1b>▶ </font>See <b>solution</b>.</summary>\n",
    "    <pre>\n",
    "df.iloc[:,37].hist(bins=100, alpha=0.5, density=True, range=[npPar.min(), npPar.max()]);\n",
    "    </pre>As before, the center (mean and median) of this histogram appears to be around the value 0. The histogram appears to be symmetric (with the similar tapering of the tails to the left and to the right of the zero value). The current histogram appears a bit narrower and a bit taller (at zero) than the previous, indicating that more Word2Vec coefficient values are concentrated around the zero values. The extreme low and high coefficient values are still in the similar range of about -4 to 4.\n",
    "    </details> \n",
    "</font>\n",
    "<hr>"
   ]
  },
  {
   "cell_type": "markdown",
   "metadata": {
    "deletable": false,
    "editable": false,
    "nbgrader": {
     "cell_type": "markdown",
     "checksum": "994f8289a365fb961b4949d1e8d41e6d",
     "grade": false,
     "grade_id": "cell-1b068520cb2a33e0",
     "locked": true,
     "schema_version": 3,
     "solution": false
    }
   },
   "source": [
    "## Task 4\n",
    "\n",
    "Think of 10 lowercase words that you strongly relate to education and save them as a list of strings, `LsEduSeed`. Use these seed words to find a larger number of related words. If the words are not in `wv`'s vocabulary, replace them with different words. Now, retrieve all words from `wv`'s vocabulary that contain any of the seed words you ideated. Save the resulting words to `LsEdu` as a list of strings. \n",
    "\n",
    "For example, if you had a word `'university'` as a seed, then `LsEdu` will contain `'university'`, `'pre-university'`, `'interuniversity'`, `'non-university'`, `'university-level'` ...\n",
    "\n",
    "<b>Hint:</b> You might need a double loop where one is going over the seed words and the other pulls all words from vocabulary, which contain the current seed word. Pick words that have a narrow education-focused meaning. For example \"class\" has many non-education meanings. You can Google for more ideas.\n"
   ]
  },
  {
   "cell_type": "code",
   "execution_count": null,
   "metadata": {},
   "outputs": [],
   "source": [
    "# check solution here"
   ]
  },
  {
   "cell_type": "markdown",
   "metadata": {
    "deletable": false,
    "editable": false,
    "nbgrader": {
     "cell_type": "markdown",
     "checksum": "37f4e8c5b0a1aec39f96289922cc1440",
     "grade": false,
     "grade_id": "cell-28331a6934290d10",
     "locked": true,
     "schema_version": 3,
     "solution": false
    }
   },
   "source": [
    "\n",
    "<font color=#606366>\n",
    "    <details><summary><font color=#b31b1b>▶ </font>See <b>solution</b>.</summary>\n",
    "    <pre>\n",
    "LsEduSeed = ['university','professor','cornell','graduate','student','school','study','homework','research','academia']\n",
    "[w for w in LsEduSeed if w not in wv.key_to_index] # print words, which are not in wv's vocabulary\n",
    "def WordsInVocab(LsQuery):\n",
    "    LL = [[w for w in wv.key_to_index if q in w] for q in LsQuery]\n",
    "    return [l for L in LL for l in L]\n",
    "LsEdu = WordsInVocab(LsEduSeed)\n",
    "print(f'found {len(LsEdu)} words')\n",
    "print(LsEdu[:10])\n",
    "    </pre>\n",
    "    </details> \n",
    "</font>\n",
    "<hr>"
   ]
  },
  {
   "cell_type": "markdown",
   "metadata": {
    "deletable": false,
    "editable": false,
    "nbgrader": {
     "cell_type": "markdown",
     "checksum": "8635df202b0c5024e98ef0dab43c3ef4",
     "grade": false,
     "grade_id": "cell-d85ba2eced864cc8",
     "locked": true,
     "schema_version": 3,
     "solution": false
    }
   },
   "source": [
    "## Task 5\n",
    "\n",
    "Retrieve all word vectors for words in `LsEdu` and save them as a DataFrame `dfEdu` with the corresponding words as indices.\n",
    "\n",
    "<b>Hint:</b> Try a list comprehension to retrieve word vectors. Then wrap the results into a DataFrame object.\n"
   ]
  },
  {
   "cell_type": "code",
   "execution_count": null,
   "metadata": {},
   "outputs": [],
   "source": [
    "# check solution here"
   ]
  },
  {
   "cell_type": "markdown",
   "metadata": {
    "deletable": false,
    "editable": false,
    "nbgrader": {
     "cell_type": "markdown",
     "checksum": "d06056ab1b35a507738118746e6cc930",
     "grade": false,
     "grade_id": "cell-00d188c2de5130e3",
     "locked": true,
     "schema_version": 3,
     "solution": false
    }
   },
   "source": [
    "<font color=#606366>\n",
    "    <details><summary><font color=#b31b1b>▶ </font>See <b>solution</b>.</summary>\n",
    "    <pre>\n",
    "Solution 1:\n",
    "dfEdu = pd.DataFrame([GetWV(w) for w in LsEdu], index=LsEdu)\n",
    "dfEdu\n",
    "\n",
    "Solution 2:\n",
    "dfEdu = pd.DataFrame(wv[LsEdu], index=LsEdu)\n",
    "dfEdu\n",
    "    </pre>\n",
    "    </details> \n",
    "</font>\n",
    "<hr>"
   ]
  },
  {
   "cell_type": "markdown",
   "metadata": {
    "deletable": false,
    "editable": false,
    "nbgrader": {
     "cell_type": "markdown",
     "checksum": "8e9673979994d8ca122467428421078d",
     "grade": false,
     "grade_id": "cell-d04aeca9fe30da8e",
     "locked": true,
     "schema_version": 3,
     "solution": false
    }
   },
   "source": [
    "## Task 6\n",
    "\n",
    "Create a list of words strongly relating to music and save to `LsMusSeed` (as you did above with education). Then retrieve all words from `wv`'s vocabulary, if they contain the music seed words. Finally, retrieve their word vectors and package them all into a DataFrame `dfMus` as you did above. \n",
    "\n",
    "<b>Hint:</b> This is similar to the code above."
   ]
  },
  {
   "cell_type": "code",
   "execution_count": null,
   "metadata": {},
   "outputs": [],
   "source": [
    "# check solution here"
   ]
  },
  {
   "cell_type": "markdown",
   "metadata": {
    "deletable": false,
    "editable": false,
    "nbgrader": {
     "cell_type": "markdown",
     "checksum": "2eedc25b4ee7e0a27f69042660baf6a1",
     "grade": false,
     "grade_id": "cell-a4ca325288bb5278",
     "locked": true,
     "schema_version": 3,
     "solution": false
    }
   },
   "source": [
    "\n",
    "<font color=#606366>\n",
    "    <details><summary><font color=#b31b1b>▶ </font>See <b>solution</b>.</summary>\n",
    "    <pre>\n",
    "LsMusSeed = ['music', 'jazz', 'violin', 'sound', 'wave', 'guitar', 'flute', 'speaker', 'drum', 'microphone']\n",
    "[w for w in LsMusSeed if w not in wv.key_to_index] # print words, which are not in wv's vocabulary\n",
    "LsMus = WordsInVocab(LsMusSeed)\n",
    "dfMus = pd.DataFrame([GetWV(w) for w in LsMus], index=LsMus)\n",
    "    </pre>\n",
    "    </details> \n",
    "</font>\n",
    "<hr>"
   ]
  },
  {
   "cell_type": "markdown",
   "metadata": {
    "deletable": false,
    "editable": false,
    "nbgrader": {
     "cell_type": "markdown",
     "checksum": "d0a080d65fdfcf88cff1ef1924d4343a",
     "grade": false,
     "grade_id": "cell-42802a86c3816872",
     "locked": true,
     "schema_version": 3,
     "solution": false
    }
   },
   "source": [
    "## Task 7\n",
    "\n",
    "Plot a blue histogram for the parameters in column 33 for `dfEdu` and then overlay a green histogram for the parameters in the same column for `dfMus`. Use 30 bins and alpha transparency of 0.3.\n",
    "\n",
    "1. Are these histograms similar in location and shape?\n",
    "\n",
    "<b>Hint:</b> Once you retrieve a Pandas Series containing a column, use its <code>hist()</code> method as before. See documentation for the method's parameters.\n"
   ]
  },
  {
   "cell_type": "code",
   "execution_count": null,
   "metadata": {},
   "outputs": [],
   "source": [
    "# check solution here"
   ]
  },
  {
   "cell_type": "markdown",
   "metadata": {
    "deletable": false,
    "editable": false,
    "nbgrader": {
     "cell_type": "markdown",
     "checksum": "1bedad5e9fd34caafa7d933bc6bd0fe0",
     "grade": false,
     "grade_id": "cell-0b6145af9c873291",
     "locked": true,
     "schema_version": 3,
     "solution": false
    }
   },
   "source": [
    "\n",
    "<font color=#606366>\n",
    "    <details><summary><font color=#b31b1b>▶ </font>See <b>solution</b>.</summary>\n",
    "    <pre>\n",
    "dfEdu.iloc[:,33].hist(bins=30, alpha=0.3, color='blue', density=True);\n",
    "dfMus.iloc[:,33].hist(bins=30, alpha=0.3, color='green', density=True);\n",
    "    </pre>The blue histogram appears to be centered about -0.25, while the green histogram is centered at a value closer to zero. The histograms appear symmetric. Overall this implies that the selected \"music\" coefficients are slightly more positive on average than the \"education\" coefficients are. Understanding the distributions of the coefficients can help reveal problems with training Word2Vec vectors. Thus, if you train new Word2Vec vectors and observe distributions that are unusually thin (too many concentrated values) or value concentrations too far from zero, or strongly skewed distributions, or drastically different range (say, much larger than the current [-2,-2]), then the training may not have been done correctly. Perhaps more training iterations or a larger training sample needs to be sought.\n",
    "    </details> \n",
    "</font>\n",
    "<hr>"
   ]
  }
 ],
 "metadata": {
  "anaconda-cloud": {},
  "kernelspec": {
   "display_name": "Python 3",
   "language": "python",
   "name": "python3"
  },
  "language_info": {
   "codemirror_mode": {
    "name": "ipython",
    "version": 3
   },
   "file_extension": ".py",
   "mimetype": "text/x-python",
   "name": "python",
   "nbconvert_exporter": "python",
   "pygments_lexer": "ipython3",
   "version": "3.6.9"
  },
  "toc": {
   "base_numbering": 1,
   "nav_menu": {},
   "number_sections": false,
   "sideBar": true,
   "skip_h1_title": false,
   "title_cell": "Table of Contents",
   "title_sidebar": "Contents",
   "toc_cell": false,
   "toc_position": {},
   "toc_section_display": true,
   "toc_window_display": false
  },
  "varInspector": {
   "cols": {
    "lenName": 16,
    "lenType": 16,
    "lenVar": 40
   },
   "kernels_config": {
    "python": {
     "delete_cmd_postfix": "",
     "delete_cmd_prefix": "del ",
     "library": "var_list.py",
     "varRefreshCmd": "print(var_dic_list())"
    },
    "r": {
     "delete_cmd_postfix": ") ",
     "delete_cmd_prefix": "rm(",
     "library": "var_list.r",
     "varRefreshCmd": "cat(var_dic_list()) "
    }
   },
   "types_to_exclude": [
    "module",
    "function",
    "builtin_function_or_method",
    "instance",
    "_Feature"
   ],
   "window_display": false
  }
 },
 "nbformat": 4,
 "nbformat_minor": 1
}
