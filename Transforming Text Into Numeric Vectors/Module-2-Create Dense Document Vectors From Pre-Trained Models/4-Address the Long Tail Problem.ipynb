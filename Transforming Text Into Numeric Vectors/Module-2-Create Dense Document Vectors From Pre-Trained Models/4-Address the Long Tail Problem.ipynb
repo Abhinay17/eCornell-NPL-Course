{
 "cells": [
  {
   "cell_type": "markdown",
   "metadata": {},
   "source": [
    "# **Setup**\n",
    " \n",
    "Reset the Python environment to clear it of any previously loaded variables, functions, or libraries. Then, import the libraries needed to complete the code Professor Melnikov presented in the video."
   ]
  },
  {
   "cell_type": "code",
   "execution_count": 1,
   "metadata": {},
   "outputs": [],
   "source": [
    "%reset -f\n",
    "from IPython.core.interactiveshell import InteractiveShell as IS\n",
    "IS.ast_node_interactivity = \"all\"    # allows multiple outputs from a cell\n",
    "import nltk, collections, pandas as pd, matplotlib.pyplot as plt"
   ]
  },
  {
   "cell_type": "markdown",
   "metadata": {},
   "source": [
    "<hr style=\"border-top: 2px solid #606366; background: transparent;\">\n",
    "\n",
    "# **Review**\n",
    "\n",
    "<span style=\"color:black\"> Download [*Alice's Adventures in Wonderland*](https://www.britannica.com/topic/Alices-Adventures-in-Wonderland) by Lewis Carroll from the [Gutenberg library](https://www.gutenberg.org/). In this notebook, you will explore the long tail distribution of word counts. This distribution, while typical of text documents, makes understanding the semantic and syntactic meanings of words difficult with the Word2Vec model because it isn't possible to build meaningful vectors for infrequent words.\n",
    " "
   ]
  },
  {
   "cell_type": "code",
   "execution_count": 2,
   "metadata": {},
   "outputs": [
    {
     "name": "stdout",
     "output_type": "stream",
     "text": [
      "['[', 'Alice', \"'\", 's', 'Adventures', 'in', 'Wonderland', 'by', 'Lewis', 'Carroll', '1865', ']', 'CHAPTER', 'I', '.', 'Down', 'the', 'Rabbit', '-', 'Hole']\n"
     ]
    }
   ],
   "source": [
    "_ = nltk.download(['gutenberg'], quiet=True)\n",
    "LsWords = nltk.corpus.gutenberg.words('carroll-alice.txt')  # a list of word tokens\n",
    "print(LsWords[:20])"
   ]
  },
  {
   "cell_type": "markdown",
   "metadata": {},
   "source": [
    "## Ordering Words by Counts\n",
    "\n",
    "<span style=\"color:black\">You can use the `most_common()` method of the `Counter()` object to count each element of the list and display these in decreasing order of their counts."
   ]
  },
  {
   "cell_type": "code",
   "execution_count": 3,
   "metadata": {},
   "outputs": [
    {
     "name": "stdout",
     "output_type": "stream",
     "text": [
      "[(',', 1993), (\"'\", 1731), ('the', 1527), ('and', 802), ('.', 764), ('to', 725), ('a', 615), ('I', 543), ('it', 527), ('she', 509), ('of', 500), ('said', 456), (\",'\", 397), ('Alice', 396), ('in', 357), ('was', 352), ('you', 345), (\"!'\", 278), ('that', 275), ('as', 246)]\n"
     ]
    }
   ],
   "source": [
    "LTDist = collections.Counter(LsWords).most_common()\n",
    "print(LTDist[:20])"
   ]
  },
  {
   "cell_type": "markdown",
   "metadata": {},
   "source": [
    "<span style=\"color:black\">Many stopwords, such as `'the'` and `'and'`, appear at the front of the list. The word `'Alice'` is normally not classified as a stopword, but because the whole corpus is a collection of documents discussing the book *Alice's Adventures in Wonderland*, this word will not help differentiate among documents in this corpus.\n",
    "\n",
    "<span style=\"color:black\">To show this information compactly, display the list as a wide Pandas DataFrame, with words as column names and their counts as values."
   ]
  },
  {
   "cell_type": "code",
   "execution_count": 4,
   "metadata": {},
   "outputs": [
    {
     "data": {
      "text/html": [
       "<div>\n",
       "<style scoped>\n",
       "    .dataframe tbody tr th:only-of-type {\n",
       "        vertical-align: middle;\n",
       "    }\n",
       "\n",
       "    .dataframe tbody tr th {\n",
       "        vertical-align: top;\n",
       "    }\n",
       "\n",
       "    .dataframe thead th {\n",
       "        text-align: right;\n",
       "    }\n",
       "</style>\n",
       "<table border=\"1\" class=\"dataframe\">\n",
       "  <thead>\n",
       "    <tr style=\"text-align: right;\">\n",
       "      <th>word</th>\n",
       "      <th>,</th>\n",
       "      <th>'</th>\n",
       "      <th>the</th>\n",
       "      <th>and</th>\n",
       "      <th>.</th>\n",
       "      <th>to</th>\n",
       "      <th>a</th>\n",
       "      <th>I</th>\n",
       "      <th>it</th>\n",
       "      <th>she</th>\n",
       "      <th>...</th>\n",
       "      <th>riper</th>\n",
       "      <th>years</th>\n",
       "      <th>loving</th>\n",
       "      <th>childhood</th>\n",
       "      <th>gather</th>\n",
       "      <th>THEIR</th>\n",
       "      <th>sorrows</th>\n",
       "      <th>joys</th>\n",
       "      <th>remembering</th>\n",
       "      <th>happy</th>\n",
       "    </tr>\n",
       "  </thead>\n",
       "  <tbody>\n",
       "    <tr>\n",
       "      <th>freq</th>\n",
       "      <td>1993</td>\n",
       "      <td>1731</td>\n",
       "      <td>1527</td>\n",
       "      <td>802</td>\n",
       "      <td>764</td>\n",
       "      <td>725</td>\n",
       "      <td>615</td>\n",
       "      <td>543</td>\n",
       "      <td>527</td>\n",
       "      <td>509</td>\n",
       "      <td>...</td>\n",
       "      <td>1</td>\n",
       "      <td>1</td>\n",
       "      <td>1</td>\n",
       "      <td>1</td>\n",
       "      <td>1</td>\n",
       "      <td>1</td>\n",
       "      <td>1</td>\n",
       "      <td>1</td>\n",
       "      <td>1</td>\n",
       "      <td>1</td>\n",
       "    </tr>\n",
       "  </tbody>\n",
       "</table>\n",
       "<p>1 rows × 3016 columns</p>\n",
       "</div>"
      ],
      "text/plain": [
       "word     ,     '   the  and    .   to    a    I   it  she  ...  riper  years  \\\n",
       "freq  1993  1731  1527  802  764  725  615  543  527  509  ...      1      1   \n",
       "\n",
       "word  loving  childhood  gather  THEIR  sorrows  joys  remembering  happy  \n",
       "freq       1          1       1      1        1     1            1      1  \n",
       "\n",
       "[1 rows x 3016 columns]"
      ]
     },
     "execution_count": 4,
     "metadata": {},
     "output_type": "execute_result"
    }
   ],
   "source": [
    "df = pd.DataFrame(LTDist, columns=['word', 'freq'])\n",
    "df.set_index('word').T            # set 'word' column values as indices, transpose and display"
   ]
  },
  {
   "cell_type": "markdown",
   "metadata": {},
   "source": [
    "<span style=\"color:black\"> At the end of the table, you can see a few words from the long tail. Words with the same count are not displayed in any alphabetic or specific order.\n",
    "    \n",
    "Plotting directly from Pandas DataFrame is easy by calling the `plot()` method on the column of choice. "
   ]
  },
  {
   "cell_type": "code",
   "execution_count": 5,
   "metadata": {},
   "outputs": [
    {
     "data": {
      "image/png": "[encoded data removed]",
      "text/plain": [
       "<Figure size 2160x288 with 1 Axes>"
      ]
     },
     "metadata": {
      "needs_background": "light"
     },
     "output_type": "display_data"
    }
   ],
   "source": [
    "ax = df.freq.plot(figsize=(30,4), title='Decreasing (all) word frequencies', grid=True, lw=4);\n",
    "ax.set_xlabel(\"word index\");\n",
    "ax.set_ylabel(\"word frequency\");"
   ]
  },
  {
   "cell_type": "markdown",
   "metadata": {},
   "source": [
    "<h3 style=\"color:black\"> The Long Tail Problem </h3>\n",
    "\n",
    "Notice that the distribution appears mostly flat and close to zero (mind the vertical scale) with the exception of a handful of words which have frequencies over 100. This long tail is problematic for Word2Vec and many NLP models because infrequent words are difficult to describe, define, and build vectors for. "
   ]
  },
  {
   "cell_type": "markdown",
   "metadata": {},
   "source": [
    "<span style=\"color:black\"> Note that there are 3,000 unique word tokens (some are punctuations) in this text. Ordinarily, you could (or even should) investigate if there are both lowercase and uppercase version of words. If so, one approach would be to lowercase all words, and the long tail should shrink considerably from 3,000 words to a lower number. You could also drop words that are fewer than three characters.\n",
    "    \n",
    "If you do that, here are the remaining words:"
   ]
  },
  {
   "cell_type": "code",
   "execution_count": 6,
   "metadata": {},
   "outputs": [
    {
     "name": "stdout",
     "output_type": "stream",
     "text": [
      "['alice', 'adventures', 'wonderland', 'lewis', 'carroll', 'chapter', 'down', 'rabbit', 'hole', 'alice', 'beginning', 'very', 'tired', 'sitting', 'sister', 'bank', 'having', 'nothing', 'once', 'twice']\n"
     ]
    }
   ],
   "source": [
    "LsWords2 = [w.lower() for w in LsWords if (len(w) > 3) and w.isalpha()]\n",
    "print(LsWords2[:20])"
   ]
  },
  {
   "cell_type": "markdown",
   "metadata": {},
   "source": [
    "<span style=\"color:black\">However, it is important to keep in mind that case change may alter the meaning of the word. For example, if we had a financial article with stock tickers, lowercasing words would collapse stock ticker \"LOVE\" and word \"love\" into the same word.\n",
    "\n",
    "\n",
    "Now, if you recount words, some stopwords and punctuation are gone: "
   ]
  },
  {
   "cell_type": "code",
   "execution_count": 7,
   "metadata": {},
   "outputs": [
    {
     "name": "stdout",
     "output_type": "stream",
     "text": [
      "[('said', 462), ('alice', 398), ('that', 315), ('with', 180), ('they', 152), ('very', 144), ('what', 141), ('this', 134), ('little', 128), ('down', 102), ('there', 99), ('then', 94), ('about', 94), ('them', 88), ('know', 88), ('like', 85), ('were', 85), ('would', 83), ('went', 83), ('again', 83)]\n"
     ]
    }
   ],
   "source": [
    "LTDist2 = collections.Counter(LsWords2).most_common()\n",
    "print(LTDist2[:20])"
   ]
  },
  {
   "cell_type": "markdown",
   "metadata": {},
   "source": [
    "Overall, the vocabulary has shrunk to 2,347. The count of \"said\" was 456 but now is 462, meaning that it probably started a few sentences in its title capitalization form. The count of \"Alice\" was 396 but now \"alice\" is 398, meaning that it appeared twice in other capitalizations.\n",
    "\n",
    "<span style=\"color:black\">Unfortunately, the long tail problem still remains. There are no other letter-case versions of \"happy,\" so its count remains at one. You can take a closer look here: "
   ]
  },
  {
   "cell_type": "code",
   "execution_count": 8,
   "metadata": {},
   "outputs": [
    {
     "data": {
      "text/html": [
       "<div>\n",
       "<style scoped>\n",
       "    .dataframe tbody tr th:only-of-type {\n",
       "        vertical-align: middle;\n",
       "    }\n",
       "\n",
       "    .dataframe tbody tr th {\n",
       "        vertical-align: top;\n",
       "    }\n",
       "\n",
       "    .dataframe thead th {\n",
       "        text-align: right;\n",
       "    }\n",
       "</style>\n",
       "<table border=\"1\" class=\"dataframe\">\n",
       "  <thead>\n",
       "    <tr style=\"text-align: right;\">\n",
       "      <th>word</th>\n",
       "      <th>said</th>\n",
       "      <th>alice</th>\n",
       "      <th>that</th>\n",
       "      <th>with</th>\n",
       "      <th>they</th>\n",
       "      <th>very</th>\n",
       "      <th>what</th>\n",
       "      <th>this</th>\n",
       "      <th>little</th>\n",
       "      <th>down</th>\n",
       "      <th>...</th>\n",
       "      <th>pictured</th>\n",
       "      <th>riper</th>\n",
       "      <th>years</th>\n",
       "      <th>loving</th>\n",
       "      <th>childhood</th>\n",
       "      <th>gather</th>\n",
       "      <th>sorrows</th>\n",
       "      <th>joys</th>\n",
       "      <th>remembering</th>\n",
       "      <th>happy</th>\n",
       "    </tr>\n",
       "  </thead>\n",
       "  <tbody>\n",
       "    <tr>\n",
       "      <th>freq</th>\n",
       "      <td>462</td>\n",
       "      <td>398</td>\n",
       "      <td>315</td>\n",
       "      <td>180</td>\n",
       "      <td>152</td>\n",
       "      <td>144</td>\n",
       "      <td>141</td>\n",
       "      <td>134</td>\n",
       "      <td>128</td>\n",
       "      <td>102</td>\n",
       "      <td>...</td>\n",
       "      <td>1</td>\n",
       "      <td>1</td>\n",
       "      <td>1</td>\n",
       "      <td>1</td>\n",
       "      <td>1</td>\n",
       "      <td>1</td>\n",
       "      <td>1</td>\n",
       "      <td>1</td>\n",
       "      <td>1</td>\n",
       "      <td>1</td>\n",
       "    </tr>\n",
       "  </tbody>\n",
       "</table>\n",
       "<p>1 rows × 2347 columns</p>\n",
       "</div>"
      ],
      "text/plain": [
       "word  said  alice  that  with  they  very  what  this  little  down  ...  \\\n",
       "freq   462    398   315   180   152   144   141   134     128   102  ...   \n",
       "\n",
       "word  pictured  riper  years  loving  childhood  gather  sorrows  joys  \\\n",
       "freq         1      1      1       1          1       1        1     1   \n",
       "\n",
       "word  remembering  happy  \n",
       "freq            1      1  \n",
       "\n",
       "[1 rows x 2347 columns]"
      ]
     },
     "execution_count": 8,
     "metadata": {},
     "output_type": "execute_result"
    }
   ],
   "source": [
    "df2 = pd.DataFrame(LTDist2, columns=['word', 'freq'])\n",
    "df2.set_index('word').T"
   ]
  },
  {
   "cell_type": "markdown",
   "metadata": {},
   "source": [
    "<h3 style=\"color:black\"> Filter Words With Low Counts </h3>\n",
    "\n",
    "<span style=\"color:black\">One common approach is to drop words with low counts, e.g., fewer than five. However, if you do this here, you would have fewer than 500 words left available. This highlights a key idea: If you wanted to train a Word2Vec model with a rich vocabulary, you would need a large corpus where words appear more than once. This book by itself would not be sufficient to provide more semantic meaning behind \"happy,\" even though it is present in the book's vocabulary. \n",
    "    \n",
    "<span style=\"color:black\">Let's confirm the quantity of words remaining if only frequencies of six or more are considered. To filter out all words with low counts, create a mask array of Boolean values that is true when the count is $\\ge 6$"
   ]
  },
  {
   "cell_type": "code",
   "execution_count": 9,
   "metadata": {},
   "outputs": [
    {
     "data": {
      "text/plain": [
       "array([ True,  True,  True, ..., False, False, False])"
      ]
     },
     "execution_count": 9,
     "metadata": {},
     "output_type": "execute_result"
    }
   ],
   "source": [
    "HiFreqWords = (df2.freq >= 6)   # say, we only train vectors for words that appear 5+ times\n",
    "HiFreqWords.values"
   ]
  },
  {
   "cell_type": "markdown",
   "metadata": {},
   "source": [
    "<span style=\"color:black\">Use this masking array to place a red dotted line to separate words with frequencies $\\ge6$ from the others."
   ]
  },
  {
   "cell_type": "code",
   "execution_count": 10,
   "metadata": {},
   "outputs": [
    {
     "data": {
      "image/png": "[encoded data removed]",
      "text/plain": [
       "<Figure size 2160x288 with 1 Axes>"
      ]
     },
     "metadata": {
      "needs_background": "light"
     },
     "output_type": "display_data"
    }
   ],
   "source": [
    "vPct = HiFreqWords.value_counts(normalize=True).values * 100\n",
    "ax = df2.freq.plot(figsize=(30,4), title='Decreasing (clean) word frequencies', grid=True, lw=4);\n",
    "ax.axvline(sum(HiFreqWords), color='r', linestyle='--')\n",
    "ax.text(100, 50, f'{vPct[1]:.0f}% words', size=20, color='r')\n",
    "ax.text(1000, 50, f'{vPct[0]:.0f}% words', size=20, color='r')\n",
    "ax.set_xlabel(\"word index\");\n",
    "ax.set_ylabel(\"word frequency\");"
   ]
  },
  {
   "cell_type": "markdown",
   "metadata": {},
   "source": [
    "<span style=\"color:black\">The plot shows that $\\le500$ words appear at least six times in the book. This is about 20% of the vocabulary."
   ]
  },
  {
   "cell_type": "markdown",
   "metadata": {},
   "source": [
    "<span style=\"color:black\">Some seemingly common and meaningful words are either rare in the book or do not appear at all. You can use synonyms to increase the count of either synonym. For example, \"unhappy\" appears twice, but \"sad\" does not appear at all. If we train Word2Vec to recognize \"unhappy,\" then the same vector could be used for \"sad.\" However, their meanings can diverge in some contexts. For example, \"SAD\" is also an acronym for \"Seasonal Affective Disorder\".\n",
    "\n",
    "<span style=\"color:black\">Additionally, you might use lemmatization to standardize words further. That means that Word2Vec vocabulary built on lemmatized words would only contain roots of the verbs. Then to retrieve a vector for the word \"happier,\" you need to lemmatize it before searching for its vector."
   ]
  },
  {
   "cell_type": "code",
   "execution_count": 11,
   "metadata": {},
   "outputs": [
    {
     "data": {
      "text/html": [
       "<div>\n",
       "<style scoped>\n",
       "    .dataframe tbody tr th:only-of-type {\n",
       "        vertical-align: middle;\n",
       "    }\n",
       "\n",
       "    .dataframe tbody tr th {\n",
       "        vertical-align: top;\n",
       "    }\n",
       "\n",
       "    .dataframe thead th {\n",
       "        text-align: right;\n",
       "    }\n",
       "</style>\n",
       "<table border=\"1\" class=\"dataframe\">\n",
       "  <thead>\n",
       "    <tr style=\"text-align: right;\">\n",
       "      <th></th>\n",
       "      <th>word</th>\n",
       "      <th>freq</th>\n",
       "    </tr>\n",
       "  </thead>\n",
       "  <tbody>\n",
       "    <tr>\n",
       "      <th>2346</th>\n",
       "      <td>happy</td>\n",
       "      <td>1</td>\n",
       "    </tr>\n",
       "  </tbody>\n",
       "</table>\n",
       "</div>"
      ],
      "text/plain": [
       "       word  freq\n",
       "2346  happy     1"
      ]
     },
     "execution_count": 11,
     "metadata": {},
     "output_type": "execute_result"
    },
    {
     "name": "stdout",
     "output_type": "stream",
     "text": [
      "[('happen', 8), ('happened', 7), ('happens', 5), ('unhappy', 2), ('happening', 1), ('happy', 1)]\n"
     ]
    }
   ],
   "source": [
    "df2.query('word==\"happy\" or word==\"sad\"')  # rare and OOV words\n",
    "DsDist2 = collections.Counter(LsWords2)    # dictionary of words as keys and their counts as values\n",
    "print([(w, DsDist2[w]) for w in df2.word if 'happ' in w])  # find words containing 'happ'"
   ]
  },
  {
   "cell_type": "markdown",
   "metadata": {},
   "source": [
    "<hr style=\"border-top: 2px solid #606366; background: transparent;\">\n",
    "\n",
    "# **Optional Practice**\n",
    "\n",
    "You will repeat the previous analysis on William Shakespeare's *Hamlet*, which is a slightly longer text. You would expect it to be more complex than the children's book. The complexity here is reflected in the number of unique words appearing in the text and the words' length. You expect that the former will have fewer shorter words and more unique words, so the problem of the long tail is even more dramatic.\n",
    "\n",
    "As you work through these tasks, check your answers by running your code in the *#check solution here* cell, to see if you’ve gotten the correct result. If you get stuck on a task, click the See **solution** drop-down to view the answer."
   ]
  },
  {
   "cell_type": "markdown",
   "metadata": {},
   "source": [
    "## Task 1\n",
    "\n",
    "Use NLTK to load words from Gutenberg's \"*shakespeare-hamlet.txt*\" corpus (it's actually a single document) into the `LsWords3` variable. \n",
    "\n",
    "<b>Hint:</b> Try the <code>nltk.corpus.gutenberg.words()</code> to retreive <code>'shakespeare-hamlet.txt'</code>.\n"
   ]
  },
  {
   "cell_type": "code",
   "execution_count": null,
   "metadata": {},
   "outputs": [],
   "source": [
    "# check solution here"
   ]
  },
  {
   "cell_type": "markdown",
   "metadata": {},
   "source": [
    "\n",
    "<font color=#606366>\n",
    "    <details><summary><font color=#b31b1b>▶ </font>See <b>solution</b>.</summary>\n",
    "    <pre>\n",
    "LsWords3 = nltk.corpus.gutenberg.words('shakespeare-hamlet.txt')  # a list of word tokens\n",
    "print(LsWords3[:20])\n",
    "    </pre>\n",
    "    </details> \n",
    "</font>\n",
    "<hr>"
   ]
  },
  {
   "cell_type": "markdown",
   "metadata": {},
   "source": [
    "## Task 2\n",
    "\n",
    "How much larger is the *Hamlet* document compared to *Alice's Adventures in Wonderland* (AiW) in terms of raw word token counts?\n",
    "\n",
    "<b>Hint:</b>  <code>len(LsWords)</code> gives you the number of all word tokens in a document."
   ]
  },
  {
   "cell_type": "code",
   "execution_count": null,
   "metadata": {},
   "outputs": [],
   "source": [
    "# check solution here"
   ]
  },
  {
   "cell_type": "markdown",
   "metadata": {},
   "source": [
    "\n",
    "<font color=#606366>\n",
    "    <details><summary><font color=#b31b1b>▶ </font>See <b>solution</b>.</summary>\n",
    "    <pre>\n",
    "n, n3 = len(LsWords), len(LsWords3)\n",
    "print(f'Words: {n3}/Hamlet, {n}/AiW; Difference: {n3-n} words, {(n3/n-1)*100:.2f}% ')\n",
    "    </pre>\n",
    "    </details> \n",
    "</font>\n",
    "<hr>"
   ]
  },
  {
   "cell_type": "markdown",
   "metadata": {},
   "source": [
    "## Task 3\n",
    "\n",
    "Create a DataFrame `df3` of ordered counts of words. For reference, review the creation of `df` in the Review section above.\n",
    "\n",
    "<b>Hint:</b> Use <code>collections.Counter()</code> as above."
   ]
  },
  {
   "cell_type": "code",
   "execution_count": null,
   "metadata": {},
   "outputs": [],
   "source": [
    "# check solution here"
   ]
  },
  {
   "cell_type": "markdown",
   "metadata": {},
   "source": [
    "\n",
    "<font color=#606366>\n",
    "    <details><summary><font color=#b31b1b>▶ </font>See <b>solution</b>.</summary>\n",
    "    <pre>\n",
    "LTDist3 = collections.Counter(LsWords3).most_common()\n",
    "df3 = pd.DataFrame(LTDist3, columns=['word', 'freq'])\n",
    "df3.set_index('word').T            # set 'word' column values as indices, transpose and display\n",
    "    </pre>\n",
    "    </details> \n",
    "</font>\n",
    "<hr>"
   ]
  },
  {
   "cell_type": "markdown",
   "metadata": {},
   "source": [
    "## Task 4\n",
    "\n",
    "Create a plot diagram of counts as with `df` above. How does the long tail from `df3` counts compare to that of `df`?\n",
    "\n",
    "<b>Hint:</b> Use <code>df3.freq.plot()</code> as above for <code>df</code>."
   ]
  },
  {
   "cell_type": "code",
   "execution_count": null,
   "metadata": {},
   "outputs": [],
   "source": [
    "# check solution here"
   ]
  },
  {
   "cell_type": "markdown",
   "metadata": {},
   "source": [
    "\n",
    "<font color=#606366>\n",
    "    <details><summary><font color=#b31b1b>▶ </font>See <b>solution</b>.</summary>\n",
    "    <pre>\n",
    "ax = df3.freq.plot(figsize=(30,4), title='Decreasing (all) word frequencies', grid=True, lw=4);\n",
    "ax.set_xlabel(\"word index\");\n",
    "ax.set_ylabel(\"word frequency\");\n",
    "    </pre>\n",
    "    </details> \n",
    "</font>\n",
    "\n",
    "<hr>"
   ]
  },
  {
   "cell_type": "markdown",
   "metadata": {},
   "source": [
    "## Task 5\n",
    "\n",
    "What is the difference between unique word frequencies in *Hamlet* and *AiW*, in terms of counts and percent?\n",
    "\n",
    "<b>Hint:</b> Use <code>len(df), len(df3)</code> to retrieve the number of rows and the count of unique word tokens, i.e., the vocabulary size of each document."
   ]
  },
  {
   "cell_type": "code",
   "execution_count": null,
   "metadata": {},
   "outputs": [],
   "source": [
    "# check solution here"
   ]
  },
  {
   "cell_type": "markdown",
   "metadata": {},
   "source": [
    "\n",
    "<font color=#606366>\n",
    "    <details><summary><font color=#b31b1b>▶ </font>See <b>solution</b>.</summary>\n",
    "    <pre>\n",
    "n, n3 = len(df), len(df3)\n",
    "print(f'Unique words: {n3}/Hamlet, {n}/AiW. Difference: {n3 - n} words {(n3/n-1)*100:.2f}%')\n",
    "    </pre>\n",
    "    </details> \n",
    "</font>\n",
    "<hr>"
   ]
  },
  {
   "cell_type": "markdown",
   "metadata": {},
   "source": [
    "## Task 6\n",
    "\n",
    "Repeat the preprocessing you did in the review above on *Hamlet* to create a list `LsWords4` that has all lowercase words of four or more letters only. What is the decrease in vocabulary from the full text of *Hamlet*? Then, compute `df4` with the counts of these preprocessed words as with `df3`. Plot the results as you did in Task 4. How does the thresholded plot of `df4` compare to that of `df3`?\n",
    "\n",
    "<b>Hint:</b> Repeat the steps for <code>df2</code>."
   ]
  },
  {
   "cell_type": "code",
   "execution_count": null,
   "metadata": {},
   "outputs": [],
   "source": [
    "# check solution here"
   ]
  },
  {
   "cell_type": "markdown",
   "metadata": {},
   "source": [
    "\n",
    "<font color=#606366>\n",
    "    <details><summary><font color=#b31b1b>▶ </font>See <b>solution</b>.</summary>\n",
    "    <pre>\n",
    "LsWords4 = [w.lower() for w in LsWords3 if (len(w) > 3) and w.isalpha()]\n",
    "df4 = pd.DataFrame(collections.Counter(LsWords4).most_common(), columns=['word', 'freq'])\n",
    "df4.set_index('word').T\n",
    "\n",
    "print(f'Decrease in vocabulary is {(len(df3)/len(df4) - 1)*100:.2f}%')\n",
    "HiFreqWords = (df4.freq >= 6)   # say, we only train vectors for words that appear 5+ times\n",
    "vPct = HiFreqWords.value_counts(normalize=True).values * 100\n",
    "ax = df4.freq.plot(figsize=(30,4), title='Decreasing (clean) word frequencies', grid=True, lw=4);\n",
    "ax.axvline(sum(HiFreqWords), color='r', linestyle='--')\n",
    "ax.text(100, 50, f'{vPct[1]:.0f}% words', size=20, color='r')\n",
    "ax.text(1000, 50, f'{vPct[0]:.0f}% words', size=20, color='r')\n",
    "ax.set_xlabel(\"word index\");\n",
    "ax.set_ylabel(\"word frequency\");\n",
    "    </pre>\n",
    "    </details> \n",
    "</font>\n",
    "<hr>"
   ]
  }
 ],
 "metadata": {
  "anaconda-cloud": {},
  "kernelspec": {
   "display_name": "Python 3",
   "language": "python",
   "name": "python3"
  },
  "language_info": {
   "codemirror_mode": {
    "name": "ipython",
    "version": 3
   },
   "file_extension": ".py",
   "mimetype": "text/x-python",
   "name": "python",
   "nbconvert_exporter": "python",
   "pygments_lexer": "ipython3",
   "version": "3.6.9"
  },
  "toc": {
   "base_numbering": 1,
   "nav_menu": {},
   "number_sections": false,
   "sideBar": true,
   "skip_h1_title": false,
   "title_cell": "Table of Contents",
   "title_sidebar": "Contents",
   "toc_cell": false,
   "toc_position": {},
   "toc_section_display": true,
   "toc_window_display": false
  },
  "varInspector": {
   "cols": {
    "lenName": 16,
    "lenType": 16,
    "lenVar": 40
   },
   "kernels_config": {
    "python": {
     "delete_cmd_postfix": "",
     "delete_cmd_prefix": "del ",
     "library": "var_list.py",
     "varRefreshCmd": "print(var_dic_list())"
    },
    "r": {
     "delete_cmd_postfix": ") ",
     "delete_cmd_prefix": "rm(",
     "library": "var_list.r",
     "varRefreshCmd": "cat(var_dic_list()) "
    }
   },
   "types_to_exclude": [
    "module",
    "function",
    "builtin_function_or_method",
    "instance",
    "_Feature"
   ],
   "window_display": false
  }
 },
 "nbformat": 4,
 "nbformat_minor": 1
}
