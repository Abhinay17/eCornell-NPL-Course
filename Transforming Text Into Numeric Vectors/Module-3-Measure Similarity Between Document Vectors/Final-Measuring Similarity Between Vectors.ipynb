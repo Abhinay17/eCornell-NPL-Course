{
 "cells": [
  {
   "cell_type": "markdown",
   "metadata": {
    "deletable": false,
    "editable": false,
    "nbgrader": {
     "cell_type": "markdown",
     "checksum": "8695ee6c3ca6b383b9a9b45fffe7d848",
     "grade": false,
     "grade_id": "cell-e149648f71883a0c",
     "locked": true,
     "schema_version": 3,
     "solution": false
    }
   },
   "source": [
    "# Part Three of the Course Project\n",
    "\n",
    "Understanding the limitations of word vectors will help you build realistic and practical real-world models. In this project, you'll explore some functionality — and limitations — of word vectors via the Gensim library in the context of speeches given by various Presidents of the United States.\n",
    "\n",
    "You'll define functions that will help you use NLP to build and examine document vectors. In particular, you will build a document vector for each speech (i.e., document) that will be the average of all word vectors you identify within the document. Then, you will identify words which are semantically close to the document vector and measure similarity among documents based on their vector representations. Finally, you will deduce that document vectors built from an averaged bag-of-word vectors lose their semantic representation as the size of the document increases. \n",
    "<hr style=\"border-top: 2px solid #606366; background: transparent;\">"
   ]
  },
  {
   "cell_type": "markdown",
   "metadata": {},
   "source": [
    "## Setup\n",
    "\n",
    "Load and use Gensim's **glove-wiki-gigaword-50** model, which was described in the previous project assignment. This step may take 30 seconds."
   ]
  },
  {
   "cell_type": "code",
   "execution_count": 1,
   "metadata": {
    "deletable": false,
    "editable": false,
    "nbgrader": {
     "cell_type": "code",
     "checksum": "fc651de01d986c0d169a891de5af91af",
     "grade": false,
     "grade_id": "cell-80a1bca11e3b4bdb",
     "locked": true,
     "schema_version": 3,
     "solution": false
    }
   },
   "outputs": [
    {
     "name": "stdout",
     "output_type": "stream",
     "text": [
      "Versions. nltk:3.6.7, gensim:4.2.0, np:1.19.5\n",
      "CPU times: user 41.8 s, sys: 627 ms, total: 42.4 s\n",
      "Wall time: 42.7 s\n",
      "File IDs: ['1789-Washington.txt', '1793-Washington.txt', '1797-Adams.txt', '1801-Jefferson.txt', '1805-Jefferson.txt', '1809-Madison.txt', '1813-Madison.txt', '1817-Monroe.txt', '1821-Monroe.txt', '1825-Adams.txt', '1829-Jackson.txt', '1833-Jackson.txt', '1837-VanBuren.txt', '1841-Harrison.txt', '1845-Polk.txt', '1849-Taylor.txt', '1853-Pierce.txt', '1857-Buchanan.txt', '1861-Lincoln.txt', '1865-Lincoln.txt', '1869-Grant.txt', '1873-Grant.txt', '1877-Hayes.txt', '1881-Garfield.txt', '1885-Cleveland.txt', '1889-Harrison.txt', '1893-Cleveland.txt', '1897-McKinley.txt', '1901-McKinley.txt', '1905-Roosevelt.txt', '1909-Taft.txt', '1913-Wilson.txt', '1917-Wilson.txt', '1921-Harding.txt', '1925-Coolidge.txt', '1929-Hoover.txt', '1933-Roosevelt.txt', '1937-Roosevelt.txt', '1941-Roosevelt.txt', '1945-Roosevelt.txt', '1949-Truman.txt', '1953-Eisenhower.txt', '1957-Eisenhower.txt', '1961-Kennedy.txt', '1965-Johnson.txt', '1969-Nixon.txt', '1973-Nixon.txt', '1977-Carter.txt', '1981-Reagan.txt', '1985-Reagan.txt', '1989-Bush.txt', '1993-Clinton.txt', '1997-Clinton.txt', '2001-Bush.txt', '2005-Bush.txt', '2009-Obama.txt', '2013-Obama.txt', '2017-Trump.txt', '2021-Biden.txt']\n"
     ]
    },
    {
     "data": {
      "text/plain": [
       "array([-0.38497 ,  0.80092 ,  0.064106, -0.28355 , -0.026759, -0.34532 ,\n",
       "       -0.64253 , -0.11729 , -0.33257 ,  0.55243 , -0.087813,  0.9035  ,\n",
       "        0.47102 ,  0.56657 ,  0.6985  , -0.35229 , -0.86542 ,  0.90573 ,\n",
       "        0.03576 , -0.071705, -0.12327 ,  0.54923 ,  0.47005 ,  0.35572 ,\n",
       "        1.2611  , -0.67581 , -0.94983 ,  0.68666 ,  0.3871  , -1.3492  ,\n",
       "        0.63512 ,  0.46416 , -0.48814 ,  0.83827 , -0.9246  , -0.33722 ,\n",
       "        0.53741 , -1.0616  , -0.081403, -0.67111 ,  0.30923 , -0.3923  ,\n",
       "       -0.55002 , -0.68827 ,  0.58049 , -0.11626 ,  0.013139, -0.57654 ,\n",
       "        0.048833,  0.67204 ], dtype=float32)"
      ]
     },
     "execution_count": 1,
     "metadata": {},
     "output_type": "execute_result"
    }
   ],
   "source": [
    "%reset -f\n",
    "from IPython.core.interactiveshell import InteractiveShell as IS; IS.ast_node_interactivity = \"all\"\n",
    "import numpy as np, pandas as pd, numpy.testing as npt, nltk, gensim, matplotlib.pyplot as plt\n",
    "from numpy.linalg import norm                           # Euclidean norm same as Euclidean distance from a vetor to coordinate origin\n",
    "from scipy.spatial.distance import cosine, euclidean    # cosine distance (=1-cosine_similarity) and Euclidean distance\n",
    "from sklearn.metrics.pairwise import cosine_similarity  # returns a symmetric matrix of cosine similarities for a list of vectors\n",
    "from gensim.models import KeyedVectors                  # library to manipulate Gensim's word2vec and fastText models\n",
    "import unittest\n",
    "from colorunittest import run_unittest\n",
    "\n",
    "_ = nltk.download(['punkt', 'inaugural'], quiet=True)   # downloading presidential inaugural speeches\n",
    "LsFID = nltk.corpus.inaugural.fileids()                 # list of file IDs for presidential speeches\n",
    "LsObamaWords = nltk.corpus.inaugural.words('2013-Obama.txt')    # list of words from Obama's speech in 2013\n",
    "print(f'Versions. nltk:{nltk.__version__}, gensim:{gensim.__version__}, np:{np.__version__}')  # Codio: NLTK 3.6.2, gensim 4.0.1, np 1.19.5\n",
    "\n",
    "\n",
    "# %time wv = KeyedVectors.load_word2vec_format(\"glove-wiki-gigaword-50.gz\")\n",
    "# sFile = 'https://github.com/RaRe-Technologies/gensim-data/releases/download/glove-wiki-gigaword-50/glove-wiki-gigaword-50.gz'\n",
    "%time wv = KeyedVectors.load_word2vec_format('glove-wiki-gigaword-50.gz')  # load word2vec directly from URL\n",
    "print(f'File IDs: {LsFID}')                             # print file IDs for all presidential speeches\n",
    "wv['hello']  # print vector for the word"
   ]
  },
  {
   "cell_type": "markdown",
   "metadata": {
    "deletable": false,
    "editable": false,
    "nbgrader": {
     "cell_type": "markdown",
     "checksum": "02aa0c821e6a38b16c4980382641f3ad",
     "grade": false,
     "grade_id": "cell-d6d225fd5bf766d9",
     "locked": true,
     "schema_version": 3,
     "solution": false
    }
   },
   "source": [
    "# **Lowercased Vectorizable (LCV) Preprocessor**\n",
    "\n",
    "In this task, you will create a preprocessing function that returns only the lowercased words that exist in `wv`'s library from a given list of words, `LsWords`. This output will be referred to as <b>LCV (lowercased vectorizable)</b> words. This function will help you avoid storage and processing of words not found in `wv`'s vocabulary. It will also help you avoid key errors, which arise whenever you try to draw a vector for a word that does not exist (as a key) in a `wv` dictionary.\n",
    "\n",
    "<!--\n",
    "For now, you will ignore the so-called \"_combined words_\", such as \"new-york\" and \"commander-in-chief\", which would require a more complex POS-based preprocessing, since these words are not identified in `nltk`'s corpora.\n",
    "-->"
   ]
  },
  {
   "cell_type": "code",
   "execution_count": 2,
   "metadata": {
    "deletable": false,
    "nbgrader": {
     "cell_type": "code",
     "checksum": "82a5036cde4092ead90b28a13597b402",
     "grade": false,
     "grade_id": "LCV_answer",
     "locked": false,
     "schema_version": 3,
     "solution": true
    }
   },
   "outputs": [],
   "source": [
    "def LCV(wv, LsWords=['NLP','is','fun','!']) -> [str]:\n",
    "    ''' This is a small preprocessor to keep only \n",
    "        Lowercased Vectorizable (LCV) words from LsWords.\n",
    "        Vectorizable are words that are found in wv's vocabulary,\n",
    "        i.e. for which we can pull a meaningful word vector from the model\n",
    "    wv: Gensim's word2vec model\n",
    "    Return: a list of lower-cased tokens identified in wv   '''\n",
    "    out = ['dummy']  # desired output format\n",
    "    out = [word.lower() for word in LsWords if word.lower() in wv.key_to_index]\n",
    "    return out"
   ]
  },
  {
   "cell_type": "code",
   "execution_count": 3,
   "metadata": {
    "code_folding": [],
    "deletable": false,
    "editable": false,
    "nbgrader": {
     "cell_type": "code",
     "checksum": "a69d84cc430913b68e87d41cf1f2bf2a",
     "grade": true,
     "grade_id": "LCV_test",
     "locked": true,
     "points": 1,
     "schema_version": 3,
     "solution": false
    }
   },
   "outputs": [
    {
     "name": "stdout",
     "output_type": "stream",
     "text": [
      "Ran 4 tests in 0.007s\n",
      "\n",
      "\u001b[1m\u001b[34mOK\u001b[0m\n",
      "test_00 (__main__.test_LCV) ... \u001b[1m\u001b[34mok\u001b[0m\n",
      "test_01 (__main__.test_LCV) ... \u001b[1m\u001b[34mok\u001b[0m\n",
      "test_02 (__main__.test_LCV) ... \u001b[1m\u001b[34mok\u001b[0m\n",
      "test_03 (__main__.test_LCV) ... \u001b[1m\u001b[34mok\u001b[0m\n",
      "\n",
      "----------------------------------------------------------------------\n",
      "\n"
     ]
    }
   ],
   "source": [
    "# TEST & AUTOGRADE CELL\n",
    "@run_unittest\n",
    "class test_LCV(unittest.TestCase):\n",
    "    def test_00(self):   \n",
    "        npt.assert_equal(LCV(wv), ['nlp', 'is', 'fun', '!'])\n",
    "    def test_01(self):   \n",
    "        npt.assert_equal(LCV(wv, ['NLP','is_','fun_']), ['nlp'])\n",
    "    def test_02(self):     \n",
    "        npt.assert_equal(LCV(wv, ['NLP_','is_','fun_']), [])\n",
    "    def test_03(self):   \n",
    "        npt.assert_equal(LCV(wv, LsObamaWords)[:5], ['thank', 'you', '.', 'thank', 'you'])\n"
   ]
  },
  {
   "cell_type": "markdown",
   "metadata": {
    "deletable": false,
    "editable": false,
    "nbgrader": {
     "cell_type": "markdown",
     "checksum": "f27fe03f7ad2ec6bcc604fc801e47395",
     "grade": false,
     "grade_id": "cell-4f30fd0dd85824f3",
     "locked": true,
     "schema_version": 3,
     "solution": false
    }
   },
   "source": [
    "# **Document Vector**\n",
    "\n",
    "In this task, you will write a function to calculate the [centroid](https://en.wikipedia.org/wiki/Centroid) of the vector embeddings for lowercased vectorizable (LCV) words in the given document.\n",
    "\n",
    "This is an important task because, while a single word vector is useful, embedding the meaning of the whole text in a single numerical vector can help you compare document similarity. One simple way to do this is via arithmetic (element-wise) averaging (i.e., mean) of all LCV words from a document. This document vector would have exactly the same dimension as the dimensions of the vectors used to produce it. Here is a quick example with made-up 3-dimensional vectors.\n",
    " \n",
    "Take the phrase \"I like NLP_.\" Suppose after tokenization and conversion to lowercase, \"nlp\" is not in a Word2Vec model, but \"i\" and \"like\" have vector representations $[1,2]$ and $[1,4]$, respectively. The element-wise average would be computed as:\n",
    "    \n",
    "$$\\left[\\frac{1+1}{2},\\frac{2+4}{2}\\right]=[1,3]$$\n",
    "\n",
    "The resulting document vector is $[1,3]$, which is also 2-dimensional. Element-wise average produces the <b>centroid</b>, which you will study at another time. A general formula for a centroid, given $p$-dimensional vectors $\\mathbf{x}_1,...,\\mathbf{x}_n$, is \n",
    "\n",
    "$$\\mathbf{x}_{\\text{centroid}}:=(\\mathbf{x}_1+\\cdots+\\mathbf{x}_n)/n=\\frac{1}{n}\\sum_{i=1}^{n}\\mathbf{x}_i$$\n",
    "\n",
    "where $n\\ge1$ is the number of word vectors from the given document and $p\\ge1$ is the dimensionality of these word vectors. For example, the Gensim model has $p=50$ and the toy example above has $n=2$ (since one word dropped out due to absence of its vector in the Gensim's model).\n",
    "\n",
    "<b>Note:</b> You will use all words in a document as a bag of words, without regard to their positioning, order, or distances to their neighboring words. This dramatically reduces the quality of the resulting document vector. However, the repetitive words can strongly influence the position of the document vector in the 50-dimensional vector space, so if the document discusses mostly cats and the other document discusses mostly dogs, then their vectors will represent cats and dogs, respectively."
   ]
  },
  {
   "cell_type": "code",
   "execution_count": 4,
   "metadata": {
    "deletable": false,
    "nbgrader": {
     "cell_type": "code",
     "checksum": "def8160fbe18411f5db256941cdb16b0",
     "grade": false,
     "grade_id": "DV_answer",
     "locked": false,
     "schema_version": 3,
     "solution": true
    }
   },
   "outputs": [],
   "source": [
    "def DV(wv, LsWords=['I','like','nlp']) -> np.array([]):\n",
    "    '''Compute a document vector from the vectors of the LCV words in LsWord list.\n",
    "        If none is found, return zero vector of the length of vectors in wv.\n",
    "    wv: Gensim's word2vec model\n",
    "    Return: a mean numpy array (a.k.a. centroid) based on element-wise \n",
    "        average of vectors representing words in LsWord  '''\n",
    "    LCV_words = LCV(wv, LsWords)\n",
    "    if not LCV_words:\n",
    "        return np.zeros(wv.vector_size)\n",
    "    word_vectors = np.array([wv[word] for word in LCV_words])\n",
    "    return word_vectors.mean(axis=0)"
   ]
  },
  {
   "cell_type": "code",
   "execution_count": 5,
   "metadata": {
    "code_folding": [],
    "deletable": false,
    "editable": false,
    "nbgrader": {
     "cell_type": "code",
     "checksum": "865ae96e843b93085d35314ab50f6cfa",
     "grade": true,
     "grade_id": "DV_test",
     "locked": true,
     "points": 1,
     "schema_version": 3,
     "solution": false
    }
   },
   "outputs": [
    {
     "name": "stdout",
     "output_type": "stream",
     "text": [
      "Ran 4 tests in 0.002s\n",
      "\n",
      "\u001b[1m\u001b[34mOK\u001b[0m\n",
      "test_00 (__main__.test_DV) ... \u001b[1m\u001b[34mok\u001b[0m\n",
      "test_01 (__main__.test_DV) ... \u001b[1m\u001b[34mok\u001b[0m\n",
      "test_02 (__main__.test_DV) ... \u001b[1m\u001b[34mok\u001b[0m\n",
      "test_03 (__main__.test_DV) ... \u001b[1m\u001b[34mok\u001b[0m\n",
      "\n",
      "----------------------------------------------------------------------\n",
      "\n"
     ]
    }
   ],
   "source": [
    "# TEST & AUTOGRADE CELL\n",
    "@run_unittest\n",
    "class test_DV(unittest.TestCase):\n",
    "    def test_00(self):    \n",
    "        npt.assert_equal(DV(wv, ['dr. strange']).sum(), 0.)\n",
    "    def test_01(self):\n",
    "        npt.assert_almost_equal(DV(wv, 'dr. strange').sum(), 2.0379, 4)\n",
    "    def test_02(self):\n",
    "        npt.assert_almost_equal(DV(wv, 'mad fox flew over the happy dog'.split()).sum(), -0.5092, 4)\n",
    "    def test_03(self):\n",
    "        npt.assert_almost_equal(DV(wv, ['Dr.', 'Strange'])[:5], [.4986, .4179, -.7995, .2013, .8009], 4)\n"
   ]
  },
  {
   "cell_type": "markdown",
   "metadata": {
    "deletable": false,
    "editable": false,
    "nbgrader": {
     "cell_type": "markdown",
     "checksum": "cea1c867bf0727d7271f718d8be6c0f1",
     "grade": false,
     "grade_id": "cell-d4455cafdf40aa0f",
     "locked": true,
     "schema_version": 3,
     "solution": false
    }
   },
   "source": [
    "# **Words Most Similar to the Meaning of the Document**\n",
    "\n",
    "In this task, you will build a function that returns the top 𝑛 words that have vectors most cosine-similar to the document vector. Doing this will help you determine which words in a particular document are most representative of that document. \n",
    "\n",
    "For this, you would need to compute cosine similarity for every pair of (LCV word vector, document vector) and pick those that have the highest cosine similarity.\n",
    "\n",
    "**Note**: The representative vector is unlikely to be some word within the vocabulary (aka a **medoid**, which we will learn more about in the next course), unless the document vector was aggregated from the same repeated word from the vocabulary. For example, a document vector built from \"cat cat cat\" will be exactly the same as the word vector for \"cat,\" but a document built from \"cats and dogs\" will not equal any of the vectors in the Word2Vec model (due to continuity of real numbers). Despite this, you should still hope to find a word that has a vector very close to the document."
   ]
  },
  {
   "cell_type": "code",
   "execution_count": 6,
   "metadata": {
    "deletable": false,
    "nbgrader": {
     "cell_type": "code",
     "checksum": "317fe073e8a516ee19d0c35e2705dd2a",
     "grade": false,
     "grade_id": "TopWords_answer",
     "locked": false,
     "schema_version": 3,
     "solution": true
    }
   },
   "outputs": [],
   "source": [
    "from scipy.spatial.distance import cosine\n",
    "\n",
    "def TopWords(wv, LsWords=['super', 'cow', 'now'], n=1):\n",
    "    ''' Retrieve top n unique LCV words from LsWords ordered by their cosine-similarity \n",
    "          to the document vector based on LCV LsWords. Use DV() to compute a document vector.\n",
    "          Hint: applying set() removes duplicates\n",
    "    wv: Gensim's word2vec model\n",
    "    Return: list of tuples (word from LsWords, cosine similarity(X,DV(LsWords)) ) \n",
    "        ordered by decreasing similarity. If none is found return None   '''\n",
    "    doc_vector = DV(wv, LsWords)\n",
    "    LCV_words = list(set(LCV(wv, LsWords)))\n",
    "    if not LCV_words:\n",
    "        return None\n",
    "    word_similarities = []\n",
    "    for word in LCV_words:\n",
    "        word_vector = wv[word]\n",
    "        sim = 1 - cosine(doc_vector, word_vector)\n",
    "        word_similarities.append((word, sim))\n",
    "    word_similarities = sorted(word_similarities, key=lambda x: x[1], reverse=True)\n",
    "#     print(\"Cosine Similarities:\")\n",
    "#     for word, sim in word_similarities:\n",
    "#         print(f\"Word: {word}, Cosine Similarity: {sim}\")\n",
    "    return word_similarities[:n]\n"
   ]
  },
  {
   "cell_type": "code",
   "execution_count": 7,
   "metadata": {
    "code_folding": [],
    "deletable": false,
    "editable": false,
    "nbgrader": {
     "cell_type": "code",
     "checksum": "9147bd734a35c6fc6c54f3363430f199",
     "grade": true,
     "grade_id": "TopWords_test",
     "locked": true,
     "points": 1,
     "schema_version": 3,
     "solution": false
    }
   },
   "outputs": [
    {
     "name": "stdout",
     "output_type": "stream",
     "text": [
      "Ran 8 tests in 0.086s\n",
      "\n",
      "\u001b[1m\u001b[34mOK\u001b[0m\n",
      "test_00 (__main__.test_TopWords) ... \u001b[1m\u001b[34mok\u001b[0m\n",
      "test_01 (__main__.test_TopWords) ... \u001b[1m\u001b[34mok\u001b[0m\n",
      "test_02 (__main__.test_TopWords) ... \u001b[1m\u001b[34mok\u001b[0m\n",
      "test_03 (__main__.test_TopWords) ... \u001b[1m\u001b[34mok\u001b[0m\n",
      "test_04 (__main__.test_TopWords) ... \u001b[1m\u001b[34mok\u001b[0m\n",
      "test_05 (__main__.test_TopWords) ... \u001b[1m\u001b[34mok\u001b[0m\n",
      "test_06 (__main__.test_TopWords) ... \u001b[1m\u001b[34mok\u001b[0m\n",
      "test_07 (__main__.test_TopWords) ... \u001b[1m\u001b[34mok\u001b[0m\n",
      "\n",
      "----------------------------------------------------------------------\n",
      "\n"
     ]
    }
   ],
   "source": [
    "# TEST & AUTOGRADE CELL\n",
    "@run_unittest\n",
    "class test_TopWords(unittest.TestCase):\n",
    "    def test_00(self):    \n",
    "        npt.assert_equal(TopWords(wv)[0][0], 'now')\n",
    "    def test_01(self):\n",
    "        npt.assert_almost_equal(TopWords(wv)[0][1], 0.8046, 4)\n",
    "    def test_02(self):\n",
    "        npt.assert_equal(TopWords(wv, ['cat_']), None)\n",
    "    def test_03(self):\n",
    "        LTsnTop = TopWords(wv, ['the','cat','dog','tiger','lion'], n=2)\n",
    "        npt.assert_equal([w for w,_ in LTsnTop], ['cat','dog'])         # test word near the document vector\n",
    "    def test_04(self):\n",
    "        LTsnTop = TopWords(wv, ['the','cat','dog','tiger','lion'], n=2)\n",
    "        npt.assert_almost_equal([sim for _,sim in LTsnTop], [.8886,.8857], 4)   # test similarity metrics\n",
    "    def test_05(self):\n",
    "        npt.assert_equal(TopWords(wv, 'the cat , the dog and the ant '.split())[0][0], 'the')   # repeated word dominates the document vector\n",
    "    def test_06(self):\n",
    "        npt.assert_almost_equal(TopWords(wv, 'mad fox flew over the happy dog'.split())[0][1], 0.8182, 4)\n",
    "    def test_07(self):\n",
    "        npt.assert_equal([w for w,_ in TopWords(wv, LsObamaWords, 5)], ['.', 'but', 'well', 'to', 'same'])\n"
   ]
  },
  {
   "cell_type": "markdown",
   "metadata": {
    "deletable": false,
    "editable": false,
    "nbgrader": {
     "cell_type": "markdown",
     "checksum": "7dc60399d6c3ae26c9d87b40f92b719e",
     "grade": false,
     "grade_id": "cell-c1bb5a22183b1c62",
     "locked": true,
     "schema_version": 3,
     "solution": false
    }
   },
   "source": [
    "# **Nearest Neighbor to the Origin**\n",
    "\n",
    "In this task, you will define a function that uses a different metric to find a vector most similar to the origin, $\\mathbf{0}^T:=[0,0,...,0]$ vector, where $\\mathbf{0}^T$ is the transpose of the vector $\\mathbf{0}$. Instead of cosine similarity, use Euclidean distance to find the nearest neighbor of a zero vector. That is, given word $[w_i]_{i=1}^p$ and Word2Vec vector function $\\mathbf{v}(w_i)\\in\\mathbb{R}^{50}$, find the word corresponding to the smallest norm of its vector:\n",
    "$$w^*:=\\text{argmin}_{w_i} ||\\mathbf{v}(w_i)-\\mathbf{0}||_2=\\text{argmin}_{w_i} ||\\mathbf{v}(w_i)||_2$$\n",
    "\n",
    "<b>Note:</b> Formally, all vectors are column vectors unless noted otherwise. The distance of any vector to the origin is just the norm of that vector. "
   ]
  },
  {
   "cell_type": "code",
   "execution_count": 8,
   "metadata": {
    "deletable": false,
    "nbgrader": {
     "cell_type": "code",
     "checksum": "5485370808eb959caf6cde6d974bfe3d",
     "grade": false,
     "grade_id": "NN0_answer",
     "locked": false,
     "schema_version": 3,
     "solution": true
    }
   },
   "outputs": [],
   "source": [
    "def NN0(wv, LsWords=['Cat', 'in', 'the', 'hat']) -> (str, float):\n",
    "    ''' Among LCV words in LsWords find the one nearest \n",
    "        to the origin vector (a.k.a. zero vector).\n",
    "    wv: Gensim's word2vec model\n",
    "    Return: tuple (word from LsWord, its norm) in decreasing order of norm.\n",
    "        If none is found, return None. '''\n",
    "    LCV_words = LCV(wv, LsWords)\n",
    "    if not LCV_words:\n",
    "        return None\n",
    "    word_norms = []\n",
    "    for word in LCV_words:\n",
    "        word_vector = wv[word]\n",
    "        norm = np.linalg.norm(word_vector)\n",
    "        word_norms.append((word, norm))\n",
    "    word_norms = sorted(word_norms, key=lambda x: x[1])\n",
    "    return word_norms[0] if word_norms else None"
   ]
  },
  {
   "cell_type": "code",
   "execution_count": 9,
   "metadata": {
    "code_folding": [],
    "deletable": false,
    "editable": false,
    "nbgrader": {
     "cell_type": "code",
     "checksum": "222339f43286d0a579bbeff7fb4bb912",
     "grade": true,
     "grade_id": "NN0_test",
     "locked": true,
     "points": 1,
     "schema_version": 3,
     "solution": false
    }
   },
   "outputs": [
    {
     "name": "stdout",
     "output_type": "stream",
     "text": [
      "Ran 4 tests in 0.153s\n",
      "\n",
      "\u001b[1m\u001b[34mOK\u001b[0m\n",
      "test_00 (__main__.test_NN0) ... \u001b[1m\u001b[34mok\u001b[0m\n",
      "test_01 (__main__.test_NN0) ... \u001b[1m\u001b[34mok\u001b[0m\n",
      "test_02 (__main__.test_NN0) ... \u001b[1m\u001b[34mok\u001b[0m\n",
      "test_03 (__main__.test_NN0) ... \u001b[1m\u001b[34mok\u001b[0m\n",
      "\n",
      "----------------------------------------------------------------------\n",
      "\n"
     ]
    }
   ],
   "source": [
    "# TEST & AUTOGRADE CELL\n",
    "@run_unittest\n",
    "class test_NN0(unittest.TestCase):\n",
    "    def test_00(self):   \n",
    "        npt.assert_equal(NN0(wv, ['deep_','learning_']), None)\n",
    "    def test_01(self): \n",
    "        npt.assert_equal(NN0(wv, ['a','the','and'])[0], 'and')\n",
    "    def test_02(self): \n",
    "        npt.assert_equal(NN0(wv, wv.index_to_key[:1000])[0], 'brought')\n",
    "    def test_03(self): \n",
    "        npt.assert_equal(NN0(wv, wv.index_to_key[:10000])[0], 'likewise')\n"
   ]
  },
  {
   "cell_type": "markdown",
   "metadata": {
    "deletable": false,
    "editable": false,
    "nbgrader": {
     "cell_type": "markdown",
     "checksum": "7eb08610ef819658678090ce2c0d15b8",
     "grade": false,
     "grade_id": "cell-b5767a38c619799f",
     "locked": true,
     "schema_version": 3,
     "solution": false
    }
   },
   "source": [
    "# **Nearest Presidential Speech**\n",
    "\n",
    "In this task, you will convert several presidential speech documents to document vectors and find the most similar speech given a particular presidential speech.\n",
    "\n",
    "You would expect that vectors of the Obama speeches would be closer to each other than to the document vectors of other presidents, but it turns out to be not the case. One cause is that the vectors and the model are too simple to capture the language complexity for larger documents. Another problem is that averaging entire documents makes all documents alike because there are many more \"generic\" words in each speech than specific words identifying the specific president. Note that the phrases, complex expressions, and sequential ordering of the words in the speech (which would be exceptionally helpful in better capturing the semantics of a document) are ignored.\n"
   ]
  },
  {
   "cell_type": "code",
   "execution_count": 10,
   "metadata": {
    "deletable": false,
    "nbgrader": {
     "cell_type": "code",
     "checksum": "7b71795eaf8147c4138091efb0cb9a71",
     "grade": false,
     "grade_id": "NN_Pres_anwer",
     "locked": false,
     "schema_version": 3,
     "solution": true
    }
   },
   "outputs": [],
   "source": [
    "def is_valid_fid(fid):\n",
    "    try:\n",
    "        find(f\"corpora/inaugural/{fid}\")\n",
    "        return True\n",
    "    except LookupError:\n",
    "        return False\n",
    "\n",
    "def NN_Pres(wv, sQryFID='1945-Roosevelt.txt', LvCorpusFID=['1865-Lincoln.txt', '1905-Roosevelt.txt']) -> (str, float):\n",
    "    ''' For each file id (FID) in LvCorpusFID of presidential inaugural speeches,\n",
    "          compute a document vector using DV() function and identify FID closest to the vector of \n",
    "          query speech in sQryFID. If sQryFID appears in LvCorpusFID, drop it from the list.\n",
    "    wv: Gensim's word2vec model\n",
    "    Return: tuple (file id, cosine similarity) or None if valid results cannot be produced '''\n",
    "    out = ('dummy', 0.0)  # Default output value\n",
    "    if not is_valid_fid(sQryFID):\n",
    "        return None\n",
    "    if sQryFID in LvCorpusFID:\n",
    "        LvCorpusFID.remove(sQryFID)\n",
    "    LvCorpusFID = [fid for fid in LvCorpusFID if is_valid_fid(fid)]\n",
    "    if not LvCorpusFID:\n",
    "        return None\n",
    "    query_words = nltk.corpus.inaugural.words(sQryFID)\n",
    "    query_vector = DV(wv, query_words)\n",
    "    if query_vector is None or np.all(query_vector == 0):\n",
    "        return None\n",
    "    max_similarity = -1\n",
    "    best_fid = None\n",
    "    for fid in LvCorpusFID:\n",
    "        corpus_words = nltk.corpus.inaugural.words(fid)\n",
    "        corpus_vector = DV(wv, corpus_words)\n",
    "        if corpus_vector is None or np.all(corpus_vector == 0):\n",
    "            continue\n",
    "        similarity = 1 - cosine(query_vector, corpus_vector)\n",
    "        if similarity > max_similarity:\n",
    "            max_similarity = similarity\n",
    "            best_fid = fid\n",
    "    if best_fid is not None:\n",
    "        out = (best_fid, max_similarity)\n",
    "    return out\n"
   ]
  },
  {
   "cell_type": "code",
   "execution_count": 11,
   "metadata": {
    "code_folding": [],
    "deletable": false,
    "editable": false,
    "nbgrader": {
     "cell_type": "code",
     "checksum": "35bc3182dc66eb508bc02f4641658a4f",
     "grade": true,
     "grade_id": "NN_Pres_test",
     "locked": true,
     "points": 1,
     "schema_version": 3,
     "solution": false
    }
   },
   "outputs": [
    {
     "name": "stdout",
     "output_type": "stream",
     "text": [
      "Ran 8 tests in 0.001s\n",
      "\n",
      "\u001b[1m\u001b[31mFAILED (errors=8)\u001b[0m\n",
      "test_00 (__main__.test_NN_Pres) ... \u001b[1m\u001b[33mERROR\u001b[0m\n",
      "test_01 (__main__.test_NN_Pres) ... \u001b[1m\u001b[33mERROR\u001b[0m\n",
      "test_02 (__main__.test_NN_Pres) ... \u001b[1m\u001b[33mERROR\u001b[0m\n",
      "test_03 (__main__.test_NN_Pres) ... \u001b[1m\u001b[33mERROR\u001b[0m\n",
      "test_04 (__main__.test_NN_Pres) ... \u001b[1m\u001b[33mERROR\u001b[0m\n",
      "test_05 (__main__.test_NN_Pres) ... \u001b[1m\u001b[33mERROR\u001b[0m\n",
      "test_06 (__main__.test_NN_Pres) ... \u001b[1m\u001b[33mERROR\u001b[0m\n",
      "test_07 (__main__.test_NN_Pres) ... \u001b[1m\u001b[33mERROR\u001b[0m\n",
      "\n",
      "======================================================================\n",
      "\u001b[1m\u001b[33mERROR: test_00 (__main__.test_NN_Pres)\u001b[0m\n",
      "----------------------------------------------------------------------\n",
      "Traceback (most recent call last):\n",
      "  File \"<ipython-input-11-0789930e1123>\", line 5, in test_00\n",
      "    npt.assert_equal(NN_Pres(wv, 'bad_FID'), None)\n",
      "  File \"<ipython-input-10-8fb40bfae0f7>\", line 15, in NN_Pres\n",
      "    if not is_valid_fid(sQryFID):\n",
      "  File \"<ipython-input-10-8fb40bfae0f7>\", line 3, in is_valid_fid\n",
      "    find(f\"corpora/inaugural/{fid}\")\n",
      "NameError: name 'find' is not defined\n",
      "\n",
      "======================================================================\n",
      "\u001b[1m\u001b[33mERROR: test_01 (__main__.test_NN_Pres)\u001b[0m\n",
      "----------------------------------------------------------------------\n",
      "Traceback (most recent call last):\n",
      "  File \"<ipython-input-11-0789930e1123>\", line 7, in test_01\n",
      "    npt.assert_equal(NN_Pres(wv, '1945-Roosevelt.txt', ['bad_FID']), None)\n",
      "  File \"<ipython-input-10-8fb40bfae0f7>\", line 15, in NN_Pres\n",
      "    if not is_valid_fid(sQryFID):\n",
      "  File \"<ipython-input-10-8fb40bfae0f7>\", line 3, in is_valid_fid\n",
      "    find(f\"corpora/inaugural/{fid}\")\n",
      "NameError: name 'find' is not defined\n",
      "\n",
      "======================================================================\n",
      "\u001b[1m\u001b[33mERROR: test_02 (__main__.test_NN_Pres)\u001b[0m\n",
      "----------------------------------------------------------------------\n",
      "Traceback (most recent call last):\n",
      "  File \"<ipython-input-11-0789930e1123>\", line 10, in test_02\n",
      "    npt.assert_equal(NN_Pres(wv)[0], '1905-Roosevelt.txt')\n",
      "  File \"<ipython-input-10-8fb40bfae0f7>\", line 15, in NN_Pres\n",
      "    if not is_valid_fid(sQryFID):\n",
      "  File \"<ipython-input-10-8fb40bfae0f7>\", line 3, in is_valid_fid\n",
      "    find(f\"corpora/inaugural/{fid}\")\n",
      "NameError: name 'find' is not defined\n",
      "\n",
      "======================================================================\n",
      "\u001b[1m\u001b[33mERROR: test_03 (__main__.test_NN_Pres)\u001b[0m\n",
      "----------------------------------------------------------------------\n",
      "Traceback (most recent call last):\n",
      "  File \"<ipython-input-11-0789930e1123>\", line 12, in test_03\n",
      "    npt.assert_equal(NN_Pres(wv, '1961-Kennedy.txt', LsFID)[0], '1973-Nixon.txt')\n",
      "  File \"<ipython-input-10-8fb40bfae0f7>\", line 15, in NN_Pres\n",
      "    if not is_valid_fid(sQryFID):\n",
      "  File \"<ipython-input-10-8fb40bfae0f7>\", line 3, in is_valid_fid\n",
      "    find(f\"corpora/inaugural/{fid}\")\n",
      "NameError: name 'find' is not defined\n",
      "\n",
      "======================================================================\n",
      "\u001b[1m\u001b[33mERROR: test_04 (__main__.test_NN_Pres)\u001b[0m\n",
      "----------------------------------------------------------------------\n",
      "Traceback (most recent call last):\n",
      "  File \"<ipython-input-11-0789930e1123>\", line 14, in test_04\n",
      "    npt.assert_equal(NN_Pres(wv, '2013-Obama.txt', LsFID)[0], '1977-Carter.txt')\n",
      "  File \"<ipython-input-10-8fb40bfae0f7>\", line 15, in NN_Pres\n",
      "    if not is_valid_fid(sQryFID):\n",
      "  File \"<ipython-input-10-8fb40bfae0f7>\", line 3, in is_valid_fid\n",
      "    find(f\"corpora/inaugural/{fid}\")\n",
      "NameError: name 'find' is not defined\n",
      "\n",
      "======================================================================\n",
      "\u001b[1m\u001b[33mERROR: test_05 (__main__.test_NN_Pres)\u001b[0m\n",
      "----------------------------------------------------------------------\n",
      "Traceback (most recent call last):\n",
      "  File \"<ipython-input-11-0789930e1123>\", line 17, in test_05\n",
      "    npt.assert_almost_equal(NN_Pres(wv)[1], 0.9973, 4)\n",
      "  File \"<ipython-input-10-8fb40bfae0f7>\", line 15, in NN_Pres\n",
      "    if not is_valid_fid(sQryFID):\n",
      "  File \"<ipython-input-10-8fb40bfae0f7>\", line 3, in is_valid_fid\n",
      "    find(f\"corpora/inaugural/{fid}\")\n",
      "NameError: name 'find' is not defined\n",
      "\n",
      "======================================================================\n",
      "\u001b[1m\u001b[33mERROR: test_06 (__main__.test_NN_Pres)\u001b[0m\n",
      "----------------------------------------------------------------------\n",
      "Traceback (most recent call last):\n",
      "  File \"<ipython-input-11-0789930e1123>\", line 19, in test_06\n",
      "    npt.assert_almost_equal(NN_Pres(wv, '1961-Kennedy.txt', LsFID)[1], .999, 4)\n",
      "  File \"<ipython-input-10-8fb40bfae0f7>\", line 15, in NN_Pres\n",
      "    if not is_valid_fid(sQryFID):\n",
      "  File \"<ipython-input-10-8fb40bfae0f7>\", line 3, in is_valid_fid\n",
      "    find(f\"corpora/inaugural/{fid}\")\n",
      "NameError: name 'find' is not defined\n",
      "\n",
      "======================================================================\n",
      "\u001b[1m\u001b[33mERROR: test_07 (__main__.test_NN_Pres)\u001b[0m\n",
      "----------------------------------------------------------------------\n",
      "Traceback (most recent call last):\n",
      "  File \"<ipython-input-11-0789930e1123>\", line 21, in test_07\n",
      "    npt.assert_almost_equal(NN_Pres(wv, '2013-Obama.txt', LsFID)[1], .9993, 4)\n",
      "  File \"<ipython-input-10-8fb40bfae0f7>\", line 15, in NN_Pres\n",
      "    if not is_valid_fid(sQryFID):\n",
      "  File \"<ipython-input-10-8fb40bfae0f7>\", line 3, in is_valid_fid\n",
      "    find(f\"corpora/inaugural/{fid}\")\n",
      "NameError: name 'find' is not defined\n",
      "\n",
      "----------------------------------------------------------------------\n",
      "\n"
     ]
    }
   ],
   "source": [
    "# TEST & AUTOGRADE CELL\n",
    "@run_unittest\n",
    "class test_NN_Pres(unittest.TestCase):\n",
    "    def test_00(self):  \n",
    "        npt.assert_equal(NN_Pres(wv, 'bad_FID'), None)\n",
    "    def test_01(self): \n",
    "        npt.assert_equal(NN_Pres(wv, '1945-Roosevelt.txt', ['bad_FID']), None)\n",
    "\n",
    "    def test_02(self): \n",
    "        npt.assert_equal(NN_Pres(wv)[0], '1905-Roosevelt.txt')\n",
    "    def test_03(self): \n",
    "        npt.assert_equal(NN_Pres(wv, '1961-Kennedy.txt', LsFID)[0], '1973-Nixon.txt')\n",
    "    def test_04(self): \n",
    "        npt.assert_equal(NN_Pres(wv, '2013-Obama.txt', LsFID)[0], '1977-Carter.txt')\n",
    "\n",
    "    def test_05(self): \n",
    "        npt.assert_almost_equal(NN_Pres(wv)[1], 0.9973, 4)\n",
    "    def test_06(self): \n",
    "        npt.assert_almost_equal(NN_Pres(wv, '1961-Kennedy.txt', LsFID)[1], .999, 4)\n",
    "    def test_07(self): \n",
    "        npt.assert_almost_equal(NN_Pres(wv, '2013-Obama.txt', LsFID)[1], .9993, 4)\n"
   ]
  },
  {
   "cell_type": "markdown",
   "metadata": {
    "deletable": false,
    "editable": false,
    "nbgrader": {
     "cell_type": "markdown",
     "checksum": "e8cb32cf945d45d78d3d3d39d3e16d04",
     "grade": false,
     "grade_id": "cell-90026b57cf98761e",
     "locked": true,
     "schema_version": 3,
     "solution": false,
     "task": false
    }
   },
   "source": [
    "# **Cumulative Mean**\n",
    "\n",
    "Next, you will visualize the averaging effect on the elements of the document vector by completing the following UDF, `CumMean`. First, compute a cumulative mean of the given input vector, `x`. Recall that the cumulative mean is simply the mean of all points in the dataset."
   ]
  },
  {
   "cell_type": "code",
   "execution_count": 12,
   "metadata": {
    "deletable": false,
    "nbgrader": {
     "cell_type": "code",
     "checksum": "90e43578e7cee6428040de51923c7553",
     "grade": false,
     "grade_id": "CumMean_answer",
     "locked": false,
     "schema_version": 3,
     "solution": true
    }
   },
   "outputs": [],
   "source": [
    "def CumMean(x=np.array([0,1,2])) -> np.array([float]):\n",
    "    ''' For the 1D array x, return an array y that is a cumulative mean of elements of x. \n",
    "      Hint: you can use np.cumsum() function and scale each element by its index,\n",
    "      which starts with 1 and ends with a length of x.\n",
    "      Length of y is the same as length of x and their first elements are equal.\n",
    "      wv: Gensim's word2vec model  '''\n",
    "    if len(x) == 0:\n",
    "        return np.array([])\n",
    "    y = np.cumsum(x)\n",
    "    return y / (np.arange(1, len(x) + 1))"
   ]
  },
  {
   "cell_type": "code",
   "execution_count": 13,
   "metadata": {
    "code_folding": [],
    "deletable": false,
    "editable": false,
    "nbgrader": {
     "cell_type": "code",
     "checksum": "3ea5acf5e79fc1f19556e0fe82dcd789",
     "grade": true,
     "grade_id": "CumMean_test",
     "locked": true,
     "points": 1,
     "schema_version": 3,
     "solution": false
    }
   },
   "outputs": [
    {
     "name": "stdout",
     "output_type": "stream",
     "text": [
      "Ran 5 tests in 0.001s\n",
      "\n",
      "\u001b[1m\u001b[34mOK\u001b[0m\n",
      "test_00 (__main__.test_CumMean) ... \u001b[1m\u001b[34mok\u001b[0m\n",
      "test_01 (__main__.test_CumMean) ... \u001b[1m\u001b[34mok\u001b[0m\n",
      "test_02 (__main__.test_CumMean) ... \u001b[1m\u001b[34mok\u001b[0m\n",
      "test_03 (__main__.test_CumMean) ... \u001b[1m\u001b[34mok\u001b[0m\n",
      "test_04 (__main__.test_CumMean) ... \u001b[1m\u001b[34mok\u001b[0m\n",
      "\n",
      "----------------------------------------------------------------------\n",
      "\n"
     ]
    }
   ],
   "source": [
    "# TEST & AUTOGRADE CELL\n",
    "@run_unittest\n",
    "class test_CumMean(unittest.TestCase):\n",
    "    def test_00(self):  \n",
    "        npt.assert_equal(CumMean([]), np.array([]))\n",
    "    def test_01(self):  \n",
    "        npt.assert_equal(CumMean([0,1,2]), np.array([0., 0.5, 1.]))\n",
    "    def test_02(self):  \n",
    "        npt.assert_equal(CumMean([0,1,2,3]), np.array([0., 0.5, 1., 1.5]))\n",
    "    def test_03(self):  \n",
    "        npt.assert_equal(CumMean([0,1,2,3,4]), np.array([0., 0.5, 1., 1.5, 2.]))\n",
    "    def test_04(self):  \n",
    "        npt.assert_almost_equal(CumMean(wv['hi'][:6]), np.array([-0.543 , -0.099 ,  0.024 ,  0.281, -0.009, -0.219]), 3)\n"
   ]
  },
  {
   "cell_type": "markdown",
   "metadata": {
    "deletable": false,
    "editable": false,
    "nbgrader": {
     "cell_type": "markdown",
     "checksum": "d522fb362f009469352863f65e378acd",
     "grade": false,
     "grade_id": "cell-c17196b470342bc5",
     "locked": true,
     "schema_version": 3,
     "solution": false
    }
   },
   "source": [
    "# **Pick Positional Value**\n",
    "\n",
    "Next, you will draw the vector value from a specified position, `nPos`, for each word in the document, `LsWords`. This will allow you to build a visualization for changes in means of just one real value in the specified position of a document vector in a 2D plot. In other words, you will focus on working with and understanding just one value in a vector, rather than all values in a vector."
   ]
  },
  {
   "cell_type": "code",
   "execution_count": 14,
   "metadata": {
    "deletable": false,
    "nbgrader": {
     "cell_type": "code",
     "checksum": "0d0638adf817faa9c0619d00129a4bda",
     "grade": false,
     "grade_id": "PickPosValues_answer",
     "locked": false,
     "schema_version": 3,
     "solution": true
    }
   },
   "outputs": [],
   "source": [
    "def PickPosValues(wv, LsWords=['NLP', 'is'], nPos=0) -> [float]:\n",
    "    ''' Retrieve word vectors for each word in LsWords.\n",
    "        Then extract the value at nPos position from each vector.\n",
    "    wv: Gensim's word2vec model\n",
    "    Return: a list of numeric values from nPos positions of word vectors \n",
    "        or [] if no words are found '''\n",
    "    out = []  # Initialize output list\n",
    "    for word in LsWords:\n",
    "        normalized_word = word.lower()\n",
    "        if normalized_word in wv:\n",
    "            vector = wv[normalized_word]\n",
    "            if 0 <= nPos < len(vector):\n",
    "                out.append(float(vector[nPos]))\n",
    "#             else:\n",
    "#                 print(f\"Warning: nPos {nPos} is out of bounds for word '{word}'\")\n",
    "#         else:\n",
    "#             print(f\"Warning: '{word}' not found in vocabulary.\")\n",
    "    return out"
   ]
  },
  {
   "cell_type": "code",
   "execution_count": 15,
   "metadata": {
    "code_folding": [],
    "deletable": false,
    "editable": false,
    "nbgrader": {
     "cell_type": "code",
     "checksum": "e90a99f6e474d3cee9ae6fdf3a214b55",
     "grade": true,
     "grade_id": "PickPosValues_test",
     "locked": true,
     "points": 1,
     "schema_version": 3,
     "solution": false
    }
   },
   "outputs": [
    {
     "name": "stdout",
     "output_type": "stream",
     "text": [
      "Ran 7 tests in 0.015s\n",
      "\n",
      "\u001b[1m\u001b[34mOK\u001b[0m\n",
      "test_00 (__main__.test_PickPosValues) ... \u001b[1m\u001b[34mok\u001b[0m\n",
      "test_01 (__main__.test_PickPosValues) ... \u001b[1m\u001b[34mok\u001b[0m\n",
      "test_02 (__main__.test_PickPosValues) ... \u001b[1m\u001b[34mok\u001b[0m\n",
      "test_03 (__main__.test_PickPosValues) ... \u001b[1m\u001b[34mok\u001b[0m\n",
      "test_04 (__main__.test_PickPosValues) ... \u001b[1m\u001b[34mok\u001b[0m\n",
      "test_05 (__main__.test_PickPosValues) ... \u001b[1m\u001b[34mok\u001b[0m\n",
      "test_06 (__main__.test_PickPosValues) ... \u001b[1m\u001b[34mok\u001b[0m\n",
      "\n",
      "----------------------------------------------------------------------\n",
      "\n"
     ]
    }
   ],
   "source": [
    "# TEST & AUTOGRADE CELL\n",
    "@run_unittest\n",
    "class test_PickPosValues(unittest.TestCase):\n",
    "    def test_00(self):\n",
    "        npt.assert_equal(PickPosValues(wv, ['nlp_']), [])\n",
    "    def test_01(self):\n",
    "        npt.assert_almost_equal(PickPosValues(wv, ['NLP']), [-.6721], 3)\n",
    "    def test_02(self):\n",
    "        npt.assert_almost_equal(PickPosValues(wv, ['NLP','is']), [-.672,  .619], 3)\n",
    "    def test_03(self):\n",
    "        npt.assert_almost_equal(PickPosValues(wv, ['NLP','is', 'fun']), [-.672, .619, -.238], 3)\n",
    "    def test_04(self):\n",
    "        npt.assert_almost_equal(PickPosValues(wv, ['NLP','is', 'fun', '!']), [-.672,  .619, -.238, -.584], 3)\n",
    "    def test_05(self):\n",
    "        npt.assert_almost_equal(sum(PickPosValues(wv, LsObamaWords[:10])), 0.5302, 4)\n",
    "    def test_06(self):\n",
    "        npt.assert_almost_equal(sum(PickPosValues(wv, LsObamaWords)), 688.3026, 4)\n",
    "        "
   ]
  },
  {
   "cell_type": "markdown",
   "metadata": {
    "deletable": false,
    "editable": false,
    "nbgrader": {
     "cell_type": "markdown",
     "checksum": "b62a4c29d267343ea563d9c90e0abba7",
     "grade": false,
     "grade_id": "cell-f1cf3e5f073de131",
     "locked": true,
     "schema_version": 3,
     "solution": false
    }
   },
   "source": [
    "# **Cumulative Mean in Position**\n",
    " \n",
    "Finally, you will combine the previous two UDFs to retrieve the cumulative mean at a specific position of the document vector. To do so, apply `PickPosValues()` to `LsWords` and then apply `CumMean()` to the output. The first few values will vary markedly, but the cumulative mean quickly stabilizes at approximately the same value across all lengthy documents. This stabilization confirms that vector averaging is suitable for short documents and phrases with few stopwords."
   ]
  },
  {
   "cell_type": "code",
   "execution_count": 16,
   "metadata": {
    "deletable": false,
    "nbgrader": {
     "cell_type": "code",
     "checksum": "1dd5631b1910e0c286cecf080a54f921",
     "grade": false,
     "grade_id": "CumMeanInPos_answer",
     "locked": false,
     "schema_version": 3,
     "solution": true
    }
   },
   "outputs": [],
   "source": [
    "import numpy as np\n",
    "\n",
    "def CumMeanInPos(wv, LsWords=['Hi', 'from', 'Mars', '!'], nPos=0, nSkip=50) -> np.array:\n",
    "    '''Compute cumulative mean of the value in the nPos position of the\n",
    "       word vectors of LCV words in LsWords. Use PickPosValues() and CumMean().\n",
    "       Drop the first nSkip values before returning the result.'''\n",
    "    pos_values = PickPosValues(wv, LsWords, nPos)\n",
    "    cumulative_mean = CumMean(np.array(pos_values))\n",
    "    if len(cumulative_mean) > nSkip:\n",
    "        return cumulative_mean[nSkip:]\n",
    "    else:\n",
    "        return np.array([])"
   ]
  },
  {
   "cell_type": "code",
   "execution_count": 17,
   "metadata": {
    "code_folding": [],
    "deletable": false,
    "editable": false,
    "nbgrader": {
     "cell_type": "code",
     "checksum": "9998a7e7b9754899bc48cb5fdafb1158",
     "grade": true,
     "grade_id": "CumMeanInPos_test",
     "locked": true,
     "points": 1,
     "schema_version": 3,
     "solution": false
    }
   },
   "outputs": [
    {
     "name": "stdout",
     "output_type": "stream",
     "text": [
      "Ran 7 tests in 0.046s\n",
      "\n",
      "\u001b[1m\u001b[34mOK\u001b[0m\n",
      "test_00 (__main__.test_CumMeanInPos) ... \u001b[1m\u001b[34mok\u001b[0m\n",
      "test_01 (__main__.test_CumMeanInPos) ... \u001b[1m\u001b[34mok\u001b[0m\n",
      "test_02 (__main__.test_CumMeanInPos) ... \u001b[1m\u001b[34mok\u001b[0m\n",
      "test_03 (__main__.test_CumMeanInPos) ... \u001b[1m\u001b[34mok\u001b[0m\n",
      "test_04 (__main__.test_CumMeanInPos) ... \u001b[1m\u001b[34mok\u001b[0m\n",
      "test_05 (__main__.test_CumMeanInPos) ... \u001b[1m\u001b[34mok\u001b[0m\n",
      "test_06 (__main__.test_CumMeanInPos) ... \u001b[1m\u001b[34mok\u001b[0m\n",
      "\n",
      "----------------------------------------------------------------------\n",
      "\n"
     ]
    }
   ],
   "source": [
    "# TEST & AUTOGRADE CELL\n",
    "@run_unittest\n",
    "class test_CumMeanInPos(unittest.TestCase):\n",
    "    def test_00(self):\n",
    "        npt.assert_equal(CumMeanInPos(wv, ['']), np.array([]))\n",
    "    def test_01(self):\n",
    "        npt.assert_equal(CumMeanInPos(wv, nPos=0, nSkip=10), np.array([]))\n",
    "    def test_02(self):\n",
    "        npt.assert_almost_equal(CumMeanInPos(wv, nPos=1, nSkip=0), np.array([.344, .229, .457, .44]), 3)\n",
    "    def test_03(self):\n",
    "        npt.assert_almost_equal(CumMeanInPos(wv, nPos=2, nSkip=2), np.array([.297, .386]), 3)\n",
    "    def test_04(self):\n",
    "        npt.assert_almost_equal(CumMeanInPos(wv, LsObamaWords, nPos=0, nSkip=1)[:5], np.array([-.041, .023, -.003, -.002, .099]), 3)\n",
    "    def test_05(self):\n",
    "        npt.assert_almost_equal(CumMeanInPos(wv, LsObamaWords)[-9:], np.array([0.294]*9), 3)  # final cumulative mean values are nearly cosntant\n",
    "    def test_06(self):\n",
    "        npt.assert_almost_equal(CumMeanInPos(wv, LsObamaWords).sum(), 662.88, 3)\n"
   ]
  },
  {
   "cell_type": "markdown",
   "metadata": {
    "deletable": false,
    "editable": false,
    "nbgrader": {
     "cell_type": "markdown",
     "checksum": "f4ad3d05da885af48199ad36a34919ea",
     "grade": false,
     "grade_id": "cell-c9a3d6ca15010c0b",
     "locked": true,
     "schema_version": 3,
     "solution": false
    }
   },
   "source": [
    "# **Visualization of Cumulative Means**\n",
    "\n",
    "Run the following code to create a visualization of the cumulative mean for several presidential speeches. Examine the plot, noticing the variability of the cumulative means for the shorter excerpts from speeches compared to those with more words. If you try a different value position in a cumulative mean vector, the cumulative mean will stabilize at a different value, but the overall pattern of the plot will be similar, i.e., volatile initially for the first few hundred words. So, document vectors from large documents tend to converge."
   ]
  },
  {
   "cell_type": "code",
   "execution_count": 18,
   "metadata": {
    "deletable": false,
    "editable": false,
    "nbgrader": {
     "cell_type": "code",
     "checksum": "0c573d71b24f3eece21526ebe590f4aa",
     "grade": false,
     "grade_id": "cell-fb0a4fe2dfdfc33d",
     "locked": true,
     "schema_version": 3,
     "solution": false
    }
   },
   "outputs": [
    {
     "data": {
      "image/png": "[encoded data removed]",
      "text/plain": [
       "<Figure size 1440x504 with 1 Axes>"
      ]
     },
     "metadata": {
      "needs_background": "light"
     },
     "output_type": "display_data"
    }
   ],
   "source": [
    "nDim = 2\n",
    "LTsLongestSpeeches = sorted([(fid, len(nltk.corpus.inaugural.words(fid))) for fid in LsFID], key=lambda x: -x[1])[2:10]\n",
    "LvCumMean = [CumMeanInPos(wv, nltk.corpus.inaugural.words(fid), nDim) for fid, _ in LTsLongestSpeeches]\n",
    "sTitle = f'Cumulative mean of dimension {nDim} for several presidential speeches'\n",
    "pd.DataFrame(LvCumMean, index=LTsLongestSpeeches).T.plot(figsize=(20,7), grid=True, title=sTitle);"
   ]
  },
  {
   "cell_type": "code",
   "execution_count": null,
   "metadata": {},
   "outputs": [],
   "source": []
  }
 ],
 "metadata": {
  "anaconda-cloud": {},
  "kernelspec": {
   "display_name": "Python 3",
   "language": "python",
   "name": "python3"
  },
  "language_info": {
   "codemirror_mode": {
    "name": "ipython",
    "version": 3
   },
   "file_extension": ".py",
   "mimetype": "text/x-python",
   "name": "python",
   "nbconvert_exporter": "python",
   "pygments_lexer": "ipython3",
   "version": "3.6.9"
  },
  "toc": {
   "base_numbering": 1,
   "nav_menu": {},
   "number_sections": false,
   "sideBar": true,
   "skip_h1_title": false,
   "title_cell": "Table of Contents",
   "title_sidebar": "Contents",
   "toc_cell": false,
   "toc_position": {},
   "toc_section_display": true,
   "toc_window_display": false
  },
  "varInspector": {
   "cols": {
    "lenName": 16,
    "lenType": 16,
    "lenVar": 40
   },
   "kernels_config": {
    "python": {
     "delete_cmd_postfix": "",
     "delete_cmd_prefix": "del ",
     "library": "var_list.py",
     "varRefreshCmd": "print(var_dic_list())"
    },
    "r": {
     "delete_cmd_postfix": ") ",
     "delete_cmd_prefix": "rm(",
     "library": "var_list.r",
     "varRefreshCmd": "cat(var_dic_list()) "
    }
   },
   "types_to_exclude": [
    "module",
    "function",
    "builtin_function_or_method",
    "instance",
    "_Feature"
   ],
   "window_display": false
  }
 },
 "nbformat": 4,
 "nbformat_minor": 1
}
