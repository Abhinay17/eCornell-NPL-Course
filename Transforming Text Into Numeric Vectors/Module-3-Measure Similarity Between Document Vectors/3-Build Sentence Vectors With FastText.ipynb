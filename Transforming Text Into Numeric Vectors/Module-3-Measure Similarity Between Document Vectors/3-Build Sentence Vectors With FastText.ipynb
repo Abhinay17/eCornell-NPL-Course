{
 "cells": [
  {
   "cell_type": "markdown",
   "metadata": {},
   "source": [
    "# **Setup**\n",
    " \n",
    "Reset the Python environment to clear it of any previously loaded variables, functions, or libraries. Then, import the libraries needed to complete the code Professor Melnikov presented in the video."
   ]
  },
  {
   "cell_type": "code",
   "execution_count": 1,
   "metadata": {},
   "outputs": [
    {
     "name": "stdout",
     "output_type": "stream",
     "text": [
      "gensim 4.2.0, numpy 1.19.5, spacy 3.4.1\n"
     ]
    }
   ],
   "source": [
    "%reset -f\n",
    "from IPython.core.interactiveshell import InteractiveShell as IS\n",
    "IS.ast_node_interactivity = \"all\"    # allows multiple outputs from a cell\n",
    "import pandas as pd, numpy as np, seaborn as sns, matplotlib.pyplot as plt, gensim, nltk, spacy\n",
    "from collections import Counter\n",
    "from gensim.models import FastText\n",
    "from spacy.lang.en import English\n",
    "\n",
    "np.set_printoptions(linewidth=10000, precision=2, edgeitems=10, suppress=True)\n",
    "pd.set_option('max_rows', 100, 'max_columns', 1000, 'max_colwidth', 1000, 'precision', 2, 'display.max_rows', 4)\n",
    "print(f'gensim {gensim.__version__}, numpy {np.__version__}, spacy {spacy.__version__}')"
   ]
  },
  {
   "cell_type": "markdown",
   "metadata": {},
   "source": [
    "<hr style=\"border-top: 2px solid #606366; background: transparent;\">\n",
    "\n",
    "# **Review**\n",
    "\n",
    "In this notebook, you'll practice creating vector representations of sentences and using them to compute similarity among those sentences. \n",
    "\n",
    "Start by using `cosine` distance from the `scipy` library, then deduct it from 1 to convert it to cosine similarity. Alternatively, you can also compute it as a dot product of two unit-length vectors."
   ]
  },
  {
   "cell_type": "code",
   "execution_count": 2,
   "metadata": {},
   "outputs": [],
   "source": [
    "from scipy.spatial.distance import cosine\n",
    "# CS = lambda x,y: 1 - cosine(x,y)   # we convert distance to similarity\n",
    "unit = lambda v: v / (v@v)**0.5      # stretch/shrink vector to make it unit length\n",
    "CS = lambda x, y: unit(x) @ unit(y)  # cosine similarity is a dot product of standardized vectors"
   ]
  },
  {
   "cell_type": "markdown",
   "metadata": {},
   "source": [
    "## **Training a FastText Model**"
   ]
  },
  {
   "cell_type": "markdown",
   "metadata": {},
   "source": [
    "Many pre-trained FastText models are available from Facebook, but the smallest one is ~3GB, so it is slow to load the exercise here.\n",
    "\n",
    "<details style=\"margin-top:20px;border-radius:20px\">\n",
    "    <summary>\n",
    "        <div id=\"button\" style=\"background-color:#eee;padding:10px;border:1px solid black;border-radius:20px\">\n",
    "            <font color=#B31B1B>▶ </font> \n",
    "            File formats for models\n",
    "        </div>\n",
    "    </summary>\n",
    "    <div id=\"button_info\" style=\"padding:10px\">\n",
    "        These models, which are available for download on the <a href=\"https://fasttext.cc/docs/en/crawl-vectors.html\">fasttext.cc</a> website, are commonly compressed into a zip file in two file formats:\n",
    "        \n",
    "<ol>\n",
    "    <li><b>.vec</b> file is just a text file with a set of word vectors and is very similar to Word2Vec we saw earlier. It can only produce vectors for words in a fixed vocabulary and throws an error for the out-of-vocabulary words. This is basically a dictionary mapping words to their vectors. It cannot be post-trained any further.</li>\n",
    "    <li><b>.bin</b> file is a binary file containing a pre-trained neural network model, which, when loaded, generates word vectors even for out-of-vocabulary words. It does so by decomposing a query word into subwords (n-grams), computing vectors for each n-gram, and averaging all n-gram vectors into a single vector representation for the queried word. Notably, this model can be post-trained on an additional or more specific corpus.</li>\n",
    "        </ol>\n",
    "    </div>\n",
    "</details>"
   ]
  },
  {
   "cell_type": "markdown",
   "metadata": {},
   "source": [
    "Thus, you will quickly train your own FastText model instead, with the following steps:\n",
    " \n",
    "1. Find a representative corpus, which is suitable for your NLP problem.\n",
    "1. Parse the corpus into a list of sentences, which is a list of word tokens.\n",
    "1. Pass this list of lists of strings to `FastText()` with suitable hyperparameters.\n",
    " "
   ]
  },
  {
   "cell_type": "markdown",
   "metadata": {},
   "source": [
    "### Explore and Preprocess the MSHA Dataset\n",
    "\n",
    "You will train your FastText model on the Mine Safety and Health Administration (MSHA) corpus. This corpus, which contains brief reports of industrial incidents over a period of 15 years, 2003-2018, is relatively specific and uses a small vocabulary of body parts, injury types, and work settings. Although the quality of the model depends on the amount of training data, you will only use a few thousand of the 177K+ available reports to decrease training time.\n",
    " \n",
    "Load the MSHA dataset, extract `'NARRATIVE'` reports, replace any `NaN` values with an empty string, and lowercase all text to reduce the vocabulary size."
   ]
  },
  {
   "cell_type": "code",
   "execution_count": 3,
   "metadata": {},
   "outputs": [
    {
     "data": {
      "text/html": [
       "<div>\n",
       "<style scoped>\n",
       "    .dataframe tbody tr th:only-of-type {\n",
       "        vertical-align: middle;\n",
       "    }\n",
       "\n",
       "    .dataframe tbody tr th {\n",
       "        vertical-align: top;\n",
       "    }\n",
       "\n",
       "    .dataframe thead th {\n",
       "        text-align: right;\n",
       "    }\n",
       "</style>\n",
       "<table border=\"1\" class=\"dataframe\">\n",
       "  <thead>\n",
       "    <tr style=\"text-align: right;\">\n",
       "      <th></th>\n",
       "      <th>NARRATIVE</th>\n",
       "    </tr>\n",
       "  </thead>\n",
       "  <tbody>\n",
       "    <tr>\n",
       "      <th>170698</th>\n",
       "      <td>mechanic was not an employee of the tml pettibone. he was installing the track on a trackhoe after replacing the final drive. the mechanic had a piece of pipe in the rail link fastened to a chain and attached to a fel. the fel was pulling the track back in place. the mechanic was guiging the track over the rollers with the end of the pipe which extended past the track and perpendicular to the track. the weight of the track or some other obstruction caused the pipe to yeild and bend. the fel operator didnot get the signal to stop. the pipe bent. the chain came off the pipe and crushed the mechanics hand.</td>\n",
       "    </tr>\n",
       "    <tr>\n",
       "      <th>44521</th>\n",
       "      <td>ee was transporting an empty ibc bag on forklift. he was holding top of bag w/his left hand against top of rops of forklift. bottom of bag got caught under front tire of forklift. when this ha ppened, the wheel grabbed bag &amp; pulled it out of his hand. as this happened the strap on ibc bag caught his finger as the tension tightened. this caused a laceration &amp; simple fracture to fing</td>\n",
       "    </tr>\n",
       "    <tr>\n",
       "      <th>...</th>\n",
       "      <td>...</td>\n",
       "    </tr>\n",
       "    <tr>\n",
       "      <th>170207</th>\n",
       "      <td>injury was lowering a 400 watt flood light fixture which was attached to the top of a 10' piece of 2\" rigid conduit. after loosening the jamb bolts, and removing the pin that holds the pipe in place; the pipe slid through his hands and before he could stop the pipe and fixture from slamming down it smashed the tips of the two middle fingers on his left hand.</td>\n",
       "    </tr>\n",
       "    <tr>\n",
       "      <th>147007</th>\n",
       "      <td>employee was attempting to trim some skirt rubber from a dump point. employee used pliers in left hand to bend the skirt rubber back to assist in trimming the skirt. with a utility knife in right hand, employee cut away from body. the knife slipped out of the skirt rubber and lacerated the base of left thumb/hand which was slightly out in front of the knife.</td>\n",
       "    </tr>\n",
       "  </tbody>\n",
       "</table>\n",
       "<p>10000 rows × 1 columns</p>\n",
       "</div>"
      ],
      "text/plain": [
       "                                                                                                                                                                                                                                                                                                                                                                                                                                                                                                                                                                                                                                 NARRATIVE\n",
       "170698  mechanic was not an employee of the tml pettibone. he was installing the track on a trackhoe after replacing the final drive. the mechanic had a piece of pipe in the rail link fastened to a chain and attached to a fel. the fel was pulling the track back in place. the mechanic was guiging the track over the rollers with the end of the pipe which extended past the track and perpendicular to the track. the weight of the track or some other obstruction caused the pipe to yeild and bend. the fel operator didnot get the signal to stop. the pipe bent. the chain came off the pipe and crushed the mechanics hand.\n",
       "44521                                                                                                                                                                                                                                     ee was transporting an empty ibc bag on forklift. he was holding top of bag w/his left hand against top of rops of forklift. bottom of bag got caught under front tire of forklift. when this ha ppened, the wheel grabbed bag & pulled it out of his hand. as this happened the strap on ibc bag caught his finger as the tension tightened. this caused a laceration & simple fracture to fing\n",
       "...                                                                                                                                                                                                                                                                                                                                                                                                                                                                                                                                                                                                                                    ...\n",
       "170207                                                                                                                                                                                                                                                            injury was lowering a 400 watt flood light fixture which was attached to the top of a 10' piece of 2\" rigid conduit. after loosening the jamb bolts, and removing the pin that holds the pipe in place; the pipe slid through his hands and before he could stop the pipe and fixture from slamming down it smashed the tips of the two middle fingers on his left hand.\n",
       "147007                                                                                                                                                                                                                                                            employee was attempting to trim some skirt rubber from a dump point. employee used pliers in left hand to bend the skirt rubber back to assist in trimming the skirt. with a utility knife in right hand, employee cut away from body. the knife slipped out of the skirt rubber and lacerated the base of left thumb/hand which was slightly out in front of the knife.\n",
       "\n",
       "[10000 rows x 1 columns]"
      ]
     },
     "execution_count": 3,
     "metadata": {},
     "output_type": "execute_result"
    }
   ],
   "source": [
    "dfAll = pd.read_csv('msha_2003-2018.zip', compression='zip').fillna('')  # replace NaN with empty string\n",
    "dfAll['INJ_BODY_PART'] = dfAll['INJ_BODY_PART'].apply(lambda s: s.replace('/',', ').replace('(S)','').lower()) # clean up categories\n",
    "dfAll['NARRATIVE'] = dfAll['NARRATIVE'].str.lower()  # lower case narratives\n",
    "dfAll['Len'] = dfAll['NARRATIVE'].apply(len)         # narrative's character length\n",
    "SRaw = dfAll.sort_values('Len', ascending=False).head(10000)['NARRATIVE']  # Pandas Series of 10000 longest narratives\n",
    "SRaw.to_frame()                                      # display as a dataframe"
   ]
  },
  {
   "cell_type": "markdown",
   "metadata": {},
   "source": [
    "Next, tokenize each report into a list of word tokens using [SpaCy](https://spacy.io/usage/spacy-101)'s `nlp()` object."
   ]
  },
  {
   "cell_type": "code",
   "execution_count": 4,
   "metadata": {},
   "outputs": [
    {
     "data": {
      "text/html": [
       "<div>\n",
       "<style scoped>\n",
       "    .dataframe tbody tr th:only-of-type {\n",
       "        vertical-align: middle;\n",
       "    }\n",
       "\n",
       "    .dataframe tbody tr th {\n",
       "        vertical-align: top;\n",
       "    }\n",
       "\n",
       "    .dataframe thead th {\n",
       "        text-align: right;\n",
       "    }\n",
       "</style>\n",
       "<table border=\"1\" class=\"dataframe\">\n",
       "  <thead>\n",
       "    <tr style=\"text-align: right;\">\n",
       "      <th></th>\n",
       "      <th>NARRATIVE</th>\n",
       "    </tr>\n",
       "  </thead>\n",
       "  <tbody>\n",
       "    <tr>\n",
       "      <th>170698</th>\n",
       "      <td>[mechanic, was, not, an, employee, of, the, tml, pettibone, ., he, was, installing, the, track, on, a, trackhoe, after, replacing, the, final, drive, ., the, mechanic, had, a, piece, of, pipe, in, the, rail, link, fastened, to, a, chain, and, attached, to, a, fel, ., the, fel, was, pulling, the, track, back, in, place, ., the, mechanic, was, guiging, the, track, over, the, rollers, with, the, end, of, the, pipe, which, extended, past, the, track, and, perpendicular, to, the, track, ., the, weight, of, the, track, or, some, other, obstruction, caused, the, pipe, to, yeild, and, bend, ., the, fel, ...]</td>\n",
       "    </tr>\n",
       "    <tr>\n",
       "      <th>44521</th>\n",
       "      <td>[ee, was, transporting, an, empty, ibc, bag, on, forklift, ., he, was, holding, top, of, bag, w, /, his, left, hand, against, top, of, rops, of, forklift, ., bottom, of, bag, got, caught, under, front, tire, of, forklift, ., when, this, ha, ppened, ,, the, wheel, grabbed, bag, &amp;, pulled, it, out, of, his, hand, ., as, this, happened, the, strap, on, ibc, bag, caught, his, finger, as, the, tension, tightened, ., this, caused, a, laceration, &amp;, simple, fracture, to, fing]</td>\n",
       "    </tr>\n",
       "    <tr>\n",
       "      <th>...</th>\n",
       "      <td>...</td>\n",
       "    </tr>\n",
       "    <tr>\n",
       "      <th>170207</th>\n",
       "      <td>[injury, was, lowering, a, 400, watt, flood, light, fixture, which, was, attached, to, the, top, of, a, 10, ', piece, of, 2, \", rigid, conduit, ., after, loosening, the, jamb, bolts, ,, and, removing, the, pin, that, holds, the, pipe, in, place, ;, the, pipe, slid, through, his, hands, and, before, he, could, stop, the, pipe, and, fixture, from, slamming, down, it, smashed, the, tips, of, the, two, middle, fingers, on, his, left, hand, .]</td>\n",
       "    </tr>\n",
       "    <tr>\n",
       "      <th>147007</th>\n",
       "      <td>[employee, was, attempting, to, trim, some, skirt, rubber, from, a, dump, point, ., employee, used, pliers, in, left, hand, to, bend, the, skirt, rubber, back, to, assist, in, trimming, the, skirt, ., with, a, utility, knife, in, right, hand, ,, employee, cut, away, from, body, ., the, knife, slipped, out, of, the, skirt, rubber, and, lacerated, the, base, of, left, thumb, /, hand, which, was, slightly, out, in, front, of, the, knife, .]</td>\n",
       "    </tr>\n",
       "  </tbody>\n",
       "</table>\n",
       "<p>10000 rows × 1 columns</p>\n",
       "</div>"
      ],
      "text/plain": [
       "                                                                                                                                                                                                                                                                                                                                                                                                                                                                                                                                                                                                                              NARRATIVE\n",
       "170698  [mechanic, was, not, an, employee, of, the, tml, pettibone, ., he, was, installing, the, track, on, a, trackhoe, after, replacing, the, final, drive, ., the, mechanic, had, a, piece, of, pipe, in, the, rail, link, fastened, to, a, chain, and, attached, to, a, fel, ., the, fel, was, pulling, the, track, back, in, place, ., the, mechanic, was, guiging, the, track, over, the, rollers, with, the, end, of, the, pipe, which, extended, past, the, track, and, perpendicular, to, the, track, ., the, weight, of, the, track, or, some, other, obstruction, caused, the, pipe, to, yeild, and, bend, ., the, fel, ...]\n",
       "44521                                                                                                                                        [ee, was, transporting, an, empty, ibc, bag, on, forklift, ., he, was, holding, top, of, bag, w, /, his, left, hand, against, top, of, rops, of, forklift, ., bottom, of, bag, got, caught, under, front, tire, of, forklift, ., when, this, ha, ppened, ,, the, wheel, grabbed, bag, &, pulled, it, out, of, his, hand, ., as, this, happened, the, strap, on, ibc, bag, caught, his, finger, as, the, tension, tightened, ., this, caused, a, laceration, &, simple, fracture, to, fing]\n",
       "...                                                                                                                                                                                                                                                                                                                                                                                                                                                                                                                                                                                                                                 ...\n",
       "170207                                                                                                                                                                       [injury, was, lowering, a, 400, watt, flood, light, fixture, which, was, attached, to, the, top, of, a, 10, ', piece, of, 2, \", rigid, conduit, ., after, loosening, the, jamb, bolts, ,, and, removing, the, pin, that, holds, the, pipe, in, place, ;, the, pipe, slid, through, his, hands, and, before, he, could, stop, the, pipe, and, fixture, from, slamming, down, it, smashed, the, tips, of, the, two, middle, fingers, on, his, left, hand, .]\n",
       "147007                                                                                                                                                                        [employee, was, attempting, to, trim, some, skirt, rubber, from, a, dump, point, ., employee, used, pliers, in, left, hand, to, bend, the, skirt, rubber, back, to, assist, in, trimming, the, skirt, ., with, a, utility, knife, in, right, hand, ,, employee, cut, away, from, body, ., the, knife, slipped, out, of, the, skirt, rubber, and, lacerated, the, base, of, left, thumb, /, hand, which, was, slightly, out, in, front, of, the, knife, .]\n",
       "\n",
       "[10000 rows x 1 columns]"
      ]
     },
     "execution_count": 4,
     "metadata": {},
     "output_type": "execute_result"
    }
   ],
   "source": [
    "nlp = English(disable=['tagger', 'parser', 'ner'])  # disabled models save processing time in Spacy\n",
    "tokenize = lambda text: [t.text.lower() for t in nlp(text)]  # takes a sentences string and produces a list of tokens\n",
    "STok = SRaw.apply(tokenize)  # Pandas Series of lists of tokens\n",
    "STok.to_frame()"
   ]
  },
  {
   "cell_type": "markdown",
   "metadata": {},
   "source": [
    "### Train the FastText Model\n",
    "\n",
    "Next, you'll train the model and save it to a binary file for later retrieval. Saving/loading is convenient, particularly if the model takes hours or days to train. Also, periodically saving the model minimizes the risk of losing the model due to corpus or system errors during training.\n",
    "<details style=\"margin-top:20px;border-radius:20px\">\n",
    "    <summary>\n",
    "        <div id=\"button\" style=\"background-color:#eee;padding:10px;border:1px solid black;border-radius:20px\">\n",
    "            <font color=#B31B1B>▶ </font> \n",
    "            <b>FastText Hyperparameters</b>\n",
    "        </div>\n",
    "    </summary>\n",
    "    <div id=\"button_info\" style=\"padding:10px\">\n",
    "\n",
    "Use `?FastText` to view and learn about default hyperparameters. Here are some of the key hyperparameters: <br>\n",
    "        \n",
    "`vector size` is the dimensionality of the vector embedding. For a large corpus, such as Google News or Wikipedia, you would train a model with larger-size vectors to better capture different relations between words. Choosing the suitable dimension is a combination of art, intuition, experience, and statistics. <br>\n",
    " \n",
    "`workers` is the number of CPUs used for training. You can only use those that are available to us. Codio offers eight CPUs for each Jupyter Notebook instance. Typically, more CPUs results in faster training. \n",
    " \n",
    "`epochs` is the number of passes through the corpus while the model is learning the embedding vectors. Typically, more is better, but it also may lead to overfitting, where the model simply memorizes the existing associations of words in the corpus and does not generalize to a different text. A larger number of epochs requires more training time.\n",
    "    </div>\n",
    "</details>"
   ]
  },
  {
   "cell_type": "code",
   "execution_count": 5,
   "metadata": {},
   "outputs": [
    {
     "name": "stdout",
     "output_type": "stream",
     "text": [
      "CPU times: user 1min 10s, sys: 1.79 s, total: 1min 12s\n",
      "Wall time: 14 s\n"
     ]
    }
   ],
   "source": [
    "# train the model with an list (or iterable) of lists of strings\n",
    "%time ft = FastText(sentences=STok, vector_size=50, workers=8, epochs=10)\n",
    "# ftmodel.save('msha.bin')                         # save model for later use\n",
    "# ft = FastText.load('msha.bin')                   # load saved model"
   ]
  },
  {
   "cell_type": "markdown",
   "metadata": {},
   "source": [
    "## **Evaluate the Trained FastText Model**"
   ]
  },
  {
   "cell_type": "markdown",
   "metadata": {},
   "source": [
    "Check the resulting vector size."
   ]
  },
  {
   "cell_type": "code",
   "execution_count": 6,
   "metadata": {},
   "outputs": [
    {
     "data": {
      "text/plain": [
       "50"
      ]
     },
     "execution_count": 6,
     "metadata": {},
     "output_type": "execute_result"
    }
   ],
   "source": [
    "ft.vector_size"
   ]
  },
  {
   "cell_type": "markdown",
   "metadata": {},
   "source": [
    "`LsVocab` is a list of all word tokens appearing in all narratives of the series `STok`. It is built via a double loop (or list comprehension). The first loop iterates over narratives (each being a list of words) in a series `STok`. The second loop iterates over the words in the given narrative. In essence, it is a flattening (or concatenation) of a container of lists of words into a single large list.\n",
    "\n",
    "Use the `Counter()` object to identify the top `n` most frequent tokens, which are packed into a Pandas DataFrame `dfVocab` with columns `word` displaying the word string and `freq` displaying the count of the word. The first column is set as the index of the DataFrame.\n",
    "\n",
    "The ordered DataFrame is displayed horizontally and in color for readability and more effective use of the screen real estate.\n",
    "\n",
    "Not surprisingly, the most frequent words are punctuation and common stopwords, such as `'the'`, `'to'`, `'and'`, etc.,  which appear often in different parts of text. The words `'ee'` (employee) and `'employee'` also appear often and could potentially be considered a stopword since it may not help in distinguishing different narratives."
   ]
  },
  {
   "cell_type": "code",
   "execution_count": 7,
   "metadata": {},
   "outputs": [
    {
     "data": {
      "text/html": [
       "<style  type=\"text/css\" >\n",
       "#T_8c6ef7e6_e950_11ef_aec0_00003411e544row0_col0{\n",
       "            background-color:  #b40426;\n",
       "            color:  #f1f1f1;\n",
       "        }#T_8c6ef7e6_e950_11ef_aec0_00003411e544row0_col1{\n",
       "            background-color:  #d95847;\n",
       "            color:  #000000;\n",
       "        }#T_8c6ef7e6_e950_11ef_aec0_00003411e544row0_col2{\n",
       "            background-color:  #c9d7f0;\n",
       "            color:  #000000;\n",
       "        }#T_8c6ef7e6_e950_11ef_aec0_00003411e544row0_col3{\n",
       "            background-color:  #c3d5f4;\n",
       "            color:  #000000;\n",
       "        }#T_8c6ef7e6_e950_11ef_aec0_00003411e544row0_col4{\n",
       "            background-color:  #adc9fd;\n",
       "            color:  #000000;\n",
       "        }#T_8c6ef7e6_e950_11ef_aec0_00003411e544row0_col5{\n",
       "            background-color:  #9dbdff;\n",
       "            color:  #000000;\n",
       "        }#T_8c6ef7e6_e950_11ef_aec0_00003411e544row0_col6{\n",
       "            background-color:  #8fb1fe;\n",
       "            color:  #000000;\n",
       "        }#T_8c6ef7e6_e950_11ef_aec0_00003411e544row0_col7{\n",
       "            background-color:  #89acfd;\n",
       "            color:  #000000;\n",
       "        }#T_8c6ef7e6_e950_11ef_aec0_00003411e544row0_col8{\n",
       "            background-color:  #88abfd;\n",
       "            color:  #000000;\n",
       "        }#T_8c6ef7e6_e950_11ef_aec0_00003411e544row0_col9{\n",
       "            background-color:  #7ea1fa;\n",
       "            color:  #000000;\n",
       "        }#T_8c6ef7e6_e950_11ef_aec0_00003411e544row0_col10{\n",
       "            background-color:  #6f92f3;\n",
       "            color:  #000000;\n",
       "        }#T_8c6ef7e6_e950_11ef_aec0_00003411e544row0_col11{\n",
       "            background-color:  #6e90f2;\n",
       "            color:  #000000;\n",
       "        }#T_8c6ef7e6_e950_11ef_aec0_00003411e544row0_col12{\n",
       "            background-color:  #6788ee;\n",
       "            color:  #000000;\n",
       "        }#T_8c6ef7e6_e950_11ef_aec0_00003411e544row0_col13{\n",
       "            background-color:  #6687ed;\n",
       "            color:  #000000;\n",
       "        }#T_8c6ef7e6_e950_11ef_aec0_00003411e544row0_col14{\n",
       "            background-color:  #5f7fe8;\n",
       "            color:  #000000;\n",
       "        }#T_8c6ef7e6_e950_11ef_aec0_00003411e544row0_col15{\n",
       "            background-color:  #506bda;\n",
       "            color:  #000000;\n",
       "        }#T_8c6ef7e6_e950_11ef_aec0_00003411e544row0_col16{\n",
       "            background-color:  #4f69d9;\n",
       "            color:  #000000;\n",
       "        }#T_8c6ef7e6_e950_11ef_aec0_00003411e544row0_col17{\n",
       "            background-color:  #4b64d5;\n",
       "            color:  #f1f1f1;\n",
       "        }#T_8c6ef7e6_e950_11ef_aec0_00003411e544row0_col18{\n",
       "            background-color:  #485fd1;\n",
       "            color:  #f1f1f1;\n",
       "        }#T_8c6ef7e6_e950_11ef_aec0_00003411e544row0_col19{\n",
       "            background-color:  #465ecf;\n",
       "            color:  #f1f1f1;\n",
       "        }#T_8c6ef7e6_e950_11ef_aec0_00003411e544row0_col20,#T_8c6ef7e6_e950_11ef_aec0_00003411e544row0_col21,#T_8c6ef7e6_e950_11ef_aec0_00003411e544row0_col22{\n",
       "            background-color:  #455cce;\n",
       "            color:  #f1f1f1;\n",
       "        }#T_8c6ef7e6_e950_11ef_aec0_00003411e544row0_col23,#T_8c6ef7e6_e950_11ef_aec0_00003411e544row0_col24{\n",
       "            background-color:  #445acc;\n",
       "            color:  #f1f1f1;\n",
       "        }#T_8c6ef7e6_e950_11ef_aec0_00003411e544row0_col25,#T_8c6ef7e6_e950_11ef_aec0_00003411e544row0_col26{\n",
       "            background-color:  #4358cb;\n",
       "            color:  #f1f1f1;\n",
       "        }#T_8c6ef7e6_e950_11ef_aec0_00003411e544row0_col27,#T_8c6ef7e6_e950_11ef_aec0_00003411e544row0_col28,#T_8c6ef7e6_e950_11ef_aec0_00003411e544row0_col29{\n",
       "            background-color:  #4257c9;\n",
       "            color:  #f1f1f1;\n",
       "        }#T_8c6ef7e6_e950_11ef_aec0_00003411e544row0_col30,#T_8c6ef7e6_e950_11ef_aec0_00003411e544row0_col31,#T_8c6ef7e6_e950_11ef_aec0_00003411e544row0_col32,#T_8c6ef7e6_e950_11ef_aec0_00003411e544row0_col33{\n",
       "            background-color:  #3f53c6;\n",
       "            color:  #f1f1f1;\n",
       "        }#T_8c6ef7e6_e950_11ef_aec0_00003411e544row0_col34,#T_8c6ef7e6_e950_11ef_aec0_00003411e544row0_col35,#T_8c6ef7e6_e950_11ef_aec0_00003411e544row0_col36,#T_8c6ef7e6_e950_11ef_aec0_00003411e544row0_col37{\n",
       "            background-color:  #3e51c5;\n",
       "            color:  #f1f1f1;\n",
       "        }#T_8c6ef7e6_e950_11ef_aec0_00003411e544row0_col38,#T_8c6ef7e6_e950_11ef_aec0_00003411e544row0_col39,#T_8c6ef7e6_e950_11ef_aec0_00003411e544row0_col40{\n",
       "            background-color:  #3d50c3;\n",
       "            color:  #f1f1f1;\n",
       "        }#T_8c6ef7e6_e950_11ef_aec0_00003411e544row0_col41,#T_8c6ef7e6_e950_11ef_aec0_00003411e544row0_col42,#T_8c6ef7e6_e950_11ef_aec0_00003411e544row0_col43,#T_8c6ef7e6_e950_11ef_aec0_00003411e544row0_col44{\n",
       "            background-color:  #3c4ec2;\n",
       "            color:  #f1f1f1;\n",
       "        }#T_8c6ef7e6_e950_11ef_aec0_00003411e544row0_col45,#T_8c6ef7e6_e950_11ef_aec0_00003411e544row0_col46,#T_8c6ef7e6_e950_11ef_aec0_00003411e544row0_col47,#T_8c6ef7e6_e950_11ef_aec0_00003411e544row0_col48,#T_8c6ef7e6_e950_11ef_aec0_00003411e544row0_col49{\n",
       "            background-color:  #3b4cc0;\n",
       "            color:  #f1f1f1;\n",
       "        }</style><table id=\"T_8c6ef7e6_e950_11ef_aec0_00003411e544\" ><thead>    <tr>        <th class=\"index_name level0\" >word</th>        <th class=\"col_heading level0 col0\" >the</th>        <th class=\"col_heading level0 col1\" >.</th>        <th class=\"col_heading level0 col2\" >to</th>        <th class=\"col_heading level0 col3\" >was</th>        <th class=\"col_heading level0 col4\" >a</th>        <th class=\"col_heading level0 col5\" >and</th>        <th class=\"col_heading level0 col6\" >,</th>        <th class=\"col_heading level0 col7\" >on</th>        <th class=\"col_heading level0 col8\" >of</th>        <th class=\"col_heading level0 col9\" >he</th>        <th class=\"col_heading level0 col10\" >his</th>        <th class=\"col_heading level0 col11\" >in</th>        <th class=\"col_heading level0 col12\" >ee</th>        <th class=\"col_heading level0 col13\" >employee</th>        <th class=\"col_heading level0 col14\" > </th>        <th class=\"col_heading level0 col15\" >-</th>        <th class=\"col_heading level0 col16\" >&</th>        <th class=\"col_heading level0 col17\" >with</th>        <th class=\"col_heading level0 col18\" >at</th>        <th class=\"col_heading level0 col19\" >it</th>        <th class=\"col_heading level0 col20\" >that</th>        <th class=\"col_heading level0 col21\" >when</th>        <th class=\"col_heading level0 col22\" >from</th>        <th class=\"col_heading level0 col23\" >left</th>        <th class=\"col_heading level0 col24\" >not</th>        <th class=\"col_heading level0 col25\" >right</th>        <th class=\"col_heading level0 col26\" >for</th>        <th class=\"col_heading level0 col27\" >work</th>        <th class=\"col_heading level0 col28\" >had</th>        <th class=\"col_heading level0 col29\" >back</th>        <th class=\"col_heading level0 col30\" >an</th>        <th class=\"col_heading level0 col31\" >fall</th>        <th class=\"col_heading level0 col32\" >off</th>        <th class=\"col_heading level0 col33\" >up</th>        <th class=\"col_heading level0 col34\" >out</th>        <th class=\"col_heading level0 col35\" >as</th>        <th class=\"col_heading level0 col36\" >this</th>        <th class=\"col_heading level0 col37\" >were</th>        <th class=\"col_heading level0 col38\" >hand</th>        <th class=\"col_heading level0 col39\" >while</th>        <th class=\"col_heading level0 col40\" >by</th>        <th class=\"col_heading level0 col41\" >no</th>        <th class=\"col_heading level0 col42\" >'s</th>        <th class=\"col_heading level0 col43\" >roof</th>        <th class=\"col_heading level0 col44\" >'</th>        <th class=\"col_heading level0 col45\" >pain</th>        <th class=\"col_heading level0 col46\" >area</th>        <th class=\"col_heading level0 col47\" >#</th>        <th class=\"col_heading level0 col48\" >\"</th>        <th class=\"col_heading level0 col49\" >into</th>    </tr></thead><tbody>\n",
       "                <tr>\n",
       "                        <th id=\"T_8c6ef7e6_e950_11ef_aec0_00003411e544level0_row0\" class=\"row_heading level0 row0\" >freq</th>\n",
       "                        <td id=\"T_8c6ef7e6_e950_11ef_aec0_00003411e544row0_col0\" class=\"data row0 col0\" >50555</td>\n",
       "                        <td id=\"T_8c6ef7e6_e950_11ef_aec0_00003411e544row0_col1\" class=\"data row0 col1\" >45068</td>\n",
       "                        <td id=\"T_8c6ef7e6_e950_11ef_aec0_00003411e544row0_col2\" class=\"data row0 col2\" >22645</td>\n",
       "                        <td id=\"T_8c6ef7e6_e950_11ef_aec0_00003411e544row0_col3\" class=\"data row0 col3\" >21619</td>\n",
       "                        <td id=\"T_8c6ef7e6_e950_11ef_aec0_00003411e544row0_col4\" class=\"data row0 col4\" >18375</td>\n",
       "                        <td id=\"T_8c6ef7e6_e950_11ef_aec0_00003411e544row0_col5\" class=\"data row0 col5\" >16155</td>\n",
       "                        <td id=\"T_8c6ef7e6_e950_11ef_aec0_00003411e544row0_col6\" class=\"data row0 col6\" >14243</td>\n",
       "                        <td id=\"T_8c6ef7e6_e950_11ef_aec0_00003411e544row0_col7\" class=\"data row0 col7\" >13552</td>\n",
       "                        <td id=\"T_8c6ef7e6_e950_11ef_aec0_00003411e544row0_col8\" class=\"data row0 col8\" >13265</td>\n",
       "                        <td id=\"T_8c6ef7e6_e950_11ef_aec0_00003411e544row0_col9\" class=\"data row0 col9\" >11993</td>\n",
       "                        <td id=\"T_8c6ef7e6_e950_11ef_aec0_00003411e544row0_col10\" class=\"data row0 col10\" >9942</td>\n",
       "                        <td id=\"T_8c6ef7e6_e950_11ef_aec0_00003411e544row0_col11\" class=\"data row0 col11\" >9727</td>\n",
       "                        <td id=\"T_8c6ef7e6_e950_11ef_aec0_00003411e544row0_col12\" class=\"data row0 col12\" >8613</td>\n",
       "                        <td id=\"T_8c6ef7e6_e950_11ef_aec0_00003411e544row0_col13\" class=\"data row0 col13\" >8425</td>\n",
       "                        <td id=\"T_8c6ef7e6_e950_11ef_aec0_00003411e544row0_col14\" class=\"data row0 col14\" >7558</td>\n",
       "                        <td id=\"T_8c6ef7e6_e950_11ef_aec0_00003411e544row0_col15\" class=\"data row0 col15\" >5212</td>\n",
       "                        <td id=\"T_8c6ef7e6_e950_11ef_aec0_00003411e544row0_col16\" class=\"data row0 col16\" >5015</td>\n",
       "                        <td id=\"T_8c6ef7e6_e950_11ef_aec0_00003411e544row0_col17\" class=\"data row0 col17\" >4485</td>\n",
       "                        <td id=\"T_8c6ef7e6_e950_11ef_aec0_00003411e544row0_col18\" class=\"data row0 col18\" >3902</td>\n",
       "                        <td id=\"T_8c6ef7e6_e950_11ef_aec0_00003411e544row0_col19\" class=\"data row0 col19\" >3657</td>\n",
       "                        <td id=\"T_8c6ef7e6_e950_11ef_aec0_00003411e544row0_col20\" class=\"data row0 col20\" >3594</td>\n",
       "                        <td id=\"T_8c6ef7e6_e950_11ef_aec0_00003411e544row0_col21\" class=\"data row0 col21\" >3590</td>\n",
       "                        <td id=\"T_8c6ef7e6_e950_11ef_aec0_00003411e544row0_col22\" class=\"data row0 col22\" >3534</td>\n",
       "                        <td id=\"T_8c6ef7e6_e950_11ef_aec0_00003411e544row0_col23\" class=\"data row0 col23\" >3384</td>\n",
       "                        <td id=\"T_8c6ef7e6_e950_11ef_aec0_00003411e544row0_col24\" class=\"data row0 col24\" >3355</td>\n",
       "                        <td id=\"T_8c6ef7e6_e950_11ef_aec0_00003411e544row0_col25\" class=\"data row0 col25\" >3103</td>\n",
       "                        <td id=\"T_8c6ef7e6_e950_11ef_aec0_00003411e544row0_col26\" class=\"data row0 col26\" >3090</td>\n",
       "                        <td id=\"T_8c6ef7e6_e950_11ef_aec0_00003411e544row0_col27\" class=\"data row0 col27\" >3060</td>\n",
       "                        <td id=\"T_8c6ef7e6_e950_11ef_aec0_00003411e544row0_col28\" class=\"data row0 col28\" >3056</td>\n",
       "                        <td id=\"T_8c6ef7e6_e950_11ef_aec0_00003411e544row0_col29\" class=\"data row0 col29\" >2937</td>\n",
       "                        <td id=\"T_8c6ef7e6_e950_11ef_aec0_00003411e544row0_col30\" class=\"data row0 col30\" >2679</td>\n",
       "                        <td id=\"T_8c6ef7e6_e950_11ef_aec0_00003411e544row0_col31\" class=\"data row0 col31\" >2577</td>\n",
       "                        <td id=\"T_8c6ef7e6_e950_11ef_aec0_00003411e544row0_col32\" class=\"data row0 col32\" >2532</td>\n",
       "                        <td id=\"T_8c6ef7e6_e950_11ef_aec0_00003411e544row0_col33\" class=\"data row0 col33\" >2514</td>\n",
       "                        <td id=\"T_8c6ef7e6_e950_11ef_aec0_00003411e544row0_col34\" class=\"data row0 col34\" >2473</td>\n",
       "                        <td id=\"T_8c6ef7e6_e950_11ef_aec0_00003411e544row0_col35\" class=\"data row0 col35\" >2438</td>\n",
       "                        <td id=\"T_8c6ef7e6_e950_11ef_aec0_00003411e544row0_col36\" class=\"data row0 col36\" >2435</td>\n",
       "                        <td id=\"T_8c6ef7e6_e950_11ef_aec0_00003411e544row0_col37\" class=\"data row0 col37\" >2413</td>\n",
       "                        <td id=\"T_8c6ef7e6_e950_11ef_aec0_00003411e544row0_col38\" class=\"data row0 col38\" >2290</td>\n",
       "                        <td id=\"T_8c6ef7e6_e950_11ef_aec0_00003411e544row0_col39\" class=\"data row0 col39\" >2223</td>\n",
       "                        <td id=\"T_8c6ef7e6_e950_11ef_aec0_00003411e544row0_col40\" class=\"data row0 col40\" >2159</td>\n",
       "                        <td id=\"T_8c6ef7e6_e950_11ef_aec0_00003411e544row0_col41\" class=\"data row0 col41\" >2116</td>\n",
       "                        <td id=\"T_8c6ef7e6_e950_11ef_aec0_00003411e544row0_col42\" class=\"data row0 col42\" >2060</td>\n",
       "                        <td id=\"T_8c6ef7e6_e950_11ef_aec0_00003411e544row0_col43\" class=\"data row0 col43\" >2026</td>\n",
       "                        <td id=\"T_8c6ef7e6_e950_11ef_aec0_00003411e544row0_col44\" class=\"data row0 col44\" >1952</td>\n",
       "                        <td id=\"T_8c6ef7e6_e950_11ef_aec0_00003411e544row0_col45\" class=\"data row0 col45\" >1918</td>\n",
       "                        <td id=\"T_8c6ef7e6_e950_11ef_aec0_00003411e544row0_col46\" class=\"data row0 col46\" >1871</td>\n",
       "                        <td id=\"T_8c6ef7e6_e950_11ef_aec0_00003411e544row0_col47\" class=\"data row0 col47\" >1843</td>\n",
       "                        <td id=\"T_8c6ef7e6_e950_11ef_aec0_00003411e544row0_col48\" class=\"data row0 col48\" >1795</td>\n",
       "                        <td id=\"T_8c6ef7e6_e950_11ef_aec0_00003411e544row0_col49\" class=\"data row0 col49\" >1748</td>\n",
       "            </tr>\n",
       "    </tbody></table>"
      ],
      "text/plain": [
       "<pandas.io.formats.style.Styler at 0x7117ef5c9160>"
      ]
     },
     "execution_count": 7,
     "metadata": {},
     "output_type": "execute_result"
    }
   ],
   "source": [
    "LsVocab = [word for sent in STok for word in sent] # flatten list of lists to just a large list of all words\n",
    "dfVocab = pd.DataFrame(Counter(LsVocab).most_common(n=50), columns=['word','freq']).set_index('word')\n",
    "dfVocab.T.style.background_gradient(axis=1, cmap='coolwarm')"
   ]
  },
  {
   "cell_type": "markdown",
   "metadata": {},
   "source": [
    "Now observe the vector for the word `'employee'`, which is a frequent word in this vocabulary."
   ]
  },
  {
   "cell_type": "code",
   "execution_count": 8,
   "metadata": {},
   "outputs": [
    {
     "data": {
      "text/html": [
       "<style  type=\"text/css\" >\n",
       "#T_8c80bf62_e950_11ef_aec0_00003411e544row0_col0,#T_8c80bf62_e950_11ef_aec0_00003411e544row0_col10{\n",
       "            background-color:  #9ebeff;\n",
       "            color:  #000000;\n",
       "        }#T_8c80bf62_e950_11ef_aec0_00003411e544row0_col1{\n",
       "            background-color:  #a9c6fd;\n",
       "            color:  #000000;\n",
       "        }#T_8c80bf62_e950_11ef_aec0_00003411e544row0_col2{\n",
       "            background-color:  #3b4cc0;\n",
       "            color:  #f1f1f1;\n",
       "        }#T_8c80bf62_e950_11ef_aec0_00003411e544row0_col3{\n",
       "            background-color:  #eed0c0;\n",
       "            color:  #000000;\n",
       "        }#T_8c80bf62_e950_11ef_aec0_00003411e544row0_col4{\n",
       "            background-color:  #edd2c3;\n",
       "            color:  #000000;\n",
       "        }#T_8c80bf62_e950_11ef_aec0_00003411e544row0_col5,#T_8c80bf62_e950_11ef_aec0_00003411e544row0_col21,#T_8c80bf62_e950_11ef_aec0_00003411e544row0_col24{\n",
       "            background-color:  #c5d6f2;\n",
       "            color:  #000000;\n",
       "        }#T_8c80bf62_e950_11ef_aec0_00003411e544row0_col6{\n",
       "            background-color:  #ead4c8;\n",
       "            color:  #000000;\n",
       "        }#T_8c80bf62_e950_11ef_aec0_00003411e544row0_col7{\n",
       "            background-color:  #e7d7ce;\n",
       "            color:  #000000;\n",
       "        }#T_8c80bf62_e950_11ef_aec0_00003411e544row0_col8{\n",
       "            background-color:  #f1ccb8;\n",
       "            color:  #000000;\n",
       "        }#T_8c80bf62_e950_11ef_aec0_00003411e544row0_col9,#T_8c80bf62_e950_11ef_aec0_00003411e544row0_col32{\n",
       "            background-color:  #d2dbe8;\n",
       "            color:  #000000;\n",
       "        }#T_8c80bf62_e950_11ef_aec0_00003411e544row0_col11{\n",
       "            background-color:  #dddcdc;\n",
       "            color:  #000000;\n",
       "        }#T_8c80bf62_e950_11ef_aec0_00003411e544row0_col12{\n",
       "            background-color:  #b3cdfb;\n",
       "            color:  #000000;\n",
       "        }#T_8c80bf62_e950_11ef_aec0_00003411e544row0_col13{\n",
       "            background-color:  #f2cbb7;\n",
       "            color:  #000000;\n",
       "        }#T_8c80bf62_e950_11ef_aec0_00003411e544row0_col14,#T_8c80bf62_e950_11ef_aec0_00003411e544row0_col23{\n",
       "            background-color:  #b40426;\n",
       "            color:  #f1f1f1;\n",
       "        }#T_8c80bf62_e950_11ef_aec0_00003411e544row0_col15,#T_8c80bf62_e950_11ef_aec0_00003411e544row0_col40{\n",
       "            background-color:  #cad8ef;\n",
       "            color:  #000000;\n",
       "        }#T_8c80bf62_e950_11ef_aec0_00003411e544row0_col16,#T_8c80bf62_e950_11ef_aec0_00003411e544row0_col25{\n",
       "            background-color:  #ecd3c5;\n",
       "            color:  #000000;\n",
       "        }#T_8c80bf62_e950_11ef_aec0_00003411e544row0_col17{\n",
       "            background-color:  #f7b194;\n",
       "            color:  #000000;\n",
       "        }#T_8c80bf62_e950_11ef_aec0_00003411e544row0_col18,#T_8c80bf62_e950_11ef_aec0_00003411e544row0_col33{\n",
       "            background-color:  #bfd3f6;\n",
       "            color:  #000000;\n",
       "        }#T_8c80bf62_e950_11ef_aec0_00003411e544row0_col19{\n",
       "            background-color:  #e9d5cb;\n",
       "            color:  #000000;\n",
       "        }#T_8c80bf62_e950_11ef_aec0_00003411e544row0_col20{\n",
       "            background-color:  #96b7ff;\n",
       "            color:  #000000;\n",
       "        }#T_8c80bf62_e950_11ef_aec0_00003411e544row0_col22{\n",
       "            background-color:  #d55042;\n",
       "            color:  #000000;\n",
       "        }#T_8c80bf62_e950_11ef_aec0_00003411e544row0_col26{\n",
       "            background-color:  #d6dce4;\n",
       "            color:  #000000;\n",
       "        }#T_8c80bf62_e950_11ef_aec0_00003411e544row0_col27{\n",
       "            background-color:  #c3d5f4;\n",
       "            color:  #000000;\n",
       "        }#T_8c80bf62_e950_11ef_aec0_00003411e544row0_col28{\n",
       "            background-color:  #9fbfff;\n",
       "            color:  #000000;\n",
       "        }#T_8c80bf62_e950_11ef_aec0_00003411e544row0_col29{\n",
       "            background-color:  #e4d9d2;\n",
       "            color:  #000000;\n",
       "        }#T_8c80bf62_e950_11ef_aec0_00003411e544row0_col30{\n",
       "            background-color:  #7da0f9;\n",
       "            color:  #000000;\n",
       "        }#T_8c80bf62_e950_11ef_aec0_00003411e544row0_col31{\n",
       "            background-color:  #bbd1f8;\n",
       "            color:  #000000;\n",
       "        }#T_8c80bf62_e950_11ef_aec0_00003411e544row0_col34{\n",
       "            background-color:  #bed2f6;\n",
       "            color:  #000000;\n",
       "        }#T_8c80bf62_e950_11ef_aec0_00003411e544row0_col35{\n",
       "            background-color:  #88abfd;\n",
       "            color:  #000000;\n",
       "        }#T_8c80bf62_e950_11ef_aec0_00003411e544row0_col36{\n",
       "            background-color:  #f7b79b;\n",
       "            color:  #000000;\n",
       "        }#T_8c80bf62_e950_11ef_aec0_00003411e544row0_col37{\n",
       "            background-color:  #4a63d3;\n",
       "            color:  #f1f1f1;\n",
       "        }#T_8c80bf62_e950_11ef_aec0_00003411e544row0_col38{\n",
       "            background-color:  #cedaeb;\n",
       "            color:  #000000;\n",
       "        }#T_8c80bf62_e950_11ef_aec0_00003411e544row0_col39{\n",
       "            background-color:  #799cf8;\n",
       "            color:  #000000;\n",
       "        }#T_8c80bf62_e950_11ef_aec0_00003411e544row0_col41{\n",
       "            background-color:  #dcdddd;\n",
       "            color:  #000000;\n",
       "        }#T_8c80bf62_e950_11ef_aec0_00003411e544row0_col42{\n",
       "            background-color:  #f7a688;\n",
       "            color:  #000000;\n",
       "        }#T_8c80bf62_e950_11ef_aec0_00003411e544row0_col43{\n",
       "            background-color:  #4f69d9;\n",
       "            color:  #000000;\n",
       "        }#T_8c80bf62_e950_11ef_aec0_00003411e544row0_col44{\n",
       "            background-color:  #89acfd;\n",
       "            color:  #000000;\n",
       "        }#T_8c80bf62_e950_11ef_aec0_00003411e544row0_col45{\n",
       "            background-color:  #c73635;\n",
       "            color:  #f1f1f1;\n",
       "        }#T_8c80bf62_e950_11ef_aec0_00003411e544row0_col46{\n",
       "            background-color:  #d3dbe7;\n",
       "            color:  #000000;\n",
       "        }#T_8c80bf62_e950_11ef_aec0_00003411e544row0_col47{\n",
       "            background-color:  #82a6fb;\n",
       "            color:  #000000;\n",
       "        }#T_8c80bf62_e950_11ef_aec0_00003411e544row0_col48{\n",
       "            background-color:  #97b8ff;\n",
       "            color:  #000000;\n",
       "        }#T_8c80bf62_e950_11ef_aec0_00003411e544row0_col49{\n",
       "            background-color:  #dedcdb;\n",
       "            color:  #000000;\n",
       "        }</style><table id=\"T_8c80bf62_e950_11ef_aec0_00003411e544\" ><thead>    <tr>        <th class=\"blank level0\" ></th>        <th class=\"col_heading level0 col0\" >0</th>        <th class=\"col_heading level0 col1\" >1</th>        <th class=\"col_heading level0 col2\" >2</th>        <th class=\"col_heading level0 col3\" >3</th>        <th class=\"col_heading level0 col4\" >4</th>        <th class=\"col_heading level0 col5\" >5</th>        <th class=\"col_heading level0 col6\" >6</th>        <th class=\"col_heading level0 col7\" >7</th>        <th class=\"col_heading level0 col8\" >8</th>        <th class=\"col_heading level0 col9\" >9</th>        <th class=\"col_heading level0 col10\" >10</th>        <th class=\"col_heading level0 col11\" >11</th>        <th class=\"col_heading level0 col12\" >12</th>        <th class=\"col_heading level0 col13\" >13</th>        <th class=\"col_heading level0 col14\" >14</th>        <th class=\"col_heading level0 col15\" >15</th>        <th class=\"col_heading level0 col16\" >16</th>        <th class=\"col_heading level0 col17\" >17</th>        <th class=\"col_heading level0 col18\" >18</th>        <th class=\"col_heading level0 col19\" >19</th>        <th class=\"col_heading level0 col20\" >20</th>        <th class=\"col_heading level0 col21\" >21</th>        <th class=\"col_heading level0 col22\" >22</th>        <th class=\"col_heading level0 col23\" >23</th>        <th class=\"col_heading level0 col24\" >24</th>        <th class=\"col_heading level0 col25\" >25</th>        <th class=\"col_heading level0 col26\" >26</th>        <th class=\"col_heading level0 col27\" >27</th>        <th class=\"col_heading level0 col28\" >28</th>        <th class=\"col_heading level0 col29\" >29</th>        <th class=\"col_heading level0 col30\" >30</th>        <th class=\"col_heading level0 col31\" >31</th>        <th class=\"col_heading level0 col32\" >32</th>        <th class=\"col_heading level0 col33\" >33</th>        <th class=\"col_heading level0 col34\" >34</th>        <th class=\"col_heading level0 col35\" >35</th>        <th class=\"col_heading level0 col36\" >36</th>        <th class=\"col_heading level0 col37\" >37</th>        <th class=\"col_heading level0 col38\" >38</th>        <th class=\"col_heading level0 col39\" >39</th>        <th class=\"col_heading level0 col40\" >40</th>        <th class=\"col_heading level0 col41\" >41</th>        <th class=\"col_heading level0 col42\" >42</th>        <th class=\"col_heading level0 col43\" >43</th>        <th class=\"col_heading level0 col44\" >44</th>        <th class=\"col_heading level0 col45\" >45</th>        <th class=\"col_heading level0 col46\" >46</th>        <th class=\"col_heading level0 col47\" >47</th>        <th class=\"col_heading level0 col48\" >48</th>        <th class=\"col_heading level0 col49\" >49</th>    </tr></thead><tbody>\n",
       "                <tr>\n",
       "                        <th id=\"T_8c80bf62_e950_11ef_aec0_00003411e544level0_row0\" class=\"row_heading level0 row0\" >0</th>\n",
       "                        <td id=\"T_8c80bf62_e950_11ef_aec0_00003411e544row0_col0\" class=\"data row0 col0\" >-0.73</td>\n",
       "                        <td id=\"T_8c80bf62_e950_11ef_aec0_00003411e544row0_col1\" class=\"data row0 col1\" >-0.59</td>\n",
       "                        <td id=\"T_8c80bf62_e950_11ef_aec0_00003411e544row0_col2\" class=\"data row0 col2\" >-2.21</td>\n",
       "                        <td id=\"T_8c80bf62_e950_11ef_aec0_00003411e544row0_col3\" class=\"data row0 col3\" >0.64</td>\n",
       "                        <td id=\"T_8c80bf62_e950_11ef_aec0_00003411e544row0_col4\" class=\"data row0 col4\" >0.60</td>\n",
       "                        <td id=\"T_8c80bf62_e950_11ef_aec0_00003411e544row0_col5\" class=\"data row0 col5\" >-0.16</td>\n",
       "                        <td id=\"T_8c80bf62_e950_11ef_aec0_00003411e544row0_col6\" class=\"data row0 col6\" >0.53</td>\n",
       "                        <td id=\"T_8c80bf62_e950_11ef_aec0_00003411e544row0_col7\" class=\"data row0 col7\" >0.46</td>\n",
       "                        <td id=\"T_8c80bf62_e950_11ef_aec0_00003411e544row0_col8\" class=\"data row0 col8\" >0.73</td>\n",
       "                        <td id=\"T_8c80bf62_e950_11ef_aec0_00003411e544row0_col9\" class=\"data row0 col9\" >0.06</td>\n",
       "                        <td id=\"T_8c80bf62_e950_11ef_aec0_00003411e544row0_col10\" class=\"data row0 col10\" >-0.73</td>\n",
       "                        <td id=\"T_8c80bf62_e950_11ef_aec0_00003411e544row0_col11\" class=\"data row0 col11\" >0.26</td>\n",
       "                        <td id=\"T_8c80bf62_e950_11ef_aec0_00003411e544row0_col12\" class=\"data row0 col12\" >-0.43</td>\n",
       "                        <td id=\"T_8c80bf62_e950_11ef_aec0_00003411e544row0_col13\" class=\"data row0 col13\" >0.75</td>\n",
       "                        <td id=\"T_8c80bf62_e950_11ef_aec0_00003411e544row0_col14\" class=\"data row0 col14\" >2.73</td>\n",
       "                        <td id=\"T_8c80bf62_e950_11ef_aec0_00003411e544row0_col15\" class=\"data row0 col15\" >-0.09</td>\n",
       "                        <td id=\"T_8c80bf62_e950_11ef_aec0_00003411e544row0_col16\" class=\"data row0 col16\" >0.57</td>\n",
       "                        <td id=\"T_8c80bf62_e950_11ef_aec0_00003411e544row0_col17\" class=\"data row0 col17\" >1.18</td>\n",
       "                        <td id=\"T_8c80bf62_e950_11ef_aec0_00003411e544row0_col18\" class=\"data row0 col18\" >-0.25</td>\n",
       "                        <td id=\"T_8c80bf62_e950_11ef_aec0_00003411e544row0_col19\" class=\"data row0 col19\" >0.50</td>\n",
       "                        <td id=\"T_8c80bf62_e950_11ef_aec0_00003411e544row0_col20\" class=\"data row0 col20\" >-0.85</td>\n",
       "                        <td id=\"T_8c80bf62_e950_11ef_aec0_00003411e544row0_col21\" class=\"data row0 col21\" >-0.16</td>\n",
       "                        <td id=\"T_8c80bf62_e950_11ef_aec0_00003411e544row0_col22\" class=\"data row0 col22\" >2.25</td>\n",
       "                        <td id=\"T_8c80bf62_e950_11ef_aec0_00003411e544row0_col23\" class=\"data row0 col23\" >2.72</td>\n",
       "                        <td id=\"T_8c80bf62_e950_11ef_aec0_00003411e544row0_col24\" class=\"data row0 col24\" >-0.15</td>\n",
       "                        <td id=\"T_8c80bf62_e950_11ef_aec0_00003411e544row0_col25\" class=\"data row0 col25\" >0.58</td>\n",
       "                        <td id=\"T_8c80bf62_e950_11ef_aec0_00003411e544row0_col26\" class=\"data row0 col26\" >0.12</td>\n",
       "                        <td id=\"T_8c80bf62_e950_11ef_aec0_00003411e544row0_col27\" class=\"data row0 col27\" >-0.20</td>\n",
       "                        <td id=\"T_8c80bf62_e950_11ef_aec0_00003411e544row0_col28\" class=\"data row0 col28\" >-0.72</td>\n",
       "                        <td id=\"T_8c80bf62_e950_11ef_aec0_00003411e544row0_col29\" class=\"data row0 col29\" >0.39</td>\n",
       "                        <td id=\"T_8c80bf62_e950_11ef_aec0_00003411e544row0_col30\" class=\"data row0 col30\" >-1.20</td>\n",
       "                        <td id=\"T_8c80bf62_e950_11ef_aec0_00003411e544row0_col31\" class=\"data row0 col31\" >-0.32</td>\n",
       "                        <td id=\"T_8c80bf62_e950_11ef_aec0_00003411e544row0_col32\" class=\"data row0 col32\" >0.05</td>\n",
       "                        <td id=\"T_8c80bf62_e950_11ef_aec0_00003411e544row0_col33\" class=\"data row0 col33\" >-0.25</td>\n",
       "                        <td id=\"T_8c80bf62_e950_11ef_aec0_00003411e544row0_col34\" class=\"data row0 col34\" >-0.27</td>\n",
       "                        <td id=\"T_8c80bf62_e950_11ef_aec0_00003411e544row0_col35\" class=\"data row0 col35\" >-1.05</td>\n",
       "                        <td id=\"T_8c80bf62_e950_11ef_aec0_00003411e544row0_col36\" class=\"data row0 col36\" >1.10</td>\n",
       "                        <td id=\"T_8c80bf62_e950_11ef_aec0_00003411e544row0_col37\" class=\"data row0 col37\" >-1.95</td>\n",
       "                        <td id=\"T_8c80bf62_e950_11ef_aec0_00003411e544row0_col38\" class=\"data row0 col38\" >-0.00</td>\n",
       "                        <td id=\"T_8c80bf62_e950_11ef_aec0_00003411e544row0_col39\" class=\"data row0 col39\" >-1.25</td>\n",
       "                        <td id=\"T_8c80bf62_e950_11ef_aec0_00003411e544row0_col40\" class=\"data row0 col40\" >-0.09</td>\n",
       "                        <td id=\"T_8c80bf62_e950_11ef_aec0_00003411e544row0_col41\" class=\"data row0 col41\" >0.25</td>\n",
       "                        <td id=\"T_8c80bf62_e950_11ef_aec0_00003411e544row0_col42\" class=\"data row0 col42\" >1.33</td>\n",
       "                        <td id=\"T_8c80bf62_e950_11ef_aec0_00003411e544row0_col43\" class=\"data row0 col43\" >-1.87</td>\n",
       "                        <td id=\"T_8c80bf62_e950_11ef_aec0_00003411e544row0_col44\" class=\"data row0 col44\" >-1.03</td>\n",
       "                        <td id=\"T_8c80bf62_e950_11ef_aec0_00003411e544row0_col45\" class=\"data row0 col45\" >2.47</td>\n",
       "                        <td id=\"T_8c80bf62_e950_11ef_aec0_00003411e544row0_col46\" class=\"data row0 col46\" >0.08</td>\n",
       "                        <td id=\"T_8c80bf62_e950_11ef_aec0_00003411e544row0_col47\" class=\"data row0 col47\" >-1.12</td>\n",
       "                        <td id=\"T_8c80bf62_e950_11ef_aec0_00003411e544row0_col48\" class=\"data row0 col48\" >-0.83</td>\n",
       "                        <td id=\"T_8c80bf62_e950_11ef_aec0_00003411e544row0_col49\" class=\"data row0 col49\" >0.29</td>\n",
       "            </tr>\n",
       "    </tbody></table>"
      ],
      "text/plain": [
       "<pandas.io.formats.style.Styler at 0x7117ef6addd8>"
      ]
     },
     "execution_count": 8,
     "metadata": {},
     "output_type": "execute_result"
    }
   ],
   "source": [
    "pd.DataFrame(ft.wv['employee']).T.style.background_gradient(axis=1, cmap='coolwarm')"
   ]
  },
  {
   "cell_type": "markdown",
   "metadata": {},
   "source": [
    "Now observe the resulting vector for the word `'Employeee1'`, which is not in the model's vocabulary."
   ]
  },
  {
   "cell_type": "code",
   "execution_count": 9,
   "metadata": {},
   "outputs": [
    {
     "data": {
      "text/plain": [
       "False"
      ]
     },
     "execution_count": 9,
     "metadata": {},
     "output_type": "execute_result"
    },
    {
     "data": {
      "text/html": [
       "<style  type=\"text/css\" >\n",
       "#T_8c8c4ad0_e950_11ef_aec0_00003411e544row0_col0{\n",
       "            background-color:  #b40426;\n",
       "            color:  #f1f1f1;\n",
       "        }#T_8c8c4ad0_e950_11ef_aec0_00003411e544row0_col1{\n",
       "            background-color:  #b50927;\n",
       "            color:  #f1f1f1;\n",
       "        }#T_8c8c4ad0_e950_11ef_aec0_00003411e544row0_col2{\n",
       "            background-color:  #ba162b;\n",
       "            color:  #f1f1f1;\n",
       "        }#T_8c8c4ad0_e950_11ef_aec0_00003411e544row0_col3{\n",
       "            background-color:  #f6bda2;\n",
       "            color:  #000000;\n",
       "        }#T_8c8c4ad0_e950_11ef_aec0_00003411e544row0_col4{\n",
       "            background-color:  #7396f5;\n",
       "            color:  #000000;\n",
       "        }#T_8c8c4ad0_e950_11ef_aec0_00003411e544row0_col5{\n",
       "            background-color:  #536edd;\n",
       "            color:  #000000;\n",
       "        }#T_8c8c4ad0_e950_11ef_aec0_00003411e544row0_col6{\n",
       "            background-color:  #4b64d5;\n",
       "            color:  #f1f1f1;\n",
       "        }#T_8c8c4ad0_e950_11ef_aec0_00003411e544row0_col7{\n",
       "            background-color:  #4358cb;\n",
       "            color:  #f1f1f1;\n",
       "        }#T_8c8c4ad0_e950_11ef_aec0_00003411e544row0_col8{\n",
       "            background-color:  #4055c8;\n",
       "            color:  #f1f1f1;\n",
       "        }#T_8c8c4ad0_e950_11ef_aec0_00003411e544row0_col9{\n",
       "            background-color:  #3b4cc0;\n",
       "            color:  #f1f1f1;\n",
       "        }</style><table id=\"T_8c8c4ad0_e950_11ef_aec0_00003411e544\" ><thead>    <tr>        <th class=\"index_name level0\" >word</th>        <th class=\"col_heading level0 col0\" >ee</th>        <th class=\"col_heading level0 col1\" >empl</th>        <th class=\"col_heading level0 col2\" >employer</th>        <th class=\"col_heading level0 col3\" >iee</th>        <th class=\"col_heading level0 col4\" >employment</th>        <th class=\"col_heading level0 col5\" >emp</th>        <th class=\"col_heading level0 col6\" >lee</th>        <th class=\"col_heading level0 col7\" >ie</th>        <th class=\"col_heading level0 col8\" >he</th>        <th class=\"col_heading level0 col9\" >employees</th>    </tr></thead><tbody>\n",
       "                <tr>\n",
       "                        <th id=\"T_8c8c4ad0_e950_11ef_aec0_00003411e544level0_row0\" class=\"row_heading level0 row0\" >CosSim</th>\n",
       "                        <td id=\"T_8c8c4ad0_e950_11ef_aec0_00003411e544row0_col0\" class=\"data row0 col0\" >0.90</td>\n",
       "                        <td id=\"T_8c8c4ad0_e950_11ef_aec0_00003411e544row0_col1\" class=\"data row0 col1\" >0.90</td>\n",
       "                        <td id=\"T_8c8c4ad0_e950_11ef_aec0_00003411e544row0_col2\" class=\"data row0 col2\" >0.89</td>\n",
       "                        <td id=\"T_8c8c4ad0_e950_11ef_aec0_00003411e544row0_col3\" class=\"data row0 col3\" >0.83</td>\n",
       "                        <td id=\"T_8c8c4ad0_e950_11ef_aec0_00003411e544row0_col4\" class=\"data row0 col4\" >0.74</td>\n",
       "                        <td id=\"T_8c8c4ad0_e950_11ef_aec0_00003411e544row0_col5\" class=\"data row0 col5\" >0.72</td>\n",
       "                        <td id=\"T_8c8c4ad0_e950_11ef_aec0_00003411e544row0_col6\" class=\"data row0 col6\" >0.72</td>\n",
       "                        <td id=\"T_8c8c4ad0_e950_11ef_aec0_00003411e544row0_col7\" class=\"data row0 col7\" >0.71</td>\n",
       "                        <td id=\"T_8c8c4ad0_e950_11ef_aec0_00003411e544row0_col8\" class=\"data row0 col8\" >0.71</td>\n",
       "                        <td id=\"T_8c8c4ad0_e950_11ef_aec0_00003411e544row0_col9\" class=\"data row0 col9\" >0.71</td>\n",
       "            </tr>\n",
       "    </tbody></table>"
      ],
      "text/plain": [
       "<pandas.io.formats.style.Styler at 0x7117f75949e8>"
      ]
     },
     "execution_count": 9,
     "metadata": {},
     "output_type": "execute_result"
    }
   ],
   "source": [
    "'Employeee1' in LsVocab   # check if the word is in vocabulary\n",
    "dfEmployee = pd.DataFrame(ft.wv.most_similar('employee'), columns=['word','CosSim']).set_index('word')\n",
    "dfEmployee.T.style.background_gradient(cmap='coolwarm', axis=1)"
   ]
  },
  {
   "cell_type": "markdown",
   "metadata": {},
   "source": [
    "This query word is misspelled but still can be semantically related to `'employee'`. FastText was able to build and reconstruct a reasonable vector representation of the query word. In fact, it learned its relation to `'emp'` and `'ee'`, which were likely used in the same phrases that used `'employee'`."
   ]
  },
  {
   "cell_type": "markdown",
   "metadata": {},
   "source": [
    "If a query word is unrelated to the corpus that was used to train the model, then FastText will likely still produce a vector, but of less reliable quality."
   ]
  },
  {
   "cell_type": "code",
   "execution_count": 10,
   "metadata": {},
   "outputs": [
    {
     "data": {
      "text/plain": [
       "False"
      ]
     },
     "execution_count": 10,
     "metadata": {},
     "output_type": "execute_result"
    },
    {
     "data": {
      "text/html": [
       "<style  type=\"text/css\" >\n",
       "#T_8c98ff32_e950_11ef_aec0_00003411e544row0_col0{\n",
       "            background-color:  #b40426;\n",
       "            color:  #f1f1f1;\n",
       "        }#T_8c98ff32_e950_11ef_aec0_00003411e544row0_col1{\n",
       "            background-color:  #f39475;\n",
       "            color:  #000000;\n",
       "        }#T_8c98ff32_e950_11ef_aec0_00003411e544row0_col2{\n",
       "            background-color:  #e7d7ce;\n",
       "            color:  #000000;\n",
       "        }#T_8c98ff32_e950_11ef_aec0_00003411e544row0_col3{\n",
       "            background-color:  #bad0f8;\n",
       "            color:  #000000;\n",
       "        }#T_8c98ff32_e950_11ef_aec0_00003411e544row0_col4{\n",
       "            background-color:  #b1cbfc;\n",
       "            color:  #000000;\n",
       "        }#T_8c98ff32_e950_11ef_aec0_00003411e544row0_col5{\n",
       "            background-color:  #a6c4fe;\n",
       "            color:  #000000;\n",
       "        }#T_8c98ff32_e950_11ef_aec0_00003411e544row0_col6{\n",
       "            background-color:  #8caffe;\n",
       "            color:  #000000;\n",
       "        }#T_8c98ff32_e950_11ef_aec0_00003411e544row0_col7{\n",
       "            background-color:  #7093f3;\n",
       "            color:  #000000;\n",
       "        }#T_8c98ff32_e950_11ef_aec0_00003411e544row0_col8{\n",
       "            background-color:  #485fd1;\n",
       "            color:  #f1f1f1;\n",
       "        }#T_8c98ff32_e950_11ef_aec0_00003411e544row0_col9{\n",
       "            background-color:  #3b4cc0;\n",
       "            color:  #f1f1f1;\n",
       "        }</style><table id=\"T_8c98ff32_e950_11ef_aec0_00003411e544\" ><thead>    <tr>        <th class=\"index_name level0\" >word</th>        <th class=\"col_heading level0 col0\" >elevator</th>        <th class=\"col_heading level0 col1\" >elec</th>        <th class=\"col_heading level0 col2\" >elevate</th>        <th class=\"col_heading level0 col3\" >electricity</th>        <th class=\"col_heading level0 col4\" >coolant</th>        <th class=\"col_heading level0 col5\" >electricians</th>        <th class=\"col_heading level0 col6\" >fine</th>        <th class=\"col_heading level0 col7\" >electrical</th>        <th class=\"col_heading level0 col8\" >plant</th>        <th class=\"col_heading level0 col9\" >electrician</th>    </tr></thead><tbody>\n",
       "                <tr>\n",
       "                        <th id=\"T_8c98ff32_e950_11ef_aec0_00003411e544level0_row0\" class=\"row_heading level0 row0\" >CosSim</th>\n",
       "                        <td id=\"T_8c98ff32_e950_11ef_aec0_00003411e544row0_col0\" class=\"data row0 col0\" >0.77</td>\n",
       "                        <td id=\"T_8c98ff32_e950_11ef_aec0_00003411e544row0_col1\" class=\"data row0 col1\" >0.75</td>\n",
       "                        <td id=\"T_8c98ff32_e950_11ef_aec0_00003411e544row0_col2\" class=\"data row0 col2\" >0.73</td>\n",
       "                        <td id=\"T_8c98ff32_e950_11ef_aec0_00003411e544row0_col3\" class=\"data row0 col3\" >0.72</td>\n",
       "                        <td id=\"T_8c98ff32_e950_11ef_aec0_00003411e544row0_col4\" class=\"data row0 col4\" >0.72</td>\n",
       "                        <td id=\"T_8c98ff32_e950_11ef_aec0_00003411e544row0_col5\" class=\"data row0 col5\" >0.72</td>\n",
       "                        <td id=\"T_8c98ff32_e950_11ef_aec0_00003411e544row0_col6\" class=\"data row0 col6\" >0.71</td>\n",
       "                        <td id=\"T_8c98ff32_e950_11ef_aec0_00003411e544row0_col7\" class=\"data row0 col7\" >0.71</td>\n",
       "                        <td id=\"T_8c98ff32_e950_11ef_aec0_00003411e544row0_col8\" class=\"data row0 col8\" >0.70</td>\n",
       "                        <td id=\"T_8c98ff32_e950_11ef_aec0_00003411e544row0_col9\" class=\"data row0 col9\" >0.69</td>\n",
       "            </tr>\n",
       "    </tbody></table>"
      ],
      "text/plain": [
       "<pandas.io.formats.style.Styler at 0x7117ef5639b0>"
      ]
     },
     "execution_count": 10,
     "metadata": {},
     "output_type": "execute_result"
    }
   ],
   "source": [
    "'elephant' in LsVocab\n",
    "dfOOV = pd.DataFrame(ft.wv.most_similar('elephant'), columns=['word','CosSim']).set_index('word')\n",
    "dfOOV.T.style.background_gradient(cmap='coolwarm', axis=1)"
   ]
  },
  {
   "cell_type": "markdown",
   "metadata": {},
   "source": [
    "The most similar words returned are seemingly unrelated words. The high cosine similarity score is due to a training on a rather small corpus. To have more representative word vectors, you would need a much larger corpus, which demonstrates various attributes of the given query word."
   ]
  },
  {
   "cell_type": "markdown",
   "metadata": {},
   "source": [
    "The FastText model can even build a vector for a phrase or a sentence. FastText parses the text into n-grams, ignoring the order of tokens; retrieves n-gram vectors; and computes an average vector, i.e., centroid. \n",
    "    \n",
    "Even though the phrase's n-grams are treated as an order-less bag of n-grams, you can still relate the phrase to other words and phrases semantically. Find words in the model's vocabulary which semantically relate to the given phrase `'fell down'`.\n",
    "\n",
    "Later, you will learn models that take advantage of the word order, which can make a big difference in semantic meaning. However, FastText is still an important concept, often used in practice because of its simplicity and speed, especially when terabytes of corpora must be processed \"fast\" and \"cheap.\""
   ]
  },
  {
   "cell_type": "code",
   "execution_count": 11,
   "metadata": {},
   "outputs": [
    {
     "data": {
      "text/html": [
       "<style  type=\"text/css\" >\n",
       "#T_8ca2b54a_e950_11ef_aec0_00003411e544row0_col0{\n",
       "            background-color:  #b40426;\n",
       "            color:  #f1f1f1;\n",
       "        }#T_8ca2b54a_e950_11ef_aec0_00003411e544row0_col1{\n",
       "            background-color:  #e36b54;\n",
       "            color:  #000000;\n",
       "        }#T_8ca2b54a_e950_11ef_aec0_00003411e544row0_col2{\n",
       "            background-color:  #89acfd;\n",
       "            color:  #000000;\n",
       "        }#T_8ca2b54a_e950_11ef_aec0_00003411e544row0_col3{\n",
       "            background-color:  #80a3fa;\n",
       "            color:  #000000;\n",
       "        }#T_8ca2b54a_e950_11ef_aec0_00003411e544row0_col4{\n",
       "            background-color:  #7a9df8;\n",
       "            color:  #000000;\n",
       "        }#T_8ca2b54a_e950_11ef_aec0_00003411e544row0_col5{\n",
       "            background-color:  #799cf8;\n",
       "            color:  #000000;\n",
       "        }#T_8ca2b54a_e950_11ef_aec0_00003411e544row0_col6{\n",
       "            background-color:  #4961d2;\n",
       "            color:  #f1f1f1;\n",
       "        }#T_8ca2b54a_e950_11ef_aec0_00003411e544row0_col7{\n",
       "            background-color:  #3e51c5;\n",
       "            color:  #f1f1f1;\n",
       "        }#T_8ca2b54a_e950_11ef_aec0_00003411e544row0_col8{\n",
       "            background-color:  #3d50c3;\n",
       "            color:  #f1f1f1;\n",
       "        }#T_8ca2b54a_e950_11ef_aec0_00003411e544row0_col9{\n",
       "            background-color:  #3b4cc0;\n",
       "            color:  #f1f1f1;\n",
       "        }</style><table id=\"T_8ca2b54a_e950_11ef_aec0_00003411e544\" ><thead>    <tr>        <th class=\"index_name level0\" >word</th>        <th class=\"col_heading level0 col0\" >fell</th>        <th class=\"col_heading level0 col1\" >fel</th>        <th class=\"col_heading level0 col2\" >stepped</th>        <th class=\"col_heading level0 col3\" >fellow</th>        <th class=\"col_heading level0 col4\" >dropped</th>        <th class=\"col_heading level0 col5\" >landed</th>        <th class=\"col_heading level0 col6\" >flipped</th>        <th class=\"col_heading level0 col7\" >gripped</th>        <th class=\"col_heading level0 col8\" >ripped</th>        <th class=\"col_heading level0 col9\" >dripped</th>    </tr></thead><tbody>\n",
       "                <tr>\n",
       "                        <th id=\"T_8ca2b54a_e950_11ef_aec0_00003411e544level0_row0\" class=\"row_heading level0 row0\" >CosSim</th>\n",
       "                        <td id=\"T_8ca2b54a_e950_11ef_aec0_00003411e544row0_col0\" class=\"data row0 col0\" >0.87</td>\n",
       "                        <td id=\"T_8ca2b54a_e950_11ef_aec0_00003411e544row0_col1\" class=\"data row0 col1\" >0.84</td>\n",
       "                        <td id=\"T_8ca2b54a_e950_11ef_aec0_00003411e544row0_col2\" class=\"data row0 col2\" >0.72</td>\n",
       "                        <td id=\"T_8ca2b54a_e950_11ef_aec0_00003411e544row0_col3\" class=\"data row0 col3\" >0.72</td>\n",
       "                        <td id=\"T_8ca2b54a_e950_11ef_aec0_00003411e544row0_col4\" class=\"data row0 col4\" >0.71</td>\n",
       "                        <td id=\"T_8ca2b54a_e950_11ef_aec0_00003411e544row0_col5\" class=\"data row0 col5\" >0.71</td>\n",
       "                        <td id=\"T_8ca2b54a_e950_11ef_aec0_00003411e544row0_col6\" class=\"data row0 col6\" >0.68</td>\n",
       "                        <td id=\"T_8ca2b54a_e950_11ef_aec0_00003411e544row0_col7\" class=\"data row0 col7\" >0.68</td>\n",
       "                        <td id=\"T_8ca2b54a_e950_11ef_aec0_00003411e544row0_col8\" class=\"data row0 col8\" >0.68</td>\n",
       "                        <td id=\"T_8ca2b54a_e950_11ef_aec0_00003411e544row0_col9\" class=\"data row0 col9\" >0.67</td>\n",
       "            </tr>\n",
       "    </tbody></table>"
      ],
      "text/plain": [
       "<pandas.io.formats.style.Styler at 0x7117ef5b0da0>"
      ]
     },
     "execution_count": 11,
     "metadata": {},
     "output_type": "execute_result"
    }
   ],
   "source": [
    "dfOOV = pd.DataFrame(ft.wv.most_similar('fell down'), columns=['word','CosSim']).set_index('word')\n",
    "dfOOV.T.style.background_gradient(cmap='coolwarm', axis=1)"
   ]
  },
  {
   "cell_type": "markdown",
   "metadata": {},
   "source": [
    "## **Evaluate Sentence Vectors**"
   ]
  },
  {
   "cell_type": "markdown",
   "metadata": {},
   "source": [
    "You can generate a sentence vector in at least two ways:\n",
    "1. As above, feed the full sentence to FastText, which splits the sentence into subwords, generates subword vectors, and computes their average vector, i.e., centroid.\n",
    "1. Parse the sentence on spaces into word tokens and then average their vectors to compute centroids. \n",
    " \n",
    "The resulting sentence vectors should be similar but may differ due to differences in subwords.\n",
    " \n",
    "In (1) the subwords may include spaces. For example, the phrase `'fell down the stairs'` has subwords generated on the full sentence, including `'l d'`, `'l do'`, `'ll do'`, `'ll d'`, etc., drawn from the adjacent words. There is a chance that these subwords have vectors in the FastText model. These vectors contribute to centroids.\n",
    " \n",
    "In (2) the phrase `'fell down the stairs'` has four space-separated words with their respective subwords. The subwords with spaces are not considered.\n",
    "\n",
    "Build these two types of sentence vectors and compare them. Normalize the centroids (to unit length) to make their coefficients comparable."
   ]
  },
  {
   "cell_type": "code",
   "execution_count": 12,
   "metadata": {},
   "outputs": [
    {
     "name": "stdout",
     "output_type": "stream",
     "text": [
      "Centroid vector from word strings [-0.09 -0.2  -0.04  0.14 -0.22  0.02 -0.08  0.1  -0.19 -0.17]\n",
      "Centroid vector from full string  [-0.01 -0.17  0.03  0.07 -0.2  -0.01 -0.04  0.09 -0.18 -0.13]\n",
      "Cosine Similarity: 0.90\n"
     ]
    }
   ],
   "source": [
    "sQuery = 'fell down the stairs'\n",
    "\n",
    "def GetSentVec(sSent, m:'FastText model', LsStopwords=[]):\n",
    "    '''Split the sentence into words and compute the centroid, i.e. average vector'''\n",
    "    LsWords = nltk.word_tokenize(sSent)\n",
    "    return np.mean([m.wv[w] for w in LsWords if w in m.wv and not w in LsStopwords], axis=0)\n",
    "\n",
    "vSent1 =  unit(ft.wv[sQuery])            # sentence vector built from the whole string\n",
    "vSent2 =  unit(GetSentVec(sQuery, ft))   # sentence vector built from word tokens\n",
    "\n",
    "print('Centroid vector from word strings', vSent1.round(2)[:10])\n",
    "print('Centroid vector from full string ', vSent2.round(2)[:10])\n",
    "print(f'Cosine Similarity: {CS(vSent1, vSent2):.2f}')"
   ]
  },
  {
   "cell_type": "markdown",
   "metadata": {},
   "source": [
    "It might be easier to compare these sentence vectors in a colored visualization. When juxtaposed, the colors (and even the magnitude) mostly match."
   ]
  },
  {
   "cell_type": "code",
   "execution_count": 13,
   "metadata": {},
   "outputs": [
    {
     "data": {
      "image/png": "[encoded data removed]",
      "text/plain": [
       "<Figure size 2880x72 with 1 Axes>"
      ]
     },
     "metadata": {
      "needs_background": "light"
     },
     "output_type": "display_data"
    }
   ],
   "source": [
    "plt.rcParams['figure.figsize'] = [40, 1]   # plot wider figures\n",
    "ax = sns.heatmap([vSent1, vSent2], annot=False, cmap='coolwarm', cbar=False);\n",
    "tmp = ax.set_title('Word vectors');"
   ]
  },
  {
   "cell_type": "markdown",
   "metadata": {},
   "source": [
    "<hr style=\"border-top: 2px solid #606366; background: transparent;\">\n",
    "\n",
    "# **Optional Practice**\n",
    "\n",
    "Now, equipped with these concepts and tools, you will tackle a few related tasks.\n",
    "\n",
    "As you work through these tasks, check your answers by running your code in the *#check solution here* cell, to see if you’ve gotten the correct result. If you get stuck on a task, click the See **solution** drop-down to view the answer."
   ]
  },
  {
   "cell_type": "markdown",
   "metadata": {},
   "source": [
    "## Task 1\n",
    "\n",
    "Compute cosine similarity between phrases `s1='Employee had a hand injury'` and `s2='Work resulted in a wrist fracture'` using a pre-trained `ft` model. \n",
    "\n",
    "Do you think the computed cosine similarity is reasonable, or would you expect it to be higher or lower?\n",
    "\n",
    "<b>Hint:</b> This is similar to how you computed cosine similarity above."
   ]
  },
  {
   "cell_type": "code",
   "execution_count": null,
   "metadata": {},
   "outputs": [],
   "source": [
    "# check solution here"
   ]
  },
  {
   "cell_type": "markdown",
   "metadata": {},
   "source": [
    "\n",
    "<font color=#606366>\n",
    "    <details><summary><font color=#b31b1b>▶ </font>See <b>solution</b>.</summary>\n",
    "<pre>\n",
    "s1, s2 = 'Employee had a hand injury', 'Work resulted in a wrist fracture'\n",
    "CS(ft.wv[s1], ft.wv[s2])</pre>\n",
    "\n",
    "The cosine similarity of ~0.53 is reasonable and indicates a relation, but we can still hope to improve the model and identify stronger relation between two sentences.</details>\n",
    "</font>\n",
    "<hr>"
   ]
  },
  {
   "cell_type": "markdown",
   "metadata": {},
   "source": [
    "## Task 2\n",
    " \n",
    "If you want to improve these sentence vectors, you must train the model on a more appropriate corpus. You can do this by retraining the model on sentences related to hand and wrist injuries. \n",
    "\n",
    "First, print the different available injury categories and look at the corresponding counts of narratives.\n",
    "\n",
    "Then, using these results, note which one(s) are appropriate for training a model related to hand and wrist.\n",
    "\n",
    "<b>Hint:</b> Try using <code>value_counts()</code> method to compute counts of rows within each category."
   ]
  },
  {
   "cell_type": "code",
   "execution_count": null,
   "metadata": {},
   "outputs": [],
   "source": [
    "# check solution here"
   ]
  },
  {
   "cell_type": "markdown",
   "metadata": {},
   "source": [
    "\n",
    "<font color=#606366>\n",
    "    <details><summary><font color=#b31b1b>▶ </font>See <b>solution</b>.</summary>\n",
    "<pre>\n",
    "dfAll['INJ_BODY_PART'].value_counts().to_frame().sort_values('INJ_BODY_PART', ascending=False).T</pre>\n",
    "\n",
    "While there are several categories relating to hands, let's just pick one to start with. Perhaps the most relevant is the \"wrist\" category.</details>\n",
    "</font>\n",
    "<hr>"
   ]
  },
  {
   "cell_type": "markdown",
   "metadata": {},
   "source": [
    "## Task 3\n",
    "\n",
    "Create the DataFrame `dfCat` so that it contains just the narratives from the category (or categories) you identified as relevant to hand and wrist injuries in the previous task.\n",
    "\n",
    "<b>Hint:</b> You can use Boolean masking to filter out irrelevant narratives."
   ]
  },
  {
   "cell_type": "code",
   "execution_count": null,
   "metadata": {},
   "outputs": [],
   "source": [
    "# check solution here"
   ]
  },
  {
   "cell_type": "markdown",
   "metadata": {},
   "source": [
    "\n",
    "<font color=#606366>\n",
    "    <details><summary><font color=#b31b1b>▶ </font>See <b>solution</b>.</summary>\n",
    "<pre>\n",
    "mask = dfAll['INJ_BODY_PART'].str.lower().str.contains('wrist')\n",
    "SCat = dfAll[mask].drop_duplicates().sort_values('Len').tail(10000)['NARRATIVE']  # Pandas Series of narrative strings\n",
    "SCat.to_frame()\n",
    "    </pre>\n",
    "    </details> \n",
    "</font>\n",
    "<hr>"
   ]
  },
  {
   "cell_type": "markdown",
   "metadata": {},
   "source": [
    "# Task 4\n",
    "\n",
    "Train a FastText model on the narratives in `dfCat` and call the model `ft1`.\n",
    "\n",
    "<b>Hint:</b> The model training is similar to above, but with a different list of narratives which need to be tokenized."
   ]
  },
  {
   "cell_type": "code",
   "execution_count": null,
   "metadata": {},
   "outputs": [],
   "source": [
    "# check solution here"
   ]
  },
  {
   "cell_type": "markdown",
   "metadata": {},
   "source": [
    "\n",
    "<font color=#606366>\n",
    "    <details><summary><font color=#b31b1b>▶ </font>See <b>solution</b>.</summary>\n",
    "<pre>\n",
    "%time ft1 = FastText(sentences=SCat.apply(tokenize), vector_size=50)  # train the model\n",
    "</pre>\n",
    "</details> \n",
    "</font>\n",
    "<hr>"
   ]
  },
  {
   "cell_type": "markdown",
   "metadata": {},
   "source": [
    "# Task 5\n",
    "\n",
    "Compute cosine similarity for the sentences `s1` and `s2` using the new model `ft1`.\n",
    "\n",
    "<b>Hint:</b> You can compute the cosine similarity as you did above, but with the newly trained model."
   ]
  },
  {
   "cell_type": "code",
   "execution_count": null,
   "metadata": {},
   "outputs": [],
   "source": [
    "# check solution here"
   ]
  },
  {
   "cell_type": "markdown",
   "metadata": {},
   "source": [
    "\n",
    "<font color=#606366>\n",
    "    <details><summary><font color=#b31b1b>▶ </font>See <b>solution</b>.</summary>\n",
    "<pre>\n",
    "CS(ft1.wv[s1], ft1.wv[s2])\n",
    "</pre>\n",
    "</details> \n",
    "</font>\n",
    "<hr>"
   ]
  }
 ],
 "metadata": {
  "anaconda-cloud": {},
  "kernelspec": {
   "display_name": "Python 3",
   "language": "python",
   "name": "python3"
  },
  "language_info": {
   "codemirror_mode": {
    "name": "ipython",
    "version": 3
   },
   "file_extension": ".py",
   "mimetype": "text/x-python",
   "name": "python",
   "nbconvert_exporter": "python",
   "pygments_lexer": "ipython3",
   "version": "3.6.9"
  },
  "toc": {
   "base_numbering": 1,
   "nav_menu": {},
   "number_sections": false,
   "sideBar": true,
   "skip_h1_title": false,
   "title_cell": "Table of Contents",
   "title_sidebar": "Contents",
   "toc_cell": false,
   "toc_position": {},
   "toc_section_display": true,
   "toc_window_display": false
  },
  "varInspector": {
   "cols": {
    "lenName": 16,
    "lenType": 16,
    "lenVar": 40
   },
   "kernels_config": {
    "python": {
     "delete_cmd_postfix": "",
     "delete_cmd_prefix": "del ",
     "library": "var_list.py",
     "varRefreshCmd": "print(var_dic_list())"
    },
    "r": {
     "delete_cmd_postfix": ") ",
     "delete_cmd_prefix": "rm(",
     "library": "var_list.r",
     "varRefreshCmd": "cat(var_dic_list()) "
    }
   },
   "types_to_exclude": [
    "module",
    "function",
    "builtin_function_or_method",
    "instance",
    "_Feature"
   ],
   "window_display": false
  }
 },
 "nbformat": 4,
 "nbformat_minor": 1
}
